{
 "cells": [
  {
   "cell_type": "markdown",
   "id": "3ecc2e7d",
   "metadata": {
    "papermill": {
     "duration": 0.007601,
     "end_time": "2025-08-31T01:24:34.539659",
     "exception": false,
     "start_time": "2025-08-31T01:24:34.532058",
     "status": "completed"
    },
    "tags": []
   },
   "source": [
    "### Applying Conv2d\n",
    "\n",
    "* Key arguments for the Conv2d layer:\n",
    "\n",
    "  * `in_channels`: Number of channels in the input tensor.\n",
    "  * `out_channels`: Number of channels in the output tensor (output feature map) after the convolution operation.\n",
    "  * `kernel_size`: Size of the convolution kernel. Can be a tuple like `(5, 5)` (for a 5x5 kernel) or an integer like `5`.\n",
    "  * `stride`: Stride of the convolution operation.\n",
    "  * `padding`: Amount of padding added to the input tensor on all sides before the convolution (used to control the size of the output feature map).\n"
   ]
  },
  {
   "cell_type": "code",
   "execution_count": 1,
   "id": "bed9b60c",
   "metadata": {
    "execution": {
     "iopub.execute_input": "2025-08-31T01:24:34.554294Z",
     "iopub.status.busy": "2025-08-31T01:24:34.554022Z",
     "iopub.status.idle": "2025-08-31T01:24:38.839267Z",
     "shell.execute_reply": "2025-08-31T01:24:38.838384Z"
    },
    "papermill": {
     "duration": 4.294203,
     "end_time": "2025-08-31T01:24:38.840653",
     "exception": false,
     "start_time": "2025-08-31T01:24:34.546450",
     "status": "completed"
    },
    "tags": []
   },
   "outputs": [
    {
     "name": "stdout",
     "output_type": "stream",
     "text": [
      "input tensor shape: torch.Size([3, 28, 28])\n",
      "output tensor shape: torch.Size([8, 24, 24])\n"
     ]
    }
   ],
   "source": [
    "import torch\n",
    "import torch.nn as nn\n",
    "import torch.nn.functional as F\n",
    "\n",
    "input_tensor = torch.randn(3, 28, 28)\n",
    "print('input tensor shape:', input_tensor.shape)\n",
    "\n",
    "conv_layer_01 = nn.Conv2d(in_channels=3, out_channels=8, kernel_size=5, stride=1) # padding is 0 by default\n",
    "output_tensor = conv_layer_01(input_tensor)\n",
    "print('output tensor shape:', output_tensor.shape)"
   ]
  },
  {
   "cell_type": "code",
   "execution_count": 2,
   "id": "1bdd25a6",
   "metadata": {
    "execution": {
     "iopub.execute_input": "2025-08-31T01:24:38.855479Z",
     "iopub.status.busy": "2025-08-31T01:24:38.854716Z",
     "iopub.status.idle": "2025-08-31T01:24:38.858829Z",
     "shell.execute_reply": "2025-08-31T01:24:38.858253Z"
    },
    "papermill": {
     "duration": 0.012396,
     "end_time": "2025-08-31T01:24:38.859912",
     "exception": false,
     "start_time": "2025-08-31T01:24:38.847516",
     "status": "completed"
    },
    "tags": []
   },
   "outputs": [],
   "source": [
    "conv_layer_01 = nn.Conv2d(in_channels=3, out_channels=8, kernel_size=5, stride=1, padding=0)"
   ]
  },
  {
   "cell_type": "code",
   "execution_count": 3,
   "id": "39cbfa57",
   "metadata": {
    "execution": {
     "iopub.execute_input": "2025-08-31T01:24:38.874949Z",
     "iopub.status.busy": "2025-08-31T01:24:38.874650Z",
     "iopub.status.idle": "2025-08-31T01:24:38.879999Z",
     "shell.execute_reply": "2025-08-31T01:24:38.879316Z"
    },
    "papermill": {
     "duration": 0.013712,
     "end_time": "2025-08-31T01:24:38.881123",
     "exception": false,
     "start_time": "2025-08-31T01:24:38.867411",
     "status": "completed"
    },
    "tags": []
   },
   "outputs": [
    {
     "data": {
      "text/plain": [
       "torch.Size([8, 3, 5, 5])"
      ]
     },
     "execution_count": 3,
     "metadata": {},
     "output_type": "execute_result"
    }
   ],
   "source": [
    "#conv2d layer weight shape\n",
    "conv_layer_01.weight.shape # 8,3,5,5"
   ]
  },
  {
   "cell_type": "code",
   "execution_count": 4,
   "id": "a979ef17",
   "metadata": {
    "execution": {
     "iopub.execute_input": "2025-08-31T01:24:38.895811Z",
     "iopub.status.busy": "2025-08-31T01:24:38.895528Z",
     "iopub.status.idle": "2025-08-31T01:24:38.925037Z",
     "shell.execute_reply": "2025-08-31T01:24:38.924071Z"
    },
    "papermill": {
     "duration": 0.038586,
     "end_time": "2025-08-31T01:24:38.926602",
     "exception": false,
     "start_time": "2025-08-31T01:24:38.888016",
     "status": "completed"
    },
    "tags": []
   },
   "outputs": [
    {
     "name": "stdout",
     "output_type": "stream",
     "text": [
      "output_01 shape: torch.Size([8, 24, 24]) output_02 shape: torch.Size([16, 22, 22])\n"
     ]
    }
   ],
   "source": [
    "input_tensor = torch.randn(3, 28, 28)\n",
    "\n",
    "# Apply 2 convolution layers, final output shape is (16, 22, 22)\n",
    "# Output shape of conv_layer_01 = (8, 24, 24)\n",
    "# With padding='same', output shape would remain (28, 28)\n",
    "conv_layer_01 = nn.Conv2d(in_channels=3, out_channels=8, kernel_size=5, stride=1) # padding='same'\n",
    "conv_layer_02 = nn.Conv2d(in_channels=8, out_channels=16, kernel_size=3, stride=1)\n",
    "output_01 = conv_layer_01(input_tensor)\n",
    "output_02 = conv_layer_02(output_01)\n",
    "\n",
    "print('output_01 shape:', output_01.shape, 'output_02 shape:', output_02.shape)\n"
   ]
  },
  {
   "cell_type": "code",
   "execution_count": 5,
   "id": "f354e735",
   "metadata": {
    "execution": {
     "iopub.execute_input": "2025-08-31T01:24:38.942671Z",
     "iopub.status.busy": "2025-08-31T01:24:38.941983Z",
     "iopub.status.idle": "2025-08-31T01:24:38.947005Z",
     "shell.execute_reply": "2025-08-31T01:24:38.946395Z"
    },
    "papermill": {
     "duration": 0.013931,
     "end_time": "2025-08-31T01:24:38.948129",
     "exception": false,
     "start_time": "2025-08-31T01:24:38.934198",
     "status": "completed"
    },
    "tags": []
   },
   "outputs": [
    {
     "data": {
      "text/plain": [
       "(torch.Size([8, 3, 5, 5]), torch.Size([16, 8, 3, 3]))"
      ]
     },
     "execution_count": 5,
     "metadata": {},
     "output_type": "execute_result"
    }
   ],
   "source": [
    "conv_layer_01.weight.shape, conv_layer_02.weight.shape #16 8 3 3"
   ]
  },
  {
   "cell_type": "markdown",
   "id": "c4a2d06d",
   "metadata": {
    "papermill": {
     "duration": 0.007642,
     "end_time": "2025-08-31T01:24:38.962732",
     "exception": false,
     "start_time": "2025-08-31T01:24:38.955090",
     "status": "completed"
    },
    "tags": []
   },
   "source": [
    "### Applying MaxPool2d (AvgPool2d)\n",
    "\n",
    "* MaxPool2d extracts the maximum value from each window of size `kernel_size` as it moves across the input to produce the output.\n",
    "* Pooling layers do not have learnable parameters.\n",
    "* Key purposes:\n",
    "\n",
    "  * Reduce the size of the input feature map to decrease computational cost.\n",
    "  * Serve as dimensionality reduction by summarizing key features within each region (`kernel_size`) of the input feature map.\n",
    "  * Reduce sensitivity to small variations in input, helping to prevent overfitting.\n",
    "* `kernel_size`, `stride`, and `padding` are parameters for creation. Note that the default value of `stride` is equal to `kernel_size`.\n"
   ]
  },
  {
   "cell_type": "code",
   "execution_count": 6,
   "id": "6b24380c",
   "metadata": {
    "execution": {
     "iopub.execute_input": "2025-08-31T01:24:38.977374Z",
     "iopub.status.busy": "2025-08-31T01:24:38.977057Z",
     "iopub.status.idle": "2025-08-31T01:24:38.990768Z",
     "shell.execute_reply": "2025-08-31T01:24:38.989843Z"
    },
    "papermill": {
     "duration": 0.022488,
     "end_time": "2025-08-31T01:24:38.991967",
     "exception": false,
     "start_time": "2025-08-31T01:24:38.969479",
     "status": "completed"
    },
    "tags": []
   },
   "outputs": [
    {
     "name": "stdout",
     "output_type": "stream",
     "text": [
      "output_01 shape: torch.Size([12, 28, 28]) output_02 shape: torch.Size([12, 14, 14])\n"
     ]
    }
   ],
   "source": [
    "input_tensor = torch.rand(3, 28, 28)\n",
    "conv_layer_01 = nn.Conv2d(in_channels = 3, out_channels=12, kernel_size=3, stride=1, padding=1)\n",
    "pool_layer_01 = nn.MaxPool2d(kernel_size=2) #if you don't set stride, it is same as kernerl size\n",
    "output_01 = conv_layer_01(input_tensor)\n",
    "output_02 = pool_layer_01(output_01)\n",
    "print('output_01 shape:', output_01.shape, 'output_02 shape:', output_02.shape)\n"
   ]
  },
  {
   "cell_type": "markdown",
   "id": "cfad9d5c",
   "metadata": {
    "papermill": {
     "duration": 0.006704,
     "end_time": "2025-08-31T01:24:39.006081",
     "exception": false,
     "start_time": "2025-08-31T01:24:38.999377",
     "status": "completed"
    },
    "tags": []
   },
   "source": [
    "### Creating a CNN-Based Model - 01\n",
    "\n",
    "* Build a model using Conv2d layers: Conv2d → ReLU → Conv2d → ReLU → MaxPool2d to form the CNN architecture.\n",
    "* The final classification layer must be a Linear layer, so the 3D feature map output from the Conv2d layers needs to be flattened before connecting to the Linear layer. Apply `Flatten` to the feature map and then connect it to the Linear layer.\n",
    "* Flattening the final feature map and feeding it to a Linear layer can result in a very large number of learnable parameters in the Linear layer, which may easily lead to overfitting. Dropout or other regularization techniques may be required.\n",
    "* The `in_features` of the Linear layer must match the number of elements produced by Flatten, which depends on the image size and Conv2d settings. You can calculate it using a formula or determine it in advance with a model summary. However, if the image size or Conv2d configuration changes, it must be recalculated, which can be inconvenient.\n"
   ]
  },
  {
   "cell_type": "code",
   "execution_count": 7,
   "id": "320f0700",
   "metadata": {
    "execution": {
     "iopub.execute_input": "2025-08-31T01:24:39.021238Z",
     "iopub.status.busy": "2025-08-31T01:24:39.020958Z",
     "iopub.status.idle": "2025-08-31T01:24:39.064279Z",
     "shell.execute_reply": "2025-08-31T01:24:39.063397Z"
    },
    "papermill": {
     "duration": 0.052922,
     "end_time": "2025-08-31T01:24:39.065729",
     "exception": false,
     "start_time": "2025-08-31T01:24:39.012807",
     "status": "completed"
    },
    "tags": []
   },
   "outputs": [
    {
     "name": "stdout",
     "output_type": "stream",
     "text": [
      "torch.Size([1, 10])\n"
     ]
    }
   ],
   "source": [
    "import torch\n",
    "import torch.nn as nn\n",
    "import torch.nn.functional as F\n",
    "from torchinfo import summary\n",
    "\n",
    "NUM_INPUT_CHANNELS = 3\n",
    "\n",
    "# Conv Layer with 3x3 kernel and 32 filters, another Conv Layer with 3x3 kernel and 64 filters, followed by MaxPooling\n",
    "class SimpleCNN_01(nn.Module):\n",
    "    def __init__(self, num_classes=10):\n",
    "        super().__init__()\n",
    "        self.conv_1 = nn.Conv2d(in_channels=NUM_INPUT_CHANNELS, out_channels=32, kernel_size=3, stride=1)\n",
    "        # Output shape after conv_1: (1, 32, 30, 30)\n",
    "        self.conv_2 = nn.Conv2d(in_channels=32, out_channels=64, kernel_size=3, stride=1)\n",
    "        # Output shape after conv_2: (1, 64, 28, 28)\n",
    "        self.pool = nn.MaxPool2d(kernel_size=2)\n",
    "        # Output shape after pooling: (1, 64, 14, 14)\n",
    "        self.flatten = nn.Flatten(start_dim=1) \n",
    "        # Linear classifier. in_features must match the flattened feature map size (64*14*14)\n",
    "        # If image size changes, this needs to be recalculated.\n",
    "        self.classifier = nn.Linear(in_features=64*14*14, out_features=num_classes)\n",
    "\n",
    "    def forward(self, x):\n",
    "        x = F.relu(self.conv_1(x))\n",
    "        x = F.relu(self.conv_2(x))\n",
    "        x = self.pool(x)\n",
    "        x = self.flatten(x)\n",
    "        x = self.classifier(x)\n",
    "\n",
    "        return x\n",
    "\n",
    "# Example input tensor with batch size 1, 3 channels, 32x32 image\n",
    "# If image size is changed to 64x64, the classification layer will throw an error\n",
    "input = torch.randn(1, 3, 32, 32) \n",
    "simple_cnn_01 = SimpleCNN_01(num_classes=10)\n",
    "output = simple_cnn_01(input)\n",
    "print(output.shape)\n"
   ]
  },
  {
   "cell_type": "code",
   "execution_count": 8,
   "id": "f6e2b31c",
   "metadata": {
    "execution": {
     "iopub.execute_input": "2025-08-31T01:24:39.081451Z",
     "iopub.status.busy": "2025-08-31T01:24:39.081119Z",
     "iopub.status.idle": "2025-08-31T01:24:39.930442Z",
     "shell.execute_reply": "2025-08-31T01:24:39.929770Z"
    },
    "papermill": {
     "duration": 0.858499,
     "end_time": "2025-08-31T01:24:39.931691",
     "exception": false,
     "start_time": "2025-08-31T01:24:39.073192",
     "status": "completed"
    },
    "tags": []
   },
   "outputs": [
    {
     "data": {
      "text/plain": [
       "===================================================================================================================\n",
       "Layer (type (var_name))                  Input Shape               Output Shape              Param #\n",
       "===================================================================================================================\n",
       "SimpleCNN_01 (SimpleCNN_01)              [1, 3, 32, 32]            [1, 10]                   --\n",
       "├─Conv2d (conv_1)                        [1, 3, 32, 32]            [1, 32, 30, 30]           896\n",
       "├─Conv2d (conv_2)                        [1, 32, 30, 30]           [1, 64, 28, 28]           18,496\n",
       "├─MaxPool2d (pool)                       [1, 64, 28, 28]           [1, 64, 14, 14]           --\n",
       "├─Flatten (flatten)                      [1, 64, 14, 14]           [1, 12544]                --\n",
       "├─Linear (classifier)                    [1, 12544]                [1, 10]                   125,450\n",
       "===================================================================================================================\n",
       "Total params: 144,842\n",
       "Trainable params: 144,842\n",
       "Non-trainable params: 0\n",
       "Total mult-adds (Units.MEGABYTES): 15.43\n",
       "===================================================================================================================\n",
       "Input size (MB): 0.01\n",
       "Forward/backward pass size (MB): 0.63\n",
       "Params size (MB): 0.58\n",
       "Estimated Total Size (MB): 1.22\n",
       "==================================================================================================================="
      ]
     },
     "execution_count": 8,
     "metadata": {},
     "output_type": "execute_result"
    }
   ],
   "source": [
    "from torchinfo import summary\n",
    "\n",
    "summary(model=simple_cnn_01, input_size=(1, 3, 32, 32),\n",
    "        col_names=['input_size', 'output_size', 'num_params'],\n",
    "        row_settings=['var_names'])\n"
   ]
  },
  {
   "cell_type": "markdown",
   "id": "10258874",
   "metadata": {
    "papermill": {
     "duration": 0.006528,
     "end_time": "2025-08-31T01:24:39.945280",
     "exception": false,
     "start_time": "2025-08-31T01:24:39.938752",
     "status": "completed"
    },
    "tags": []
   },
   "source": [
    "### Global Average Pooling using `AdaptiveAvgPool2d`\n",
    "\n",
    "* In PyTorch, Global Average Pooling (GAP) can be implemented using `nn.AdaptiveAvgPool2d()`.\n",
    "* `AdaptiveAvgPool2d` takes `output_size` as an argument, and automatically adjusts the pooling region for each input feature map channel so that the output for each channel has the specified size.\n",
    "* This is particularly useful in CNNs because it allows you to reduce a variable-sized feature map to a fixed-size tensor, making it compatible with subsequent fully connected layers without manually calculating the flattened size.\n",
    "* For example, setting `output_size=(1,1)` performs global average pooling across the spatial dimensions, resulting in a tensor of shape `(batch_size, channels, 1, 1)`, which can then be flattened for classification."
   ]
  },
  {
   "cell_type": "code",
   "execution_count": 9,
   "id": "d1684548",
   "metadata": {
    "execution": {
     "iopub.execute_input": "2025-08-31T01:24:39.959068Z",
     "iopub.status.busy": "2025-08-31T01:24:39.958836Z",
     "iopub.status.idle": "2025-08-31T01:24:39.974992Z",
     "shell.execute_reply": "2025-08-31T01:24:39.974275Z"
    },
    "papermill": {
     "duration": 0.024378,
     "end_time": "2025-08-31T01:24:39.976112",
     "exception": false,
     "start_time": "2025-08-31T01:24:39.951734",
     "status": "completed"
    },
    "tags": []
   },
   "outputs": [
    {
     "name": "stdout",
     "output_type": "stream",
     "text": [
      "torch.Size([1, 64, 5, 5])\n",
      "torch.Size([1, 64, 1, 1])\n"
     ]
    }
   ],
   "source": [
    "input = torch.randn(1, 64, 8, 9)\n",
    "\n",
    "# ouput size is 5x5 by channel\n",
    "m = nn.AdaptiveAvgPool2d(output_size=(5, 5))\n",
    "output = m(input)\n",
    "print(output.shape)\n",
    "\n",
    "m = nn.AdaptiveAvgPool2d(output_size=(1, 1))\n",
    "output = m(input)\n",
    "print(output.shape)\n"
   ]
  },
  {
   "cell_type": "markdown",
   "id": "f732751e",
   "metadata": {
    "papermill": {
     "duration": 0.006363,
     "end_time": "2025-08-31T01:24:39.989233",
     "exception": false,
     "start_time": "2025-08-31T01:24:39.982870",
     "status": "completed"
    },
    "tags": []
   },
   "source": [
    "### CNN-based Model Creation - 02\n",
    "\n",
    "* Instead of flattening the feature map directly, apply Adaptive Global Pooling first, then flatten.\n",
    "* Unlike `MaxPool2d`, global pooling reduces each channel of the feature map to a single value. Typically, `AdaptiveAvgPool2d` is used.\n",
    "* Applying `AdaptiveAvgPool2d(output_size=(1, 1))` to the final feature map keeps the number of channels the same but pools the spatial dimensions (height and width) to 1. Therefore, knowing the `out_channels` of the last `Conv2d` layer is sufficient to determine the flattened dimension, which can be used as the `in_features` for the linear layer.\n",
    "* Global pooling compresses the feature map, significantly reducing the number of parameters in the classification layer.\n",
    "* Global pooling is generally applied after the CNN has a sufficient depth; otherwise, applying it too early may degrade performance.\n"
   ]
  },
  {
   "cell_type": "code",
   "execution_count": 10,
   "id": "40a73cca",
   "metadata": {
    "execution": {
     "iopub.execute_input": "2025-08-31T01:24:40.002881Z",
     "iopub.status.busy": "2025-08-31T01:24:40.002408Z",
     "iopub.status.idle": "2025-08-31T01:24:40.018971Z",
     "shell.execute_reply": "2025-08-31T01:24:40.018281Z"
    },
    "papermill": {
     "duration": 0.024516,
     "end_time": "2025-08-31T01:24:40.020025",
     "exception": false,
     "start_time": "2025-08-31T01:24:39.995509",
     "status": "completed"
    },
    "tags": []
   },
   "outputs": [
    {
     "name": "stdout",
     "output_type": "stream",
     "text": [
      "torch.Size([1, 10])\n"
     ]
    }
   ],
   "source": [
    "import torch\n",
    "import torch.nn as nn\n",
    "import torch.nn.functional as F\n",
    "from torchinfo import summary\n",
    "\n",
    "NUM_INPUT_CHANNELS = 3\n",
    "\n",
    "class SimpleCNN_02(nn.Module):\n",
    "    def __init__(self, num_classes):\n",
    "        super().__init__()\n",
    "        self.conv_1 = nn.Conv2d(in_channels=NUM_INPUT_CHANNELS, out_channels=32, kernel_size=3, stride=1)\n",
    "        self.conv_2 = nn.Conv2d(in_channels=32, out_channels=64, kernel_size=3, stride=1)\n",
    "        self.pool = nn.MaxPool2d(kernel_size=2)\n",
    "        self.adapt_pool = nn.AdaptiveAvgPool2d(output_size=(1, 1))\n",
    "                \n",
    "        \n",
    "        self.classifier = nn.Linear(in_features=64, out_features=num_classes)\n",
    "\n",
    "    def forward(self, x):\n",
    "        x = F.relu(self.conv_1(x))\n",
    "        x = F.relu(self.conv_2(x))\n",
    "        x = self.pool(x)\n",
    "\n",
    "        # Global Pooling 적용. \n",
    "        x = self.adapt_pool(x)\n",
    "        x = x.view(x.size(0), -1) #x = torch.flatten(x, start_dim=1)\n",
    "        x = self.classifier(x)\n",
    "\n",
    "        return x\n",
    "        \n",
    "input = torch.randn(1, 3, 64, 64) \n",
    "simple_cnn_02 = SimpleCNN_02(num_classes=10)\n",
    "output = simple_cnn_02(input)\n",
    "print(output.shape)"
   ]
  },
  {
   "cell_type": "code",
   "execution_count": 11,
   "id": "ef32e445",
   "metadata": {
    "execution": {
     "iopub.execute_input": "2025-08-31T01:24:40.081494Z",
     "iopub.status.busy": "2025-08-31T01:24:40.081220Z",
     "iopub.status.idle": "2025-08-31T01:24:40.122315Z",
     "shell.execute_reply": "2025-08-31T01:24:40.121688Z"
    },
    "papermill": {
     "duration": 0.096747,
     "end_time": "2025-08-31T01:24:40.123428",
     "exception": false,
     "start_time": "2025-08-31T01:24:40.026681",
     "status": "completed"
    },
    "tags": []
   },
   "outputs": [
    {
     "data": {
      "text/plain": [
       "===================================================================================================================\n",
       "Layer (type (var_name))                  Input Shape               Output Shape              Param #\n",
       "===================================================================================================================\n",
       "SimpleCNN_02 (SimpleCNN_02)              [1, 3, 64, 64]            [1, 10]                   --\n",
       "├─Conv2d (conv_1)                        [1, 3, 64, 64]            [1, 32, 62, 62]           896\n",
       "├─Conv2d (conv_2)                        [1, 32, 62, 62]           [1, 64, 60, 60]           18,496\n",
       "├─MaxPool2d (pool)                       [1, 64, 60, 60]           [1, 64, 30, 30]           --\n",
       "├─AdaptiveAvgPool2d (adapt_pool)         [1, 64, 30, 30]           [1, 64, 1, 1]             --\n",
       "├─Linear (classifier)                    [1, 64]                   [1, 10]                   650\n",
       "===================================================================================================================\n",
       "Total params: 20,042\n",
       "Trainable params: 20,042\n",
       "Non-trainable params: 0\n",
       "Total mult-adds (Units.MEGABYTES): 70.03\n",
       "===================================================================================================================\n",
       "Input size (MB): 0.05\n",
       "Forward/backward pass size (MB): 2.83\n",
       "Params size (MB): 0.08\n",
       "Estimated Total Size (MB): 2.96\n",
       "==================================================================================================================="
      ]
     },
     "execution_count": 11,
     "metadata": {},
     "output_type": "execute_result"
    }
   ],
   "source": [
    "simple_cnn_02 = SimpleCNN_02(num_classes=10)\n",
    "summary(model=simple_cnn_02, input_size=(1, 3, 64, 64),  \n",
    "        col_names=['input_size', 'output_size', 'num_params'], \n",
    "        row_settings=['var_names'])"
   ]
  },
  {
   "cell_type": "code",
   "execution_count": 12,
   "id": "5e522eba",
   "metadata": {
    "collapsed": true,
    "execution": {
     "iopub.execute_input": "2025-08-31T01:24:40.138275Z",
     "iopub.status.busy": "2025-08-31T01:24:40.138043Z",
     "iopub.status.idle": "2025-08-31T01:24:46.026578Z",
     "shell.execute_reply": "2025-08-31T01:24:46.025714Z"
    },
    "jupyter": {
     "outputs_hidden": true
    },
    "papermill": {
     "duration": 5.897638,
     "end_time": "2025-08-31T01:24:46.028264",
     "exception": false,
     "start_time": "2025-08-31T01:24:40.130626",
     "status": "completed"
    },
    "tags": []
   },
   "outputs": [
    {
     "name": "stdout",
     "output_type": "stream",
     "text": [
      "ResNet(\n",
      "  (conv1): Conv2d(3, 64, kernel_size=(7, 7), stride=(2, 2), padding=(3, 3), bias=False)\n",
      "  (bn1): BatchNorm2d(64, eps=1e-05, momentum=0.1, affine=True, track_running_stats=True)\n",
      "  (relu): ReLU(inplace=True)\n",
      "  (maxpool): MaxPool2d(kernel_size=3, stride=2, padding=1, dilation=1, ceil_mode=False)\n",
      "  (layer1): Sequential(\n",
      "    (0): Bottleneck(\n",
      "      (conv1): Conv2d(64, 64, kernel_size=(1, 1), stride=(1, 1), bias=False)\n",
      "      (bn1): BatchNorm2d(64, eps=1e-05, momentum=0.1, affine=True, track_running_stats=True)\n",
      "      (conv2): Conv2d(64, 64, kernel_size=(3, 3), stride=(1, 1), padding=(1, 1), bias=False)\n",
      "      (bn2): BatchNorm2d(64, eps=1e-05, momentum=0.1, affine=True, track_running_stats=True)\n",
      "      (conv3): Conv2d(64, 256, kernel_size=(1, 1), stride=(1, 1), bias=False)\n",
      "      (bn3): BatchNorm2d(256, eps=1e-05, momentum=0.1, affine=True, track_running_stats=True)\n",
      "      (relu): ReLU(inplace=True)\n",
      "      (downsample): Sequential(\n",
      "        (0): Conv2d(64, 256, kernel_size=(1, 1), stride=(1, 1), bias=False)\n",
      "        (1): BatchNorm2d(256, eps=1e-05, momentum=0.1, affine=True, track_running_stats=True)\n",
      "      )\n",
      "    )\n",
      "    (1): Bottleneck(\n",
      "      (conv1): Conv2d(256, 64, kernel_size=(1, 1), stride=(1, 1), bias=False)\n",
      "      (bn1): BatchNorm2d(64, eps=1e-05, momentum=0.1, affine=True, track_running_stats=True)\n",
      "      (conv2): Conv2d(64, 64, kernel_size=(3, 3), stride=(1, 1), padding=(1, 1), bias=False)\n",
      "      (bn2): BatchNorm2d(64, eps=1e-05, momentum=0.1, affine=True, track_running_stats=True)\n",
      "      (conv3): Conv2d(64, 256, kernel_size=(1, 1), stride=(1, 1), bias=False)\n",
      "      (bn3): BatchNorm2d(256, eps=1e-05, momentum=0.1, affine=True, track_running_stats=True)\n",
      "      (relu): ReLU(inplace=True)\n",
      "    )\n",
      "    (2): Bottleneck(\n",
      "      (conv1): Conv2d(256, 64, kernel_size=(1, 1), stride=(1, 1), bias=False)\n",
      "      (bn1): BatchNorm2d(64, eps=1e-05, momentum=0.1, affine=True, track_running_stats=True)\n",
      "      (conv2): Conv2d(64, 64, kernel_size=(3, 3), stride=(1, 1), padding=(1, 1), bias=False)\n",
      "      (bn2): BatchNorm2d(64, eps=1e-05, momentum=0.1, affine=True, track_running_stats=True)\n",
      "      (conv3): Conv2d(64, 256, kernel_size=(1, 1), stride=(1, 1), bias=False)\n",
      "      (bn3): BatchNorm2d(256, eps=1e-05, momentum=0.1, affine=True, track_running_stats=True)\n",
      "      (relu): ReLU(inplace=True)\n",
      "    )\n",
      "  )\n",
      "  (layer2): Sequential(\n",
      "    (0): Bottleneck(\n",
      "      (conv1): Conv2d(256, 128, kernel_size=(1, 1), stride=(1, 1), bias=False)\n",
      "      (bn1): BatchNorm2d(128, eps=1e-05, momentum=0.1, affine=True, track_running_stats=True)\n",
      "      (conv2): Conv2d(128, 128, kernel_size=(3, 3), stride=(2, 2), padding=(1, 1), bias=False)\n",
      "      (bn2): BatchNorm2d(128, eps=1e-05, momentum=0.1, affine=True, track_running_stats=True)\n",
      "      (conv3): Conv2d(128, 512, kernel_size=(1, 1), stride=(1, 1), bias=False)\n",
      "      (bn3): BatchNorm2d(512, eps=1e-05, momentum=0.1, affine=True, track_running_stats=True)\n",
      "      (relu): ReLU(inplace=True)\n",
      "      (downsample): Sequential(\n",
      "        (0): Conv2d(256, 512, kernel_size=(1, 1), stride=(2, 2), bias=False)\n",
      "        (1): BatchNorm2d(512, eps=1e-05, momentum=0.1, affine=True, track_running_stats=True)\n",
      "      )\n",
      "    )\n",
      "    (1): Bottleneck(\n",
      "      (conv1): Conv2d(512, 128, kernel_size=(1, 1), stride=(1, 1), bias=False)\n",
      "      (bn1): BatchNorm2d(128, eps=1e-05, momentum=0.1, affine=True, track_running_stats=True)\n",
      "      (conv2): Conv2d(128, 128, kernel_size=(3, 3), stride=(1, 1), padding=(1, 1), bias=False)\n",
      "      (bn2): BatchNorm2d(128, eps=1e-05, momentum=0.1, affine=True, track_running_stats=True)\n",
      "      (conv3): Conv2d(128, 512, kernel_size=(1, 1), stride=(1, 1), bias=False)\n",
      "      (bn3): BatchNorm2d(512, eps=1e-05, momentum=0.1, affine=True, track_running_stats=True)\n",
      "      (relu): ReLU(inplace=True)\n",
      "    )\n",
      "    (2): Bottleneck(\n",
      "      (conv1): Conv2d(512, 128, kernel_size=(1, 1), stride=(1, 1), bias=False)\n",
      "      (bn1): BatchNorm2d(128, eps=1e-05, momentum=0.1, affine=True, track_running_stats=True)\n",
      "      (conv2): Conv2d(128, 128, kernel_size=(3, 3), stride=(1, 1), padding=(1, 1), bias=False)\n",
      "      (bn2): BatchNorm2d(128, eps=1e-05, momentum=0.1, affine=True, track_running_stats=True)\n",
      "      (conv3): Conv2d(128, 512, kernel_size=(1, 1), stride=(1, 1), bias=False)\n",
      "      (bn3): BatchNorm2d(512, eps=1e-05, momentum=0.1, affine=True, track_running_stats=True)\n",
      "      (relu): ReLU(inplace=True)\n",
      "    )\n",
      "    (3): Bottleneck(\n",
      "      (conv1): Conv2d(512, 128, kernel_size=(1, 1), stride=(1, 1), bias=False)\n",
      "      (bn1): BatchNorm2d(128, eps=1e-05, momentum=0.1, affine=True, track_running_stats=True)\n",
      "      (conv2): Conv2d(128, 128, kernel_size=(3, 3), stride=(1, 1), padding=(1, 1), bias=False)\n",
      "      (bn2): BatchNorm2d(128, eps=1e-05, momentum=0.1, affine=True, track_running_stats=True)\n",
      "      (conv3): Conv2d(128, 512, kernel_size=(1, 1), stride=(1, 1), bias=False)\n",
      "      (bn3): BatchNorm2d(512, eps=1e-05, momentum=0.1, affine=True, track_running_stats=True)\n",
      "      (relu): ReLU(inplace=True)\n",
      "    )\n",
      "  )\n",
      "  (layer3): Sequential(\n",
      "    (0): Bottleneck(\n",
      "      (conv1): Conv2d(512, 256, kernel_size=(1, 1), stride=(1, 1), bias=False)\n",
      "      (bn1): BatchNorm2d(256, eps=1e-05, momentum=0.1, affine=True, track_running_stats=True)\n",
      "      (conv2): Conv2d(256, 256, kernel_size=(3, 3), stride=(2, 2), padding=(1, 1), bias=False)\n",
      "      (bn2): BatchNorm2d(256, eps=1e-05, momentum=0.1, affine=True, track_running_stats=True)\n",
      "      (conv3): Conv2d(256, 1024, kernel_size=(1, 1), stride=(1, 1), bias=False)\n",
      "      (bn3): BatchNorm2d(1024, eps=1e-05, momentum=0.1, affine=True, track_running_stats=True)\n",
      "      (relu): ReLU(inplace=True)\n",
      "      (downsample): Sequential(\n",
      "        (0): Conv2d(512, 1024, kernel_size=(1, 1), stride=(2, 2), bias=False)\n",
      "        (1): BatchNorm2d(1024, eps=1e-05, momentum=0.1, affine=True, track_running_stats=True)\n",
      "      )\n",
      "    )\n",
      "    (1): Bottleneck(\n",
      "      (conv1): Conv2d(1024, 256, kernel_size=(1, 1), stride=(1, 1), bias=False)\n",
      "      (bn1): BatchNorm2d(256, eps=1e-05, momentum=0.1, affine=True, track_running_stats=True)\n",
      "      (conv2): Conv2d(256, 256, kernel_size=(3, 3), stride=(1, 1), padding=(1, 1), bias=False)\n",
      "      (bn2): BatchNorm2d(256, eps=1e-05, momentum=0.1, affine=True, track_running_stats=True)\n",
      "      (conv3): Conv2d(256, 1024, kernel_size=(1, 1), stride=(1, 1), bias=False)\n",
      "      (bn3): BatchNorm2d(1024, eps=1e-05, momentum=0.1, affine=True, track_running_stats=True)\n",
      "      (relu): ReLU(inplace=True)\n",
      "    )\n",
      "    (2): Bottleneck(\n",
      "      (conv1): Conv2d(1024, 256, kernel_size=(1, 1), stride=(1, 1), bias=False)\n",
      "      (bn1): BatchNorm2d(256, eps=1e-05, momentum=0.1, affine=True, track_running_stats=True)\n",
      "      (conv2): Conv2d(256, 256, kernel_size=(3, 3), stride=(1, 1), padding=(1, 1), bias=False)\n",
      "      (bn2): BatchNorm2d(256, eps=1e-05, momentum=0.1, affine=True, track_running_stats=True)\n",
      "      (conv3): Conv2d(256, 1024, kernel_size=(1, 1), stride=(1, 1), bias=False)\n",
      "      (bn3): BatchNorm2d(1024, eps=1e-05, momentum=0.1, affine=True, track_running_stats=True)\n",
      "      (relu): ReLU(inplace=True)\n",
      "    )\n",
      "    (3): Bottleneck(\n",
      "      (conv1): Conv2d(1024, 256, kernel_size=(1, 1), stride=(1, 1), bias=False)\n",
      "      (bn1): BatchNorm2d(256, eps=1e-05, momentum=0.1, affine=True, track_running_stats=True)\n",
      "      (conv2): Conv2d(256, 256, kernel_size=(3, 3), stride=(1, 1), padding=(1, 1), bias=False)\n",
      "      (bn2): BatchNorm2d(256, eps=1e-05, momentum=0.1, affine=True, track_running_stats=True)\n",
      "      (conv3): Conv2d(256, 1024, kernel_size=(1, 1), stride=(1, 1), bias=False)\n",
      "      (bn3): BatchNorm2d(1024, eps=1e-05, momentum=0.1, affine=True, track_running_stats=True)\n",
      "      (relu): ReLU(inplace=True)\n",
      "    )\n",
      "    (4): Bottleneck(\n",
      "      (conv1): Conv2d(1024, 256, kernel_size=(1, 1), stride=(1, 1), bias=False)\n",
      "      (bn1): BatchNorm2d(256, eps=1e-05, momentum=0.1, affine=True, track_running_stats=True)\n",
      "      (conv2): Conv2d(256, 256, kernel_size=(3, 3), stride=(1, 1), padding=(1, 1), bias=False)\n",
      "      (bn2): BatchNorm2d(256, eps=1e-05, momentum=0.1, affine=True, track_running_stats=True)\n",
      "      (conv3): Conv2d(256, 1024, kernel_size=(1, 1), stride=(1, 1), bias=False)\n",
      "      (bn3): BatchNorm2d(1024, eps=1e-05, momentum=0.1, affine=True, track_running_stats=True)\n",
      "      (relu): ReLU(inplace=True)\n",
      "    )\n",
      "    (5): Bottleneck(\n",
      "      (conv1): Conv2d(1024, 256, kernel_size=(1, 1), stride=(1, 1), bias=False)\n",
      "      (bn1): BatchNorm2d(256, eps=1e-05, momentum=0.1, affine=True, track_running_stats=True)\n",
      "      (conv2): Conv2d(256, 256, kernel_size=(3, 3), stride=(1, 1), padding=(1, 1), bias=False)\n",
      "      (bn2): BatchNorm2d(256, eps=1e-05, momentum=0.1, affine=True, track_running_stats=True)\n",
      "      (conv3): Conv2d(256, 1024, kernel_size=(1, 1), stride=(1, 1), bias=False)\n",
      "      (bn3): BatchNorm2d(1024, eps=1e-05, momentum=0.1, affine=True, track_running_stats=True)\n",
      "      (relu): ReLU(inplace=True)\n",
      "    )\n",
      "  )\n",
      "  (layer4): Sequential(\n",
      "    (0): Bottleneck(\n",
      "      (conv1): Conv2d(1024, 512, kernel_size=(1, 1), stride=(1, 1), bias=False)\n",
      "      (bn1): BatchNorm2d(512, eps=1e-05, momentum=0.1, affine=True, track_running_stats=True)\n",
      "      (conv2): Conv2d(512, 512, kernel_size=(3, 3), stride=(2, 2), padding=(1, 1), bias=False)\n",
      "      (bn2): BatchNorm2d(512, eps=1e-05, momentum=0.1, affine=True, track_running_stats=True)\n",
      "      (conv3): Conv2d(512, 2048, kernel_size=(1, 1), stride=(1, 1), bias=False)\n",
      "      (bn3): BatchNorm2d(2048, eps=1e-05, momentum=0.1, affine=True, track_running_stats=True)\n",
      "      (relu): ReLU(inplace=True)\n",
      "      (downsample): Sequential(\n",
      "        (0): Conv2d(1024, 2048, kernel_size=(1, 1), stride=(2, 2), bias=False)\n",
      "        (1): BatchNorm2d(2048, eps=1e-05, momentum=0.1, affine=True, track_running_stats=True)\n",
      "      )\n",
      "    )\n",
      "    (1): Bottleneck(\n",
      "      (conv1): Conv2d(2048, 512, kernel_size=(1, 1), stride=(1, 1), bias=False)\n",
      "      (bn1): BatchNorm2d(512, eps=1e-05, momentum=0.1, affine=True, track_running_stats=True)\n",
      "      (conv2): Conv2d(512, 512, kernel_size=(3, 3), stride=(1, 1), padding=(1, 1), bias=False)\n",
      "      (bn2): BatchNorm2d(512, eps=1e-05, momentum=0.1, affine=True, track_running_stats=True)\n",
      "      (conv3): Conv2d(512, 2048, kernel_size=(1, 1), stride=(1, 1), bias=False)\n",
      "      (bn3): BatchNorm2d(2048, eps=1e-05, momentum=0.1, affine=True, track_running_stats=True)\n",
      "      (relu): ReLU(inplace=True)\n",
      "    )\n",
      "    (2): Bottleneck(\n",
      "      (conv1): Conv2d(2048, 512, kernel_size=(1, 1), stride=(1, 1), bias=False)\n",
      "      (bn1): BatchNorm2d(512, eps=1e-05, momentum=0.1, affine=True, track_running_stats=True)\n",
      "      (conv2): Conv2d(512, 512, kernel_size=(3, 3), stride=(1, 1), padding=(1, 1), bias=False)\n",
      "      (bn2): BatchNorm2d(512, eps=1e-05, momentum=0.1, affine=True, track_running_stats=True)\n",
      "      (conv3): Conv2d(512, 2048, kernel_size=(1, 1), stride=(1, 1), bias=False)\n",
      "      (bn3): BatchNorm2d(2048, eps=1e-05, momentum=0.1, affine=True, track_running_stats=True)\n",
      "      (relu): ReLU(inplace=True)\n",
      "    )\n",
      "  )\n",
      "  (avgpool): AdaptiveAvgPool2d(output_size=(1, 1))\n",
      "  (fc): Linear(in_features=2048, out_features=1000, bias=True)\n",
      ")\n"
     ]
    }
   ],
   "source": [
    "import torchvision.models as models\n",
    "\n",
    "# Check how Global Average Pooling is applied in the architecture of torchvision's pretrained models\n",
    "#model = models.vgg19() #\n",
    "model = models.resnet50()\n",
    "print(model)\n"
   ]
  },
  {
   "cell_type": "markdown",
   "id": "5d509abd",
   "metadata": {
    "papermill": {
     "duration": 0.007237,
     "end_time": "2025-08-31T01:24:46.043079",
     "exception": false,
     "start_time": "2025-08-31T01:24:46.035842",
     "status": "completed"
    },
    "tags": []
   },
   "source": [
    "### Creating the CIFAR10 Dataset\n",
    "\n",
    "* Use `torchvision.datasets.CIFAR10` to create the dataset. When `transform=ToTensor()` is applied, the PIL image is converted into a tensor and normalized to values between 0 and 1.\n",
    "* The `data` attribute of the CIFAR10 dataset contains image values in NumPy array format. The `targets` attribute holds the target labels as `np.uint8`. The `classes` attribute stores the class names mapped to each target.\n",
    "* Create a DataLoader based on the CIFAR10 dataset.\n"
   ]
  },
  {
   "cell_type": "code",
   "execution_count": 13,
   "id": "7b2394ea",
   "metadata": {
    "execution": {
     "iopub.execute_input": "2025-08-31T01:24:46.059465Z",
     "iopub.status.busy": "2025-08-31T01:24:46.059070Z",
     "iopub.status.idle": "2025-08-31T01:25:01.839529Z",
     "shell.execute_reply": "2025-08-31T01:25:01.838665Z"
    },
    "papermill": {
     "duration": 15.790331,
     "end_time": "2025-08-31T01:25:01.840847",
     "exception": false,
     "start_time": "2025-08-31T01:24:46.050516",
     "status": "completed"
    },
    "tags": []
   },
   "outputs": [
    {
     "name": "stderr",
     "output_type": "stream",
     "text": [
      "100%|██████████| 170M/170M [00:11<00:00, 14.9MB/s]\n"
     ]
    },
    {
     "name": "stdout",
     "output_type": "stream",
     "text": [
      "tr: 42500 valid: 7500\n"
     ]
    }
   ],
   "source": [
    "from torchvision.datasets import CIFAR10\n",
    "from torchvision.transforms import ToTensor\n",
    "from torch.utils.data import DataLoader\n",
    "from torch.utils.data import random_split\n",
    "\n",
    "# Out of the total 60,000 data samples, 50,000 are used for training.  \n",
    "# The training set is further split into training and validation sets.  \n",
    "# The remaining 10,000 samples are used for testing.  \n",
    "train_dataset = CIFAR10(root='./data', train=True, download=True, transform=ToTensor())\n",
    "test_dataset =CIFAR10(root='./data', train=False, download=True, transform=ToTensor())\n",
    "\n",
    "tr_size = int(0.85 * len(train_dataset))\n",
    "val_size = len(train_dataset) - tr_size\n",
    "tr_dataset, val_dataset = random_split(train_dataset, [tr_size, val_size])\n",
    "print('tr:', len(tr_dataset), 'valid:', len(val_dataset))\n",
    "\n",
    "tr_loader = DataLoader(tr_dataset, batch_size=32, shuffle=True, num_workers=4)\n",
    "val_loader = DataLoader(val_dataset, batch_size=32, shuffle=False, num_workers=4)\n",
    "\n",
    "test_loader = DataLoader(test_dataset, batch_size=32, shuffle=False, num_workers=4)"
   ]
  },
  {
   "cell_type": "code",
   "execution_count": 14,
   "id": "6872c6b7",
   "metadata": {
    "execution": {
     "iopub.execute_input": "2025-08-31T01:25:01.863968Z",
     "iopub.status.busy": "2025-08-31T01:25:01.863257Z",
     "iopub.status.idle": "2025-08-31T01:25:02.023015Z",
     "shell.execute_reply": "2025-08-31T01:25:02.021951Z"
    },
    "papermill": {
     "duration": 0.172566,
     "end_time": "2025-08-31T01:25:02.024503",
     "exception": false,
     "start_time": "2025-08-31T01:25:01.851937",
     "status": "completed"
    },
    "tags": []
   },
   "outputs": [
    {
     "name": "stdout",
     "output_type": "stream",
     "text": [
      "torch.Size([32, 3, 32, 32]) torch.Size([32])\n",
      "tensor(0.9647) tensor(0.0392) tensor(0) tensor(9)\n"
     ]
    }
   ],
   "source": [
    "images, labels = next(iter(tr_loader))\n",
    "\n",
    "print(images.shape, labels.shape)\n",
    "print(images[0].max(), images[0].min(), labels.min(), labels.max())"
   ]
  },
  {
   "cell_type": "code",
   "execution_count": 15,
   "id": "01d4f0e8",
   "metadata": {
    "execution": {
     "iopub.execute_input": "2025-08-31T01:25:02.048310Z",
     "iopub.status.busy": "2025-08-31T01:25:02.047546Z",
     "iopub.status.idle": "2025-08-31T01:25:02.052168Z",
     "shell.execute_reply": "2025-08-31T01:25:02.051502Z"
    },
    "papermill": {
     "duration": 0.017747,
     "end_time": "2025-08-31T01:25:02.053541",
     "exception": false,
     "start_time": "2025-08-31T01:25:02.035794",
     "status": "completed"
    },
    "tags": []
   },
   "outputs": [
    {
     "name": "stdout",
     "output_type": "stream",
     "text": [
      "<class 'torch.utils.data.dataset.Subset'> \n",
      " <class 'torchvision.datasets.cifar.CIFAR10'>\n",
      "<torch.utils.data.dataset.Subset object at 0x7b9d55a66c90> \n",
      " Dataset CIFAR10\n",
      "    Number of datapoints: 50000\n",
      "    Root location: ./data\n",
      "    Split: Train\n",
      "    StandardTransform\n",
      "Transform: ToTensor()\n"
     ]
    }
   ],
   "source": [
    "# tr_dataset is Subset\n",
    "print(type(tr_dataset), '\\n', type(train_dataset))\n",
    "print(tr_dataset, '\\n', train_dataset)"
   ]
  },
  {
   "cell_type": "code",
   "execution_count": 16,
   "id": "6d901e6d",
   "metadata": {
    "execution": {
     "iopub.execute_input": "2025-08-31T01:25:02.076769Z",
     "iopub.status.busy": "2025-08-31T01:25:02.076495Z",
     "iopub.status.idle": "2025-08-31T01:25:02.080665Z",
     "shell.execute_reply": "2025-08-31T01:25:02.079991Z"
    },
    "papermill": {
     "duration": 0.017075,
     "end_time": "2025-08-31T01:25:02.081827",
     "exception": false,
     "start_time": "2025-08-31T01:25:02.064752",
     "status": "completed"
    },
    "tags": []
   },
   "outputs": [
    {
     "name": "stdout",
     "output_type": "stream",
     "text": [
      "['airplane', 'automobile', 'bird', 'cat', 'deer', 'dog', 'frog', 'horse', 'ship', 'truck']\n"
     ]
    }
   ],
   "source": [
    "# targets contain values from 0 to 9 representing the 10 target classes.  \n",
    "# classes provide the label names mapped to each target value from 0 to 9.  \n",
    "# tr_dataset is a subset, so it does not have the .classes attribute.  \n",
    "# You can check class names using train_dataset.classes.  \n",
    "print(train_dataset.classes)\n"
   ]
  },
  {
   "cell_type": "code",
   "execution_count": 17,
   "id": "d7991625",
   "metadata": {
    "execution": {
     "iopub.execute_input": "2025-08-31T01:25:02.105083Z",
     "iopub.status.busy": "2025-08-31T01:25:02.104814Z",
     "iopub.status.idle": "2025-08-31T01:25:02.113594Z",
     "shell.execute_reply": "2025-08-31T01:25:02.112745Z"
    },
    "papermill": {
     "duration": 0.022092,
     "end_time": "2025-08-31T01:25:02.114985",
     "exception": false,
     "start_time": "2025-08-31T01:25:02.092893",
     "status": "completed"
    },
    "tags": []
   },
   "outputs": [
    {
     "data": {
      "text/plain": [
       "array([[[[ 59,  62,  63],\n",
       "         [ 43,  46,  45],\n",
       "         [ 50,  48,  43],\n",
       "         ...,\n",
       "         [158, 132, 108],\n",
       "         [152, 125, 102],\n",
       "         [148, 124, 103]],\n",
       "\n",
       "        [[ 16,  20,  20],\n",
       "         [  0,   0,   0],\n",
       "         [ 18,   8,   0],\n",
       "         ...,\n",
       "         [123,  88,  55],\n",
       "         [119,  83,  50],\n",
       "         [122,  87,  57]],\n",
       "\n",
       "        [[ 25,  24,  21],\n",
       "         [ 16,   7,   0],\n",
       "         [ 49,  27,   8],\n",
       "         ...,\n",
       "         [118,  84,  50],\n",
       "         [120,  84,  50],\n",
       "         [109,  73,  42]],\n",
       "\n",
       "        ...,\n",
       "\n",
       "        [[208, 170,  96],\n",
       "         [201, 153,  34],\n",
       "         [198, 161,  26],\n",
       "         ...,\n",
       "         [160, 133,  70],\n",
       "         [ 56,  31,   7],\n",
       "         [ 53,  34,  20]],\n",
       "\n",
       "        [[180, 139,  96],\n",
       "         [173, 123,  42],\n",
       "         [186, 144,  30],\n",
       "         ...,\n",
       "         [184, 148,  94],\n",
       "         [ 97,  62,  34],\n",
       "         [ 83,  53,  34]],\n",
       "\n",
       "        [[177, 144, 116],\n",
       "         [168, 129,  94],\n",
       "         [179, 142,  87],\n",
       "         ...,\n",
       "         [216, 184, 140],\n",
       "         [151, 118,  84],\n",
       "         [123,  92,  72]]],\n",
       "\n",
       "\n",
       "       [[[154, 177, 187],\n",
       "         [126, 137, 136],\n",
       "         [105, 104,  95],\n",
       "         ...,\n",
       "         [ 91,  95,  71],\n",
       "         [ 87,  90,  71],\n",
       "         [ 79,  81,  70]],\n",
       "\n",
       "        [[140, 160, 169],\n",
       "         [145, 153, 154],\n",
       "         [125, 125, 118],\n",
       "         ...,\n",
       "         [ 96,  99,  78],\n",
       "         [ 77,  80,  62],\n",
       "         [ 71,  73,  61]],\n",
       "\n",
       "        [[140, 155, 164],\n",
       "         [139, 146, 149],\n",
       "         [115, 115, 112],\n",
       "         ...,\n",
       "         [ 79,  82,  64],\n",
       "         [ 68,  70,  55],\n",
       "         [ 67,  69,  55]],\n",
       "\n",
       "        ...,\n",
       "\n",
       "        [[175, 167, 166],\n",
       "         [156, 154, 160],\n",
       "         [154, 160, 170],\n",
       "         ...,\n",
       "         [ 42,  34,  36],\n",
       "         [ 61,  53,  57],\n",
       "         [ 93,  83,  91]],\n",
       "\n",
       "        [[165, 154, 128],\n",
       "         [156, 152, 130],\n",
       "         [159, 161, 142],\n",
       "         ...,\n",
       "         [103,  93,  96],\n",
       "         [123, 114, 120],\n",
       "         [131, 121, 131]],\n",
       "\n",
       "        [[163, 148, 120],\n",
       "         [158, 148, 122],\n",
       "         [163, 156, 133],\n",
       "         ...,\n",
       "         [143, 133, 139],\n",
       "         [143, 134, 142],\n",
       "         [143, 133, 144]]],\n",
       "\n",
       "\n",
       "       [[[255, 255, 255],\n",
       "         [253, 253, 253],\n",
       "         [253, 253, 253],\n",
       "         ...,\n",
       "         [253, 253, 253],\n",
       "         [253, 253, 253],\n",
       "         [253, 253, 253]],\n",
       "\n",
       "        [[255, 255, 255],\n",
       "         [255, 255, 255],\n",
       "         [255, 255, 255],\n",
       "         ...,\n",
       "         [255, 255, 255],\n",
       "         [255, 255, 255],\n",
       "         [255, 255, 255]],\n",
       "\n",
       "        [[255, 255, 255],\n",
       "         [254, 254, 254],\n",
       "         [254, 254, 254],\n",
       "         ...,\n",
       "         [254, 254, 254],\n",
       "         [254, 254, 254],\n",
       "         [254, 254, 254]],\n",
       "\n",
       "        ...,\n",
       "\n",
       "        [[113, 120, 112],\n",
       "         [111, 118, 111],\n",
       "         [105, 112, 106],\n",
       "         ...,\n",
       "         [ 72,  81,  80],\n",
       "         [ 72,  80,  79],\n",
       "         [ 72,  80,  79]],\n",
       "\n",
       "        [[111, 118, 110],\n",
       "         [104, 111, 104],\n",
       "         [ 99, 106,  98],\n",
       "         ...,\n",
       "         [ 68,  75,  73],\n",
       "         [ 70,  76,  75],\n",
       "         [ 78,  84,  82]],\n",
       "\n",
       "        [[106, 113, 105],\n",
       "         [ 99, 106,  98],\n",
       "         [ 95, 102,  94],\n",
       "         ...,\n",
       "         [ 78,  85,  83],\n",
       "         [ 79,  85,  83],\n",
       "         [ 80,  86,  84]]],\n",
       "\n",
       "\n",
       "       ...,\n",
       "\n",
       "\n",
       "       [[[ 35, 178, 235],\n",
       "         [ 40, 176, 239],\n",
       "         [ 42, 176, 241],\n",
       "         ...,\n",
       "         [ 99, 177, 219],\n",
       "         [ 79, 147, 197],\n",
       "         [ 89, 148, 189]],\n",
       "\n",
       "        [[ 57, 182, 234],\n",
       "         [ 44, 184, 250],\n",
       "         [ 50, 183, 240],\n",
       "         ...,\n",
       "         [156, 182, 200],\n",
       "         [141, 177, 206],\n",
       "         [116, 149, 175]],\n",
       "\n",
       "        [[ 98, 197, 237],\n",
       "         [ 64, 189, 252],\n",
       "         [ 69, 192, 245],\n",
       "         ...,\n",
       "         [188, 195, 206],\n",
       "         [119, 135, 147],\n",
       "         [ 61,  79,  90]],\n",
       "\n",
       "        ...,\n",
       "\n",
       "        [[ 73,  79,  77],\n",
       "         [ 53,  63,  68],\n",
       "         [ 54,  68,  80],\n",
       "         ...,\n",
       "         [ 17,  40,  64],\n",
       "         [ 21,  36,  51],\n",
       "         [ 33,  48,  49]],\n",
       "\n",
       "        [[ 61,  68,  75],\n",
       "         [ 55,  70,  86],\n",
       "         [ 57,  79, 103],\n",
       "         ...,\n",
       "         [ 24,  48,  72],\n",
       "         [ 17,  35,  53],\n",
       "         [  7,  23,  32]],\n",
       "\n",
       "        [[ 44,  56,  73],\n",
       "         [ 46,  66,  88],\n",
       "         [ 49,  77, 105],\n",
       "         ...,\n",
       "         [ 27,  52,  77],\n",
       "         [ 21,  43,  66],\n",
       "         [ 12,  31,  50]]],\n",
       "\n",
       "\n",
       "       [[[189, 211, 240],\n",
       "         [186, 208, 236],\n",
       "         [185, 207, 235],\n",
       "         ...,\n",
       "         [175, 195, 224],\n",
       "         [172, 194, 222],\n",
       "         [169, 194, 220]],\n",
       "\n",
       "        [[194, 210, 239],\n",
       "         [191, 207, 236],\n",
       "         [190, 206, 235],\n",
       "         ...,\n",
       "         [173, 192, 220],\n",
       "         [171, 191, 218],\n",
       "         [167, 190, 216]],\n",
       "\n",
       "        [[208, 219, 244],\n",
       "         [205, 216, 240],\n",
       "         [204, 215, 239],\n",
       "         ...,\n",
       "         [175, 191, 217],\n",
       "         [172, 190, 216],\n",
       "         [169, 191, 215]],\n",
       "\n",
       "        ...,\n",
       "\n",
       "        [[207, 199, 181],\n",
       "         [203, 195, 175],\n",
       "         [203, 196, 173],\n",
       "         ...,\n",
       "         [135, 132, 127],\n",
       "         [162, 158, 150],\n",
       "         [168, 163, 151]],\n",
       "\n",
       "        [[198, 190, 170],\n",
       "         [189, 181, 159],\n",
       "         [180, 172, 147],\n",
       "         ...,\n",
       "         [178, 171, 160],\n",
       "         [175, 169, 156],\n",
       "         [175, 169, 154]],\n",
       "\n",
       "        [[198, 189, 173],\n",
       "         [189, 181, 162],\n",
       "         [178, 170, 149],\n",
       "         ...,\n",
       "         [195, 184, 169],\n",
       "         [196, 189, 171],\n",
       "         [195, 190, 171]]],\n",
       "\n",
       "\n",
       "       [[[229, 229, 239],\n",
       "         [236, 237, 247],\n",
       "         [234, 236, 247],\n",
       "         ...,\n",
       "         [217, 219, 233],\n",
       "         [221, 223, 234],\n",
       "         [222, 223, 233]],\n",
       "\n",
       "        [[222, 221, 229],\n",
       "         [239, 239, 249],\n",
       "         [233, 234, 246],\n",
       "         ...,\n",
       "         [223, 223, 236],\n",
       "         [227, 228, 238],\n",
       "         [210, 211, 220]],\n",
       "\n",
       "        [[213, 206, 211],\n",
       "         [234, 232, 239],\n",
       "         [231, 233, 244],\n",
       "         ...,\n",
       "         [220, 220, 232],\n",
       "         [220, 219, 232],\n",
       "         [202, 203, 215]],\n",
       "\n",
       "        ...,\n",
       "\n",
       "        [[150, 143, 135],\n",
       "         [140, 135, 127],\n",
       "         [132, 127, 120],\n",
       "         ...,\n",
       "         [224, 222, 218],\n",
       "         [230, 228, 225],\n",
       "         [241, 241, 238]],\n",
       "\n",
       "        [[137, 132, 126],\n",
       "         [130, 127, 120],\n",
       "         [125, 121, 115],\n",
       "         ...,\n",
       "         [181, 180, 178],\n",
       "         [202, 201, 198],\n",
       "         [212, 211, 207]],\n",
       "\n",
       "        [[122, 119, 114],\n",
       "         [118, 116, 110],\n",
       "         [120, 116, 111],\n",
       "         ...,\n",
       "         [179, 177, 173],\n",
       "         [164, 164, 162],\n",
       "         [163, 163, 161]]]], dtype=uint8)"
      ]
     },
     "execution_count": 17,
     "metadata": {},
     "output_type": "execute_result"
    }
   ],
   "source": [
    "train_dataset.data"
   ]
  },
  {
   "cell_type": "code",
   "execution_count": 18,
   "id": "f2496a52",
   "metadata": {
    "execution": {
     "iopub.execute_input": "2025-08-31T01:25:02.139425Z",
     "iopub.status.busy": "2025-08-31T01:25:02.138891Z",
     "iopub.status.idle": "2025-08-31T01:25:02.143101Z",
     "shell.execute_reply": "2025-08-31T01:25:02.142373Z"
    },
    "papermill": {
     "duration": 0.017404,
     "end_time": "2025-08-31T01:25:02.144346",
     "exception": false,
     "start_time": "2025-08-31T01:25:02.126942",
     "status": "completed"
    },
    "tags": []
   },
   "outputs": [
    {
     "name": "stdout",
     "output_type": "stream",
     "text": [
      "<class 'numpy.ndarray'> (50000, 32, 32, 3)\n"
     ]
    }
   ],
   "source": [
    "# train_dataset[0] is transformed with ToTensor() every time it is called.  \n",
    "# For image visualization, a PIL image or a NumPy array is required.  \n",
    "# train_dataset.data stores images in the form of a NumPy array (channel last).  \n",
    "print(type(train_dataset.data), train_dataset.data.shape)\n"
   ]
  },
  {
   "cell_type": "code",
   "execution_count": 19,
   "id": "08c4651c",
   "metadata": {
    "execution": {
     "iopub.execute_input": "2025-08-31T01:25:02.168272Z",
     "iopub.status.busy": "2025-08-31T01:25:02.167555Z",
     "iopub.status.idle": "2025-08-31T01:25:04.213846Z",
     "shell.execute_reply": "2025-08-31T01:25:04.213151Z"
    },
    "papermill": {
     "duration": 2.05989,
     "end_time": "2025-08-31T01:25:04.215620",
     "exception": false,
     "start_time": "2025-08-31T01:25:02.155730",
     "status": "completed"
    },
    "tags": []
   },
   "outputs": [
    {
     "data": {
      "image/png": "[encoded data removed]",
      "text/plain": [
       "<Figure size 2200x600 with 8 Axes>"
      ]
     },
     "metadata": {},
     "output_type": "display_data"
    },
    {
     "data": {
      "image/png": "[encoded data removed]",
      "text/plain": [
       "<Figure size 2200x600 with 8 Axes>"
      ]
     },
     "metadata": {},
     "output_type": "display_data"
    }
   ],
   "source": [
    "import matplotlib.pyplot as plt\n",
    "\n",
    "class_names = ['airplane', 'automobile', 'bird', 'cat', 'deer', 'dog', 'frog', 'horse', 'ship', 'truck']\n",
    "\n",
    "def show_images(images, labels, ncols=8):\n",
    "    figure, axs = plt.subplots(figsize=(22, 6), nrows=1, ncols=ncols)\n",
    "    for i in range(ncols):\n",
    "        # imshow() can directly visualize a NumPy array as an image.\n",
    "        axs[i].imshow(images[i])\n",
    "        axs[i].set_title(class_names[labels[i]])\n",
    "        \n",
    "show_images(train_dataset.data[:8], train_dataset.targets[:8], ncols=8)\n",
    "show_images(train_dataset.data[8:16], train_dataset.targets[8:16], ncols=8)\n"
   ]
  },
  {
   "cell_type": "markdown",
   "id": "8d279331",
   "metadata": {
    "papermill": {
     "duration": 0.012628,
     "end_time": "2025-08-31T01:25:04.241835",
     "exception": false,
     "start_time": "2025-08-31T01:25:04.229207",
     "status": "completed"
    },
    "tags": []
   },
   "source": [
    "### Building a CNN-based Model - 03\n",
    "\n",
    "* Increase the number of filters and the depth of the network.\n",
    "* Sequentially perform conv → relu → conv → relu → pooling.\n",
    "* Kernel size is 3, and the number of filters increases by block: 32 → 64 → 128.\n"
   ]
  },
  {
   "cell_type": "code",
   "execution_count": 20,
   "id": "bda0f331",
   "metadata": {
    "execution": {
     "iopub.execute_input": "2025-08-31T01:25:04.268925Z",
     "iopub.status.busy": "2025-08-31T01:25:04.268643Z",
     "iopub.status.idle": "2025-08-31T01:25:04.299996Z",
     "shell.execute_reply": "2025-08-31T01:25:04.299292Z"
    },
    "papermill": {
     "duration": 0.046408,
     "end_time": "2025-08-31T01:25:04.301063",
     "exception": false,
     "start_time": "2025-08-31T01:25:04.254655",
     "status": "completed"
    },
    "tags": []
   },
   "outputs": [
    {
     "data": {
      "text/plain": [
       "===================================================================================================================\n",
       "Layer (type (var_name))                  Input Shape               Output Shape              Param #\n",
       "===================================================================================================================\n",
       "SimpleCNN (SimpleCNN)                    [1, 3, 32, 32]            [1, 10]                   1,290\n",
       "├─Conv2d (conv_11)                       [1, 3, 32, 32]            [1, 32, 32, 32]           896\n",
       "├─Conv2d (conv_12)                       [1, 32, 32, 32]           [1, 32, 32, 32]           9,248\n",
       "├─MaxPool2d (pool_01)                    [1, 32, 32, 32]           [1, 32, 16, 16]           --\n",
       "├─Conv2d (conv_21)                       [1, 32, 16, 16]           [1, 64, 16, 16]           18,496\n",
       "├─Conv2d (conv_22)                       [1, 64, 16, 16]           [1, 64, 16, 16]           36,928\n",
       "├─MaxPool2d (pool_02)                    [1, 64, 16, 16]           [1, 64, 8, 8]             --\n",
       "├─Sequential (conv_block)                [1, 64, 8, 8]             [1, 128, 4, 4]            --\n",
       "│    └─Conv2d (0)                        [1, 64, 8, 8]             [1, 128, 8, 8]            73,856\n",
       "│    └─ReLU (1)                          [1, 128, 8, 8]            [1, 128, 8, 8]            --\n",
       "│    └─Conv2d (2)                        [1, 128, 8, 8]            [1, 128, 8, 8]            147,584\n",
       "│    └─ReLU (3)                          [1, 128, 8, 8]            [1, 128, 8, 8]            --\n",
       "│    └─MaxPool2d (4)                     [1, 128, 8, 8]            [1, 128, 4, 4]            --\n",
       "├─Sequential (classifier_block)          [1, 128, 4, 4]            [1, 10]                   --\n",
       "│    └─AdaptiveAvgPool2d (0)             [1, 128, 4, 4]            [1, 128, 1, 1]            --\n",
       "│    └─Flatten (1)                       [1, 128, 1, 1]            [1, 128]                  --\n",
       "│    └─Linear (2)                        [1, 128]                  [1, 10]                   1,290\n",
       "===================================================================================================================\n",
       "Total params: 289,588\n",
       "Trainable params: 289,588\n",
       "Non-trainable params: 0\n",
       "Total mult-adds (Units.MEGABYTES): 38.75\n",
       "===================================================================================================================\n",
       "Input size (MB): 0.01\n",
       "Forward/backward pass size (MB): 0.92\n",
       "Params size (MB): 1.15\n",
       "Estimated Total Size (MB): 2.08\n",
       "==================================================================================================================="
      ]
     },
     "execution_count": 20,
     "metadata": {},
     "output_type": "execute_result"
    }
   ],
   "source": [
    "import torch\n",
    "import torch.nn as nn\n",
    "import torch.nn.functional as F\n",
    "from torchinfo import summary\n",
    "\n",
    "NUM_INPUT_CHANNELS = 3\n",
    "\n",
    "class SimpleCNN(nn.Module):\n",
    "    def __init__(self, num_classes):\n",
    "        super().__init__()\n",
    "\n",
    "        # Apply conv with padding=1 to keep the output spatial size the same as the input.\n",
    "        # Kernel size = 3, 32 filters applied consecutively.\n",
    "        self.conv_11 = nn.Conv2d(in_channels=NUM_INPUT_CHANNELS, out_channels=32, kernel_size=3, stride=1, padding=1)\n",
    "        self.conv_12 = nn.Conv2d(in_channels=32, out_channels=32, kernel_size=3, stride=1, padding=1)\n",
    "        self.pool_01 = nn.MaxPool2d(kernel_size=2)\n",
    "        \n",
    "        # Apply two consecutive Conv2d layers with out_channels=64.\n",
    "        # stride=1 is default, padding='same' was introduced in version 1.8.\n",
    "        self.conv_21 = nn.Conv2d(in_channels=32, out_channels=64, kernel_size=3, stride=1, padding='same')\n",
    "        self.conv_22 = nn.Conv2d(in_channels=64, out_channels=64, kernel_size=3, stride=1, padding='same')\n",
    "        self.pool_02 = nn.MaxPool2d(kernel_size=2)\n",
    "\n",
    "        # Build Conv Layers using Sequential module. \n",
    "        # In this case, add ReLU layers explicitly for activation.\n",
    "        # Apply two Conv layers with 128 filters followed by Max Pooling.\n",
    "        self.conv_block = nn.Sequential(\n",
    "            nn.Conv2d(in_channels=64, out_channels=128, kernel_size=3, stride=1, padding='same'),\n",
    "            nn.ReLU(),\n",
    "            nn.Conv2d(in_channels=128, out_channels=128, kernel_size=3, padding='same'),\n",
    "            nn.ReLU(),\n",
    "            nn.MaxPool2d(kernel_size=2)\n",
    "        )\n",
    "       \n",
    "        # GAP and final Classifier Layer\n",
    "        self.adapt_pool = nn.AdaptiveAvgPool2d(output_size=(1,1))\n",
    "        self.classifier = nn.Linear(in_features=128, out_features=num_classes)\n",
    "\n",
    "        self.classifier_block = nn.Sequential(\n",
    "            nn.AdaptiveAvgPool2d(output_size=(1,1)),\n",
    "            nn.Flatten(),\n",
    "            nn.Linear(in_features=128, out_features=num_classes)\n",
    "        )\n",
    "        \n",
    "    def forward(self, x):\n",
    "        x = F.relu(self.conv_11(x))\n",
    "        x = F.relu(self.conv_12(x))\n",
    "        x = self.pool_01(x)\n",
    "\n",
    "        # Alternatively, we could write x = F.max_pool2d(x, 2),\n",
    "        # but it won’t show up in the summary, so we defined it as a layer instead. \n",
    "        \n",
    "        x = F.relu(self.conv_21(x))\n",
    "        x = F.relu(self.conv_22(x))\n",
    "        x = self.pool_02(x)\n",
    "\n",
    "        x = self.conv_block(x)\n",
    "        # global pooling \n",
    "        # x = self.adapt_pool(x)\n",
    "        # x = torch.flatten(x, start_dim=1)\n",
    "        # or x = x.view(x.size(0), -1)\n",
    "        # final classification\n",
    "        # x = self.classifier(x)\n",
    "        # Or, forward through classifier_block as shown below\n",
    "        x = self.classifier_block(x)\n",
    "        return x\n",
    "\n",
    "\n",
    "simple_cnn = SimpleCNN(num_classes=10)\n",
    "\n",
    "summary(model=simple_cnn, input_size=(1, 3, 32, 32), \n",
    "        col_names=['input_size', 'output_size', 'num_params'], \n",
    "        row_settings=['var_names'])\n"
   ]
  },
  {
   "cell_type": "code",
   "execution_count": 21,
   "id": "35ec365a",
   "metadata": {
    "execution": {
     "iopub.execute_input": "2025-08-31T01:25:04.328286Z",
     "iopub.status.busy": "2025-08-31T01:25:04.328037Z",
     "iopub.status.idle": "2025-08-31T01:25:04.340443Z",
     "shell.execute_reply": "2025-08-31T01:25:04.339794Z"
    },
    "papermill": {
     "duration": 0.027525,
     "end_time": "2025-08-31T01:25:04.341522",
     "exception": false,
     "start_time": "2025-08-31T01:25:04.313997",
     "status": "completed"
    },
    "tags": []
   },
   "outputs": [],
   "source": [
    "from tqdm import tqdm\n",
    "import torch.nn.functional as F\n",
    "\n",
    "class Trainer:\n",
    "    def __init__(self, model, loss_fn, optimizer, train_loader, val_loader, device=None):\n",
    "        self.model = model.to(device)\n",
    "        self.loss_fn = loss_fn\n",
    "        self.optimizer = optimizer\n",
    "        self.train_loader = train_loader\n",
    "        self.val_loader = val_loader\n",
    "        self.device = device\n",
    "    \n",
    "    def train_epoch(self, epoch):\n",
    "        self.model.train()\n",
    "        \n",
    "        # Initialize running average loss\n",
    "        accu_loss = 0.0\n",
    "        running_avg_loss = 0.0\n",
    "        # Initialize accuracy tracking: total samples and correctly predicted samples\n",
    "        num_total = 0.0\n",
    "        accu_num_correct = 0.0\n",
    "        accuracy = 0.0\n",
    "        \n",
    "        # Use tqdm to visualize training loop progress\n",
    "        with tqdm(total=len(self.train_loader), desc=f\"Epoch {epoch+1} [Training..]\", leave=True) as progress_bar:\n",
    "            for batch_idx, (inputs, targets) in enumerate(self.train_loader):\n",
    "                # Move inputs and targets to device (do not use to(device) directly)\n",
    "                inputs = inputs.to(self.device)\n",
    "                targets = targets.to(self.device)\n",
    "                \n",
    "                # Forward pass\n",
    "                outputs = self.model(inputs)\n",
    "                loss = self.loss_fn(outputs, targets)\n",
    "                \n",
    "                # Backward pass\n",
    "                self.optimizer.zero_grad()\n",
    "                loss.backward()\n",
    "                self.optimizer.step()\n",
    "\n",
    "                # Update running average loss\n",
    "                accu_loss += loss.item()\n",
    "                running_avg_loss = accu_loss /(batch_idx + 1)\n",
    "\n",
    "                # Compute accuracy metric\n",
    "                # Count the number of correct predictions in this batch\n",
    "                num_correct = (outputs.argmax(-1) == targets).sum().item()\n",
    "                # Update total and correct counts to calculate running accuracy\n",
    "                num_total += inputs.shape[0]\n",
    "                accu_num_correct += num_correct\n",
    "                accuracy = accu_num_correct / num_total\n",
    "\n",
    "                # Update tqdm progress bar with running loss and accuracy\n",
    "                progress_bar.update(1)\n",
    "                if batch_idx % 20 == 0 or (batch_idx + 1) == progress_bar.total:  # Update every 20 batches or last batch\n",
    "                    progress_bar.set_postfix({\"Loss\": running_avg_loss, \n",
    "                                              \"Accuracy\": accuracy})\n",
    "        \n",
    "        return running_avg_loss, accuracy\n",
    "                \n",
    "    def validate_epoch(self, epoch):\n",
    "        if not self.val_loader:\n",
    "            return None\n",
    "            \n",
    "        self.model.eval()\n",
    "\n",
    "        # Initialize running average loss\n",
    "        accu_loss = 0\n",
    "        running_avg_loss = 0\n",
    "        # Initialize accuracy tracking: total samples and correctly predicted samples\n",
    "        num_total = 0.0\n",
    "        accu_num_correct = 0.0\n",
    "        accuracy = 0.0\n",
    "        with tqdm(total=len(self.val_loader), desc=f\"Epoch {epoch+1} [Validating]\", leave=True) as progress_bar:\n",
    "            with torch.no_grad():\n",
    "                for batch_idx, (inputs, targets) in enumerate(self.val_loader):\n",
    "                    inputs = inputs.to(self.device)\n",
    "                    targets = targets.to(self.device)\n",
    "                    \n",
    "                    outputs = self.model(inputs)\n",
    "                    \n",
    "                    loss = self.loss_fn(outputs, targets)\n",
    "                    # Update running average loss\n",
    "                    accu_loss += loss.item()\n",
    "                    running_avg_loss = accu_loss /(batch_idx + 1)\n",
    "\n",
    "                    # Compute accuracy metric\n",
    "                    num_correct = (outputs.argmax(-1) == targets).sum().item()\n",
    "                    # Update total and correct counts to calculate running accuracy\n",
    "                    num_total += inputs.shape[0]\n",
    "                    accu_num_correct += num_correct\n",
    "                    accuracy = accu_num_correct / num_total\n",
    "\n",
    "                    # Update tqdm progress bar with running loss and accuracy\n",
    "                    progress_bar.update(1)\n",
    "                    if batch_idx % 20 == 0 or (batch_idx + 1) == progress_bar.total:  # Update every 20 batches or last batch\n",
    "                        progress_bar.set_postfix({\"Loss\": running_avg_loss, \n",
    "                                                  \"Accuracy\":accuracy})\n",
    "        return running_avg_loss, accuracy\n",
    "    \n",
    "    def fit(self, epochs):\n",
    "        # Create a history dictionary to store train/validation results for each epoch\n",
    "        history = {'train_loss': [], 'train_acc': [], 'val_loss': [], 'val_acc': []}\n",
    "        for epoch in range(epochs):\n",
    "            train_loss, train_acc = self.train_epoch(epoch)\n",
    "            val_loss, val_acc = self.validate_epoch(epoch)\n",
    "            print(f\"Epoch {epoch+1}/{epochs}, Train Loss: {train_loss:.4f} Train Accuracy: {train_acc:.4f}\",\n",
    "                  f\", Val Loss: {val_loss:.4f} Val Accuracy: {val_acc:.4f}\" if val_loss is not None else \"\")\n",
    "            # Record train/validation results per epoch\n",
    "            history['train_loss'].append(train_loss); history['train_acc'].append(train_acc)\n",
    "            history['val_loss'].append(val_loss); history['val_acc'].append(val_acc)\n",
    "            \n",
    "        return history \n",
    "    \n",
    "    # Return the trained model\n",
    "    def get_trained_model(self):\n",
    "        return self.model\n"
   ]
  },
  {
   "cell_type": "code",
   "execution_count": 22,
   "id": "20840c5f",
   "metadata": {
    "execution": {
     "iopub.execute_input": "2025-08-31T01:25:04.367609Z",
     "iopub.status.busy": "2025-08-31T01:25:04.367367Z",
     "iopub.status.idle": "2025-08-31T01:29:59.420706Z",
     "shell.execute_reply": "2025-08-31T01:29:59.419677Z"
    },
    "papermill": {
     "duration": 295.067594,
     "end_time": "2025-08-31T01:29:59.421846",
     "exception": false,
     "start_time": "2025-08-31T01:25:04.354252",
     "status": "completed"
    },
    "tags": []
   },
   "outputs": [
    {
     "name": "stderr",
     "output_type": "stream",
     "text": [
      "Epoch 1 [Training..]: 100%|██████████| 1329/1329 [00:09<00:00, 141.34it/s, Loss=1.74, Accuracy=0.341]\n",
      "Epoch 1 [Validating]: 100%|██████████| 235/235 [00:00<00:00, 255.43it/s, Loss=1.42, Accuracy=0.471]\n"
     ]
    },
    {
     "name": "stdout",
     "output_type": "stream",
     "text": [
      "Epoch 1/30, Train Loss: 1.7407 Train Accuracy: 0.3413 , Val Loss: 1.4230 Val Accuracy: 0.4712\n"
     ]
    },
    {
     "name": "stderr",
     "output_type": "stream",
     "text": [
      "Epoch 2 [Training..]: 100%|██████████| 1329/1329 [00:08<00:00, 148.15it/s, Loss=1.31, Accuracy=0.519]\n",
      "Epoch 2 [Validating]: 100%|██████████| 235/235 [00:00<00:00, 243.97it/s, Loss=1.17, Accuracy=0.58]\n"
     ]
    },
    {
     "name": "stdout",
     "output_type": "stream",
     "text": [
      "Epoch 2/30, Train Loss: 1.3114 Train Accuracy: 0.5192 , Val Loss: 1.1733 Val Accuracy: 0.5800\n"
     ]
    },
    {
     "name": "stderr",
     "output_type": "stream",
     "text": [
      "Epoch 3 [Training..]: 100%|██████████| 1329/1329 [00:09<00:00, 147.50it/s, Loss=1.09, Accuracy=0.607]\n",
      "Epoch 3 [Validating]: 100%|██████████| 235/235 [00:00<00:00, 251.85it/s, Loss=1.05, Accuracy=0.624]\n"
     ]
    },
    {
     "name": "stdout",
     "output_type": "stream",
     "text": [
      "Epoch 3/30, Train Loss: 1.0947 Train Accuracy: 0.6069 , Val Loss: 1.0532 Val Accuracy: 0.6240\n"
     ]
    },
    {
     "name": "stderr",
     "output_type": "stream",
     "text": [
      "Epoch 4 [Training..]: 100%|██████████| 1329/1329 [00:08<00:00, 149.46it/s, Loss=0.958, Accuracy=0.659]\n",
      "Epoch 4 [Validating]: 100%|██████████| 235/235 [00:00<00:00, 255.75it/s, Loss=0.913, Accuracy=0.675]\n"
     ]
    },
    {
     "name": "stdout",
     "output_type": "stream",
     "text": [
      "Epoch 4/30, Train Loss: 0.9584 Train Accuracy: 0.6595 , Val Loss: 0.9129 Val Accuracy: 0.6747\n"
     ]
    },
    {
     "name": "stderr",
     "output_type": "stream",
     "text": [
      "Epoch 5 [Training..]: 100%|██████████| 1329/1329 [00:08<00:00, 149.90it/s, Loss=0.852, Accuracy=0.7]\n",
      "Epoch 5 [Validating]: 100%|██████████| 235/235 [00:00<00:00, 252.57it/s, Loss=0.9, Accuracy=0.679]\n"
     ]
    },
    {
     "name": "stdout",
     "output_type": "stream",
     "text": [
      "Epoch 5/30, Train Loss: 0.8521 Train Accuracy: 0.7001 , Val Loss: 0.9001 Val Accuracy: 0.6795\n"
     ]
    },
    {
     "name": "stderr",
     "output_type": "stream",
     "text": [
      "Epoch 6 [Training..]: 100%|██████████| 1329/1329 [00:08<00:00, 148.51it/s, Loss=0.761, Accuracy=0.732]\n",
      "Epoch 6 [Validating]: 100%|██████████| 235/235 [00:00<00:00, 256.16it/s, Loss=0.799, Accuracy=0.723]\n"
     ]
    },
    {
     "name": "stdout",
     "output_type": "stream",
     "text": [
      "Epoch 6/30, Train Loss: 0.7610 Train Accuracy: 0.7318 , Val Loss: 0.7989 Val Accuracy: 0.7227\n"
     ]
    },
    {
     "name": "stderr",
     "output_type": "stream",
     "text": [
      "Epoch 7 [Training..]: 100%|██████████| 1329/1329 [00:08<00:00, 150.19it/s, Loss=0.683, Accuracy=0.759]\n",
      "Epoch 7 [Validating]: 100%|██████████| 235/235 [00:00<00:00, 254.16it/s, Loss=0.806, Accuracy=0.712]\n"
     ]
    },
    {
     "name": "stdout",
     "output_type": "stream",
     "text": [
      "Epoch 7/30, Train Loss: 0.6831 Train Accuracy: 0.7595 , Val Loss: 0.8061 Val Accuracy: 0.7123\n"
     ]
    },
    {
     "name": "stderr",
     "output_type": "stream",
     "text": [
      "Epoch 8 [Training..]: 100%|██████████| 1329/1329 [00:08<00:00, 149.89it/s, Loss=0.615, Accuracy=0.785]\n",
      "Epoch 8 [Validating]: 100%|██████████| 235/235 [00:00<00:00, 261.49it/s, Loss=0.723, Accuracy=0.754]\n"
     ]
    },
    {
     "name": "stdout",
     "output_type": "stream",
     "text": [
      "Epoch 8/30, Train Loss: 0.6152 Train Accuracy: 0.7850 , Val Loss: 0.7233 Val Accuracy: 0.7540\n"
     ]
    },
    {
     "name": "stderr",
     "output_type": "stream",
     "text": [
      "Epoch 9 [Training..]: 100%|██████████| 1329/1329 [00:08<00:00, 148.87it/s, Loss=0.555, Accuracy=0.805]\n",
      "Epoch 9 [Validating]: 100%|██████████| 235/235 [00:00<00:00, 242.10it/s, Loss=0.838, Accuracy=0.717]\n"
     ]
    },
    {
     "name": "stdout",
     "output_type": "stream",
     "text": [
      "Epoch 9/30, Train Loss: 0.5555 Train Accuracy: 0.8046 , Val Loss: 0.8384 Val Accuracy: 0.7172\n"
     ]
    },
    {
     "name": "stderr",
     "output_type": "stream",
     "text": [
      "Epoch 10 [Training..]: 100%|██████████| 1329/1329 [00:08<00:00, 150.19it/s, Loss=0.506, Accuracy=0.823]\n",
      "Epoch 10 [Validating]: 100%|██████████| 235/235 [00:00<00:00, 250.35it/s, Loss=0.765, Accuracy=0.743]\n"
     ]
    },
    {
     "name": "stdout",
     "output_type": "stream",
     "text": [
      "Epoch 10/30, Train Loss: 0.5064 Train Accuracy: 0.8234 , Val Loss: 0.7651 Val Accuracy: 0.7427\n"
     ]
    },
    {
     "name": "stderr",
     "output_type": "stream",
     "text": [
      "Epoch 11 [Training..]: 100%|██████████| 1329/1329 [00:09<00:00, 147.03it/s, Loss=0.461, Accuracy=0.838]\n",
      "Epoch 11 [Validating]: 100%|██████████| 235/235 [00:00<00:00, 261.03it/s, Loss=0.673, Accuracy=0.781]\n"
     ]
    },
    {
     "name": "stdout",
     "output_type": "stream",
     "text": [
      "Epoch 11/30, Train Loss: 0.4611 Train Accuracy: 0.8381 , Val Loss: 0.6727 Val Accuracy: 0.7815\n"
     ]
    },
    {
     "name": "stderr",
     "output_type": "stream",
     "text": [
      "Epoch 12 [Training..]: 100%|██████████| 1329/1329 [00:08<00:00, 148.56it/s, Loss=0.412, Accuracy=0.857]\n",
      "Epoch 12 [Validating]: 100%|██████████| 235/235 [00:00<00:00, 237.10it/s, Loss=0.684, Accuracy=0.781]\n"
     ]
    },
    {
     "name": "stdout",
     "output_type": "stream",
     "text": [
      "Epoch 12/30, Train Loss: 0.4119 Train Accuracy: 0.8567 , Val Loss: 0.6840 Val Accuracy: 0.7809\n"
     ]
    },
    {
     "name": "stderr",
     "output_type": "stream",
     "text": [
      "Epoch 13 [Training..]: 100%|██████████| 1329/1329 [00:08<00:00, 154.53it/s, Loss=0.37, Accuracy=0.869]\n",
      "Epoch 13 [Validating]: 100%|██████████| 235/235 [00:00<00:00, 259.25it/s, Loss=0.748, Accuracy=0.765]\n"
     ]
    },
    {
     "name": "stdout",
     "output_type": "stream",
     "text": [
      "Epoch 13/30, Train Loss: 0.3699 Train Accuracy: 0.8688 , Val Loss: 0.7480 Val Accuracy: 0.7645\n"
     ]
    },
    {
     "name": "stderr",
     "output_type": "stream",
     "text": [
      "Epoch 14 [Training..]: 100%|██████████| 1329/1329 [00:08<00:00, 150.26it/s, Loss=0.33, Accuracy=0.883]\n",
      "Epoch 14 [Validating]: 100%|██████████| 235/235 [00:00<00:00, 250.91it/s, Loss=0.717, Accuracy=0.781]\n"
     ]
    },
    {
     "name": "stdout",
     "output_type": "stream",
     "text": [
      "Epoch 14/30, Train Loss: 0.3297 Train Accuracy: 0.8832 , Val Loss: 0.7171 Val Accuracy: 0.7813\n"
     ]
    },
    {
     "name": "stderr",
     "output_type": "stream",
     "text": [
      "Epoch 15 [Training..]: 100%|██████████| 1329/1329 [00:08<00:00, 149.92it/s, Loss=0.291, Accuracy=0.896]\n",
      "Epoch 15 [Validating]: 100%|██████████| 235/235 [00:00<00:00, 249.47it/s, Loss=0.726, Accuracy=0.784]\n"
     ]
    },
    {
     "name": "stdout",
     "output_type": "stream",
     "text": [
      "Epoch 15/30, Train Loss: 0.2915 Train Accuracy: 0.8956 , Val Loss: 0.7259 Val Accuracy: 0.7841\n"
     ]
    },
    {
     "name": "stderr",
     "output_type": "stream",
     "text": [
      "Epoch 16 [Training..]: 100%|██████████| 1329/1329 [00:08<00:00, 148.90it/s, Loss=0.255, Accuracy=0.909]\n",
      "Epoch 16 [Validating]: 100%|██████████| 235/235 [00:00<00:00, 256.96it/s, Loss=0.813, Accuracy=0.783]\n"
     ]
    },
    {
     "name": "stdout",
     "output_type": "stream",
     "text": [
      "Epoch 16/30, Train Loss: 0.2552 Train Accuracy: 0.9089 , Val Loss: 0.8126 Val Accuracy: 0.7831\n"
     ]
    },
    {
     "name": "stderr",
     "output_type": "stream",
     "text": [
      "Epoch 17 [Training..]: 100%|██████████| 1329/1329 [00:08<00:00, 150.39it/s, Loss=0.23, Accuracy=0.918]\n",
      "Epoch 17 [Validating]: 100%|██████████| 235/235 [00:00<00:00, 257.71it/s, Loss=0.845, Accuracy=0.772]\n"
     ]
    },
    {
     "name": "stdout",
     "output_type": "stream",
     "text": [
      "Epoch 17/30, Train Loss: 0.2302 Train Accuracy: 0.9185 , Val Loss: 0.8447 Val Accuracy: 0.7723\n"
     ]
    },
    {
     "name": "stderr",
     "output_type": "stream",
     "text": [
      "Epoch 18 [Training..]: 100%|██████████| 1329/1329 [00:08<00:00, 148.87it/s, Loss=0.203, Accuracy=0.928]\n",
      "Epoch 18 [Validating]: 100%|██████████| 235/235 [00:00<00:00, 263.08it/s, Loss=0.989, Accuracy=0.766]\n"
     ]
    },
    {
     "name": "stdout",
     "output_type": "stream",
     "text": [
      "Epoch 18/30, Train Loss: 0.2031 Train Accuracy: 0.9282 , Val Loss: 0.9886 Val Accuracy: 0.7663\n"
     ]
    },
    {
     "name": "stderr",
     "output_type": "stream",
     "text": [
      "Epoch 19 [Training..]: 100%|██████████| 1329/1329 [00:08<00:00, 149.28it/s, Loss=0.178, Accuracy=0.936]\n",
      "Epoch 19 [Validating]: 100%|██████████| 235/235 [00:00<00:00, 245.11it/s, Loss=0.993, Accuracy=0.773]\n"
     ]
    },
    {
     "name": "stdout",
     "output_type": "stream",
     "text": [
      "Epoch 19/30, Train Loss: 0.1776 Train Accuracy: 0.9363 , Val Loss: 0.9927 Val Accuracy: 0.7732\n"
     ]
    },
    {
     "name": "stderr",
     "output_type": "stream",
     "text": [
      "Epoch 20 [Training..]: 100%|██████████| 1329/1329 [00:08<00:00, 148.70it/s, Loss=0.164, Accuracy=0.942]\n",
      "Epoch 20 [Validating]: 100%|██████████| 235/235 [00:00<00:00, 256.46it/s, Loss=1.08, Accuracy=0.762]\n"
     ]
    },
    {
     "name": "stdout",
     "output_type": "stream",
     "text": [
      "Epoch 20/30, Train Loss: 0.1640 Train Accuracy: 0.9419 , Val Loss: 1.0794 Val Accuracy: 0.7616\n"
     ]
    },
    {
     "name": "stderr",
     "output_type": "stream",
     "text": [
      "Epoch 21 [Training..]: 100%|██████████| 1329/1329 [00:08<00:00, 150.99it/s, Loss=0.148, Accuracy=0.947]\n",
      "Epoch 21 [Validating]: 100%|██████████| 235/235 [00:00<00:00, 240.36it/s, Loss=1, Accuracy=0.768]\n"
     ]
    },
    {
     "name": "stdout",
     "output_type": "stream",
     "text": [
      "Epoch 21/30, Train Loss: 0.1476 Train Accuracy: 0.9472 , Val Loss: 1.0030 Val Accuracy: 0.7680\n"
     ]
    },
    {
     "name": "stderr",
     "output_type": "stream",
     "text": [
      "Epoch 22 [Training..]: 100%|██████████| 1329/1329 [00:08<00:00, 149.54it/s, Loss=0.141, Accuracy=0.949]\n",
      "Epoch 22 [Validating]: 100%|██████████| 235/235 [00:00<00:00, 251.40it/s, Loss=1.24, Accuracy=0.763]\n"
     ]
    },
    {
     "name": "stdout",
     "output_type": "stream",
     "text": [
      "Epoch 22/30, Train Loss: 0.1414 Train Accuracy: 0.9491 , Val Loss: 1.2410 Val Accuracy: 0.7629\n"
     ]
    },
    {
     "name": "stderr",
     "output_type": "stream",
     "text": [
      "Epoch 23 [Training..]: 100%|██████████| 1329/1329 [00:08<00:00, 148.21it/s, Loss=0.128, Accuracy=0.955]\n",
      "Epoch 23 [Validating]: 100%|██████████| 235/235 [00:00<00:00, 262.96it/s, Loss=1.1, Accuracy=0.768]\n"
     ]
    },
    {
     "name": "stdout",
     "output_type": "stream",
     "text": [
      "Epoch 23/30, Train Loss: 0.1280 Train Accuracy: 0.9553 , Val Loss: 1.0985 Val Accuracy: 0.7677\n"
     ]
    },
    {
     "name": "stderr",
     "output_type": "stream",
     "text": [
      "Epoch 24 [Training..]: 100%|██████████| 1329/1329 [00:08<00:00, 148.67it/s, Loss=0.112, Accuracy=0.961]\n",
      "Epoch 24 [Validating]: 100%|██████████| 235/235 [00:00<00:00, 244.59it/s, Loss=1.25, Accuracy=0.762]\n"
     ]
    },
    {
     "name": "stdout",
     "output_type": "stream",
     "text": [
      "Epoch 24/30, Train Loss: 0.1124 Train Accuracy: 0.9607 , Val Loss: 1.2450 Val Accuracy: 0.7617\n"
     ]
    },
    {
     "name": "stderr",
     "output_type": "stream",
     "text": [
      "Epoch 25 [Training..]: 100%|██████████| 1329/1329 [00:08<00:00, 150.51it/s, Loss=0.118, Accuracy=0.958]\n",
      "Epoch 25 [Validating]: 100%|██████████| 235/235 [00:00<00:00, 249.02it/s, Loss=1.23, Accuracy=0.774]\n"
     ]
    },
    {
     "name": "stdout",
     "output_type": "stream",
     "text": [
      "Epoch 25/30, Train Loss: 0.1182 Train Accuracy: 0.9576 , Val Loss: 1.2284 Val Accuracy: 0.7743\n"
     ]
    },
    {
     "name": "stderr",
     "output_type": "stream",
     "text": [
      "Epoch 26 [Training..]: 100%|██████████| 1329/1329 [00:08<00:00, 149.91it/s, Loss=0.111, Accuracy=0.96]\n",
      "Epoch 26 [Validating]: 100%|██████████| 235/235 [00:00<00:00, 262.64it/s, Loss=1.23, Accuracy=0.768]\n"
     ]
    },
    {
     "name": "stdout",
     "output_type": "stream",
     "text": [
      "Epoch 26/30, Train Loss: 0.1106 Train Accuracy: 0.9605 , Val Loss: 1.2275 Val Accuracy: 0.7684\n"
     ]
    },
    {
     "name": "stderr",
     "output_type": "stream",
     "text": [
      "Epoch 27 [Training..]: 100%|██████████| 1329/1329 [00:08<00:00, 150.29it/s, Loss=0.0993, Accuracy=0.965]\n",
      "Epoch 27 [Validating]: 100%|██████████| 235/235 [00:00<00:00, 249.22it/s, Loss=1.28, Accuracy=0.775]\n"
     ]
    },
    {
     "name": "stdout",
     "output_type": "stream",
     "text": [
      "Epoch 27/30, Train Loss: 0.0993 Train Accuracy: 0.9650 , Val Loss: 1.2767 Val Accuracy: 0.7755\n"
     ]
    },
    {
     "name": "stderr",
     "output_type": "stream",
     "text": [
      "Epoch 28 [Training..]: 100%|██████████| 1329/1329 [00:08<00:00, 150.74it/s, Loss=0.11, Accuracy=0.962]\n",
      "Epoch 28 [Validating]: 100%|██████████| 235/235 [00:00<00:00, 258.59it/s, Loss=1.4, Accuracy=0.759]\n"
     ]
    },
    {
     "name": "stdout",
     "output_type": "stream",
     "text": [
      "Epoch 28/30, Train Loss: 0.1096 Train Accuracy: 0.9618 , Val Loss: 1.4038 Val Accuracy: 0.7592\n"
     ]
    },
    {
     "name": "stderr",
     "output_type": "stream",
     "text": [
      "Epoch 29 [Training..]: 100%|██████████| 1329/1329 [00:08<00:00, 149.93it/s, Loss=0.101, Accuracy=0.964]\n",
      "Epoch 29 [Validating]: 100%|██████████| 235/235 [00:00<00:00, 255.98it/s, Loss=1.27, Accuracy=0.774]\n"
     ]
    },
    {
     "name": "stdout",
     "output_type": "stream",
     "text": [
      "Epoch 29/30, Train Loss: 0.1007 Train Accuracy: 0.9639 , Val Loss: 1.2743 Val Accuracy: 0.7743\n"
     ]
    },
    {
     "name": "stderr",
     "output_type": "stream",
     "text": [
      "Epoch 30 [Training..]: 100%|██████████| 1329/1329 [00:08<00:00, 153.04it/s, Loss=0.097, Accuracy=0.966]\n",
      "Epoch 30 [Validating]: 100%|██████████| 235/235 [00:00<00:00, 238.97it/s, Loss=1.43, Accuracy=0.771]"
     ]
    },
    {
     "name": "stdout",
     "output_type": "stream",
     "text": [
      "Epoch 30/30, Train Loss: 0.0970 Train Accuracy: 0.9660 , Val Loss: 1.4276 Val Accuracy: 0.7709\n"
     ]
    },
    {
     "name": "stderr",
     "output_type": "stream",
     "text": [
      "\n"
     ]
    }
   ],
   "source": [
    "import torch \n",
    "import torch.nn as nn\n",
    "from torch.optim import SGD, Adam\n",
    "\n",
    "NUM_INPUT_CHANNELS = 3\n",
    "NUM_CLASSES = 10\n",
    "\n",
    "# A new model needs to be created. Using a previously trained model would use its already learned parameters.\n",
    "model = SimpleCNN(num_classes=NUM_CLASSES)\n",
    "device = torch.device('cuda' if torch.cuda.is_available() else 'cpu')\n",
    "optimizer = Adam(model.parameters(), lr=0.001)\n",
    "loss_fn = nn.CrossEntropyLoss()\n",
    "\n",
    "trainer = Trainer(model=model, loss_fn=loss_fn, optimizer=optimizer, \n",
    "        train_loader = tr_loader, val_loader=val_loader, device=device)\n",
    "\n",
    "# Perform training and evaluation\n",
    "history = trainer.fit(30)\n"
   ]
  },
  {
   "cell_type": "code",
   "execution_count": 23,
   "id": "451ae2ee",
   "metadata": {
    "execution": {
     "iopub.execute_input": "2025-08-31T01:29:59.876308Z",
     "iopub.status.busy": "2025-08-31T01:29:59.876010Z",
     "iopub.status.idle": "2025-08-31T01:30:00.040066Z",
     "shell.execute_reply": "2025-08-31T01:30:00.039387Z"
    },
    "papermill": {
     "duration": 0.388582,
     "end_time": "2025-08-31T01:30:00.041323",
     "exception": false,
     "start_time": "2025-08-31T01:29:59.652741",
     "status": "completed"
    },
    "tags": []
   },
   "outputs": [
    {
     "data": {
      "image/png": "[encoded data removed]",
      "text/plain": [
       "<Figure size 640x480 with 1 Axes>"
      ]
     },
     "metadata": {},
     "output_type": "display_data"
    }
   ],
   "source": [
    "import matplotlib.pyplot as plt\n",
    "\n",
    "# Visualize\n",
    "def show_history(history, metric='acc'):\n",
    "    if metric == 'loss':\n",
    "        train_metric_name = 'train_loss'\n",
    "        val_metric_name = 'val_loss'\n",
    "    else:\n",
    "        train_metric_name = 'train_acc'\n",
    "        val_metric_name = 'val_acc'\n",
    "        \n",
    "    plt.plot(history[train_metric_name], label='train')\n",
    "    plt.plot(history[val_metric_name], label='valid')\n",
    "    plt.legend()\n",
    "    \n",
    "show_history(history, metric='acc')"
   ]
  },
  {
   "cell_type": "code",
   "execution_count": 24,
   "id": "11f2885b",
   "metadata": {
    "execution": {
     "iopub.execute_input": "2025-08-31T01:30:00.478655Z",
     "iopub.status.busy": "2025-08-31T01:30:00.478092Z",
     "iopub.status.idle": "2025-08-31T01:30:00.485807Z",
     "shell.execute_reply": "2025-08-31T01:30:00.485296Z"
    },
    "papermill": {
     "duration": 0.226593,
     "end_time": "2025-08-31T01:30:00.486832",
     "exception": false,
     "start_time": "2025-08-31T01:30:00.260239",
     "status": "completed"
    },
    "tags": []
   },
   "outputs": [],
   "source": [
    "class Predictor:\n",
    "    def __init__(self, model, device):\n",
    "        self.model = model.to(device)\n",
    "        self.device = device\n",
    "\n",
    "    def evaluate(self, loader):\n",
    "        self.model.eval()\n",
    "        eval_metric = 0.0\n",
    "        \n",
    "        num_total = 0.0\n",
    "        accu_num_correct = 0.0\n",
    "\n",
    "        with tqdm(total=len(loader), desc=f\"[Evaluating]\", leave=True) as progress_bar:\n",
    "            with torch.no_grad():\n",
    "                for batch_idx, (inputs, targets) in enumerate(loader):\n",
    "                    inputs = inputs.to(self.device)\n",
    "                    targets = targets.to(self.device)\n",
    "                    pred = self.model(inputs)\n",
    " \n",
    "                    num_correct = (pred.argmax(-1) == targets).sum().item()\n",
    "                    num_total += inputs.shape[0]\n",
    "                    accu_num_correct += num_correct\n",
    "                    eval_metric = accu_num_correct / num_total\n",
    "\n",
    "                    progress_bar.update(1)\n",
    "                    if batch_idx % 20 == 0 or (batch_idx + 1) == progress_bar.total:\n",
    "                        progress_bar.set_postfix({\"Accuracy\": eval_metric})\n",
    "        \n",
    "        return eval_metric\n",
    "\n",
    "    def predict_proba(self, inputs):\n",
    "        self.model.eval()\n",
    "        with torch.no_grad():\n",
    "            inputs = inputs.to(self.device)\n",
    "            outputs = self.model(inputs)\n",
    "            #targets = targets.to(self.device)\n",
    "            pred_proba = F.softmax(outputs, dim=-1) \n",
    "\n",
    "        return pred_proba\n",
    "\n",
    "    def predict(self, inputs):\n",
    "        pred_proba = self.predict_proba(inputs)\n",
    "        pred_class = torch.argmax(pred_proba, dim=-1)\n",
    "\n",
    "        return pred_class"
   ]
  },
  {
   "cell_type": "code",
   "execution_count": 25,
   "id": "a4172d01",
   "metadata": {
    "execution": {
     "iopub.execute_input": "2025-08-31T01:30:00.984614Z",
     "iopub.status.busy": "2025-08-31T01:30:00.984323Z",
     "iopub.status.idle": "2025-08-31T01:30:02.158598Z",
     "shell.execute_reply": "2025-08-31T01:30:02.157601Z"
    },
    "papermill": {
     "duration": 1.396792,
     "end_time": "2025-08-31T01:30:02.159825",
     "exception": false,
     "start_time": "2025-08-31T01:30:00.763033",
     "status": "completed"
    },
    "tags": []
   },
   "outputs": [
    {
     "name": "stderr",
     "output_type": "stream",
     "text": [
      "[Evaluating]: 100%|██████████| 313/313 [00:01<00:00, 268.48it/s, Accuracy=0.768]"
     ]
    },
    {
     "name": "stdout",
     "output_type": "stream",
     "text": [
      "test dataset evaluation:0.7677\n"
     ]
    },
    {
     "name": "stderr",
     "output_type": "stream",
     "text": [
      "\n"
     ]
    }
   ],
   "source": [
    "trained_model = trainer.get_trained_model()\n",
    " \n",
    "# test_dataset = CIFAR10(root='./data', train=False, download=True, transform=ToTensor())\n",
    "# test_loader = DataLoader(test_dataset, batch_size=32, shuffle=False, num_workers=4)\n",
    "\n",
    "predictor = Predictor(model=trained_model, device=device)\n",
    "eval_metric = predictor.evaluate(test_loader)\n",
    "print(f'test dataset evaluation:{eval_metric:.4f}')"
   ]
  },
  {
   "cell_type": "code",
   "execution_count": 26,
   "id": "ec92d163",
   "metadata": {
    "execution": {
     "iopub.execute_input": "2025-08-31T01:30:02.616353Z",
     "iopub.status.busy": "2025-08-31T01:30:02.615518Z",
     "iopub.status.idle": "2025-08-31T01:30:02.740208Z",
     "shell.execute_reply": "2025-08-31T01:30:02.739219Z"
    },
    "papermill": {
     "duration": 0.354734,
     "end_time": "2025-08-31T01:30:02.741500",
     "exception": false,
     "start_time": "2025-08-31T01:30:02.386766",
     "status": "completed"
    },
    "tags": []
   },
   "outputs": [
    {
     "name": "stdout",
     "output_type": "stream",
     "text": [
      "target value: 3\n"
     ]
    },
    {
     "data": {
      "image/png": "[encoded data removed]",
      "text/plain": [
       "<Figure size 100x100 with 1 Axes>"
      ]
     },
     "metadata": {},
     "output_type": "display_data"
    }
   ],
   "source": [
    "class_names = ['airplane', 'automobile', 'bird', 'cat', 'deer', 'dog', 'frog', 'horse', 'ship', 'truck']\n",
    "plt.figure(figsize=(1, 1))\n",
    "plt.imshow(test_dataset.data[0])\n",
    "plt.title(class_names[test_dataset.targets[0]])\n",
    "\n",
    "print('target value:', test_dataset.targets[0])"
   ]
  },
  {
   "cell_type": "code",
   "execution_count": 27,
   "id": "4d8c3ad3",
   "metadata": {
    "execution": {
     "iopub.execute_input": "2025-08-31T01:30:03.268856Z",
     "iopub.status.busy": "2025-08-31T01:30:03.268550Z",
     "iopub.status.idle": "2025-08-31T01:30:03.277327Z",
     "shell.execute_reply": "2025-08-31T01:30:03.276725Z"
    },
    "papermill": {
     "duration": 0.306055,
     "end_time": "2025-08-31T01:30:03.278467",
     "exception": false,
     "start_time": "2025-08-31T01:30:02.972412",
     "status": "completed"
    },
    "tags": []
   },
   "outputs": [
    {
     "data": {
      "text/plain": [
       "(tensor([[[0.6196, 0.6235, 0.6471,  ..., 0.5373, 0.4941, 0.4549],\n",
       "          [0.5961, 0.5922, 0.6235,  ..., 0.5333, 0.4902, 0.4667],\n",
       "          [0.5922, 0.5922, 0.6196,  ..., 0.5451, 0.5098, 0.4706],\n",
       "          ...,\n",
       "          [0.2667, 0.1647, 0.1216,  ..., 0.1490, 0.0510, 0.1569],\n",
       "          [0.2392, 0.1922, 0.1373,  ..., 0.1020, 0.1137, 0.0784],\n",
       "          [0.2118, 0.2196, 0.1765,  ..., 0.0941, 0.1333, 0.0824]],\n",
       " \n",
       "         [[0.4392, 0.4353, 0.4549,  ..., 0.3725, 0.3569, 0.3333],\n",
       "          [0.4392, 0.4314, 0.4471,  ..., 0.3725, 0.3569, 0.3451],\n",
       "          [0.4314, 0.4275, 0.4353,  ..., 0.3843, 0.3725, 0.3490],\n",
       "          ...,\n",
       "          [0.4863, 0.3922, 0.3451,  ..., 0.3804, 0.2510, 0.3333],\n",
       "          [0.4549, 0.4000, 0.3333,  ..., 0.3216, 0.3216, 0.2510],\n",
       "          [0.4196, 0.4118, 0.3490,  ..., 0.3020, 0.3294, 0.2627]],\n",
       " \n",
       "         [[0.1922, 0.1843, 0.2000,  ..., 0.1412, 0.1412, 0.1294],\n",
       "          [0.2000, 0.1569, 0.1765,  ..., 0.1216, 0.1255, 0.1333],\n",
       "          [0.1843, 0.1294, 0.1412,  ..., 0.1333, 0.1333, 0.1294],\n",
       "          ...,\n",
       "          [0.6941, 0.5804, 0.5373,  ..., 0.5725, 0.4235, 0.4980],\n",
       "          [0.6588, 0.5804, 0.5176,  ..., 0.5098, 0.4941, 0.4196],\n",
       "          [0.6275, 0.5843, 0.5176,  ..., 0.4863, 0.5059, 0.4314]]]),\n",
       " 3)"
      ]
     },
     "execution_count": 27,
     "metadata": {},
     "output_type": "execute_result"
    }
   ],
   "source": [
    "test_dataset[0]"
   ]
  },
  {
   "cell_type": "code",
   "execution_count": 28,
   "id": "3292c32d",
   "metadata": {
    "execution": {
     "iopub.execute_input": "2025-08-31T01:30:03.731918Z",
     "iopub.status.busy": "2025-08-31T01:30:03.731644Z",
     "iopub.status.idle": "2025-08-31T01:30:03.736884Z",
     "shell.execute_reply": "2025-08-31T01:30:03.736245Z"
    },
    "papermill": {
     "duration": 0.234988,
     "end_time": "2025-08-31T01:30:03.737964",
     "exception": false,
     "start_time": "2025-08-31T01:30:03.502976",
     "status": "completed"
    },
    "tags": []
   },
   "outputs": [
    {
     "data": {
      "text/plain": [
       "torch.Size([3, 32, 32])"
      ]
     },
     "execution_count": 28,
     "metadata": {},
     "output_type": "execute_result"
    }
   ],
   "source": [
    "test_dataset[0][0].shape"
   ]
  },
  {
   "cell_type": "code",
   "execution_count": 29,
   "id": "15b31374",
   "metadata": {
    "execution": {
     "iopub.execute_input": "2025-08-31T01:30:04.185932Z",
     "iopub.status.busy": "2025-08-31T01:30:04.185211Z",
     "iopub.status.idle": "2025-08-31T01:30:04.193764Z",
     "shell.execute_reply": "2025-08-31T01:30:04.192988Z"
    },
    "papermill": {
     "duration": 0.234512,
     "end_time": "2025-08-31T01:30:04.194914",
     "exception": false,
     "start_time": "2025-08-31T01:30:03.960402",
     "status": "completed"
    },
    "tags": []
   },
   "outputs": [
    {
     "name": "stdout",
     "output_type": "stream",
     "text": [
      "predicted class: 3\n"
     ]
    }
   ],
   "source": [
    "# The image to be predicted must be a tensor with 4 dimensions (batch dimension included). \n",
    "# Use unsqueeze(0) to add a batch dimension if needed.\n",
    "\n",
    "pred_class = predictor.predict(test_dataset[0][0].unsqueeze(0))\n",
    "print('predicted class:', pred_class.item())"
   ]
  },
  {
   "cell_type": "markdown",
   "id": "825a56b3",
   "metadata": {
    "papermill": {
     "duration": 0.223415,
     "end_time": "2025-08-31T01:30:04.695305",
     "exception": false,
     "start_time": "2025-08-31T01:30:04.471890",
     "status": "completed"
    },
    "tags": []
   },
   "source": [
    "### Calculating the Output Feature Map Size\n",
    "* Compute the size of the output feature map based on the input feature map size, convolution kernel size, stride, and padding.\n",
    "* Let I be the input feature map size, K the kernel size of the filter, P the padding (integer), and S the stride (integer).\n",
    "* The output size O is calculated as: O = (I - K + 2P)/S + 1\n"
   ]
  },
  {
   "cell_type": "markdown",
   "id": "49b95a40",
   "metadata": {
    "papermill": {
     "duration": 0.222011,
     "end_time": "2025-08-31T01:30:05.140549",
     "exception": false,
     "start_time": "2025-08-31T01:30:04.918538",
     "status": "completed"
    },
    "tags": []
   },
   "source": [
    "#### Case: Stride = 1 and No Padding, Kernel Size = 3\n",
    "* Let I be the input feature map size, K the filter's kernel size, P the padding (integer), and S the stride (integer).\n",
    "* Output size: O = (I - K + 2P)/1 + 1 = (5 - 3 + 0)/1 + 1 = 3\n"
   ]
  },
  {
   "cell_type": "code",
   "execution_count": 30,
   "id": "1a509649",
   "metadata": {
    "execution": {
     "iopub.execute_input": "2025-08-31T01:30:05.658647Z",
     "iopub.status.busy": "2025-08-31T01:30:05.658302Z",
     "iopub.status.idle": "2025-08-31T01:30:05.664776Z",
     "shell.execute_reply": "2025-08-31T01:30:05.664004Z"
    },
    "papermill": {
     "duration": 0.305715,
     "end_time": "2025-08-31T01:30:05.666017",
     "exception": false,
     "start_time": "2025-08-31T01:30:05.360302",
     "status": "completed"
    },
    "tags": []
   },
   "outputs": [
    {
     "name": "stdout",
     "output_type": "stream",
     "text": [
      "torch.Size([16, 3, 3])\n"
     ]
    }
   ],
   "source": [
    "import torch.nn as nn\n",
    "import torch\n",
    "\n",
    "input = torch.randn(1, 5, 5)\n",
    "conv1 = nn.Conv2d(in_channels=1, out_channels=16, kernel_size=3, stride=1, padding=0) #kernel_size=5로 적용\n",
    "output = conv1(input)\n",
    "print(output.shape)"
   ]
  },
  {
   "cell_type": "markdown",
   "id": "ca0e711b",
   "metadata": {
    "papermill": {
     "duration": 0.217517,
     "end_time": "2025-08-31T01:30:06.146969",
     "exception": false,
     "start_time": "2025-08-31T01:30:05.929452",
     "status": "completed"
    },
    "tags": []
   },
   "source": [
    "#### Stride = 1 Padding = 1\n",
    "* O = (I - F + 2P)/S + 1 = (5 - 3 + 2 )/1 + 1 = 5"
   ]
  },
  {
   "cell_type": "code",
   "execution_count": 31,
   "id": "28d575fd",
   "metadata": {
    "execution": {
     "iopub.execute_input": "2025-08-31T01:30:06.582806Z",
     "iopub.status.busy": "2025-08-31T01:30:06.582219Z",
     "iopub.status.idle": "2025-08-31T01:30:06.587763Z",
     "shell.execute_reply": "2025-08-31T01:30:06.586966Z"
    },
    "papermill": {
     "duration": 0.226287,
     "end_time": "2025-08-31T01:30:06.588860",
     "exception": false,
     "start_time": "2025-08-31T01:30:06.362573",
     "status": "completed"
    },
    "tags": []
   },
   "outputs": [
    {
     "name": "stdout",
     "output_type": "stream",
     "text": [
      "torch.Size([16, 5, 5])\n"
     ]
    }
   ],
   "source": [
    "input = torch.randn(1, 5, 5)\n",
    "conv1 = nn.Conv2d(in_channels=1, out_channels=16, kernel_size=3, padding=1) #padding='same'으로 적용 \n",
    "output = conv1(input)\n",
    "print(output.shape)"
   ]
  },
  {
   "cell_type": "code",
   "execution_count": 32,
   "id": "40fd1adb",
   "metadata": {
    "execution": {
     "iopub.execute_input": "2025-08-31T01:30:07.084104Z",
     "iopub.status.busy": "2025-08-31T01:30:07.083838Z",
     "iopub.status.idle": "2025-08-31T01:30:07.090981Z",
     "shell.execute_reply": "2025-08-31T01:30:07.090241Z"
    },
    "papermill": {
     "duration": 0.228303,
     "end_time": "2025-08-31T01:30:07.092183",
     "exception": false,
     "start_time": "2025-08-31T01:30:06.863880",
     "status": "completed"
    },
    "tags": []
   },
   "outputs": [
    {
     "name": "stdout",
     "output_type": "stream",
     "text": [
      "padded input shape: torch.Size([1, 7, 7])\n",
      "torch.Size([16, 5, 5])\n"
     ]
    }
   ],
   "source": [
    "# Zero Padding \n",
    "input = torch.randn(1, 5, 5)\n",
    "padding_layer = nn.ZeroPad2d(padding=1)\n",
    "padded_input = padding_layer(input)\n",
    "print('padded input shape:', padded_input.shape)\n",
    "\n",
    "conv1 = nn.Conv2d(in_channels=1, out_channels=16, kernel_size=3)\n",
    "output = conv1(padded_input)\n",
    "print(output.shape)"
   ]
  },
  {
   "cell_type": "markdown",
   "id": "b88d3e2f",
   "metadata": {
    "papermill": {
     "duration": 0.22482,
     "end_time": "2025-08-31T01:30:07.539984",
     "exception": false,
     "start_time": "2025-08-31T01:30:07.315164",
     "status": "completed"
    },
    "tags": []
   },
   "source": [
    "#### Applying Asymmetric Padding\n",
    "* Conv2d allows specifying padding as a tuple. For example, `padding=(1, 2)` means 1 pixel for top/bottom and 2 pixels for left/right.\n",
    "* To apply different padding values for top vs bottom or left vs right, use `nn.ZeroPad2d` or the `F.pad()` function.\n"
   ]
  },
  {
   "cell_type": "code",
   "execution_count": 33,
   "id": "9c11343b",
   "metadata": {
    "execution": {
     "iopub.execute_input": "2025-08-31T01:30:08.066602Z",
     "iopub.status.busy": "2025-08-31T01:30:08.066294Z",
     "iopub.status.idle": "2025-08-31T01:30:08.072321Z",
     "shell.execute_reply": "2025-08-31T01:30:08.071629Z"
    },
    "papermill": {
     "duration": 0.232134,
     "end_time": "2025-08-31T01:30:08.073502",
     "exception": false,
     "start_time": "2025-08-31T01:30:07.841368",
     "status": "completed"
    },
    "tags": []
   },
   "outputs": [
    {
     "name": "stdout",
     "output_type": "stream",
     "text": [
      "torch.Size([16, 5, 7])\n"
     ]
    }
   ],
   "source": [
    "input = torch.randn(1, 5, 5)\n",
    "# Conv2d with asymmetric padding: first value for top/bottom, second for left/right\n",
    "conv1 = nn.Conv2d(in_channels=1, out_channels=16, kernel_size=3, padding=(1, 2)) \n",
    "output = conv1(input)  # output shape after conv\n",
    "print(output.shape)  # prints: torch.Size([16, 7, 9]) (16 channels, height=7, width=9)\n"
   ]
  },
  {
   "cell_type": "code",
   "execution_count": 34,
   "id": "94f643cf",
   "metadata": {
    "execution": {
     "iopub.execute_input": "2025-08-31T01:30:08.529803Z",
     "iopub.status.busy": "2025-08-31T01:30:08.529196Z",
     "iopub.status.idle": "2025-08-31T01:30:08.535599Z",
     "shell.execute_reply": "2025-08-31T01:30:08.534840Z"
    },
    "papermill": {
     "duration": 0.233104,
     "end_time": "2025-08-31T01:30:08.536830",
     "exception": false,
     "start_time": "2025-08-31T01:30:08.303726",
     "status": "completed"
    },
    "tags": []
   },
   "outputs": [
    {
     "name": "stdout",
     "output_type": "stream",
     "text": [
      "padded input shape: torch.Size([1, 7, 6])\n",
      "torch.Size([16, 5, 4])\n"
     ]
    }
   ],
   "source": [
    "# Zero Padding \n",
    "input = torch.randn(1, 5, 5)\n",
    "#padding = (left, right, top, bottom)\n",
    "padding_layer = nn.ZeroPad2d(padding=(0, 1, 0, 2))\n",
    "padded_input = padding_layer(input)\n",
    "print('padded input shape:', padded_input.shape)\n",
    "\n",
    "conv1 = nn.Conv2d(in_channels=1, out_channels=16, kernel_size=3)\n",
    "output = conv1(padded_input)\n",
    "print(output.shape)"
   ]
  },
  {
   "cell_type": "markdown",
   "id": "c90a547a",
   "metadata": {
    "papermill": {
     "duration": 0.274459,
     "end_time": "2025-08-31T01:30:09.047008",
     "exception": false,
     "start_time": "2025-08-31T01:30:08.772549",
     "status": "completed"
    },
    "tags": []
   },
   "source": [
    "### Applying Kernel with Stride on 6×6 Input\n",
    "\n",
    "* Input size `I = 6`, Kernel size `K = 3`, Stride `S = 2`, Padding `P = 0`\n",
    "* Output size formula: `O = (I - K + 2P)/S + 1 = (6 - 3 + 0)/2 + 1 = 2.5 → 2`\n",
    "* When using stride > 1, convolution may not fully cover the edges of the input. To avoid losing information at the borders, padding is usually added.\n"
   ]
  },
  {
   "cell_type": "code",
   "execution_count": 35,
   "id": "2b5131e2",
   "metadata": {
    "execution": {
     "iopub.execute_input": "2025-08-31T01:30:09.487542Z",
     "iopub.status.busy": "2025-08-31T01:30:09.487011Z",
     "iopub.status.idle": "2025-08-31T01:30:09.492522Z",
     "shell.execute_reply": "2025-08-31T01:30:09.491836Z"
    },
    "papermill": {
     "duration": 0.227272,
     "end_time": "2025-08-31T01:30:09.493767",
     "exception": false,
     "start_time": "2025-08-31T01:30:09.266495",
     "status": "completed"
    },
    "tags": []
   },
   "outputs": [
    {
     "name": "stdout",
     "output_type": "stream",
     "text": [
      "torch.Size([16, 2, 2])\n"
     ]
    }
   ],
   "source": [
    "input = torch.randn(1, 6, 6)\n",
    "conv1 = nn.Conv2d(in_channels=1, out_channels=16, kernel_size=3, stride=2) \n",
    "output = conv1(input)\n",
    "print(output.shape)"
   ]
  },
  {
   "cell_type": "code",
   "execution_count": 36,
   "id": "9bb7689b",
   "metadata": {
    "execution": {
     "iopub.execute_input": "2025-08-31T01:30:10.010481Z",
     "iopub.status.busy": "2025-08-31T01:30:10.010183Z",
     "iopub.status.idle": "2025-08-31T01:30:10.015640Z",
     "shell.execute_reply": "2025-08-31T01:30:10.014921Z"
    },
    "papermill": {
     "duration": 0.280839,
     "end_time": "2025-08-31T01:30:10.016768",
     "exception": false,
     "start_time": "2025-08-31T01:30:09.735929",
     "status": "completed"
    },
    "tags": []
   },
   "outputs": [
    {
     "name": "stdout",
     "output_type": "stream",
     "text": [
      "torch.Size([16, 3, 3])\n"
     ]
    }
   ],
   "source": [
    "input = torch.randn(1, 6, 6)\n",
    "conv1 = nn.Conv2d(in_channels=1, out_channels=16, kernel_size=3, stride=2, padding=(1, 1)) \n",
    "output = conv1(input)\n",
    "print(output.shape)"
   ]
  },
  {
   "cell_type": "markdown",
   "id": "0779c037",
   "metadata": {
    "papermill": {
     "duration": 0.221841,
     "end_time": "2025-08-31T01:30:10.464654",
     "exception": false,
     "start_time": "2025-08-31T01:30:10.242813",
     "status": "completed"
    },
    "tags": []
   },
   "source": [
    "### Apply Maxpooling"
   ]
  },
  {
   "cell_type": "code",
   "execution_count": 37,
   "id": "fe3acb5f",
   "metadata": {
    "execution": {
     "iopub.execute_input": "2025-08-31T01:30:10.919072Z",
     "iopub.status.busy": "2025-08-31T01:30:10.918802Z",
     "iopub.status.idle": "2025-08-31T01:30:10.924194Z",
     "shell.execute_reply": "2025-08-31T01:30:10.923480Z"
    },
    "papermill": {
     "duration": 0.234444,
     "end_time": "2025-08-31T01:30:10.925363",
     "exception": false,
     "start_time": "2025-08-31T01:30:10.690919",
     "status": "completed"
    },
    "tags": []
   },
   "outputs": [
    {
     "name": "stdout",
     "output_type": "stream",
     "text": [
      "torch.Size([1, 112, 112])\n"
     ]
    }
   ],
   "source": [
    "input = torch.randn(1, 224, 224) # (1, 223, 223)\n",
    "max_pool = nn.MaxPool2d(kernel_size=2, stride=2) \n",
    "output = max_pool(input)\n",
    "print(output.shape)"
   ]
  },
  {
   "cell_type": "code",
   "execution_count": null,
   "id": "86ff544c",
   "metadata": {
    "papermill": {
     "duration": 0.223814,
     "end_time": "2025-08-31T01:30:11.441188",
     "exception": false,
     "start_time": "2025-08-31T01:30:11.217374",
     "status": "completed"
    },
    "tags": []
   },
   "outputs": [],
   "source": []
  }
 ],
 "metadata": {
  "kaggle": {
   "accelerator": "gpu",
   "dataSources": [],
   "dockerImageVersionId": 31090,
   "isGpuEnabled": true,
   "isInternetEnabled": true,
   "language": "python",
   "sourceType": "notebook"
  },
  "kernelspec": {
   "display_name": "Python 3",
   "language": "python",
   "name": "python3"
  },
  "language_info": {
   "codemirror_mode": {
    "name": "ipython",
    "version": 3
   },
   "file_extension": ".py",
   "mimetype": "text/x-python",
   "name": "python",
   "nbconvert_exporter": "python",
   "pygments_lexer": "ipython3",
   "version": "3.11.13"
  },
  "papermill": {
   "default_parameters": {},
   "duration": 343.28276,
   "end_time": "2025-08-31T01:30:13.488590",
   "environment_variables": {},
   "exception": null,
   "input_path": "__notebook__.ipynb",
   "output_path": "__notebook__.ipynb",
   "parameters": {},
   "start_time": "2025-08-31T01:24:30.205830",
   "version": "2.6.0"
  }
 },
 "nbformat": 4,
 "nbformat_minor": 5
}
