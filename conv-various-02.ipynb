{
 "cells": [
  {
   "cell_type": "markdown",
   "id": "be05e1ed",
   "metadata": {
    "papermill": {
     "duration": 0.005234,
     "end_time": "2025-08-31T16:29:11.692287",
     "exception": false,
     "start_time": "2025-08-31T16:29:11.687053",
     "status": "completed"
    },
    "tags": []
   },
   "source": [
    "### CIFAR10 Dataset and DataLoader Creation. Simple CNN Model Creation\n"
   ]
  },
  {
   "cell_type": "code",
   "execution_count": 1,
   "id": "db5facb8",
   "metadata": {
    "execution": {
     "iopub.execute_input": "2025-08-31T16:29:11.702393Z",
     "iopub.status.busy": "2025-08-31T16:29:11.701752Z",
     "iopub.status.idle": "2025-08-31T16:29:27.049715Z",
     "shell.execute_reply": "2025-08-31T16:29:27.048755Z"
    },
    "papermill": {
     "duration": 15.354245,
     "end_time": "2025-08-31T16:29:27.051034",
     "exception": false,
     "start_time": "2025-08-31T16:29:11.696789",
     "status": "completed"
    },
    "tags": []
   },
   "outputs": [
    {
     "name": "stderr",
     "output_type": "stream",
     "text": [
      "100%|██████████| 170M/170M [00:02<00:00, 59.5MB/s]\n"
     ]
    },
    {
     "name": "stdout",
     "output_type": "stream",
     "text": [
      "tr: 42500 valid: 7500\n"
     ]
    }
   ],
   "source": [
    "from torchvision.datasets import CIFAR10\n",
    "from torchvision.transforms import ToTensor\n",
    "from torch.utils.data import DataLoader\n",
    "from torch.utils.data import random_split\n",
    "\n",
    "train_dataset = CIFAR10(root='./data', train=True, download=True, transform=ToTensor())\n",
    "test_dataset = CIFAR10(root='./data', train=False, download=True, transform=ToTensor())\n",
    "\n",
    "tr_size = int(0.85 * len(train_dataset))\n",
    "val_size = len(train_dataset) - tr_size\n",
    "tr_dataset, val_dataset = random_split(train_dataset, [tr_size, val_size])\n",
    "print('tr:', len(tr_dataset), 'valid:', len(val_dataset))\n",
    "\n",
    "tr_loader = DataLoader(tr_dataset, batch_size=32, shuffle=True, num_workers=4)\n",
    "val_loader = DataLoader(val_dataset, batch_size=32, shuffle=False, num_workers=4)\n",
    "test_loader = DataLoader(test_dataset, batch_size=32, shuffle=False, num_workers=4)"
   ]
  },
  {
   "cell_type": "code",
   "execution_count": 2,
   "id": "6858208e",
   "metadata": {
    "execution": {
     "iopub.execute_input": "2025-08-31T16:29:27.063547Z",
     "iopub.status.busy": "2025-08-31T16:29:27.062967Z",
     "iopub.status.idle": "2025-08-31T16:29:27.071197Z",
     "shell.execute_reply": "2025-08-31T16:29:27.070702Z"
    },
    "papermill": {
     "duration": 0.015161,
     "end_time": "2025-08-31T16:29:27.072169",
     "exception": false,
     "start_time": "2025-08-31T16:29:27.057008",
     "status": "completed"
    },
    "tags": []
   },
   "outputs": [],
   "source": [
    "import torch\n",
    "import torch.nn as nn\n",
    "import torch.nn.functional as F\n",
    "# from torchinfo import summary\n",
    "\n",
    "NUM_INPUT_CHANNELS = 3\n",
    "\n",
    "class SimpleCNNWithBN(nn.Module):\n",
    "    def __init__(self, num_classes):\n",
    "        super().__init__()\n",
    "\n",
    "        self.conv_block_1 = self.create_convbn_block(first_channels=3, middle_channels=32, last_channels=32)\n",
    "\n",
    "        self.conv_block_2 = self.create_convbn_block(first_channels=32, middle_channels=64, last_channels=64)\n",
    "\n",
    "        self.conv_block_3 = self.create_convbn_block(first_channels=64, middle_channels=128, last_channels=128)\n",
    "\n",
    "        self.classifier_block = nn.Sequential(\n",
    "            nn.AdaptiveAvgPool2d(output_size=(1, 1)),\n",
    "            nn.Flatten(),\n",
    "            nn.Linear(in_features=128, out_features=num_classes)\n",
    "        )\n",
    "\n",
    "    def create_convbn_block(self, first_channels, middle_channels, last_channels):\n",
    "        conv_bn_block = nn.Sequential(\n",
    "            nn.Conv2d(in_channels=first_channels, out_channels=middle_channels, kernel_size=3, padding=1),\n",
    "            nn.BatchNorm2d(middle_channels),\n",
    "            nn.ReLU(),\n",
    "            nn.Conv2d(in_channels=middle_channels, out_channels=last_channels, kernel_size=3, padding=1),\n",
    "            nn.BatchNorm2d(last_channels),\n",
    "            nn.ReLU(),\n",
    "            nn.MaxPool2d(kernel_size=2)\n",
    "        )\n",
    "        return conv_bn_block\n",
    "\n",
    "    def forward(self, x):\n",
    "        x = self.conv_block_1(x)\n",
    "        x = self.conv_block_2(x)\n",
    "        x = self.conv_block_3(x)\n",
    "        x = self.classifier_block(x)\n",
    "\n",
    "        return x\n",
    "\n",
    "def create_do_classifier_block(first_features, second_features, first_dos, second_dos, num_classes=10):\n",
    "    return nn.Sequential(\n",
    "            nn.Flatten(),\n",
    "            nn.Dropout(p=first_dos),\n",
    "            nn.Linear(in_features=first_features, out_features=second_features),\n",
    "            nn.ReLU(),\n",
    "            nn.Dropout(p=second_dos),\n",
    "            nn.Linear(in_features=second_features, out_features=num_classes),\n",
    "        )\n"
   ]
  },
  {
   "cell_type": "markdown",
   "id": "45a42334",
   "metadata": {
    "papermill": {
     "duration": 0.005024,
     "end_time": "2025-08-31T16:29:27.082834",
     "exception": false,
     "start_time": "2025-08-31T16:29:27.077810",
     "status": "completed"
    },
    "tags": []
   },
   "source": [
    "### Various Learning Rate Schedulers\n",
    "\n",
    "* PyTorch provides various types of learning rate scheduler classes in `torch.optim.lr_scheduler`.\n",
    "* Some schedulers adjust the learning rate based on a validation metric, changing it each epoch according to specified conditions, while others change the learning rate following a preset pattern without using a validation metric.\n",
    "* `ReduceLROnPlateau` usually relies on a validation metric (e.g., loss). It monitors the metric at each epoch, and if the metric stops improving, it reduces the learning rate at the next training epoch.\n",
    "* Schedulers like `StepLR`, `CyclicLR`, and `CosineAnnealingLR` adjust the learning rate periodically according to a predefined pattern.\n"
   ]
  },
  {
   "cell_type": "markdown",
   "id": "4b83c18f",
   "metadata": {
    "papermill": {
     "duration": 0.004978,
     "end_time": "2025-08-31T16:29:27.093105",
     "exception": false,
     "start_time": "2025-08-31T16:29:27.088127",
     "status": "completed"
    },
    "tags": []
   },
   "source": [
    "### Creating and Applying a Learning Rate Scheduler\n",
    "\n",
    "* A learning rate (LR) scheduler requires an `Optimizer` object at initialization. This allows the scheduler to directly access the optimizer-managed parameters related to learning rate. Any LR changes must go through the optimizer.\n",
    "* The LR scheduler updates the learning rate by calling its `step()` method.\n",
    "* `scheduler.step()` should be called once per epoch (not per batch) and **after** `optimizer.step()`.\n",
    "* The current learning rate can be checked from the optimizer via `optimizer.param_groups[0]['lr']`, or from the scheduler using `scheduler.get_last_lr()[0]` or `scheduler.get_lr()[0]`.\n",
    "* `scheduler.get_last_lr()[0]` returns the learning rate **after** the last `scheduler.step()` call (the currently applied LR), while `scheduler.get_lr()[0]` returns the learning rate **to be applied** in the next `scheduler.step()` call.\n"
   ]
  },
  {
   "cell_type": "code",
   "execution_count": 3,
   "id": "b54d173a",
   "metadata": {
    "execution": {
     "iopub.execute_input": "2025-08-31T16:29:27.104507Z",
     "iopub.status.busy": "2025-08-31T16:29:27.104088Z",
     "iopub.status.idle": "2025-08-31T16:29:27.124131Z",
     "shell.execute_reply": "2025-08-31T16:29:27.123266Z"
    },
    "papermill": {
     "duration": 0.026805,
     "end_time": "2025-08-31T16:29:27.125125",
     "exception": false,
     "start_time": "2025-08-31T16:29:27.098320",
     "status": "completed"
    },
    "tags": []
   },
   "outputs": [
    {
     "name": "stdout",
     "output_type": "stream",
     "text": [
      "optimizer lr: 0.01\n",
      "get_last_lr(): 0.01\n",
      "get_lr(): 0.01\n",
      "optimizer lr: 0.005\n",
      "get_last_lr(): 0.005\n",
      "get_lr(): 0.0025\n"
     ]
    },
    {
     "name": "stderr",
     "output_type": "stream",
     "text": [
      "/usr/local/lib/python3.11/dist-packages/torch/optim/lr_scheduler.py:538: UserWarning: To get the last learning rate computed by the scheduler, please use `get_last_lr()`.\n",
      "  _warn_get_lr_called_within_step(self)\n",
      "/usr/local/lib/python3.11/dist-packages/torch/optim/lr_scheduler.py:227: UserWarning: Detected call of `lr_scheduler.step()` before `optimizer.step()`. In PyTorch 1.1.0 and later, you should call them in the opposite order: `optimizer.step()` before `lr_scheduler.step()`.  Failure to do this will result in PyTorch skipping the first value of the learning rate schedule. See more details at https://pytorch.org/docs/stable/optim.html#how-to-adjust-learning-rate\n",
      "  warnings.warn(\n"
     ]
    }
   ],
   "source": [
    "import torch\n",
    "import torch.nn as nn\n",
    "from torch.optim import SGD, Adam\n",
    "from torch.optim.lr_scheduler import StepLR, ReduceLROnPlateau\n",
    "\n",
    "NUM_CLASSES = 10\n",
    "\n",
    "sample_model = SimpleCNNWithBN(num_classes=NUM_CLASSES)\n",
    "# learning rate scheduler needs an optimizer so make an optimizer first\n",
    "optimizer = Adam(sample_model.parameters(), lr=0.01)\n",
    "scheduler = StepLR(optimizer, step_size=1, gamma=0.5)\n",
    "\n",
    "print('optimizer lr:', optimizer.param_groups[0]['lr'])#optimizer.param_groups[0].keys()\n",
    "print('get_last_lr():', scheduler.get_last_lr()[0])\n",
    "print('get_lr():', scheduler.get_lr()[0])\n",
    "\n",
    "scheduler.step()\n",
    "\n",
    "print('optimizer lr:', optimizer.param_groups[0]['lr'])#optimizer.param_groups[0].keys()\n",
    "print('get_last_lr():', scheduler.get_last_lr()[0])\n",
    "print('get_lr():', scheduler.get_lr()[0]) # next lr"
   ]
  },
  {
   "cell_type": "code",
   "execution_count": 4,
   "id": "99c12539",
   "metadata": {
    "execution": {
     "iopub.execute_input": "2025-08-31T16:29:27.138138Z",
     "iopub.status.busy": "2025-08-31T16:29:27.137630Z",
     "iopub.status.idle": "2025-08-31T16:29:27.142215Z",
     "shell.execute_reply": "2025-08-31T16:29:27.141699Z"
    },
    "papermill": {
     "duration": 0.011977,
     "end_time": "2025-08-31T16:29:27.143265",
     "exception": false,
     "start_time": "2025-08-31T16:29:27.131288",
     "status": "completed"
    },
    "tags": []
   },
   "outputs": [
    {
     "data": {
      "text/plain": [
       "dict_keys(['params', 'lr', 'betas', 'eps', 'weight_decay', 'amsgrad', 'maximize', 'foreach', 'capturable', 'differentiable', 'fused', 'initial_lr'])"
      ]
     },
     "execution_count": 4,
     "metadata": {},
     "output_type": "execute_result"
    }
   ],
   "source": [
    "optimizer.param_groups[0].keys()"
   ]
  },
  {
   "cell_type": "markdown",
   "id": "b86ebab0",
   "metadata": {
    "papermill": {
     "duration": 0.005331,
     "end_time": "2025-08-31T16:29:27.154152",
     "exception": false,
     "start_time": "2025-08-31T16:29:27.148821",
     "status": "completed"
    },
    "tags": []
   },
   "source": [
    "\n",
    "### Modify the Trainer class to apply Learning Rate Scheduler\n",
    "\n",
    "* `scheduler.step()` must be called at the end of each **epoch** (not per batch) and should be executed **after** `optimizer.step()`.\n",
    "* `ReduceLROnPlateau` is (mostly) applied during the **validation epoch**, and you need to pass an evaluation metric (e.g., `val_loss`) as an argument like `scheduler.step(val_loss)`.\n",
    "* Other LR schedulers are (mostly) applied during the **training epoch**, and they are executed simply by calling `scheduler.step()`."
   ]
  },
  {
   "cell_type": "code",
   "execution_count": 5,
   "id": "0eee99e7",
   "metadata": {
    "execution": {
     "iopub.execute_input": "2025-08-31T16:29:27.166193Z",
     "iopub.status.busy": "2025-08-31T16:29:27.166011Z",
     "iopub.status.idle": "2025-08-31T16:29:27.179255Z",
     "shell.execute_reply": "2025-08-31T16:29:27.178590Z"
    },
    "papermill": {
     "duration": 0.020923,
     "end_time": "2025-08-31T16:29:27.180395",
     "exception": false,
     "start_time": "2025-08-31T16:29:27.159472",
     "status": "completed"
    },
    "tags": []
   },
   "outputs": [],
   "source": [
    "from tqdm import tqdm\n",
    "import torch.nn.functional as F\n",
    "\n",
    "class Trainer:\n",
    "    def __init__(self, model, loss_fn, optimizer, train_loader, val_loader, scheduler=None, device=None):\n",
    "        self.model = model.to(device)\n",
    "        self.loss_fn = loss_fn\n",
    "        self.optimizer = optimizer\n",
    "        self.train_loader = train_loader\n",
    "        self.val_loader = val_loader\n",
    "        # add scheduler\n",
    "        self.scheduler = scheduler\n",
    "        self.device = device\n",
    "        # variable to store the current learning rate\n",
    "        self.current_lr = self.optimizer.param_groups[0]['lr']\n",
    "\n",
    "    def train_epoch(self, epoch):\n",
    "        self.model.train()\n",
    "\n",
    "        # calculate running average loss\n",
    "        accu_loss = 0.0\n",
    "        running_avg_loss = 0.0\n",
    "        # accuracy metrics: total count and accumulated correct count\n",
    "        num_total = 0.0\n",
    "        accu_num_correct = 0.0\n",
    "        accuracy = 0.0\n",
    "        # visualize training loop progress in real time with tqdm\n",
    "        with tqdm(total=len(self.train_loader), desc=f\"Epoch {epoch+1} [Training..]\", leave=True) as progress_bar:\n",
    "            for batch_idx, (inputs, targets) in enumerate(self.train_loader):\n",
    "                # must use to(self.device). not to(device).\n",
    "                inputs = inputs.to(self.device)\n",
    "                targets = targets.to(self.device)\n",
    "\n",
    "                # Forward pass\n",
    "                outputs = self.model(inputs)\n",
    "                loss = self.loss_fn(outputs, targets)\n",
    "\n",
    "                # Backward pass\n",
    "                self.optimizer.zero_grad()\n",
    "                loss.backward()\n",
    "                self.optimizer.step()\n",
    "\n",
    "                # calculate accumulated loss per batch and running average loss\n",
    "                accu_loss += loss.item()\n",
    "                running_avg_loss = accu_loss /(batch_idx + 1)\n",
    "\n",
    "                # calculate accuracy metric\n",
    "                # get number of correct predictions comparing outputs and targets\n",
    "                num_correct = (outputs.argmax(-1) == targets).sum().item()\n",
    "                # compute accuracy with total samples and accumulated correct predictions\n",
    "                num_total += inputs.shape[0]\n",
    "                accu_num_correct += num_correct\n",
    "                accuracy = accu_num_correct / num_total\n",
    "\n",
    "                # update tqdm progress bar with running average loss and accuracy\n",
    "                progress_bar.update(1)\n",
    "                if batch_idx % 20 == 0 or (batch_idx + 1) == progress_bar.total:  # update every 20 batches or at last batch\n",
    "                    progress_bar.set_postfix({\"Loss\": running_avg_loss,\n",
    "                                              \"Accuracy\": accuracy})\n",
    "        # Do not apply ReduceLRPlateau during training, so check if it is not ReduceLRPlateau\n",
    "        if(self.scheduler is not None) and (not isinstance(self.scheduler, torch.optim.lr_scheduler.ReduceLROnPlateau) ):\n",
    "            self.scheduler.step()\n",
    "            self.current_lr = self.scheduler.get_last_lr()[0]\n",
    "            print(\"scheduler step() call\")\n",
    "        return running_avg_loss, accuracy\n",
    "\n",
    "    def validate_epoch(self, epoch):\n",
    "        if not self.val_loader:\n",
    "            return None\n",
    "\n",
    "        self.model.eval()\n",
    "\n",
    "        # calculate running average loss\n",
    "        accu_loss = 0.0\n",
    "        running_avg_loss = 0.0\n",
    "        # accuracy metrics: total count and accumulated correct count\n",
    "        num_total = 0.0\n",
    "        accu_num_correct = 0.0\n",
    "        accuracy = 0.0\n",
    "        \n",
    "        with tqdm(total=len(self.val_loader), desc=f\"Epoch {epoch+1} [Validating]\", leave=True) as progress_bar:\n",
    "            with torch.no_grad():\n",
    "                for batch_idx, (inputs, targets) in enumerate(self.val_loader):\n",
    "                    inputs = inputs.to(self.device)\n",
    "                    targets = targets.to(self.device)\n",
    "\n",
    "                    outputs = self.model(inputs)\n",
    "\n",
    "                    loss = self.loss_fn(outputs, targets)\n",
    "                    # calculate accumulated loss per batch and running average loss\n",
    "                    accu_loss += loss.item()\n",
    "                    running_avg_loss = accu_loss /(batch_idx + 1)\n",
    "\n",
    "                    # calculate accuracy metric\n",
    "                    # get number of correct predictions comparing outputs and targets\n",
    "                    num_correct = (outputs.argmax(-1) == targets).sum().item()\n",
    "                    # compute accuracy with total samples and accumulated correct predictions\n",
    "                    num_total += inputs.shape[0]\n",
    "                    accu_num_correct += num_correct\n",
    "                    accuracy = accu_num_correct / num_total\n",
    "\n",
    "                    # update tqdm progress bar with running average loss and accuracy\n",
    "                    progress_bar.update(1)\n",
    "                    if batch_idx % 20 == 0 or (batch_idx + 1) == progress_bar.total:  # update every 20 batches or at last batch\n",
    "                        progress_bar.set_postfix({\"Loss\": running_avg_loss,\n",
    "                                                  \"Accuracy\":accuracy})\n",
    "        # for scheduler based on validation data, pass epoch-level loss as input\n",
    "        if (self.scheduler is not None) and isinstance(self.scheduler, torch.optim.lr_scheduler.ReduceLROnPlateau):\n",
    "            self.scheduler.step(running_avg_loss)\n",
    "            self.current_lr = self.scheduler.get_last_lr()[0]\n",
    "            print(\"scheduler step(evaluation_value) call\")\n",
    "\n",
    "        return running_avg_loss, accuracy\n",
    "\n",
    "    def fit(self, epochs):\n",
    "        # create history dictionary to log train/validation results and learning rate per epoch\n",
    "        history = {'train_loss': [], 'train_acc': [], 'val_loss': [], 'val_acc': [], 'lr': []}\n",
    "        for epoch in range(epochs):\n",
    "            train_loss, train_acc = self.train_epoch(epoch)\n",
    "            val_loss, val_acc = self.validate_epoch(epoch)\n",
    "            print(f\"Epoch {epoch+1}/{epochs}, Train Loss: {train_loss:.4f} Train Accuracy: {train_acc:.4f}\",\n",
    "                  f\", Val Loss: {val_loss:.4f} Val Accuracy: {val_acc:.4f}\" if val_loss is not None else \"\",\n",
    "                  f\", Current lr:{self.current_lr:.6f}\")\n",
    "            # log train/validation results and learning rate per epoch\n",
    "            history['train_loss'].append(train_loss); history['train_acc'].append(train_acc)\n",
    "            history['val_loss'].append(val_loss); history['val_acc'].append(val_acc)\n",
    "            history['lr'].append(self.current_lr)\n",
    "\n",
    "        return history\n",
    "\n",
    "    # return the trained model\n",
    "    def get_trained_model(self):\n",
    "        return self.model\n"
   ]
  },
  {
   "cell_type": "markdown",
   "id": "fbad66c5",
   "metadata": {
    "papermill": {
     "duration": 0.005111,
     "end_time": "2025-08-31T16:29:27.190870",
     "exception": false,
     "start_time": "2025-08-31T16:29:27.185759",
     "status": "completed"
    },
    "tags": []
   },
   "source": [
    "\n",
    "#### Training the Model Using a Trainer with Learning Rate Scheduler\n",
    "\n",
    "* Main arguments of **ReduceLROnPlateau**:\n",
    "\n",
    "  * **mode**: Either `'min'` or `'max'`.\n",
    "\n",
    "    * `'min'` is used when smaller values indicate improvement (e.g., loss).\n",
    "    * `'max'` is used when larger values indicate improvement (e.g., accuracy).\n",
    "  * **factor**: The scaling value applied when adjusting the learning rate.\n",
    "\n",
    "    * `new_lr = lr * factor`. Default is `0.1`.\n",
    "  * **patience**: Number of epochs with no improvement before reducing the learning rate.\n",
    "\n",
    "    * If the metric does not improve for more than `patience` epochs, the learning rate decreases.\n",
    "  * **threshold**: The minimal change in the monitored metric to be considered as an actual improvement (small variations within this threshold are ignored).\n",
    "  * **min\\_lr**: The minimum learning rate allowed (the scheduler will not reduce LR further).\n",
    "  * **cooldown**: Number of epochs to wait after a learning rate reduction before resuming normal operation of the scheduler.\n",
    "\n"
   ]
  },
  {
   "cell_type": "code",
   "execution_count": 6,
   "id": "be680dc5",
   "metadata": {
    "execution": {
     "iopub.execute_input": "2025-08-31T16:29:27.202523Z",
     "iopub.status.busy": "2025-08-31T16:29:27.202105Z",
     "iopub.status.idle": "2025-08-31T16:34:48.541673Z",
     "shell.execute_reply": "2025-08-31T16:34:48.540740Z"
    },
    "papermill": {
     "duration": 321.346744,
     "end_time": "2025-08-31T16:34:48.543045",
     "exception": false,
     "start_time": "2025-08-31T16:29:27.196301",
     "status": "completed"
    },
    "tags": []
   },
   "outputs": [
    {
     "name": "stderr",
     "output_type": "stream",
     "text": [
      "Epoch 1 [Training..]: 100%|██████████| 1329/1329 [00:10<00:00, 121.57it/s, Loss=1.21, Accuracy=0.568]\n",
      "Epoch 1 [Validating]: 100%|██████████| 235/235 [00:00<00:00, 239.04it/s, Loss=0.987, Accuracy=0.649]\n"
     ]
    },
    {
     "name": "stdout",
     "output_type": "stream",
     "text": [
      "scheduler step(evaluation_value) call\n",
      "Epoch 1/30, Train Loss: 1.2056 Train Accuracy: 0.5685 , Val Loss: 0.9867 Val Accuracy: 0.6488 , Current lr:0.001000\n"
     ]
    },
    {
     "name": "stderr",
     "output_type": "stream",
     "text": [
      "Epoch 2 [Training..]: 100%|██████████| 1329/1329 [00:09<00:00, 136.08it/s, Loss=0.827, Accuracy=0.709]\n",
      "Epoch 2 [Validating]: 100%|██████████| 235/235 [00:00<00:00, 250.38it/s, Loss=0.875, Accuracy=0.701]\n"
     ]
    },
    {
     "name": "stdout",
     "output_type": "stream",
     "text": [
      "scheduler step(evaluation_value) call\n",
      "Epoch 2/30, Train Loss: 0.8266 Train Accuracy: 0.7090 , Val Loss: 0.8746 Val Accuracy: 0.7007 , Current lr:0.001000\n"
     ]
    },
    {
     "name": "stderr",
     "output_type": "stream",
     "text": [
      "Epoch 3 [Training..]: 100%|██████████| 1329/1329 [00:09<00:00, 137.48it/s, Loss=0.664, Accuracy=0.77]\n",
      "Epoch 3 [Validating]: 100%|██████████| 235/235 [00:00<00:00, 252.46it/s, Loss=0.68, Accuracy=0.758]\n"
     ]
    },
    {
     "name": "stdout",
     "output_type": "stream",
     "text": [
      "scheduler step(evaluation_value) call\n",
      "Epoch 3/30, Train Loss: 0.6640 Train Accuracy: 0.7698 , Val Loss: 0.6796 Val Accuracy: 0.7583 , Current lr:0.001000\n"
     ]
    },
    {
     "name": "stderr",
     "output_type": "stream",
     "text": [
      "Epoch 4 [Training..]: 100%|██████████| 1329/1329 [00:09<00:00, 136.65it/s, Loss=0.564, Accuracy=0.806]\n",
      "Epoch 4 [Validating]: 100%|██████████| 235/235 [00:00<00:00, 247.21it/s, Loss=0.681, Accuracy=0.768]\n"
     ]
    },
    {
     "name": "stdout",
     "output_type": "stream",
     "text": [
      "scheduler step(evaluation_value) call\n",
      "Epoch 4/30, Train Loss: 0.5645 Train Accuracy: 0.8061 , Val Loss: 0.6812 Val Accuracy: 0.7676 , Current lr:0.001000\n"
     ]
    },
    {
     "name": "stderr",
     "output_type": "stream",
     "text": [
      "Epoch 5 [Training..]: 100%|██████████| 1329/1329 [00:09<00:00, 137.10it/s, Loss=0.489, Accuracy=0.831]\n",
      "Epoch 5 [Validating]: 100%|██████████| 235/235 [00:00<00:00, 245.19it/s, Loss=0.607, Accuracy=0.787]\n"
     ]
    },
    {
     "name": "stdout",
     "output_type": "stream",
     "text": [
      "scheduler step(evaluation_value) call\n",
      "Epoch 5/30, Train Loss: 0.4894 Train Accuracy: 0.8313 , Val Loss: 0.6070 Val Accuracy: 0.7873 , Current lr:0.001000\n"
     ]
    },
    {
     "name": "stderr",
     "output_type": "stream",
     "text": [
      "Epoch 6 [Training..]: 100%|██████████| 1329/1329 [00:09<00:00, 137.00it/s, Loss=0.427, Accuracy=0.852]\n",
      "Epoch 6 [Validating]: 100%|██████████| 235/235 [00:00<00:00, 245.92it/s, Loss=0.534, Accuracy=0.815]\n"
     ]
    },
    {
     "name": "stdout",
     "output_type": "stream",
     "text": [
      "scheduler step(evaluation_value) call\n",
      "Epoch 6/30, Train Loss: 0.4266 Train Accuracy: 0.8519 , Val Loss: 0.5338 Val Accuracy: 0.8155 , Current lr:0.001000\n"
     ]
    },
    {
     "name": "stderr",
     "output_type": "stream",
     "text": [
      "Epoch 7 [Training..]: 100%|██████████| 1329/1329 [00:09<00:00, 136.59it/s, Loss=0.374, Accuracy=0.869]\n",
      "Epoch 7 [Validating]: 100%|██████████| 235/235 [00:00<00:00, 242.85it/s, Loss=0.541, Accuracy=0.819]\n"
     ]
    },
    {
     "name": "stdout",
     "output_type": "stream",
     "text": [
      "scheduler step(evaluation_value) call\n",
      "Epoch 7/30, Train Loss: 0.3743 Train Accuracy: 0.8689 , Val Loss: 0.5411 Val Accuracy: 0.8187 , Current lr:0.001000\n"
     ]
    },
    {
     "name": "stderr",
     "output_type": "stream",
     "text": [
      "Epoch 8 [Training..]: 100%|██████████| 1329/1329 [00:09<00:00, 138.13it/s, Loss=0.324, Accuracy=0.888]\n",
      "Epoch 8 [Validating]: 100%|██████████| 235/235 [00:01<00:00, 229.47it/s, Loss=0.603, Accuracy=0.803]\n"
     ]
    },
    {
     "name": "stdout",
     "output_type": "stream",
     "text": [
      "scheduler step(evaluation_value) call\n",
      "Epoch 8/30, Train Loss: 0.3242 Train Accuracy: 0.8879 , Val Loss: 0.6027 Val Accuracy: 0.8028 , Current lr:0.001000\n"
     ]
    },
    {
     "name": "stderr",
     "output_type": "stream",
     "text": [
      "Epoch 9 [Training..]: 100%|██████████| 1329/1329 [00:09<00:00, 136.66it/s, Loss=0.285, Accuracy=0.901]\n",
      "Epoch 9 [Validating]: 100%|██████████| 235/235 [00:00<00:00, 243.77it/s, Loss=0.592, Accuracy=0.812]\n"
     ]
    },
    {
     "name": "stdout",
     "output_type": "stream",
     "text": [
      "scheduler step(evaluation_value) call\n",
      "Epoch 9/30, Train Loss: 0.2850 Train Accuracy: 0.9006 , Val Loss: 0.5916 Val Accuracy: 0.8121 , Current lr:0.000500\n"
     ]
    },
    {
     "name": "stderr",
     "output_type": "stream",
     "text": [
      "Epoch 10 [Training..]: 100%|██████████| 1329/1329 [00:09<00:00, 136.14it/s, Loss=0.175, Accuracy=0.942]\n",
      "Epoch 10 [Validating]: 100%|██████████| 235/235 [00:00<00:00, 251.66it/s, Loss=0.477, Accuracy=0.843]\n"
     ]
    },
    {
     "name": "stdout",
     "output_type": "stream",
     "text": [
      "scheduler step(evaluation_value) call\n",
      "Epoch 10/30, Train Loss: 0.1748 Train Accuracy: 0.9425 , Val Loss: 0.4770 Val Accuracy: 0.8428 , Current lr:0.000500\n"
     ]
    },
    {
     "name": "stderr",
     "output_type": "stream",
     "text": [
      "Epoch 11 [Training..]: 100%|██████████| 1329/1329 [00:09<00:00, 136.30it/s, Loss=0.14, Accuracy=0.955]\n",
      "Epoch 11 [Validating]: 100%|██████████| 235/235 [00:00<00:00, 251.19it/s, Loss=0.522, Accuracy=0.842]\n"
     ]
    },
    {
     "name": "stdout",
     "output_type": "stream",
     "text": [
      "scheduler step(evaluation_value) call\n",
      "Epoch 11/30, Train Loss: 0.1402 Train Accuracy: 0.9548 , Val Loss: 0.5222 Val Accuracy: 0.8424 , Current lr:0.000500\n"
     ]
    },
    {
     "name": "stderr",
     "output_type": "stream",
     "text": [
      "Epoch 12 [Training..]: 100%|██████████| 1329/1329 [00:09<00:00, 136.92it/s, Loss=0.119, Accuracy=0.962]\n",
      "Epoch 12 [Validating]: 100%|██████████| 235/235 [00:00<00:00, 249.33it/s, Loss=0.544, Accuracy=0.846]\n"
     ]
    },
    {
     "name": "stdout",
     "output_type": "stream",
     "text": [
      "scheduler step(evaluation_value) call\n",
      "Epoch 12/30, Train Loss: 0.1194 Train Accuracy: 0.9615 , Val Loss: 0.5436 Val Accuracy: 0.8457 , Current lr:0.000500\n"
     ]
    },
    {
     "name": "stderr",
     "output_type": "stream",
     "text": [
      "Epoch 13 [Training..]: 100%|██████████| 1329/1329 [00:09<00:00, 136.54it/s, Loss=0.0998, Accuracy=0.968]\n",
      "Epoch 13 [Validating]: 100%|██████████| 235/235 [00:00<00:00, 244.01it/s, Loss=0.572, Accuracy=0.834]\n"
     ]
    },
    {
     "name": "stdout",
     "output_type": "stream",
     "text": [
      "scheduler step(evaluation_value) call\n",
      "Epoch 13/30, Train Loss: 0.0998 Train Accuracy: 0.9681 , Val Loss: 0.5716 Val Accuracy: 0.8344 , Current lr:0.000250\n"
     ]
    },
    {
     "name": "stderr",
     "output_type": "stream",
     "text": [
      "Epoch 14 [Training..]: 100%|██████████| 1329/1329 [00:09<00:00, 137.45it/s, Loss=0.0593, Accuracy=0.986]\n",
      "Epoch 14 [Validating]: 100%|██████████| 235/235 [00:00<00:00, 244.18it/s, Loss=0.551, Accuracy=0.849]\n"
     ]
    },
    {
     "name": "stdout",
     "output_type": "stream",
     "text": [
      "scheduler step(evaluation_value) call\n",
      "Epoch 14/30, Train Loss: 0.0593 Train Accuracy: 0.9861 , Val Loss: 0.5508 Val Accuracy: 0.8491 , Current lr:0.000250\n"
     ]
    },
    {
     "name": "stderr",
     "output_type": "stream",
     "text": [
      "Epoch 15 [Training..]: 100%|██████████| 1329/1329 [00:09<00:00, 136.18it/s, Loss=0.05, Accuracy=0.988]\n",
      "Epoch 15 [Validating]: 100%|██████████| 235/235 [00:00<00:00, 246.04it/s, Loss=0.579, Accuracy=0.842]\n"
     ]
    },
    {
     "name": "stdout",
     "output_type": "stream",
     "text": [
      "scheduler step(evaluation_value) call\n",
      "Epoch 15/30, Train Loss: 0.0500 Train Accuracy: 0.9878 , Val Loss: 0.5789 Val Accuracy: 0.8421 , Current lr:0.000250\n"
     ]
    },
    {
     "name": "stderr",
     "output_type": "stream",
     "text": [
      "Epoch 16 [Training..]: 100%|██████████| 1329/1329 [00:09<00:00, 136.13it/s, Loss=0.0404, Accuracy=0.991]\n",
      "Epoch 16 [Validating]: 100%|██████████| 235/235 [00:00<00:00, 249.04it/s, Loss=0.572, Accuracy=0.849]\n"
     ]
    },
    {
     "name": "stdout",
     "output_type": "stream",
     "text": [
      "scheduler step(evaluation_value) call\n",
      "Epoch 16/30, Train Loss: 0.0404 Train Accuracy: 0.9907 , Val Loss: 0.5720 Val Accuracy: 0.8492 , Current lr:0.000125\n"
     ]
    },
    {
     "name": "stderr",
     "output_type": "stream",
     "text": [
      "Epoch 17 [Training..]: 100%|██████████| 1329/1329 [00:09<00:00, 136.64it/s, Loss=0.0276, Accuracy=0.995]\n",
      "Epoch 17 [Validating]: 100%|██████████| 235/235 [00:00<00:00, 246.20it/s, Loss=0.558, Accuracy=0.853]\n"
     ]
    },
    {
     "name": "stdout",
     "output_type": "stream",
     "text": [
      "scheduler step(evaluation_value) call\n",
      "Epoch 17/30, Train Loss: 0.0276 Train Accuracy: 0.9955 , Val Loss: 0.5583 Val Accuracy: 0.8525 , Current lr:0.000125\n"
     ]
    },
    {
     "name": "stderr",
     "output_type": "stream",
     "text": [
      "Epoch 18 [Training..]: 100%|██████████| 1329/1329 [00:09<00:00, 136.87it/s, Loss=0.0237, Accuracy=0.996]\n",
      "Epoch 18 [Validating]: 100%|██████████| 235/235 [00:00<00:00, 251.63it/s, Loss=0.582, Accuracy=0.85]\n"
     ]
    },
    {
     "name": "stdout",
     "output_type": "stream",
     "text": [
      "scheduler step(evaluation_value) call\n",
      "Epoch 18/30, Train Loss: 0.0237 Train Accuracy: 0.9961 , Val Loss: 0.5824 Val Accuracy: 0.8501 , Current lr:0.000125\n"
     ]
    },
    {
     "name": "stderr",
     "output_type": "stream",
     "text": [
      "Epoch 19 [Training..]: 100%|██████████| 1329/1329 [00:09<00:00, 136.12it/s, Loss=0.021, Accuracy=0.997]\n",
      "Epoch 19 [Validating]: 100%|██████████| 235/235 [00:00<00:00, 249.69it/s, Loss=0.586, Accuracy=0.856]\n"
     ]
    },
    {
     "name": "stdout",
     "output_type": "stream",
     "text": [
      "scheduler step(evaluation_value) call\n",
      "Epoch 19/30, Train Loss: 0.0210 Train Accuracy: 0.9967 , Val Loss: 0.5863 Val Accuracy: 0.8563 , Current lr:0.000063\n"
     ]
    },
    {
     "name": "stderr",
     "output_type": "stream",
     "text": [
      "Epoch 20 [Training..]: 100%|██████████| 1329/1329 [00:09<00:00, 135.97it/s, Loss=0.0158, Accuracy=0.998]\n",
      "Epoch 20 [Validating]: 100%|██████████| 235/235 [00:00<00:00, 247.18it/s, Loss=0.586, Accuracy=0.852]\n"
     ]
    },
    {
     "name": "stdout",
     "output_type": "stream",
     "text": [
      "scheduler step(evaluation_value) call\n",
      "Epoch 20/30, Train Loss: 0.0158 Train Accuracy: 0.9985 , Val Loss: 0.5858 Val Accuracy: 0.8520 , Current lr:0.000063\n"
     ]
    },
    {
     "name": "stderr",
     "output_type": "stream",
     "text": [
      "Epoch 21 [Training..]: 100%|██████████| 1329/1329 [00:09<00:00, 138.02it/s, Loss=0.0148, Accuracy=0.998]\n",
      "Epoch 21 [Validating]: 100%|██████████| 235/235 [00:00<00:00, 246.06it/s, Loss=0.603, Accuracy=0.853]\n"
     ]
    },
    {
     "name": "stdout",
     "output_type": "stream",
     "text": [
      "scheduler step(evaluation_value) call\n",
      "Epoch 21/30, Train Loss: 0.0148 Train Accuracy: 0.9983 , Val Loss: 0.6032 Val Accuracy: 0.8531 , Current lr:0.000063\n"
     ]
    },
    {
     "name": "stderr",
     "output_type": "stream",
     "text": [
      "Epoch 22 [Training..]: 100%|██████████| 1329/1329 [00:09<00:00, 137.05it/s, Loss=0.0146, Accuracy=0.998]\n",
      "Epoch 22 [Validating]: 100%|██████████| 235/235 [00:00<00:00, 237.82it/s, Loss=0.601, Accuracy=0.855]\n"
     ]
    },
    {
     "name": "stdout",
     "output_type": "stream",
     "text": [
      "scheduler step(evaluation_value) call\n",
      "Epoch 22/30, Train Loss: 0.0146 Train Accuracy: 0.9983 , Val Loss: 0.6007 Val Accuracy: 0.8555 , Current lr:0.000031\n"
     ]
    },
    {
     "name": "stderr",
     "output_type": "stream",
     "text": [
      "Epoch 23 [Training..]: 100%|██████████| 1329/1329 [00:09<00:00, 138.25it/s, Loss=0.0123, Accuracy=0.999]\n",
      "Epoch 23 [Validating]: 100%|██████████| 235/235 [00:00<00:00, 241.74it/s, Loss=0.598, Accuracy=0.856]\n"
     ]
    },
    {
     "name": "stdout",
     "output_type": "stream",
     "text": [
      "scheduler step(evaluation_value) call\n",
      "Epoch 23/30, Train Loss: 0.0123 Train Accuracy: 0.9989 , Val Loss: 0.5983 Val Accuracy: 0.8560 , Current lr:0.000031\n"
     ]
    },
    {
     "name": "stderr",
     "output_type": "stream",
     "text": [
      "Epoch 24 [Training..]: 100%|██████████| 1329/1329 [00:09<00:00, 137.06it/s, Loss=0.0115, Accuracy=0.999]\n",
      "Epoch 24 [Validating]: 100%|██████████| 235/235 [00:00<00:00, 250.42it/s, Loss=0.614, Accuracy=0.853]\n"
     ]
    },
    {
     "name": "stdout",
     "output_type": "stream",
     "text": [
      "scheduler step(evaluation_value) call\n",
      "Epoch 24/30, Train Loss: 0.0115 Train Accuracy: 0.9991 , Val Loss: 0.6136 Val Accuracy: 0.8527 , Current lr:0.000031\n"
     ]
    },
    {
     "name": "stderr",
     "output_type": "stream",
     "text": [
      "Epoch 25 [Training..]: 100%|██████████| 1329/1329 [00:09<00:00, 137.34it/s, Loss=0.0112, Accuracy=0.999]\n",
      "Epoch 25 [Validating]: 100%|██████████| 235/235 [00:00<00:00, 251.42it/s, Loss=0.61, Accuracy=0.852]\n"
     ]
    },
    {
     "name": "stdout",
     "output_type": "stream",
     "text": [
      "scheduler step(evaluation_value) call\n",
      "Epoch 25/30, Train Loss: 0.0112 Train Accuracy: 0.9991 , Val Loss: 0.6100 Val Accuracy: 0.8523 , Current lr:0.000016\n"
     ]
    },
    {
     "name": "stderr",
     "output_type": "stream",
     "text": [
      "Epoch 26 [Training..]: 100%|██████████| 1329/1329 [00:09<00:00, 136.96it/s, Loss=0.0104, Accuracy=0.999]\n",
      "Epoch 26 [Validating]: 100%|██████████| 235/235 [00:00<00:00, 249.17it/s, Loss=0.614, Accuracy=0.855]\n"
     ]
    },
    {
     "name": "stdout",
     "output_type": "stream",
     "text": [
      "scheduler step(evaluation_value) call\n",
      "Epoch 26/30, Train Loss: 0.0104 Train Accuracy: 0.9991 , Val Loss: 0.6136 Val Accuracy: 0.8555 , Current lr:0.000016\n"
     ]
    },
    {
     "name": "stderr",
     "output_type": "stream",
     "text": [
      "Epoch 27 [Training..]: 100%|██████████| 1329/1329 [00:09<00:00, 137.15it/s, Loss=0.00983, Accuracy=1]\n",
      "Epoch 27 [Validating]: 100%|██████████| 235/235 [00:00<00:00, 250.17it/s, Loss=0.616, Accuracy=0.854]\n"
     ]
    },
    {
     "name": "stdout",
     "output_type": "stream",
     "text": [
      "scheduler step(evaluation_value) call\n",
      "Epoch 27/30, Train Loss: 0.0098 Train Accuracy: 0.9995 , Val Loss: 0.6164 Val Accuracy: 0.8536 , Current lr:0.000016\n"
     ]
    },
    {
     "name": "stderr",
     "output_type": "stream",
     "text": [
      "Epoch 28 [Training..]: 100%|██████████| 1329/1329 [00:09<00:00, 138.24it/s, Loss=0.0108, Accuracy=0.999]\n",
      "Epoch 28 [Validating]: 100%|██████████| 235/235 [00:00<00:00, 250.28it/s, Loss=0.613, Accuracy=0.854]\n"
     ]
    },
    {
     "name": "stdout",
     "output_type": "stream",
     "text": [
      "scheduler step(evaluation_value) call\n",
      "Epoch 28/30, Train Loss: 0.0108 Train Accuracy: 0.9993 , Val Loss: 0.6126 Val Accuracy: 0.8540 , Current lr:0.000010\n"
     ]
    },
    {
     "name": "stderr",
     "output_type": "stream",
     "text": [
      "Epoch 29 [Training..]: 100%|██████████| 1329/1329 [00:09<00:00, 136.98it/s, Loss=0.00935, Accuracy=1]\n",
      "Epoch 29 [Validating]: 100%|██████████| 235/235 [00:00<00:00, 246.82it/s, Loss=0.609, Accuracy=0.855]\n"
     ]
    },
    {
     "name": "stdout",
     "output_type": "stream",
     "text": [
      "scheduler step(evaluation_value) call\n",
      "Epoch 29/30, Train Loss: 0.0094 Train Accuracy: 0.9996 , Val Loss: 0.6089 Val Accuracy: 0.8551 , Current lr:0.000010\n"
     ]
    },
    {
     "name": "stderr",
     "output_type": "stream",
     "text": [
      "Epoch 30 [Training..]: 100%|██████████| 1329/1329 [00:09<00:00, 137.89it/s, Loss=0.00904, Accuracy=1]\n",
      "Epoch 30 [Validating]: 100%|██████████| 235/235 [00:00<00:00, 248.98it/s, Loss=0.617, Accuracy=0.856]"
     ]
    },
    {
     "name": "stdout",
     "output_type": "stream",
     "text": [
      "scheduler step(evaluation_value) call\n",
      "Epoch 30/30, Train Loss: 0.0090 Train Accuracy: 0.9996 , Val Loss: 0.6172 Val Accuracy: 0.8557 , Current lr:0.000010\n"
     ]
    },
    {
     "name": "stderr",
     "output_type": "stream",
     "text": [
      "\n"
     ]
    }
   ],
   "source": [
    "import torch\n",
    "import torch.nn as nn\n",
    "from torch.optim import SGD, Adam\n",
    "from torch.optim.lr_scheduler import ReduceLROnPlateau\n",
    "\n",
    "NUM_INPUT_CHANNELS = 3\n",
    "NUM_CLASSES = 10\n",
    "\n",
    "model = SimpleCNNWithBN(num_classes=NUM_CLASSES)\n",
    "device = torch.device('cuda' if torch.cuda.is_available() else 'cpu')\n",
    "optimizer = Adam(model.parameters(), lr=0.001)\n",
    "loss_fn = nn.CrossEntropyLoss()\n",
    "scheduler = ReduceLROnPlateau(\n",
    "            optimizer=optimizer, mode='min', factor=0.5, patience=2, threshold=0.01, min_lr=0.00001)\n",
    "\n",
    "trainer = Trainer(model=model, loss_fn=loss_fn, optimizer=optimizer,\n",
    "       train_loader=tr_loader, val_loader=val_loader, scheduler=scheduler, device=device)\n",
    "\n",
    "history = trainer.fit(30)"
   ]
  },
  {
   "cell_type": "code",
   "execution_count": 7,
   "id": "134801e7",
   "metadata": {
    "execution": {
     "iopub.execute_input": "2025-08-31T16:34:49.043267Z",
     "iopub.status.busy": "2025-08-31T16:34:49.042986Z",
     "iopub.status.idle": "2025-08-31T16:34:49.050879Z",
     "shell.execute_reply": "2025-08-31T16:34:49.050291Z"
    },
    "papermill": {
     "duration": 0.231876,
     "end_time": "2025-08-31T16:34:49.051972",
     "exception": false,
     "start_time": "2025-08-31T16:34:48.820096",
     "status": "completed"
    },
    "tags": []
   },
   "outputs": [],
   "source": [
    "class Predictor:\n",
    "    def __init__(self, model, device):\n",
    "        self.model = model.to(device)\n",
    "        self.device = device\n",
    "\n",
    "    def evaluate(self, loader):\n",
    "        self.model.eval()\n",
    "        eval_metric = 0.0\n",
    "        num_total = 0.0\n",
    "        accu_num_correct = 0.0\n",
    "\n",
    "        with tqdm(total=len(loader), desc=f\"[Evaluating]\", leave=True) as progress_bar:\n",
    "            with torch.no_grad():\n",
    "                for batch_idx, (inputs, targets) in enumerate(loader):\n",
    "                    inputs = inputs.to(self.device)\n",
    "                    targets = targets.to(self.device)\n",
    "                    pred = self.model(inputs)\n",
    "\n",
    "                    num_correct = (pred.argmax(-1) == targets).sum().item()\n",
    "                    num_total += inputs.shape[0]\n",
    "                    accu_num_correct += num_correct\n",
    "                    eval_metric = accu_num_correct / num_total\n",
    "\n",
    "                    progress_bar.update(1)\n",
    "                    if batch_idx % 20 == 0 or (batch_idx + 1) == progress_bar.total:\n",
    "                        progress_bar.set_postfix({\"Accuracy\": eval_metric})\n",
    "        \n",
    "        return eval_metric\n",
    "\n",
    "    def predict_proba(self, inputs):\n",
    "        self.model.eval()\n",
    "        with torch.no_grad():\n",
    "            inputs = inputs.to(self.device)\n",
    "            outputs = self.model(inputs)\n",
    "            \n",
    "            pred_proba = F.softmax(outputs, dim=-1) \n",
    "\n",
    "        return pred_proba\n",
    "\n",
    "    def predict(self, inputs):\n",
    "        pred_proba = self.predict_proba(inputs)\n",
    "        pred_class = torch.argmax(pred_proba, dim=-1)\n",
    "\n",
    "        return pred_class"
   ]
  },
  {
   "cell_type": "code",
   "execution_count": 8,
   "id": "5592d0fb",
   "metadata": {
    "execution": {
     "iopub.execute_input": "2025-08-31T16:34:49.512080Z",
     "iopub.status.busy": "2025-08-31T16:34:49.511535Z",
     "iopub.status.idle": "2025-08-31T16:34:50.723474Z",
     "shell.execute_reply": "2025-08-31T16:34:50.722422Z"
    },
    "papermill": {
     "duration": 1.442731,
     "end_time": "2025-08-31T16:34:50.724663",
     "exception": false,
     "start_time": "2025-08-31T16:34:49.281932",
     "status": "completed"
    },
    "tags": []
   },
   "outputs": [
    {
     "name": "stderr",
     "output_type": "stream",
     "text": [
      "[Evaluating]: 100%|██████████| 313/313 [00:01<00:00, 260.17it/s, Accuracy=0.85]"
     ]
    },
    {
     "name": "stdout",
     "output_type": "stream",
     "text": [
      "test dataset evaluation:0.8501\n"
     ]
    },
    {
     "name": "stderr",
     "output_type": "stream",
     "text": [
      "\n"
     ]
    }
   ],
   "source": [
    "trained_model = trainer.get_trained_model()\n",
    "\n",
    "\n",
    "predictor = Predictor(model=trained_model, device=device)\n",
    "eval_metric = predictor.evaluate(test_loader)\n",
    "print(f'test dataset evaluation:{eval_metric:.4f}')"
   ]
  },
  {
   "cell_type": "markdown",
   "id": "3d0daa3d",
   "metadata": {
    "papermill": {
     "duration": 0.2679,
     "end_time": "2025-08-31T16:34:51.212746",
     "exception": false,
     "start_time": "2025-08-31T16:34:50.944846",
     "status": "completed"
    },
    "tags": []
   },
   "source": [
    "### Various Learning Rate Schedulers\n",
    "\n",
    "* Understand how **StepLR**, **CyclicLR**, **CosineAnnealingLR**, and **CosineAnnealingWarmRestarts** work.\n",
    "\n"
   ]
  },
  {
   "cell_type": "markdown",
   "id": "64248fb5",
   "metadata": {
    "papermill": {
     "duration": 0.219866,
     "end_time": "2025-08-31T16:34:51.655852",
     "exception": false,
     "start_time": "2025-08-31T16:34:51.435986",
     "status": "completed"
    },
    "tags": []
   },
   "source": [
    "#### StepLR \n",
    "* Decreases the learning rate at specific steps."
   ]
  },
  {
   "cell_type": "code",
   "execution_count": 9,
   "id": "057d9167",
   "metadata": {
    "execution": {
     "iopub.execute_input": "2025-08-31T16:34:52.098367Z",
     "iopub.status.busy": "2025-08-31T16:34:52.098096Z",
     "iopub.status.idle": "2025-08-31T16:34:52.105408Z",
     "shell.execute_reply": "2025-08-31T16:34:52.104588Z"
    },
    "papermill": {
     "duration": 0.229792,
     "end_time": "2025-08-31T16:34:52.106659",
     "exception": false,
     "start_time": "2025-08-31T16:34:51.876867",
     "status": "completed"
    },
    "tags": []
   },
   "outputs": [
    {
     "name": "stdout",
     "output_type": "stream",
     "text": [
      "Epoch\tLearning Rate\n",
      "1\t0.100000\n",
      "2\t0.100000\n",
      "3\t0.100000\n",
      "4\t0.050000\n",
      "5\t0.050000\n",
      "6\t0.050000\n",
      "7\t0.025000\n",
      "8\t0.025000\n",
      "9\t0.025000\n",
      "10\t0.012500\n",
      "11\t0.012500\n",
      "12\t0.012500\n",
      "13\t0.006250\n",
      "14\t0.006250\n",
      "15\t0.006250\n",
      "16\t0.003125\n",
      "17\t0.003125\n",
      "18\t0.003125\n",
      "19\t0.001563\n",
      "20\t0.001563\n"
     ]
    }
   ],
   "source": [
    "import torch\n",
    "import torch.nn as nn\n",
    "import torch.optim as optim\n",
    "\n",
    "# Define model\n",
    "model = nn.Linear(10, 1)\n",
    "optimizer = optim.Adam(model.parameters(), lr=0.1)\n",
    "# Store learning rate at each epoch\n",
    "lr_history = []\n",
    "# Create StepLR\n",
    "scheduler = torch.optim.lr_scheduler.StepLR(optimizer, step_size=3, gamma=0.5)\n",
    "\n",
    "# Simulate training loop\n",
    "print(\"Epoch\\tLearning Rate\")\n",
    "for epoch in range(20):\n",
    "    print(f\"{epoch+1}\\t{scheduler.get_last_lr()[0]:.6f}\")\n",
    "    lr_history.append(scheduler.get_last_lr()[0])\n",
    "    scheduler.step()\n"
   ]
  },
  {
   "cell_type": "code",
   "execution_count": 10,
   "id": "5dece019",
   "metadata": {
    "execution": {
     "iopub.execute_input": "2025-08-31T16:34:52.607567Z",
     "iopub.status.busy": "2025-08-31T16:34:52.607262Z",
     "iopub.status.idle": "2025-08-31T16:34:52.783349Z",
     "shell.execute_reply": "2025-08-31T16:34:52.782696Z"
    },
    "papermill": {
     "duration": 0.40515,
     "end_time": "2025-08-31T16:34:52.784541",
     "exception": false,
     "start_time": "2025-08-31T16:34:52.379391",
     "status": "completed"
    },
    "tags": []
   },
   "outputs": [
    {
     "data": {
      "image/png": "[encoded data removed]",
      "text/plain": [
       "<Figure size 400x300 with 1 Axes>"
      ]
     },
     "metadata": {},
     "output_type": "display_data"
    }
   ],
   "source": [
    "import matplotlib.pyplot as plt\n",
    "\n",
    "plt.figure(figsize=(4, 3)), \n",
    "x_label = [ index+1 for index in range(len(lr_history))]\n",
    "plt.plot(x_label, lr_history, marker='o')\n",
    "plt.xlabel('Epochs Number (Index starts from 1)')\n",
    "plt.ylabel('Learning Rate')\n",
    "\n",
    "plt.grid(True)\n",
    "plt.show()"
   ]
  },
  {
   "cell_type": "code",
   "execution_count": 11,
   "id": "5dccaa76",
   "metadata": {
    "execution": {
     "iopub.execute_input": "2025-08-31T16:34:53.228905Z",
     "iopub.status.busy": "2025-08-31T16:34:53.228647Z",
     "iopub.status.idle": "2025-08-31T16:34:53.354917Z",
     "shell.execute_reply": "2025-08-31T16:34:53.354154Z"
    },
    "papermill": {
     "duration": 0.348049,
     "end_time": "2025-08-31T16:34:53.355977",
     "exception": false,
     "start_time": "2025-08-31T16:34:53.007928",
     "status": "completed"
    },
    "tags": []
   },
   "outputs": [
    {
     "data": {
      "image/png": "[encoded data removed]",
      "text/plain": [
       "<Figure size 600x300 with 1 Axes>"
      ]
     },
     "metadata": {},
     "output_type": "display_data"
    }
   ],
   "source": [
    "import matplotlib.pyplot as plt\n",
    "\n",
    "def get_lr_history(scheduler, epochs=30, verbose=False):\n",
    "  lr_history = []\n",
    "\n",
    "  # Simulate training loop\n",
    "  if verbose:\n",
    "    print(\"Epoch\\tLearning Rate\")\n",
    "  for epoch in range(epochs):\n",
    "    if verbose:\n",
    "      print(f\"{epoch+1}\\t{scheduler.get_last_lr()[0]:.6f}\")\n",
    "    lr_history.append(scheduler.get_last_lr()[0])\n",
    "    scheduler.step()\n",
    "  return lr_history\n",
    "\n",
    "def draw_lr_history(lr_history, figsize=(6, 3)):\n",
    "    plt.figure(figsize=figsize)\n",
    "    x_label = [ index+1 for index in range(len(lr_history))]\n",
    "    plt.plot(x_label, lr_history,  marker='o')\n",
    "    \n",
    "    plt.xlabel('Epochs Number (Index starts from 1)')\n",
    "    plt.ylabel('Learning Rate')\n",
    "    \n",
    "    plt.grid(True)\n",
    "    plt.show()\n",
    "\n",
    "model = nn.Linear(10, 1)\n",
    "optimizer = optim.Adam(model.parameters(), lr=0.1)\n",
    "scheduler = torch.optim.lr_scheduler.StepLR(optimizer, step_size=3, gamma=0.5)\n",
    "\n",
    "lr_history = get_lr_history(scheduler=scheduler)\n",
    "draw_lr_history(lr_history)\n"
   ]
  },
  {
   "cell_type": "markdown",
   "id": "6c8e4d48",
   "metadata": {
    "papermill": {
     "duration": 0.264336,
     "end_time": "2025-08-31T16:34:53.877022",
     "exception": false,
     "start_time": "2025-08-31T16:34:53.612686",
     "status": "completed"
    },
    "tags": []
   },
   "source": [
    "### MultiStepLR\n",
    "\n",
    "* Adjusts the learning rate at the specific steps (epochs) defined in **milestones**.\n"
   ]
  },
  {
   "cell_type": "code",
   "execution_count": 12,
   "id": "4caed9b7",
   "metadata": {
    "execution": {
     "iopub.execute_input": "2025-08-31T16:34:54.332547Z",
     "iopub.status.busy": "2025-08-31T16:34:54.332261Z",
     "iopub.status.idle": "2025-08-31T16:34:54.442457Z",
     "shell.execute_reply": "2025-08-31T16:34:54.441777Z"
    },
    "papermill": {
     "duration": 0.337018,
     "end_time": "2025-08-31T16:34:54.443653",
     "exception": false,
     "start_time": "2025-08-31T16:34:54.106635",
     "status": "completed"
    },
    "tags": []
   },
   "outputs": [
    {
     "data": {
      "image/png": "[encoded data removed]",
      "text/plain": [
       "<Figure size 600x300 with 1 Axes>"
      ]
     },
     "metadata": {},
     "output_type": "display_data"
    }
   ],
   "source": [
    "model = nn.Linear(10, 1)\n",
    "optimizer = optim.SGD(model.parameters(), lr=0.1)\n",
    "# This is used when you want to adjust the LR at specific points -> useful when you clearly know the plateauing pattern\n",
    "scheduler = torch.optim.lr_scheduler.MultiStepLR(optimizer, milestones=[5, 8, 12], gamma=0.5)\n",
    "\n",
    "lr_history = get_lr_history(scheduler=scheduler) # verbose=True\n",
    "draw_lr_history(lr_history)\n"
   ]
  },
  {
   "cell_type": "markdown",
   "id": "e8c118a0",
   "metadata": {
    "papermill": {
     "duration": 0.22052,
     "end_time": "2025-08-31T16:34:54.882870",
     "exception": false,
     "start_time": "2025-08-31T16:34:54.662350",
     "status": "completed"
    },
    "tags": []
   },
   "source": [
    "\n",
    "#### CycleLR\n",
    "\n",
    "* The learning rate repeatedly cycles between a minimum and maximum value. The LR (eta) values increase and decrease in a repeating pattern.\n",
    "\n",
    "* **Arguments**:\n",
    "\n",
    "  * **base\\_lr**: The minimum learning rate.\n",
    "  * **max\\_lr**: The maximum learning rate.\n",
    "  * **step\\_size\\_up**: Number of epochs required for the LR to increase from `base_lr` to `max_lr`.\n",
    "  * **step\\_size\\_down**: Number of epochs required for the LR to decrease from `max_lr` back to `base_lr`.\n",
    "  * **mode**: Defines the shape of the learning rate cycle. Options are:\n",
    "\n",
    "    * **triangular**: Triangular waveform. Maximum and minimum LR remain constant across cycles.\n",
    "    * **triangular2**: Triangular waveform, but the maximum LR is reduced by half after each cycle.\n",
    "    * **exp\\_range**: Exponential decay form, where LR decreases each epoch by a factor of `gamma`.\n",
    "  * **gamma**: Multiplicative factor for LR decay applied per epoch when using `exp_range`.\n",
    "\n"
   ]
  },
  {
   "cell_type": "code",
   "execution_count": 13,
   "id": "7d950905",
   "metadata": {
    "execution": {
     "iopub.execute_input": "2025-08-31T16:34:55.375273Z",
     "iopub.status.busy": "2025-08-31T16:34:55.374779Z",
     "iopub.status.idle": "2025-08-31T16:34:55.490118Z",
     "shell.execute_reply": "2025-08-31T16:34:55.489474Z"
    },
    "papermill": {
     "duration": 0.339916,
     "end_time": "2025-08-31T16:34:55.491150",
     "exception": false,
     "start_time": "2025-08-31T16:34:55.151234",
     "status": "completed"
    },
    "tags": []
   },
   "outputs": [
    {
     "name": "stdout",
     "output_type": "stream",
     "text": [
      "Epoch\tLearning Rate\n",
      "1\t0.001000\n",
      "2\t0.002800\n",
      "3\t0.004600\n",
      "4\t0.006400\n",
      "5\t0.008200\n",
      "6\t0.010000\n",
      "7\t0.008200\n",
      "8\t0.006400\n",
      "9\t0.004600\n",
      "10\t0.002800\n",
      "11\t0.001000\n",
      "12\t0.001900\n",
      "13\t0.002800\n",
      "14\t0.003700\n",
      "15\t0.004600\n",
      "16\t0.005500\n",
      "17\t0.004600\n",
      "18\t0.003700\n",
      "19\t0.002800\n",
      "20\t0.001900\n",
      "21\t0.001000\n",
      "22\t0.001450\n",
      "23\t0.001900\n",
      "24\t0.002350\n",
      "25\t0.002800\n",
      "26\t0.003250\n",
      "27\t0.002800\n",
      "28\t0.002350\n",
      "29\t0.001900\n",
      "30\t0.001450\n"
     ]
    },
    {
     "data": {
      "image/png": "[encoded data removed]",
      "text/plain": [
       "<Figure size 600x300 with 1 Axes>"
      ]
     },
     "metadata": {},
     "output_type": "display_data"
    }
   ],
   "source": [
    "model = nn.Linear(10, 1)\n",
    "optimizer = optim.Adam(model.parameters(), lr=0.001)\n",
    "scheduler = torch.optim.lr_scheduler.CyclicLR(optimizer, base_lr=0.001, max_lr=0.01,\n",
    "                                            step_size_up=5,  mode='triangular2', gamma=0.9)\n",
    "# scheduler = torch.optim.lr_scheduler.CyclicLR(optimizer, base_lr=0.001, max_lr=0.01,\n",
    "#                                             step_size_up=10, mode=\"exp_range\", gamma=0.9)\n",
    "# gamma : \n",
    "lr_history = get_lr_history(scheduler=scheduler, verbose=True)\n",
    "draw_lr_history(lr_history)"
   ]
  },
  {
   "cell_type": "markdown",
   "id": "b6170cc6",
   "metadata": {
    "papermill": {
     "duration": 0.2204,
     "end_time": "2025-08-31T16:34:55.936782",
     "exception": false,
     "start_time": "2025-08-31T16:34:55.716382",
     "status": "completed"
    },
    "tags": []
   },
   "source": [
    "#### CosineAnnealing\n",
    "\n",
    "* The learning rate gradually decreases from the maximum to the minimum following a cosine curve, and this cosine segment is repeated periodically.\n",
    "\n",
    "  * From maximum LR → minimum LR in a cosine-shaped decay, then repeated back to maximum → minimum.\n",
    "* **T\\_max**: Number of epochs for LR to go from maximum to minimum.\n",
    "* **eta\\_min**: Minimum learning rate.\n"
   ]
  },
  {
   "cell_type": "code",
   "execution_count": 14,
   "id": "2066006f",
   "metadata": {
    "execution": {
     "iopub.execute_input": "2025-08-31T16:34:56.430691Z",
     "iopub.status.busy": "2025-08-31T16:34:56.429920Z",
     "iopub.status.idle": "2025-08-31T16:34:56.562305Z",
     "shell.execute_reply": "2025-08-31T16:34:56.561628Z"
    },
    "papermill": {
     "duration": 0.405072,
     "end_time": "2025-08-31T16:34:56.563424",
     "exception": false,
     "start_time": "2025-08-31T16:34:56.158352",
     "status": "completed"
    },
    "tags": []
   },
   "outputs": [
    {
     "data": {
      "image/png": "[encoded data removed]",
      "text/plain": [
       "<Figure size 1200x400 with 1 Axes>"
      ]
     },
     "metadata": {},
     "output_type": "display_data"
    }
   ],
   "source": [
    "model = nn.Linear(10, 1)\n",
    "optimizer = optim.SGD(model.parameters(), lr=0.001)\n",
    "scheduler = torch.optim.lr_scheduler.CosineAnnealingLR(optimizer, T_max=10, eta_min=0.0001)\n",
    "lr_history = get_lr_history(scheduler=scheduler, epochs=60)\n",
    "draw_lr_history(lr_history, figsize=(12, 4))"
   ]
  },
  {
   "cell_type": "markdown",
   "id": "24cf24d0",
   "metadata": {
    "papermill": {
     "duration": 0.225328,
     "end_time": "2025-08-31T16:34:57.017973",
     "exception": false,
     "start_time": "2025-08-31T16:34:56.792645",
     "status": "completed"
    },
    "tags": []
   },
   "source": [
    "#### CosineAnnealingWarmRestarts\n",
    "\n",
    "* Similar to **CosineAnnealing**, but at the end of each cosine iteration the number of epochs increases periodically, and the learning rate jumps directly from the minimum eta back to the maximum eta.\n",
    "\n",
    "* **T\\_0**: Number of epochs to reach the minimum LR (eta) during the first cosine iteration.\n",
    "\n",
    "* **T\\_mult**: Multiplicative factor by which the epoch length increases for each subsequent cosine iteration.\n",
    "\n",
    "  * For example, if `T_0 = 10` and `T_mult = 2`, the first cosine iteration reaches minimum eta at 10 epochs, and the second at 30 epochs.\n",
    "\n",
    "* **eta\\_min**: Minimum learning rate (eta).\n",
    "\n",
    "* More effective when the number of epochs is **100 or more**.\n"
   ]
  },
  {
   "cell_type": "code",
   "execution_count": 15,
   "id": "828d0b07",
   "metadata": {
    "execution": {
     "iopub.execute_input": "2025-08-31T16:34:57.466088Z",
     "iopub.status.busy": "2025-08-31T16:34:57.465811Z",
     "iopub.status.idle": "2025-08-31T16:34:57.766128Z",
     "shell.execute_reply": "2025-08-31T16:34:57.765420Z"
    },
    "papermill": {
     "duration": 0.52883,
     "end_time": "2025-08-31T16:34:57.767470",
     "exception": false,
     "start_time": "2025-08-31T16:34:57.238640",
     "status": "completed"
    },
    "tags": []
   },
   "outputs": [
    {
     "data": {
      "image/png": "[encoded data removed]",
      "text/plain": [
       "<Figure size 1200x400 with 1 Axes>"
      ]
     },
     "metadata": {},
     "output_type": "display_data"
    }
   ],
   "source": [
    "model = nn.Linear(10, 1)\n",
    "optimizer = optim.Adam(model.parameters(), lr=0.001)\n",
    "scheduler = torch.optim.lr_scheduler.CosineAnnealingWarmRestarts(optimizer, T_0=10, T_mult=2, eta_min=0.0001) #T_0를 20으로 변경\n",
    "lr_history = get_lr_history(scheduler=scheduler, epochs=150)\n",
    "draw_lr_history(lr_history, figsize=(12, 4))"
   ]
  },
  {
   "cell_type": "markdown",
   "id": "c9fbd67f",
   "metadata": {
    "papermill": {
     "duration": 0.223395,
     "end_time": "2025-08-31T16:34:58.263242",
     "exception": false,
     "start_time": "2025-08-31T16:34:58.039847",
     "status": "completed"
    },
    "tags": []
   },
   "source": [
    "#### Apply CosineAnnealingWarmRestarts to CNN model"
   ]
  },
  {
   "cell_type": "code",
   "execution_count": 16,
   "id": "62b8ee15",
   "metadata": {
    "execution": {
     "iopub.execute_input": "2025-08-31T16:34:58.711300Z",
     "iopub.status.busy": "2025-08-31T16:34:58.710724Z",
     "iopub.status.idle": "2025-08-31T16:45:41.614878Z",
     "shell.execute_reply": "2025-08-31T16:45:41.613899Z"
    },
    "papermill": {
     "duration": 643.130428,
     "end_time": "2025-08-31T16:45:41.616258",
     "exception": false,
     "start_time": "2025-08-31T16:34:58.485830",
     "status": "completed"
    },
    "tags": []
   },
   "outputs": [
    {
     "name": "stderr",
     "output_type": "stream",
     "text": [
      "Epoch 1 [Training..]: 100%|██████████| 1329/1329 [00:09<00:00, 136.73it/s, Loss=1.21, Accuracy=0.564]\n"
     ]
    },
    {
     "name": "stdout",
     "output_type": "stream",
     "text": [
      "scheduler step() call\n"
     ]
    },
    {
     "name": "stderr",
     "output_type": "stream",
     "text": [
      "Epoch 1 [Validating]: 100%|██████████| 235/235 [00:00<00:00, 247.16it/s, Loss=1.11, Accuracy=0.61]\n"
     ]
    },
    {
     "name": "stdout",
     "output_type": "stream",
     "text": [
      "Epoch 1/60, Train Loss: 1.2063 Train Accuracy: 0.5643 , Val Loss: 1.1094 Val Accuracy: 0.6103 , Current lr:0.000978\n"
     ]
    },
    {
     "name": "stderr",
     "output_type": "stream",
     "text": [
      "Epoch 2 [Training..]: 100%|██████████| 1329/1329 [00:09<00:00, 136.06it/s, Loss=0.821, Accuracy=0.711]\n"
     ]
    },
    {
     "name": "stdout",
     "output_type": "stream",
     "text": [
      "scheduler step() call\n"
     ]
    },
    {
     "name": "stderr",
     "output_type": "stream",
     "text": [
      "Epoch 2 [Validating]: 100%|██████████| 235/235 [00:00<00:00, 245.96it/s, Loss=0.773, Accuracy=0.734]\n"
     ]
    },
    {
     "name": "stdout",
     "output_type": "stream",
     "text": [
      "Epoch 2/60, Train Loss: 0.8213 Train Accuracy: 0.7110 , Val Loss: 0.7728 Val Accuracy: 0.7339 , Current lr:0.000914\n"
     ]
    },
    {
     "name": "stderr",
     "output_type": "stream",
     "text": [
      "Epoch 3 [Training..]: 100%|██████████| 1329/1329 [00:09<00:00, 136.90it/s, Loss=0.655, Accuracy=0.774]\n"
     ]
    },
    {
     "name": "stdout",
     "output_type": "stream",
     "text": [
      "scheduler step() call\n"
     ]
    },
    {
     "name": "stderr",
     "output_type": "stream",
     "text": [
      "Epoch 3 [Validating]: 100%|██████████| 235/235 [00:00<00:00, 248.02it/s, Loss=0.681, Accuracy=0.76]\n"
     ]
    },
    {
     "name": "stdout",
     "output_type": "stream",
     "text": [
      "Epoch 3/60, Train Loss: 0.6546 Train Accuracy: 0.7737 , Val Loss: 0.6812 Val Accuracy: 0.7599 , Current lr:0.000815\n"
     ]
    },
    {
     "name": "stderr",
     "output_type": "stream",
     "text": [
      "Epoch 4 [Training..]: 100%|██████████| 1329/1329 [00:09<00:00, 136.59it/s, Loss=0.548, Accuracy=0.812]\n"
     ]
    },
    {
     "name": "stdout",
     "output_type": "stream",
     "text": [
      "scheduler step() call\n"
     ]
    },
    {
     "name": "stderr",
     "output_type": "stream",
     "text": [
      "Epoch 4 [Validating]: 100%|██████████| 235/235 [00:00<00:00, 244.98it/s, Loss=0.672, Accuracy=0.772]\n"
     ]
    },
    {
     "name": "stdout",
     "output_type": "stream",
     "text": [
      "Epoch 4/60, Train Loss: 0.5483 Train Accuracy: 0.8123 , Val Loss: 0.6719 Val Accuracy: 0.7723 , Current lr:0.000689\n"
     ]
    },
    {
     "name": "stderr",
     "output_type": "stream",
     "text": [
      "Epoch 5 [Training..]: 100%|██████████| 1329/1329 [00:09<00:00, 136.72it/s, Loss=0.456, Accuracy=0.845]\n"
     ]
    },
    {
     "name": "stdout",
     "output_type": "stream",
     "text": [
      "scheduler step() call\n"
     ]
    },
    {
     "name": "stderr",
     "output_type": "stream",
     "text": [
      "Epoch 5 [Validating]: 100%|██████████| 235/235 [00:00<00:00, 246.97it/s, Loss=0.57, Accuracy=0.804]\n"
     ]
    },
    {
     "name": "stdout",
     "output_type": "stream",
     "text": [
      "Epoch 5/60, Train Loss: 0.4563 Train Accuracy: 0.8446 , Val Loss: 0.5697 Val Accuracy: 0.8036 , Current lr:0.000550\n"
     ]
    },
    {
     "name": "stderr",
     "output_type": "stream",
     "text": [
      "Epoch 6 [Training..]: 100%|██████████| 1329/1329 [00:09<00:00, 135.79it/s, Loss=0.374, Accuracy=0.874]\n"
     ]
    },
    {
     "name": "stdout",
     "output_type": "stream",
     "text": [
      "scheduler step() call\n"
     ]
    },
    {
     "name": "stderr",
     "output_type": "stream",
     "text": [
      "Epoch 6 [Validating]: 100%|██████████| 235/235 [00:00<00:00, 245.39it/s, Loss=0.514, Accuracy=0.827]\n"
     ]
    },
    {
     "name": "stdout",
     "output_type": "stream",
     "text": [
      "Epoch 6/60, Train Loss: 0.3740 Train Accuracy: 0.8735 , Val Loss: 0.5140 Val Accuracy: 0.8267 , Current lr:0.000411\n"
     ]
    },
    {
     "name": "stderr",
     "output_type": "stream",
     "text": [
      "Epoch 7 [Training..]: 100%|██████████| 1329/1329 [00:09<00:00, 136.41it/s, Loss=0.304, Accuracy=0.896]\n"
     ]
    },
    {
     "name": "stdout",
     "output_type": "stream",
     "text": [
      "scheduler step() call\n"
     ]
    },
    {
     "name": "stderr",
     "output_type": "stream",
     "text": [
      "Epoch 7 [Validating]: 100%|██████████| 235/235 [00:00<00:00, 237.63it/s, Loss=0.476, Accuracy=0.837]\n"
     ]
    },
    {
     "name": "stdout",
     "output_type": "stream",
     "text": [
      "Epoch 7/60, Train Loss: 0.3037 Train Accuracy: 0.8965 , Val Loss: 0.4763 Val Accuracy: 0.8367 , Current lr:0.000285\n"
     ]
    },
    {
     "name": "stderr",
     "output_type": "stream",
     "text": [
      "Epoch 8 [Training..]: 100%|██████████| 1329/1329 [00:09<00:00, 137.25it/s, Loss=0.243, Accuracy=0.918]\n"
     ]
    },
    {
     "name": "stdout",
     "output_type": "stream",
     "text": [
      "scheduler step() call\n"
     ]
    },
    {
     "name": "stderr",
     "output_type": "stream",
     "text": [
      "Epoch 8 [Validating]: 100%|██████████| 235/235 [00:00<00:00, 236.77it/s, Loss=0.504, Accuracy=0.835]\n"
     ]
    },
    {
     "name": "stdout",
     "output_type": "stream",
     "text": [
      "Epoch 8/60, Train Loss: 0.2431 Train Accuracy: 0.9180 , Val Loss: 0.5036 Val Accuracy: 0.8353 , Current lr:0.000186\n"
     ]
    },
    {
     "name": "stderr",
     "output_type": "stream",
     "text": [
      "Epoch 9 [Training..]: 100%|██████████| 1329/1329 [00:09<00:00, 135.57it/s, Loss=0.191, Accuracy=0.939]\n"
     ]
    },
    {
     "name": "stdout",
     "output_type": "stream",
     "text": [
      "scheduler step() call\n"
     ]
    },
    {
     "name": "stderr",
     "output_type": "stream",
     "text": [
      "Epoch 9 [Validating]: 100%|██████████| 235/235 [00:00<00:00, 243.17it/s, Loss=0.464, Accuracy=0.849]\n"
     ]
    },
    {
     "name": "stdout",
     "output_type": "stream",
     "text": [
      "Epoch 9/60, Train Loss: 0.1913 Train Accuracy: 0.9389 , Val Loss: 0.4639 Val Accuracy: 0.8485 , Current lr:0.000122\n"
     ]
    },
    {
     "name": "stderr",
     "output_type": "stream",
     "text": [
      "Epoch 10 [Training..]: 100%|██████████| 1329/1329 [00:09<00:00, 137.40it/s, Loss=0.159, Accuracy=0.952]\n"
     ]
    },
    {
     "name": "stdout",
     "output_type": "stream",
     "text": [
      "scheduler step() call\n"
     ]
    },
    {
     "name": "stderr",
     "output_type": "stream",
     "text": [
      "Epoch 10 [Validating]: 100%|██████████| 235/235 [00:00<00:00, 248.29it/s, Loss=0.481, Accuracy=0.844]\n"
     ]
    },
    {
     "name": "stdout",
     "output_type": "stream",
     "text": [
      "Epoch 10/60, Train Loss: 0.1593 Train Accuracy: 0.9516 , Val Loss: 0.4806 Val Accuracy: 0.8436 , Current lr:0.001000\n"
     ]
    },
    {
     "name": "stderr",
     "output_type": "stream",
     "text": [
      "Epoch 11 [Training..]: 100%|██████████| 1329/1329 [00:09<00:00, 136.78it/s, Loss=0.37, Accuracy=0.87]\n"
     ]
    },
    {
     "name": "stdout",
     "output_type": "stream",
     "text": [
      "scheduler step() call\n"
     ]
    },
    {
     "name": "stderr",
     "output_type": "stream",
     "text": [
      "Epoch 11 [Validating]: 100%|██████████| 235/235 [00:00<00:00, 243.64it/s, Loss=0.584, Accuracy=0.812]\n"
     ]
    },
    {
     "name": "stdout",
     "output_type": "stream",
     "text": [
      "Epoch 11/60, Train Loss: 0.3699 Train Accuracy: 0.8700 , Val Loss: 0.5841 Val Accuracy: 0.8117 , Current lr:0.000994\n"
     ]
    },
    {
     "name": "stderr",
     "output_type": "stream",
     "text": [
      "Epoch 12 [Training..]: 100%|██████████| 1329/1329 [00:09<00:00, 135.08it/s, Loss=0.307, Accuracy=0.892]\n"
     ]
    },
    {
     "name": "stdout",
     "output_type": "stream",
     "text": [
      "scheduler step() call\n"
     ]
    },
    {
     "name": "stderr",
     "output_type": "stream",
     "text": [
      "Epoch 12 [Validating]: 100%|██████████| 235/235 [00:00<00:00, 243.13it/s, Loss=0.647, Accuracy=0.795]\n"
     ]
    },
    {
     "name": "stdout",
     "output_type": "stream",
     "text": [
      "Epoch 12/60, Train Loss: 0.3066 Train Accuracy: 0.8920 , Val Loss: 0.6469 Val Accuracy: 0.7947 , Current lr:0.000978\n"
     ]
    },
    {
     "name": "stderr",
     "output_type": "stream",
     "text": [
      "Epoch 13 [Training..]: 100%|██████████| 1329/1329 [00:09<00:00, 137.17it/s, Loss=0.263, Accuracy=0.908]\n"
     ]
    },
    {
     "name": "stdout",
     "output_type": "stream",
     "text": [
      "scheduler step() call\n"
     ]
    },
    {
     "name": "stderr",
     "output_type": "stream",
     "text": [
      "Epoch 13 [Validating]: 100%|██████████| 235/235 [00:00<00:00, 240.51it/s, Loss=0.633, Accuracy=0.81]\n"
     ]
    },
    {
     "name": "stdout",
     "output_type": "stream",
     "text": [
      "Epoch 13/60, Train Loss: 0.2633 Train Accuracy: 0.9076 , Val Loss: 0.6332 Val Accuracy: 0.8099 , Current lr:0.000951\n"
     ]
    },
    {
     "name": "stderr",
     "output_type": "stream",
     "text": [
      "Epoch 14 [Training..]: 100%|██████████| 1329/1329 [00:09<00:00, 135.45it/s, Loss=0.232, Accuracy=0.919]\n"
     ]
    },
    {
     "name": "stdout",
     "output_type": "stream",
     "text": [
      "scheduler step() call\n"
     ]
    },
    {
     "name": "stderr",
     "output_type": "stream",
     "text": [
      "Epoch 14 [Validating]: 100%|██████████| 235/235 [00:00<00:00, 245.47it/s, Loss=0.598, Accuracy=0.818]\n"
     ]
    },
    {
     "name": "stdout",
     "output_type": "stream",
     "text": [
      "Epoch 14/60, Train Loss: 0.2323 Train Accuracy: 0.9186 , Val Loss: 0.5984 Val Accuracy: 0.8177 , Current lr:0.000914\n"
     ]
    },
    {
     "name": "stderr",
     "output_type": "stream",
     "text": [
      "Epoch 15 [Training..]: 100%|██████████| 1329/1329 [00:09<00:00, 136.75it/s, Loss=0.193, Accuracy=0.933]\n"
     ]
    },
    {
     "name": "stdout",
     "output_type": "stream",
     "text": [
      "scheduler step() call\n"
     ]
    },
    {
     "name": "stderr",
     "output_type": "stream",
     "text": [
      "Epoch 15 [Validating]: 100%|██████████| 235/235 [00:00<00:00, 247.22it/s, Loss=0.608, Accuracy=0.822]\n"
     ]
    },
    {
     "name": "stdout",
     "output_type": "stream",
     "text": [
      "Epoch 15/60, Train Loss: 0.1933 Train Accuracy: 0.9331 , Val Loss: 0.6077 Val Accuracy: 0.8219 , Current lr:0.000868\n"
     ]
    },
    {
     "name": "stderr",
     "output_type": "stream",
     "text": [
      "Epoch 16 [Training..]: 100%|██████████| 1329/1329 [00:09<00:00, 136.40it/s, Loss=0.165, Accuracy=0.943]\n"
     ]
    },
    {
     "name": "stdout",
     "output_type": "stream",
     "text": [
      "scheduler step() call\n"
     ]
    },
    {
     "name": "stderr",
     "output_type": "stream",
     "text": [
      "Epoch 16 [Validating]: 100%|██████████| 235/235 [00:00<00:00, 246.26it/s, Loss=0.772, Accuracy=0.78]\n"
     ]
    },
    {
     "name": "stdout",
     "output_type": "stream",
     "text": [
      "Epoch 16/60, Train Loss: 0.1649 Train Accuracy: 0.9426 , Val Loss: 0.7722 Val Accuracy: 0.7803 , Current lr:0.000815\n"
     ]
    },
    {
     "name": "stderr",
     "output_type": "stream",
     "text": [
      "Epoch 17 [Training..]: 100%|██████████| 1329/1329 [00:09<00:00, 136.99it/s, Loss=0.134, Accuracy=0.955]\n"
     ]
    },
    {
     "name": "stdout",
     "output_type": "stream",
     "text": [
      "scheduler step() call\n"
     ]
    },
    {
     "name": "stderr",
     "output_type": "stream",
     "text": [
      "Epoch 17 [Validating]: 100%|██████████| 235/235 [00:00<00:00, 250.74it/s, Loss=0.579, Accuracy=0.826]\n"
     ]
    },
    {
     "name": "stdout",
     "output_type": "stream",
     "text": [
      "Epoch 17/60, Train Loss: 0.1336 Train Accuracy: 0.9551 , Val Loss: 0.5787 Val Accuracy: 0.8264 , Current lr:0.000754\n"
     ]
    },
    {
     "name": "stderr",
     "output_type": "stream",
     "text": [
      "Epoch 18 [Training..]: 100%|██████████| 1329/1329 [00:09<00:00, 135.16it/s, Loss=0.109, Accuracy=0.964]\n"
     ]
    },
    {
     "name": "stdout",
     "output_type": "stream",
     "text": [
      "scheduler step() call\n"
     ]
    },
    {
     "name": "stderr",
     "output_type": "stream",
     "text": [
      "Epoch 18 [Validating]: 100%|██████████| 235/235 [00:00<00:00, 240.01it/s, Loss=0.613, Accuracy=0.83]\n"
     ]
    },
    {
     "name": "stdout",
     "output_type": "stream",
     "text": [
      "Epoch 18/60, Train Loss: 0.1088 Train Accuracy: 0.9638 , Val Loss: 0.6126 Val Accuracy: 0.8297 , Current lr:0.000689\n"
     ]
    },
    {
     "name": "stderr",
     "output_type": "stream",
     "text": [
      "Epoch 19 [Training..]: 100%|██████████| 1329/1329 [00:09<00:00, 135.31it/s, Loss=0.0839, Accuracy=0.973]\n"
     ]
    },
    {
     "name": "stdout",
     "output_type": "stream",
     "text": [
      "scheduler step() call\n"
     ]
    },
    {
     "name": "stderr",
     "output_type": "stream",
     "text": [
      "Epoch 19 [Validating]: 100%|██████████| 235/235 [00:00<00:00, 243.45it/s, Loss=0.68, Accuracy=0.822]\n"
     ]
    },
    {
     "name": "stdout",
     "output_type": "stream",
     "text": [
      "Epoch 19/60, Train Loss: 0.0839 Train Accuracy: 0.9728 , Val Loss: 0.6798 Val Accuracy: 0.8220 , Current lr:0.000620\n"
     ]
    },
    {
     "name": "stderr",
     "output_type": "stream",
     "text": [
      "Epoch 20 [Training..]: 100%|██████████| 1329/1329 [00:09<00:00, 136.23it/s, Loss=0.0667, Accuracy=0.979]\n"
     ]
    },
    {
     "name": "stdout",
     "output_type": "stream",
     "text": [
      "scheduler step() call\n"
     ]
    },
    {
     "name": "stderr",
     "output_type": "stream",
     "text": [
      "Epoch 20 [Validating]: 100%|██████████| 235/235 [00:01<00:00, 229.11it/s, Loss=0.631, Accuracy=0.836]\n"
     ]
    },
    {
     "name": "stdout",
     "output_type": "stream",
     "text": [
      "Epoch 20/60, Train Loss: 0.0667 Train Accuracy: 0.9790 , Val Loss: 0.6309 Val Accuracy: 0.8359 , Current lr:0.000550\n"
     ]
    },
    {
     "name": "stderr",
     "output_type": "stream",
     "text": [
      "Epoch 21 [Training..]: 100%|██████████| 1329/1329 [00:09<00:00, 137.50it/s, Loss=0.0499, Accuracy=0.985]\n"
     ]
    },
    {
     "name": "stdout",
     "output_type": "stream",
     "text": [
      "scheduler step() call\n"
     ]
    },
    {
     "name": "stderr",
     "output_type": "stream",
     "text": [
      "Epoch 21 [Validating]: 100%|██████████| 235/235 [00:00<00:00, 236.13it/s, Loss=0.664, Accuracy=0.834]\n"
     ]
    },
    {
     "name": "stdout",
     "output_type": "stream",
     "text": [
      "Epoch 21/60, Train Loss: 0.0499 Train Accuracy: 0.9855 , Val Loss: 0.6641 Val Accuracy: 0.8339 , Current lr:0.000480\n"
     ]
    },
    {
     "name": "stderr",
     "output_type": "stream",
     "text": [
      "Epoch 22 [Training..]: 100%|██████████| 1329/1329 [00:09<00:00, 136.73it/s, Loss=0.0394, Accuracy=0.988]\n"
     ]
    },
    {
     "name": "stdout",
     "output_type": "stream",
     "text": [
      "scheduler step() call\n"
     ]
    },
    {
     "name": "stderr",
     "output_type": "stream",
     "text": [
      "Epoch 22 [Validating]: 100%|██████████| 235/235 [00:00<00:00, 236.88it/s, Loss=0.658, Accuracy=0.84]\n"
     ]
    },
    {
     "name": "stdout",
     "output_type": "stream",
     "text": [
      "Epoch 22/60, Train Loss: 0.0394 Train Accuracy: 0.9883 , Val Loss: 0.6580 Val Accuracy: 0.8403 , Current lr:0.000411\n"
     ]
    },
    {
     "name": "stderr",
     "output_type": "stream",
     "text": [
      "Epoch 23 [Training..]: 100%|██████████| 1329/1329 [00:09<00:00, 134.72it/s, Loss=0.0314, Accuracy=0.992]\n"
     ]
    },
    {
     "name": "stdout",
     "output_type": "stream",
     "text": [
      "scheduler step() call\n"
     ]
    },
    {
     "name": "stderr",
     "output_type": "stream",
     "text": [
      "Epoch 23 [Validating]: 100%|██████████| 235/235 [00:00<00:00, 243.67it/s, Loss=0.656, Accuracy=0.844]\n"
     ]
    },
    {
     "name": "stdout",
     "output_type": "stream",
     "text": [
      "Epoch 23/60, Train Loss: 0.0314 Train Accuracy: 0.9916 , Val Loss: 0.6557 Val Accuracy: 0.8441 , Current lr:0.000346\n"
     ]
    },
    {
     "name": "stderr",
     "output_type": "stream",
     "text": [
      "Epoch 24 [Training..]: 100%|██████████| 1329/1329 [00:09<00:00, 135.71it/s, Loss=0.0211, Accuracy=0.995]\n"
     ]
    },
    {
     "name": "stdout",
     "output_type": "stream",
     "text": [
      "scheduler step() call\n"
     ]
    },
    {
     "name": "stderr",
     "output_type": "stream",
     "text": [
      "Epoch 24 [Validating]: 100%|██████████| 235/235 [00:00<00:00, 245.64it/s, Loss=0.656, Accuracy=0.846]\n"
     ]
    },
    {
     "name": "stdout",
     "output_type": "stream",
     "text": [
      "Epoch 24/60, Train Loss: 0.0211 Train Accuracy: 0.9951 , Val Loss: 0.6562 Val Accuracy: 0.8456 , Current lr:0.000285\n"
     ]
    },
    {
     "name": "stderr",
     "output_type": "stream",
     "text": [
      "Epoch 25 [Training..]: 100%|██████████| 1329/1329 [00:09<00:00, 135.91it/s, Loss=0.0168, Accuracy=0.996]\n"
     ]
    },
    {
     "name": "stdout",
     "output_type": "stream",
     "text": [
      "scheduler step() call\n"
     ]
    },
    {
     "name": "stderr",
     "output_type": "stream",
     "text": [
      "Epoch 25 [Validating]: 100%|██████████| 235/235 [00:00<00:00, 244.75it/s, Loss=0.703, Accuracy=0.843]\n"
     ]
    },
    {
     "name": "stdout",
     "output_type": "stream",
     "text": [
      "Epoch 25/60, Train Loss: 0.0168 Train Accuracy: 0.9962 , Val Loss: 0.7035 Val Accuracy: 0.8435 , Current lr:0.000232\n"
     ]
    },
    {
     "name": "stderr",
     "output_type": "stream",
     "text": [
      "Epoch 26 [Training..]: 100%|██████████| 1329/1329 [00:09<00:00, 136.44it/s, Loss=0.012, Accuracy=0.998]\n"
     ]
    },
    {
     "name": "stdout",
     "output_type": "stream",
     "text": [
      "scheduler step() call\n"
     ]
    },
    {
     "name": "stderr",
     "output_type": "stream",
     "text": [
      "Epoch 26 [Validating]: 100%|██████████| 235/235 [00:00<00:00, 241.33it/s, Loss=0.714, Accuracy=0.845]\n"
     ]
    },
    {
     "name": "stdout",
     "output_type": "stream",
     "text": [
      "Epoch 26/60, Train Loss: 0.0120 Train Accuracy: 0.9979 , Val Loss: 0.7138 Val Accuracy: 0.8452 , Current lr:0.000186\n"
     ]
    },
    {
     "name": "stderr",
     "output_type": "stream",
     "text": [
      "Epoch 27 [Training..]: 100%|██████████| 1329/1329 [00:09<00:00, 137.25it/s, Loss=0.00918, Accuracy=0.999]\n"
     ]
    },
    {
     "name": "stdout",
     "output_type": "stream",
     "text": [
      "scheduler step() call\n"
     ]
    },
    {
     "name": "stderr",
     "output_type": "stream",
     "text": [
      "Epoch 27 [Validating]: 100%|██████████| 235/235 [00:00<00:00, 243.38it/s, Loss=0.663, Accuracy=0.849]\n"
     ]
    },
    {
     "name": "stdout",
     "output_type": "stream",
     "text": [
      "Epoch 27/60, Train Loss: 0.0092 Train Accuracy: 0.9986 , Val Loss: 0.6633 Val Accuracy: 0.8487 , Current lr:0.000149\n"
     ]
    },
    {
     "name": "stderr",
     "output_type": "stream",
     "text": [
      "Epoch 28 [Training..]: 100%|██████████| 1329/1329 [00:09<00:00, 138.65it/s, Loss=0.00788, Accuracy=0.999]\n"
     ]
    },
    {
     "name": "stdout",
     "output_type": "stream",
     "text": [
      "scheduler step() call\n"
     ]
    },
    {
     "name": "stderr",
     "output_type": "stream",
     "text": [
      "Epoch 28 [Validating]: 100%|██████████| 235/235 [00:00<00:00, 240.74it/s, Loss=0.691, Accuracy=0.848]\n"
     ]
    },
    {
     "name": "stdout",
     "output_type": "stream",
     "text": [
      "Epoch 28/60, Train Loss: 0.0079 Train Accuracy: 0.9988 , Val Loss: 0.6914 Val Accuracy: 0.8481 , Current lr:0.000122\n"
     ]
    },
    {
     "name": "stderr",
     "output_type": "stream",
     "text": [
      "Epoch 29 [Training..]: 100%|██████████| 1329/1329 [00:09<00:00, 136.54it/s, Loss=0.00686, Accuracy=0.999]\n"
     ]
    },
    {
     "name": "stdout",
     "output_type": "stream",
     "text": [
      "scheduler step() call\n"
     ]
    },
    {
     "name": "stderr",
     "output_type": "stream",
     "text": [
      "Epoch 29 [Validating]: 100%|██████████| 235/235 [00:00<00:00, 247.83it/s, Loss=0.672, Accuracy=0.854]\n"
     ]
    },
    {
     "name": "stdout",
     "output_type": "stream",
     "text": [
      "Epoch 29/60, Train Loss: 0.0069 Train Accuracy: 0.9990 , Val Loss: 0.6725 Val Accuracy: 0.8537 , Current lr:0.000106\n"
     ]
    },
    {
     "name": "stderr",
     "output_type": "stream",
     "text": [
      "Epoch 30 [Training..]: 100%|██████████| 1329/1329 [00:09<00:00, 136.61it/s, Loss=0.00588, Accuracy=0.999]\n"
     ]
    },
    {
     "name": "stdout",
     "output_type": "stream",
     "text": [
      "scheduler step() call\n"
     ]
    },
    {
     "name": "stderr",
     "output_type": "stream",
     "text": [
      "Epoch 30 [Validating]: 100%|██████████| 235/235 [00:00<00:00, 247.02it/s, Loss=0.689, Accuracy=0.851]\n"
     ]
    },
    {
     "name": "stdout",
     "output_type": "stream",
     "text": [
      "Epoch 30/60, Train Loss: 0.0059 Train Accuracy: 0.9992 , Val Loss: 0.6885 Val Accuracy: 0.8509 , Current lr:0.001000\n"
     ]
    },
    {
     "name": "stderr",
     "output_type": "stream",
     "text": [
      "Epoch 31 [Training..]: 100%|██████████| 1329/1329 [00:09<00:00, 136.70it/s, Loss=0.239, Accuracy=0.922]\n"
     ]
    },
    {
     "name": "stdout",
     "output_type": "stream",
     "text": [
      "scheduler step() call\n"
     ]
    },
    {
     "name": "stderr",
     "output_type": "stream",
     "text": [
      "Epoch 31 [Validating]: 100%|██████████| 235/235 [00:00<00:00, 242.49it/s, Loss=0.747, Accuracy=0.807]\n"
     ]
    },
    {
     "name": "stdout",
     "output_type": "stream",
     "text": [
      "Epoch 31/60, Train Loss: 0.2393 Train Accuracy: 0.9218 , Val Loss: 0.7468 Val Accuracy: 0.8069 , Current lr:0.000999\n"
     ]
    },
    {
     "name": "stderr",
     "output_type": "stream",
     "text": [
      "Epoch 32 [Training..]: 100%|██████████| 1329/1329 [00:09<00:00, 134.22it/s, Loss=0.0882, Accuracy=0.969]\n"
     ]
    },
    {
     "name": "stdout",
     "output_type": "stream",
     "text": [
      "scheduler step() call\n"
     ]
    },
    {
     "name": "stderr",
     "output_type": "stream",
     "text": [
      "Epoch 32 [Validating]: 100%|██████████| 235/235 [00:00<00:00, 240.34it/s, Loss=0.853, Accuracy=0.799]\n"
     ]
    },
    {
     "name": "stdout",
     "output_type": "stream",
     "text": [
      "Epoch 32/60, Train Loss: 0.0882 Train Accuracy: 0.9692 , Val Loss: 0.8532 Val Accuracy: 0.7987 , Current lr:0.000994\n"
     ]
    },
    {
     "name": "stderr",
     "output_type": "stream",
     "text": [
      "Epoch 33 [Training..]: 100%|██████████| 1329/1329 [00:09<00:00, 134.93it/s, Loss=0.0871, Accuracy=0.97]\n"
     ]
    },
    {
     "name": "stdout",
     "output_type": "stream",
     "text": [
      "scheduler step() call\n"
     ]
    },
    {
     "name": "stderr",
     "output_type": "stream",
     "text": [
      "Epoch 33 [Validating]: 100%|██████████| 235/235 [00:00<00:00, 244.84it/s, Loss=0.809, Accuracy=0.811]\n"
     ]
    },
    {
     "name": "stdout",
     "output_type": "stream",
     "text": [
      "Epoch 33/60, Train Loss: 0.0871 Train Accuracy: 0.9700 , Val Loss: 0.8090 Val Accuracy: 0.8112 , Current lr:0.000988\n"
     ]
    },
    {
     "name": "stderr",
     "output_type": "stream",
     "text": [
      "Epoch 34 [Training..]: 100%|██████████| 1329/1329 [00:09<00:00, 137.20it/s, Loss=0.0821, Accuracy=0.97]\n"
     ]
    },
    {
     "name": "stdout",
     "output_type": "stream",
     "text": [
      "scheduler step() call\n"
     ]
    },
    {
     "name": "stderr",
     "output_type": "stream",
     "text": [
      "Epoch 34 [Validating]: 100%|██████████| 235/235 [00:00<00:00, 244.99it/s, Loss=0.773, Accuracy=0.819]\n"
     ]
    },
    {
     "name": "stdout",
     "output_type": "stream",
     "text": [
      "Epoch 34/60, Train Loss: 0.0821 Train Accuracy: 0.9704 , Val Loss: 0.7732 Val Accuracy: 0.8193 , Current lr:0.000978\n"
     ]
    },
    {
     "name": "stderr",
     "output_type": "stream",
     "text": [
      "Epoch 35 [Training..]: 100%|██████████| 1329/1329 [00:09<00:00, 135.91it/s, Loss=0.0724, Accuracy=0.975]\n"
     ]
    },
    {
     "name": "stdout",
     "output_type": "stream",
     "text": [
      "scheduler step() call\n"
     ]
    },
    {
     "name": "stderr",
     "output_type": "stream",
     "text": [
      "Epoch 35 [Validating]: 100%|██████████| 235/235 [00:00<00:00, 236.76it/s, Loss=0.75, Accuracy=0.822]\n"
     ]
    },
    {
     "name": "stdout",
     "output_type": "stream",
     "text": [
      "Epoch 35/60, Train Loss: 0.0724 Train Accuracy: 0.9751 , Val Loss: 0.7498 Val Accuracy: 0.8216 , Current lr:0.000966\n"
     ]
    },
    {
     "name": "stderr",
     "output_type": "stream",
     "text": [
      "Epoch 36 [Training..]: 100%|██████████| 1329/1329 [00:09<00:00, 137.00it/s, Loss=0.0657, Accuracy=0.978]\n"
     ]
    },
    {
     "name": "stdout",
     "output_type": "stream",
     "text": [
      "scheduler step() call\n"
     ]
    },
    {
     "name": "stderr",
     "output_type": "stream",
     "text": [
      "Epoch 36 [Validating]: 100%|██████████| 235/235 [00:00<00:00, 243.45it/s, Loss=0.761, Accuracy=0.827]\n"
     ]
    },
    {
     "name": "stdout",
     "output_type": "stream",
     "text": [
      "Epoch 36/60, Train Loss: 0.0657 Train Accuracy: 0.9781 , Val Loss: 0.7610 Val Accuracy: 0.8267 , Current lr:0.000951\n"
     ]
    },
    {
     "name": "stderr",
     "output_type": "stream",
     "text": [
      "Epoch 37 [Training..]: 100%|██████████| 1329/1329 [00:09<00:00, 137.01it/s, Loss=0.0621, Accuracy=0.979]\n"
     ]
    },
    {
     "name": "stdout",
     "output_type": "stream",
     "text": [
      "scheduler step() call\n"
     ]
    },
    {
     "name": "stderr",
     "output_type": "stream",
     "text": [
      "Epoch 37 [Validating]: 100%|██████████| 235/235 [00:00<00:00, 242.86it/s, Loss=0.74, Accuracy=0.827]\n"
     ]
    },
    {
     "name": "stdout",
     "output_type": "stream",
     "text": [
      "Epoch 37/60, Train Loss: 0.0621 Train Accuracy: 0.9792 , Val Loss: 0.7403 Val Accuracy: 0.8275 , Current lr:0.000934\n"
     ]
    },
    {
     "name": "stderr",
     "output_type": "stream",
     "text": [
      "Epoch 38 [Training..]: 100%|██████████| 1329/1329 [00:09<00:00, 137.49it/s, Loss=0.0593, Accuracy=0.98]\n"
     ]
    },
    {
     "name": "stdout",
     "output_type": "stream",
     "text": [
      "scheduler step() call\n"
     ]
    },
    {
     "name": "stderr",
     "output_type": "stream",
     "text": [
      "Epoch 38 [Validating]: 100%|██████████| 235/235 [00:00<00:00, 245.92it/s, Loss=0.825, Accuracy=0.814]\n"
     ]
    },
    {
     "name": "stdout",
     "output_type": "stream",
     "text": [
      "Epoch 38/60, Train Loss: 0.0593 Train Accuracy: 0.9798 , Val Loss: 0.8250 Val Accuracy: 0.8143 , Current lr:0.000914\n"
     ]
    },
    {
     "name": "stderr",
     "output_type": "stream",
     "text": [
      "Epoch 39 [Training..]: 100%|██████████| 1329/1329 [00:09<00:00, 137.41it/s, Loss=0.0481, Accuracy=0.984]\n"
     ]
    },
    {
     "name": "stdout",
     "output_type": "stream",
     "text": [
      "scheduler step() call\n"
     ]
    },
    {
     "name": "stderr",
     "output_type": "stream",
     "text": [
      "Epoch 39 [Validating]: 100%|██████████| 235/235 [00:00<00:00, 243.93it/s, Loss=0.774, Accuracy=0.828]\n"
     ]
    },
    {
     "name": "stdout",
     "output_type": "stream",
     "text": [
      "Epoch 39/60, Train Loss: 0.0481 Train Accuracy: 0.9840 , Val Loss: 0.7745 Val Accuracy: 0.8279 , Current lr:0.000892\n"
     ]
    },
    {
     "name": "stderr",
     "output_type": "stream",
     "text": [
      "Epoch 40 [Training..]: 100%|██████████| 1329/1329 [00:09<00:00, 138.60it/s, Loss=0.0495, Accuracy=0.983]\n"
     ]
    },
    {
     "name": "stdout",
     "output_type": "stream",
     "text": [
      "scheduler step() call\n"
     ]
    },
    {
     "name": "stderr",
     "output_type": "stream",
     "text": [
      "Epoch 40 [Validating]: 100%|██████████| 235/235 [00:01<00:00, 231.79it/s, Loss=0.733, Accuracy=0.831]\n"
     ]
    },
    {
     "name": "stdout",
     "output_type": "stream",
     "text": [
      "Epoch 40/60, Train Loss: 0.0495 Train Accuracy: 0.9833 , Val Loss: 0.7334 Val Accuracy: 0.8313 , Current lr:0.000868\n"
     ]
    },
    {
     "name": "stderr",
     "output_type": "stream",
     "text": [
      "Epoch 41 [Training..]: 100%|██████████| 1329/1329 [00:09<00:00, 135.79it/s, Loss=0.0406, Accuracy=0.987]\n"
     ]
    },
    {
     "name": "stdout",
     "output_type": "stream",
     "text": [
      "scheduler step() call\n"
     ]
    },
    {
     "name": "stderr",
     "output_type": "stream",
     "text": [
      "Epoch 41 [Validating]: 100%|██████████| 235/235 [00:00<00:00, 246.18it/s, Loss=0.786, Accuracy=0.832]\n"
     ]
    },
    {
     "name": "stdout",
     "output_type": "stream",
     "text": [
      "Epoch 41/60, Train Loss: 0.0406 Train Accuracy: 0.9866 , Val Loss: 0.7855 Val Accuracy: 0.8316 , Current lr:0.000842\n"
     ]
    },
    {
     "name": "stderr",
     "output_type": "stream",
     "text": [
      "Epoch 42 [Training..]: 100%|██████████| 1329/1329 [00:09<00:00, 135.44it/s, Loss=0.042, Accuracy=0.986]\n"
     ]
    },
    {
     "name": "stdout",
     "output_type": "stream",
     "text": [
      "scheduler step() call\n"
     ]
    },
    {
     "name": "stderr",
     "output_type": "stream",
     "text": [
      "Epoch 42 [Validating]: 100%|██████████| 235/235 [00:00<00:00, 241.73it/s, Loss=0.902, Accuracy=0.817]\n"
     ]
    },
    {
     "name": "stdout",
     "output_type": "stream",
     "text": [
      "Epoch 42/60, Train Loss: 0.0420 Train Accuracy: 0.9862 , Val Loss: 0.9023 Val Accuracy: 0.8168 , Current lr:0.000815\n"
     ]
    },
    {
     "name": "stderr",
     "output_type": "stream",
     "text": [
      "Epoch 43 [Training..]: 100%|██████████| 1329/1329 [00:09<00:00, 134.42it/s, Loss=0.04, Accuracy=0.987]\n"
     ]
    },
    {
     "name": "stdout",
     "output_type": "stream",
     "text": [
      "scheduler step() call\n"
     ]
    },
    {
     "name": "stderr",
     "output_type": "stream",
     "text": [
      "Epoch 43 [Validating]: 100%|██████████| 235/235 [00:00<00:00, 245.64it/s, Loss=0.831, Accuracy=0.816]\n"
     ]
    },
    {
     "name": "stdout",
     "output_type": "stream",
     "text": [
      "Epoch 43/60, Train Loss: 0.0400 Train Accuracy: 0.9874 , Val Loss: 0.8312 Val Accuracy: 0.8164 , Current lr:0.000785\n"
     ]
    },
    {
     "name": "stderr",
     "output_type": "stream",
     "text": [
      "Epoch 44 [Training..]: 100%|██████████| 1329/1329 [00:09<00:00, 136.02it/s, Loss=0.0309, Accuracy=0.99]\n"
     ]
    },
    {
     "name": "stdout",
     "output_type": "stream",
     "text": [
      "scheduler step() call\n"
     ]
    },
    {
     "name": "stderr",
     "output_type": "stream",
     "text": [
      "Epoch 44 [Validating]: 100%|██████████| 235/235 [00:00<00:00, 244.42it/s, Loss=0.777, Accuracy=0.839]\n"
     ]
    },
    {
     "name": "stdout",
     "output_type": "stream",
     "text": [
      "Epoch 44/60, Train Loss: 0.0309 Train Accuracy: 0.9903 , Val Loss: 0.7770 Val Accuracy: 0.8393 , Current lr:0.000754\n"
     ]
    },
    {
     "name": "stderr",
     "output_type": "stream",
     "text": [
      "Epoch 45 [Training..]: 100%|██████████| 1329/1329 [00:09<00:00, 138.20it/s, Loss=0.031, Accuracy=0.991]\n"
     ]
    },
    {
     "name": "stdout",
     "output_type": "stream",
     "text": [
      "scheduler step() call\n"
     ]
    },
    {
     "name": "stderr",
     "output_type": "stream",
     "text": [
      "Epoch 45 [Validating]: 100%|██████████| 235/235 [00:00<00:00, 246.22it/s, Loss=0.844, Accuracy=0.823]\n"
     ]
    },
    {
     "name": "stdout",
     "output_type": "stream",
     "text": [
      "Epoch 45/60, Train Loss: 0.0310 Train Accuracy: 0.9905 , Val Loss: 0.8437 Val Accuracy: 0.8229 , Current lr:0.000722\n"
     ]
    },
    {
     "name": "stderr",
     "output_type": "stream",
     "text": [
      "Epoch 46 [Training..]: 100%|██████████| 1329/1329 [00:09<00:00, 135.37it/s, Loss=0.0291, Accuracy=0.991]\n"
     ]
    },
    {
     "name": "stdout",
     "output_type": "stream",
     "text": [
      "scheduler step() call\n"
     ]
    },
    {
     "name": "stderr",
     "output_type": "stream",
     "text": [
      "Epoch 46 [Validating]: 100%|██████████| 235/235 [00:00<00:00, 245.89it/s, Loss=0.797, Accuracy=0.834]\n"
     ]
    },
    {
     "name": "stdout",
     "output_type": "stream",
     "text": [
      "Epoch 46/60, Train Loss: 0.0291 Train Accuracy: 0.9908 , Val Loss: 0.7975 Val Accuracy: 0.8337 , Current lr:0.000689\n"
     ]
    },
    {
     "name": "stderr",
     "output_type": "stream",
     "text": [
      "Epoch 47 [Training..]: 100%|██████████| 1329/1329 [00:09<00:00, 137.47it/s, Loss=0.0214, Accuracy=0.993]\n"
     ]
    },
    {
     "name": "stdout",
     "output_type": "stream",
     "text": [
      "scheduler step() call\n"
     ]
    },
    {
     "name": "stderr",
     "output_type": "stream",
     "text": [
      "Epoch 47 [Validating]: 100%|██████████| 235/235 [00:00<00:00, 243.51it/s, Loss=0.774, Accuracy=0.841]\n"
     ]
    },
    {
     "name": "stdout",
     "output_type": "stream",
     "text": [
      "Epoch 47/60, Train Loss: 0.0214 Train Accuracy: 0.9933 , Val Loss: 0.7744 Val Accuracy: 0.8412 , Current lr:0.000655\n"
     ]
    },
    {
     "name": "stderr",
     "output_type": "stream",
     "text": [
      "Epoch 48 [Training..]: 100%|██████████| 1329/1329 [00:09<00:00, 135.64it/s, Loss=0.0225, Accuracy=0.993]\n"
     ]
    },
    {
     "name": "stdout",
     "output_type": "stream",
     "text": [
      "scheduler step() call\n"
     ]
    },
    {
     "name": "stderr",
     "output_type": "stream",
     "text": [
      "Epoch 48 [Validating]: 100%|██████████| 235/235 [00:00<00:00, 243.02it/s, Loss=0.836, Accuracy=0.831]\n"
     ]
    },
    {
     "name": "stdout",
     "output_type": "stream",
     "text": [
      "Epoch 48/60, Train Loss: 0.0225 Train Accuracy: 0.9933 , Val Loss: 0.8357 Val Accuracy: 0.8305 , Current lr:0.000620\n"
     ]
    },
    {
     "name": "stderr",
     "output_type": "stream",
     "text": [
      "Epoch 49 [Training..]: 100%|██████████| 1329/1329 [00:09<00:00, 136.48it/s, Loss=0.0196, Accuracy=0.994]\n"
     ]
    },
    {
     "name": "stdout",
     "output_type": "stream",
     "text": [
      "scheduler step() call\n"
     ]
    },
    {
     "name": "stderr",
     "output_type": "stream",
     "text": [
      "Epoch 49 [Validating]: 100%|██████████| 235/235 [00:00<00:00, 237.19it/s, Loss=0.875, Accuracy=0.834]\n"
     ]
    },
    {
     "name": "stdout",
     "output_type": "stream",
     "text": [
      "Epoch 49/60, Train Loss: 0.0196 Train Accuracy: 0.9938 , Val Loss: 0.8750 Val Accuracy: 0.8337 , Current lr:0.000585\n"
     ]
    },
    {
     "name": "stderr",
     "output_type": "stream",
     "text": [
      "Epoch 50 [Training..]: 100%|██████████| 1329/1329 [00:09<00:00, 138.04it/s, Loss=0.0169, Accuracy=0.995]\n"
     ]
    },
    {
     "name": "stdout",
     "output_type": "stream",
     "text": [
      "scheduler step() call\n"
     ]
    },
    {
     "name": "stderr",
     "output_type": "stream",
     "text": [
      "Epoch 50 [Validating]: 100%|██████████| 235/235 [00:00<00:00, 238.35it/s, Loss=0.814, Accuracy=0.836]\n"
     ]
    },
    {
     "name": "stdout",
     "output_type": "stream",
     "text": [
      "Epoch 50/60, Train Loss: 0.0169 Train Accuracy: 0.9948 , Val Loss: 0.8142 Val Accuracy: 0.8360 , Current lr:0.000550\n"
     ]
    },
    {
     "name": "stderr",
     "output_type": "stream",
     "text": [
      "Epoch 51 [Training..]: 100%|██████████| 1329/1329 [00:09<00:00, 136.16it/s, Loss=0.0144, Accuracy=0.996]\n"
     ]
    },
    {
     "name": "stdout",
     "output_type": "stream",
     "text": [
      "scheduler step() call\n"
     ]
    },
    {
     "name": "stderr",
     "output_type": "stream",
     "text": [
      "Epoch 51 [Validating]: 100%|██████████| 235/235 [00:00<00:00, 243.76it/s, Loss=0.824, Accuracy=0.839]\n"
     ]
    },
    {
     "name": "stdout",
     "output_type": "stream",
     "text": [
      "Epoch 51/60, Train Loss: 0.0144 Train Accuracy: 0.9957 , Val Loss: 0.8239 Val Accuracy: 0.8392 , Current lr:0.000515\n"
     ]
    },
    {
     "name": "stderr",
     "output_type": "stream",
     "text": [
      "Epoch 52 [Training..]: 100%|██████████| 1329/1329 [00:09<00:00, 135.99it/s, Loss=0.0165, Accuracy=0.995]\n"
     ]
    },
    {
     "name": "stdout",
     "output_type": "stream",
     "text": [
      "scheduler step() call\n"
     ]
    },
    {
     "name": "stderr",
     "output_type": "stream",
     "text": [
      "Epoch 52 [Validating]: 100%|██████████| 235/235 [00:00<00:00, 248.92it/s, Loss=0.783, Accuracy=0.84]\n"
     ]
    },
    {
     "name": "stdout",
     "output_type": "stream",
     "text": [
      "Epoch 52/60, Train Loss: 0.0165 Train Accuracy: 0.9953 , Val Loss: 0.7825 Val Accuracy: 0.8400 , Current lr:0.000480\n"
     ]
    },
    {
     "name": "stderr",
     "output_type": "stream",
     "text": [
      "Epoch 53 [Training..]: 100%|██████████| 1329/1329 [00:09<00:00, 136.86it/s, Loss=0.0091, Accuracy=0.998]\n"
     ]
    },
    {
     "name": "stdout",
     "output_type": "stream",
     "text": [
      "scheduler step() call\n"
     ]
    },
    {
     "name": "stderr",
     "output_type": "stream",
     "text": [
      "Epoch 53 [Validating]: 100%|██████████| 235/235 [00:00<00:00, 242.46it/s, Loss=0.783, Accuracy=0.845]\n"
     ]
    },
    {
     "name": "stdout",
     "output_type": "stream",
     "text": [
      "Epoch 53/60, Train Loss: 0.0091 Train Accuracy: 0.9978 , Val Loss: 0.7829 Val Accuracy: 0.8447 , Current lr:0.000445\n"
     ]
    },
    {
     "name": "stderr",
     "output_type": "stream",
     "text": [
      "Epoch 54 [Training..]: 100%|██████████| 1329/1329 [00:09<00:00, 137.00it/s, Loss=0.00947, Accuracy=0.997]\n"
     ]
    },
    {
     "name": "stdout",
     "output_type": "stream",
     "text": [
      "scheduler step() call\n"
     ]
    },
    {
     "name": "stderr",
     "output_type": "stream",
     "text": [
      "Epoch 54 [Validating]: 100%|██████████| 235/235 [00:00<00:00, 244.30it/s, Loss=0.82, Accuracy=0.84]\n"
     ]
    },
    {
     "name": "stdout",
     "output_type": "stream",
     "text": [
      "Epoch 54/60, Train Loss: 0.0095 Train Accuracy: 0.9975 , Val Loss: 0.8197 Val Accuracy: 0.8401 , Current lr:0.000411\n"
     ]
    },
    {
     "name": "stderr",
     "output_type": "stream",
     "text": [
      "Epoch 55 [Training..]: 100%|██████████| 1329/1329 [00:09<00:00, 135.33it/s, Loss=0.00861, Accuracy=0.998]\n"
     ]
    },
    {
     "name": "stdout",
     "output_type": "stream",
     "text": [
      "scheduler step() call\n"
     ]
    },
    {
     "name": "stderr",
     "output_type": "stream",
     "text": [
      "Epoch 55 [Validating]: 100%|██████████| 235/235 [00:00<00:00, 245.89it/s, Loss=0.82, Accuracy=0.841]\n"
     ]
    },
    {
     "name": "stdout",
     "output_type": "stream",
     "text": [
      "Epoch 55/60, Train Loss: 0.0086 Train Accuracy: 0.9977 , Val Loss: 0.8199 Val Accuracy: 0.8408 , Current lr:0.000378\n"
     ]
    },
    {
     "name": "stderr",
     "output_type": "stream",
     "text": [
      "Epoch 56 [Training..]: 100%|██████████| 1329/1329 [00:09<00:00, 135.28it/s, Loss=0.00597, Accuracy=0.999]\n"
     ]
    },
    {
     "name": "stdout",
     "output_type": "stream",
     "text": [
      "scheduler step() call\n"
     ]
    },
    {
     "name": "stderr",
     "output_type": "stream",
     "text": [
      "Epoch 56 [Validating]: 100%|██████████| 235/235 [00:00<00:00, 243.09it/s, Loss=0.794, Accuracy=0.841]\n"
     ]
    },
    {
     "name": "stdout",
     "output_type": "stream",
     "text": [
      "Epoch 56/60, Train Loss: 0.0060 Train Accuracy: 0.9987 , Val Loss: 0.7938 Val Accuracy: 0.8412 , Current lr:0.000346\n"
     ]
    },
    {
     "name": "stderr",
     "output_type": "stream",
     "text": [
      "Epoch 57 [Training..]: 100%|██████████| 1329/1329 [00:09<00:00, 136.64it/s, Loss=0.00526, Accuracy=0.999]\n"
     ]
    },
    {
     "name": "stdout",
     "output_type": "stream",
     "text": [
      "scheduler step() call\n"
     ]
    },
    {
     "name": "stderr",
     "output_type": "stream",
     "text": [
      "Epoch 57 [Validating]: 100%|██████████| 235/235 [00:00<00:00, 242.78it/s, Loss=0.819, Accuracy=0.847]\n"
     ]
    },
    {
     "name": "stdout",
     "output_type": "stream",
     "text": [
      "Epoch 57/60, Train Loss: 0.0053 Train Accuracy: 0.9989 , Val Loss: 0.8193 Val Accuracy: 0.8467 , Current lr:0.000315\n"
     ]
    },
    {
     "name": "stderr",
     "output_type": "stream",
     "text": [
      "Epoch 58 [Training..]: 100%|██████████| 1329/1329 [00:09<00:00, 135.43it/s, Loss=0.00594, Accuracy=0.999]\n"
     ]
    },
    {
     "name": "stdout",
     "output_type": "stream",
     "text": [
      "scheduler step() call\n"
     ]
    },
    {
     "name": "stderr",
     "output_type": "stream",
     "text": [
      "Epoch 58 [Validating]: 100%|██████████| 235/235 [00:00<00:00, 241.09it/s, Loss=0.81, Accuracy=0.848]\n"
     ]
    },
    {
     "name": "stdout",
     "output_type": "stream",
     "text": [
      "Epoch 58/60, Train Loss: 0.0059 Train Accuracy: 0.9986 , Val Loss: 0.8103 Val Accuracy: 0.8481 , Current lr:0.000285\n"
     ]
    },
    {
     "name": "stderr",
     "output_type": "stream",
     "text": [
      "Epoch 59 [Training..]: 100%|██████████| 1329/1329 [00:09<00:00, 136.85it/s, Loss=0.00347, Accuracy=0.999]\n"
     ]
    },
    {
     "name": "stdout",
     "output_type": "stream",
     "text": [
      "scheduler step() call\n"
     ]
    },
    {
     "name": "stderr",
     "output_type": "stream",
     "text": [
      "Epoch 59 [Validating]: 100%|██████████| 235/235 [00:00<00:00, 243.44it/s, Loss=0.809, Accuracy=0.849]\n"
     ]
    },
    {
     "name": "stdout",
     "output_type": "stream",
     "text": [
      "Epoch 59/60, Train Loss: 0.0035 Train Accuracy: 0.9993 , Val Loss: 0.8090 Val Accuracy: 0.8491 , Current lr:0.000258\n"
     ]
    },
    {
     "name": "stderr",
     "output_type": "stream",
     "text": [
      "Epoch 60 [Training..]: 100%|██████████| 1329/1329 [00:09<00:00, 137.42it/s, Loss=0.00296, Accuracy=1]\n"
     ]
    },
    {
     "name": "stdout",
     "output_type": "stream",
     "text": [
      "scheduler step() call\n"
     ]
    },
    {
     "name": "stderr",
     "output_type": "stream",
     "text": [
      "Epoch 60 [Validating]: 100%|██████████| 235/235 [00:00<00:00, 250.84it/s, Loss=0.825, Accuracy=0.847]"
     ]
    },
    {
     "name": "stdout",
     "output_type": "stream",
     "text": [
      "Epoch 60/60, Train Loss: 0.0030 Train Accuracy: 0.9996 , Val Loss: 0.8254 Val Accuracy: 0.8465 , Current lr:0.000232\n"
     ]
    },
    {
     "name": "stderr",
     "output_type": "stream",
     "text": [
      "\n"
     ]
    }
   ],
   "source": [
    "import torch\n",
    "import torch.nn as nn\n",
    "from torch.optim import SGD, Adam\n",
    "from torch.optim.lr_scheduler import ReduceLROnPlateau\n",
    "\n",
    "NUM_INPUT_CHANNELS = 3\n",
    "NUM_CLASSES = 10\n",
    "\n",
    "model = SimpleCNNWithBN(num_classes=NUM_CLASSES)\n",
    "device = torch.device('cuda' if torch.cuda.is_available() else 'cpu')\n",
    "optimizer = Adam(model.parameters(), lr=0.001)\n",
    "loss_fn = nn.CrossEntropyLoss()\n",
    "#scheduler = torch.optim.lr_scheduler.CosineAnnealingLR(optimizer, T_max=20, eta_min=0.0001) # T_max=10로 변경 후 테스트\n",
    "scheduler = torch.optim.lr_scheduler.CosineAnnealingWarmRestarts(optimizer, T_0=10, T_mult=2, eta_min=0.0001)\n",
    "# scheduler = torch.optim.lr_scheduler.CyclicLR(optimizer, base_lr=0.001, max_lr=0.01, step_size_up=10, mode='exp_range', gamma=0.9)\n",
    "trainer = Trainer(model=model, loss_fn=loss_fn, optimizer=optimizer,\n",
    "       train_loader=tr_loader, val_loader=val_loader, scheduler=scheduler, device=device)\n",
    "# 학습 및 평가\n",
    "history = trainer.fit(60) "
   ]
  },
  {
   "cell_type": "code",
   "execution_count": 17,
   "id": "f6ed4c95",
   "metadata": {
    "execution": {
     "iopub.execute_input": "2025-08-31T16:45:43.099573Z",
     "iopub.status.busy": "2025-08-31T16:45:43.098716Z",
     "iopub.status.idle": "2025-08-31T16:45:44.361688Z",
     "shell.execute_reply": "2025-08-31T16:45:44.360807Z"
    },
    "papermill": {
     "duration": 2.007641,
     "end_time": "2025-08-31T16:45:44.362996",
     "exception": false,
     "start_time": "2025-08-31T16:45:42.355355",
     "status": "completed"
    },
    "tags": []
   },
   "outputs": [
    {
     "name": "stderr",
     "output_type": "stream",
     "text": [
      "[Evaluating]: 100%|██████████| 313/313 [00:01<00:00, 249.91it/s, Accuracy=0.844]"
     ]
    },
    {
     "name": "stdout",
     "output_type": "stream",
     "text": [
      "test dataset evaluation:0.8443\n"
     ]
    },
    {
     "name": "stderr",
     "output_type": "stream",
     "text": [
      "\n"
     ]
    }
   ],
   "source": [
    "trained_model = trainer.get_trained_model()\n",
    "\n",
    "predictor = Predictor(model=trained_model, device=device)\n",
    "eval_metric = predictor.evaluate(test_loader)\n",
    "print(f'test dataset evaluation:{eval_metric:.4f}')"
   ]
  },
  {
   "cell_type": "markdown",
   "id": "9108f46f",
   "metadata": {
    "papermill": {
     "duration": 0.747955,
     "end_time": "2025-08-31T16:45:45.787430",
     "exception": false,
     "start_time": "2025-08-31T16:45:45.039475",
     "status": "completed"
    },
    "tags": []
   },
   "source": [
    "### Weight Decay\n",
    "\n",
    "* Applies **weight regularization**. Increasing its value can reduce overfitting, but may also cause underfitting. If the value is too small, its effect on reducing overfitting will be minimal.\n",
    "* It is set as a parameter (`weight_decay`) when creating the **optimizer**. Typically, values between **1e-2 and 1e-3** are used.\n",
    "* When applying weight decay, it is generally more effective to use **AdamW** than Adam.\n"
   ]
  },
  {
   "cell_type": "code",
   "execution_count": 18,
   "id": "a2805489",
   "metadata": {
    "execution": {
     "iopub.execute_input": "2025-08-31T16:45:47.274223Z",
     "iopub.status.busy": "2025-08-31T16:45:47.273897Z",
     "iopub.status.idle": "2025-08-31T16:51:10.535349Z",
     "shell.execute_reply": "2025-08-31T16:51:10.534296Z"
    },
    "papermill": {
     "duration": 324.014528,
     "end_time": "2025-08-31T16:51:10.536879",
     "exception": false,
     "start_time": "2025-08-31T16:45:46.522351",
     "status": "completed"
    },
    "tags": []
   },
   "outputs": [
    {
     "name": "stderr",
     "output_type": "stream",
     "text": [
      "Epoch 1 [Training..]: 100%|██████████| 1329/1329 [00:09<00:00, 135.48it/s, Loss=1.23, Accuracy=0.555]\n",
      "Epoch 1 [Validating]: 100%|██████████| 235/235 [00:00<00:00, 244.99it/s, Loss=1.1, Accuracy=0.606]\n"
     ]
    },
    {
     "name": "stdout",
     "output_type": "stream",
     "text": [
      "scheduler step(evaluation_value) call\n",
      "Epoch 1/30, Train Loss: 1.2273 Train Accuracy: 0.5546 , Val Loss: 1.0998 Val Accuracy: 0.6061 , Current lr:0.001000\n"
     ]
    },
    {
     "name": "stderr",
     "output_type": "stream",
     "text": [
      "Epoch 2 [Training..]: 100%|██████████| 1329/1329 [00:09<00:00, 134.89it/s, Loss=0.853, Accuracy=0.701]\n",
      "Epoch 2 [Validating]: 100%|██████████| 235/235 [00:00<00:00, 246.63it/s, Loss=0.776, Accuracy=0.731]\n"
     ]
    },
    {
     "name": "stdout",
     "output_type": "stream",
     "text": [
      "scheduler step(evaluation_value) call\n",
      "Epoch 2/30, Train Loss: 0.8530 Train Accuracy: 0.7006 , Val Loss: 0.7762 Val Accuracy: 0.7305 , Current lr:0.001000\n"
     ]
    },
    {
     "name": "stderr",
     "output_type": "stream",
     "text": [
      "Epoch 3 [Training..]: 100%|██████████| 1329/1329 [00:09<00:00, 135.62it/s, Loss=0.69, Accuracy=0.759]\n",
      "Epoch 3 [Validating]: 100%|██████████| 235/235 [00:00<00:00, 243.59it/s, Loss=0.781, Accuracy=0.731]\n"
     ]
    },
    {
     "name": "stdout",
     "output_type": "stream",
     "text": [
      "scheduler step(evaluation_value) call\n",
      "Epoch 3/30, Train Loss: 0.6898 Train Accuracy: 0.7595 , Val Loss: 0.7807 Val Accuracy: 0.7315 , Current lr:0.001000\n"
     ]
    },
    {
     "name": "stderr",
     "output_type": "stream",
     "text": [
      "Epoch 4 [Training..]: 100%|██████████| 1329/1329 [00:09<00:00, 137.10it/s, Loss=0.586, Accuracy=0.796]\n",
      "Epoch 4 [Validating]: 100%|██████████| 235/235 [00:00<00:00, 244.65it/s, Loss=0.732, Accuracy=0.745]\n"
     ]
    },
    {
     "name": "stdout",
     "output_type": "stream",
     "text": [
      "scheduler step(evaluation_value) call\n",
      "Epoch 4/30, Train Loss: 0.5862 Train Accuracy: 0.7961 , Val Loss: 0.7315 Val Accuracy: 0.7447 , Current lr:0.001000\n"
     ]
    },
    {
     "name": "stderr",
     "output_type": "stream",
     "text": [
      "Epoch 5 [Training..]: 100%|██████████| 1329/1329 [00:09<00:00, 136.99it/s, Loss=0.507, Accuracy=0.824]\n",
      "Epoch 5 [Validating]: 100%|██████████| 235/235 [00:00<00:00, 250.26it/s, Loss=0.566, Accuracy=0.803]\n"
     ]
    },
    {
     "name": "stdout",
     "output_type": "stream",
     "text": [
      "scheduler step(evaluation_value) call\n",
      "Epoch 5/30, Train Loss: 0.5071 Train Accuracy: 0.8236 , Val Loss: 0.5662 Val Accuracy: 0.8029 , Current lr:0.001000\n"
     ]
    },
    {
     "name": "stderr",
     "output_type": "stream",
     "text": [
      "Epoch 6 [Training..]: 100%|██████████| 1329/1329 [00:09<00:00, 135.55it/s, Loss=0.447, Accuracy=0.845]\n",
      "Epoch 6 [Validating]: 100%|██████████| 235/235 [00:00<00:00, 243.80it/s, Loss=0.749, Accuracy=0.754]\n"
     ]
    },
    {
     "name": "stdout",
     "output_type": "stream",
     "text": [
      "scheduler step(evaluation_value) call\n",
      "Epoch 6/30, Train Loss: 0.4467 Train Accuracy: 0.8448 , Val Loss: 0.7485 Val Accuracy: 0.7544 , Current lr:0.001000\n"
     ]
    },
    {
     "name": "stderr",
     "output_type": "stream",
     "text": [
      "Epoch 7 [Training..]: 100%|██████████| 1329/1329 [00:09<00:00, 135.75it/s, Loss=0.39, Accuracy=0.865]\n",
      "Epoch 7 [Validating]: 100%|██████████| 235/235 [00:00<00:00, 247.10it/s, Loss=0.547, Accuracy=0.817]\n"
     ]
    },
    {
     "name": "stdout",
     "output_type": "stream",
     "text": [
      "scheduler step(evaluation_value) call\n",
      "Epoch 7/30, Train Loss: 0.3904 Train Accuracy: 0.8653 , Val Loss: 0.5471 Val Accuracy: 0.8167 , Current lr:0.001000\n"
     ]
    },
    {
     "name": "stderr",
     "output_type": "stream",
     "text": [
      "Epoch 8 [Training..]: 100%|██████████| 1329/1329 [00:09<00:00, 134.82it/s, Loss=0.345, Accuracy=0.883]\n",
      "Epoch 8 [Validating]: 100%|██████████| 235/235 [00:00<00:00, 247.36it/s, Loss=0.587, Accuracy=0.809]\n"
     ]
    },
    {
     "name": "stdout",
     "output_type": "stream",
     "text": [
      "scheduler step(evaluation_value) call\n",
      "Epoch 8/30, Train Loss: 0.3454 Train Accuracy: 0.8833 , Val Loss: 0.5865 Val Accuracy: 0.8089 , Current lr:0.001000\n"
     ]
    },
    {
     "name": "stderr",
     "output_type": "stream",
     "text": [
      "Epoch 9 [Training..]: 100%|██████████| 1329/1329 [00:09<00:00, 135.00it/s, Loss=0.308, Accuracy=0.894]\n",
      "Epoch 9 [Validating]: 100%|██████████| 235/235 [00:00<00:00, 237.09it/s, Loss=0.651, Accuracy=0.789]\n"
     ]
    },
    {
     "name": "stdout",
     "output_type": "stream",
     "text": [
      "scheduler step(evaluation_value) call\n",
      "Epoch 9/30, Train Loss: 0.3085 Train Accuracy: 0.8939 , Val Loss: 0.6508 Val Accuracy: 0.7895 , Current lr:0.001000\n"
     ]
    },
    {
     "name": "stderr",
     "output_type": "stream",
     "text": [
      "Epoch 10 [Training..]: 100%|██████████| 1329/1329 [00:09<00:00, 135.56it/s, Loss=0.263, Accuracy=0.909]\n",
      "Epoch 10 [Validating]: 100%|██████████| 235/235 [00:00<00:00, 240.14it/s, Loss=0.646, Accuracy=0.804]\n"
     ]
    },
    {
     "name": "stdout",
     "output_type": "stream",
     "text": [
      "scheduler step(evaluation_value) call\n",
      "Epoch 10/30, Train Loss: 0.2634 Train Accuracy: 0.9090 , Val Loss: 0.6460 Val Accuracy: 0.8039 , Current lr:0.000500\n"
     ]
    },
    {
     "name": "stderr",
     "output_type": "stream",
     "text": [
      "Epoch 11 [Training..]: 100%|██████████| 1329/1329 [00:09<00:00, 134.70it/s, Loss=0.157, Accuracy=0.951]\n",
      "Epoch 11 [Validating]: 100%|██████████| 235/235 [00:00<00:00, 244.24it/s, Loss=0.514, Accuracy=0.845]\n"
     ]
    },
    {
     "name": "stdout",
     "output_type": "stream",
     "text": [
      "scheduler step(evaluation_value) call\n",
      "Epoch 11/30, Train Loss: 0.1565 Train Accuracy: 0.9512 , Val Loss: 0.5135 Val Accuracy: 0.8448 , Current lr:0.000500\n"
     ]
    },
    {
     "name": "stderr",
     "output_type": "stream",
     "text": [
      "Epoch 12 [Training..]: 100%|██████████| 1329/1329 [00:09<00:00, 134.32it/s, Loss=0.131, Accuracy=0.958]\n",
      "Epoch 12 [Validating]: 100%|██████████| 235/235 [00:00<00:00, 243.88it/s, Loss=0.525, Accuracy=0.847]\n"
     ]
    },
    {
     "name": "stdout",
     "output_type": "stream",
     "text": [
      "scheduler step(evaluation_value) call\n",
      "Epoch 12/30, Train Loss: 0.1312 Train Accuracy: 0.9578 , Val Loss: 0.5247 Val Accuracy: 0.8469 , Current lr:0.000500\n"
     ]
    },
    {
     "name": "stderr",
     "output_type": "stream",
     "text": [
      "Epoch 13 [Training..]: 100%|██████████| 1329/1329 [00:09<00:00, 135.59it/s, Loss=0.104, Accuracy=0.967]\n",
      "Epoch 13 [Validating]: 100%|██████████| 235/235 [00:00<00:00, 239.18it/s, Loss=0.54, Accuracy=0.844]\n"
     ]
    },
    {
     "name": "stdout",
     "output_type": "stream",
     "text": [
      "scheduler step(evaluation_value) call\n",
      "Epoch 13/30, Train Loss: 0.1040 Train Accuracy: 0.9669 , Val Loss: 0.5398 Val Accuracy: 0.8440 , Current lr:0.000500\n"
     ]
    },
    {
     "name": "stderr",
     "output_type": "stream",
     "text": [
      "Epoch 14 [Training..]: 100%|██████████| 1329/1329 [00:09<00:00, 136.10it/s, Loss=0.0895, Accuracy=0.973]\n",
      "Epoch 14 [Validating]: 100%|██████████| 235/235 [00:00<00:00, 246.25it/s, Loss=0.561, Accuracy=0.843]\n"
     ]
    },
    {
     "name": "stdout",
     "output_type": "stream",
     "text": [
      "scheduler step(evaluation_value) call\n",
      "Epoch 14/30, Train Loss: 0.0895 Train Accuracy: 0.9729 , Val Loss: 0.5614 Val Accuracy: 0.8425 , Current lr:0.000250\n"
     ]
    },
    {
     "name": "stderr",
     "output_type": "stream",
     "text": [
      "Epoch 15 [Training..]: 100%|██████████| 1329/1329 [00:09<00:00, 135.91it/s, Loss=0.0542, Accuracy=0.987]\n",
      "Epoch 15 [Validating]: 100%|██████████| 235/235 [00:00<00:00, 242.94it/s, Loss=0.534, Accuracy=0.852]\n"
     ]
    },
    {
     "name": "stdout",
     "output_type": "stream",
     "text": [
      "scheduler step(evaluation_value) call\n",
      "Epoch 15/30, Train Loss: 0.0542 Train Accuracy: 0.9867 , Val Loss: 0.5344 Val Accuracy: 0.8519 , Current lr:0.000250\n"
     ]
    },
    {
     "name": "stderr",
     "output_type": "stream",
     "text": [
      "Epoch 16 [Training..]: 100%|██████████| 1329/1329 [00:09<00:00, 136.16it/s, Loss=0.0405, Accuracy=0.991]\n",
      "Epoch 16 [Validating]: 100%|██████████| 235/235 [00:00<00:00, 245.37it/s, Loss=0.545, Accuracy=0.854]\n"
     ]
    },
    {
     "name": "stdout",
     "output_type": "stream",
     "text": [
      "scheduler step(evaluation_value) call\n",
      "Epoch 16/30, Train Loss: 0.0405 Train Accuracy: 0.9910 , Val Loss: 0.5453 Val Accuracy: 0.8537 , Current lr:0.000250\n"
     ]
    },
    {
     "name": "stderr",
     "output_type": "stream",
     "text": [
      "Epoch 17 [Training..]: 100%|██████████| 1329/1329 [00:09<00:00, 135.73it/s, Loss=0.0352, Accuracy=0.993]\n",
      "Epoch 17 [Validating]: 100%|██████████| 235/235 [00:00<00:00, 242.40it/s, Loss=0.574, Accuracy=0.847]\n"
     ]
    },
    {
     "name": "stdout",
     "output_type": "stream",
     "text": [
      "scheduler step(evaluation_value) call\n",
      "Epoch 17/30, Train Loss: 0.0352 Train Accuracy: 0.9927 , Val Loss: 0.5736 Val Accuracy: 0.8471 , Current lr:0.000125\n"
     ]
    },
    {
     "name": "stderr",
     "output_type": "stream",
     "text": [
      "Epoch 18 [Training..]: 100%|██████████| 1329/1329 [00:09<00:00, 133.89it/s, Loss=0.0229, Accuracy=0.997]\n",
      "Epoch 18 [Validating]: 100%|██████████| 235/235 [00:00<00:00, 246.95it/s, Loss=0.573, Accuracy=0.85]\n"
     ]
    },
    {
     "name": "stdout",
     "output_type": "stream",
     "text": [
      "scheduler step(evaluation_value) call\n",
      "Epoch 18/30, Train Loss: 0.0229 Train Accuracy: 0.9967 , Val Loss: 0.5726 Val Accuracy: 0.8501 , Current lr:0.000125\n"
     ]
    },
    {
     "name": "stderr",
     "output_type": "stream",
     "text": [
      "Epoch 19 [Training..]: 100%|██████████| 1329/1329 [00:09<00:00, 134.40it/s, Loss=0.02, Accuracy=0.997]\n",
      "Epoch 19 [Validating]: 100%|██████████| 235/235 [00:00<00:00, 244.11it/s, Loss=0.576, Accuracy=0.853]\n"
     ]
    },
    {
     "name": "stdout",
     "output_type": "stream",
     "text": [
      "scheduler step(evaluation_value) call\n",
      "Epoch 19/30, Train Loss: 0.0200 Train Accuracy: 0.9972 , Val Loss: 0.5761 Val Accuracy: 0.8525 , Current lr:0.000125\n"
     ]
    },
    {
     "name": "stderr",
     "output_type": "stream",
     "text": [
      "Epoch 20 [Training..]: 100%|██████████| 1329/1329 [00:09<00:00, 136.86it/s, Loss=0.018, Accuracy=0.998]\n",
      "Epoch 20 [Validating]: 100%|██████████| 235/235 [00:00<00:00, 241.85it/s, Loss=0.605, Accuracy=0.85]\n"
     ]
    },
    {
     "name": "stdout",
     "output_type": "stream",
     "text": [
      "scheduler step(evaluation_value) call\n",
      "Epoch 20/30, Train Loss: 0.0180 Train Accuracy: 0.9979 , Val Loss: 0.6053 Val Accuracy: 0.8503 , Current lr:0.000063\n"
     ]
    },
    {
     "name": "stderr",
     "output_type": "stream",
     "text": [
      "Epoch 21 [Training..]: 100%|██████████| 1329/1329 [00:09<00:00, 133.42it/s, Loss=0.0139, Accuracy=0.999]\n",
      "Epoch 21 [Validating]: 100%|██████████| 235/235 [00:00<00:00, 238.81it/s, Loss=0.589, Accuracy=0.855]\n"
     ]
    },
    {
     "name": "stdout",
     "output_type": "stream",
     "text": [
      "scheduler step(evaluation_value) call\n",
      "Epoch 21/30, Train Loss: 0.0139 Train Accuracy: 0.9989 , Val Loss: 0.5887 Val Accuracy: 0.8552 , Current lr:0.000063\n"
     ]
    },
    {
     "name": "stderr",
     "output_type": "stream",
     "text": [
      "Epoch 22 [Training..]: 100%|██████████| 1329/1329 [00:09<00:00, 137.73it/s, Loss=0.0124, Accuracy=0.999]\n",
      "Epoch 22 [Validating]: 100%|██████████| 235/235 [00:00<00:00, 238.67it/s, Loss=0.617, Accuracy=0.851]\n"
     ]
    },
    {
     "name": "stdout",
     "output_type": "stream",
     "text": [
      "scheduler step(evaluation_value) call\n",
      "Epoch 22/30, Train Loss: 0.0124 Train Accuracy: 0.9989 , Val Loss: 0.6172 Val Accuracy: 0.8515 , Current lr:0.000063\n"
     ]
    },
    {
     "name": "stderr",
     "output_type": "stream",
     "text": [
      "Epoch 23 [Training..]: 100%|██████████| 1329/1329 [00:09<00:00, 137.38it/s, Loss=0.012, Accuracy=0.999]\n",
      "Epoch 23 [Validating]: 100%|██████████| 235/235 [00:00<00:00, 242.43it/s, Loss=0.603, Accuracy=0.853]\n"
     ]
    },
    {
     "name": "stdout",
     "output_type": "stream",
     "text": [
      "scheduler step(evaluation_value) call\n",
      "Epoch 23/30, Train Loss: 0.0120 Train Accuracy: 0.9989 , Val Loss: 0.6029 Val Accuracy: 0.8528 , Current lr:0.000031\n"
     ]
    },
    {
     "name": "stderr",
     "output_type": "stream",
     "text": [
      "Epoch 24 [Training..]: 100%|██████████| 1329/1329 [00:09<00:00, 134.56it/s, Loss=0.00984, Accuracy=0.999]\n",
      "Epoch 24 [Validating]: 100%|██████████| 235/235 [00:00<00:00, 245.19it/s, Loss=0.611, Accuracy=0.852]\n"
     ]
    },
    {
     "name": "stdout",
     "output_type": "stream",
     "text": [
      "scheduler step(evaluation_value) call\n",
      "Epoch 24/30, Train Loss: 0.0098 Train Accuracy: 0.9994 , Val Loss: 0.6106 Val Accuracy: 0.8519 , Current lr:0.000031\n"
     ]
    },
    {
     "name": "stderr",
     "output_type": "stream",
     "text": [
      "Epoch 25 [Training..]: 100%|██████████| 1329/1329 [00:09<00:00, 135.95it/s, Loss=0.00935, Accuracy=0.999]\n",
      "Epoch 25 [Validating]: 100%|██████████| 235/235 [00:00<00:00, 245.60it/s, Loss=0.607, Accuracy=0.855]\n"
     ]
    },
    {
     "name": "stdout",
     "output_type": "stream",
     "text": [
      "scheduler step(evaluation_value) call\n",
      "Epoch 25/30, Train Loss: 0.0094 Train Accuracy: 0.9993 , Val Loss: 0.6073 Val Accuracy: 0.8547 , Current lr:0.000031\n"
     ]
    },
    {
     "name": "stderr",
     "output_type": "stream",
     "text": [
      "Epoch 26 [Training..]: 100%|██████████| 1329/1329 [00:09<00:00, 135.48it/s, Loss=0.0116, Accuracy=0.999]\n",
      "Epoch 26 [Validating]: 100%|██████████| 235/235 [00:00<00:00, 236.08it/s, Loss=0.617, Accuracy=0.851]\n"
     ]
    },
    {
     "name": "stdout",
     "output_type": "stream",
     "text": [
      "scheduler step(evaluation_value) call\n",
      "Epoch 26/30, Train Loss: 0.0116 Train Accuracy: 0.9993 , Val Loss: 0.6173 Val Accuracy: 0.8508 , Current lr:0.000016\n"
     ]
    },
    {
     "name": "stderr",
     "output_type": "stream",
     "text": [
      "Epoch 27 [Training..]: 100%|██████████| 1329/1329 [00:09<00:00, 134.64it/s, Loss=0.00793, Accuracy=1]\n",
      "Epoch 27 [Validating]: 100%|██████████| 235/235 [00:00<00:00, 246.00it/s, Loss=0.616, Accuracy=0.854]\n"
     ]
    },
    {
     "name": "stdout",
     "output_type": "stream",
     "text": [
      "scheduler step(evaluation_value) call\n",
      "Epoch 27/30, Train Loss: 0.0079 Train Accuracy: 0.9998 , Val Loss: 0.6158 Val Accuracy: 0.8544 , Current lr:0.000016\n"
     ]
    },
    {
     "name": "stderr",
     "output_type": "stream",
     "text": [
      "Epoch 28 [Training..]: 100%|██████████| 1329/1329 [00:09<00:00, 136.38it/s, Loss=0.00812, Accuracy=1]\n",
      "Epoch 28 [Validating]: 100%|██████████| 235/235 [00:00<00:00, 249.25it/s, Loss=0.624, Accuracy=0.853]\n"
     ]
    },
    {
     "name": "stdout",
     "output_type": "stream",
     "text": [
      "scheduler step(evaluation_value) call\n",
      "Epoch 28/30, Train Loss: 0.0081 Train Accuracy: 0.9996 , Val Loss: 0.6242 Val Accuracy: 0.8527 , Current lr:0.000016\n"
     ]
    },
    {
     "name": "stderr",
     "output_type": "stream",
     "text": [
      "Epoch 29 [Training..]: 100%|██████████| 1329/1329 [00:09<00:00, 137.82it/s, Loss=0.00927, Accuracy=0.999]\n",
      "Epoch 29 [Validating]: 100%|██████████| 235/235 [00:01<00:00, 212.01it/s, Loss=0.615, Accuracy=0.852]\n"
     ]
    },
    {
     "name": "stdout",
     "output_type": "stream",
     "text": [
      "scheduler step(evaluation_value) call\n",
      "Epoch 29/30, Train Loss: 0.0093 Train Accuracy: 0.9994 , Val Loss: 0.6145 Val Accuracy: 0.8520 , Current lr:0.000010\n"
     ]
    },
    {
     "name": "stderr",
     "output_type": "stream",
     "text": [
      "Epoch 30 [Training..]: 100%|██████████| 1329/1329 [00:09<00:00, 134.97it/s, Loss=0.00804, Accuracy=1]\n",
      "Epoch 30 [Validating]: 100%|██████████| 235/235 [00:00<00:00, 242.12it/s, Loss=0.615, Accuracy=0.854]"
     ]
    },
    {
     "name": "stdout",
     "output_type": "stream",
     "text": [
      "scheduler step(evaluation_value) call\n",
      "Epoch 30/30, Train Loss: 0.0080 Train Accuracy: 0.9996 , Val Loss: 0.6148 Val Accuracy: 0.8537 , Current lr:0.000010\n"
     ]
    },
    {
     "name": "stderr",
     "output_type": "stream",
     "text": [
      "\n"
     ]
    }
   ],
   "source": [
    "import torch\n",
    "import torch.nn as nn\n",
    "from torch.optim import SGD, Adam, AdamW\n",
    "from torch.optim.lr_scheduler import ReduceLROnPlateau\n",
    "\n",
    "NUM_INPUT_CHANNELS = 3\n",
    "NUM_CLASSES = 10\n",
    "\n",
    "model = SimpleCNNWithBN(num_classes=NUM_CLASSES)\n",
    "device = torch.device('cuda' if torch.cuda.is_available() else 'cpu')\n",
    "optimizer = AdamW(model.parameters(), lr=0.001, weight_decay=1e-2) #weight_decay=1e-3 \n",
    "loss_fn = nn.CrossEntropyLoss()\n",
    "\n",
    "scheduler = ReduceLROnPlateau(\n",
    "            optimizer=optimizer, mode='min', factor=0.5, patience=2, threshold=0.01, min_lr=0.00001)\n",
    "\n",
    "trainer = Trainer(model=model, loss_fn=loss_fn, optimizer=optimizer,\n",
    "       train_loader=tr_loader, val_loader=val_loader, scheduler=scheduler, device=device)\n",
    "\n",
    "history = trainer.fit(30)"
   ]
  },
  {
   "cell_type": "code",
   "execution_count": 19,
   "id": "9ccbfcf4",
   "metadata": {
    "execution": {
     "iopub.execute_input": "2025-08-31T16:51:12.481089Z",
     "iopub.status.busy": "2025-08-31T16:51:12.480308Z",
     "iopub.status.idle": "2025-08-31T16:51:13.752508Z",
     "shell.execute_reply": "2025-08-31T16:51:13.751528Z"
    },
    "papermill": {
     "duration": 2.248252,
     "end_time": "2025-08-31T16:51:13.753844",
     "exception": false,
     "start_time": "2025-08-31T16:51:11.505592",
     "status": "completed"
    },
    "tags": []
   },
   "outputs": [
    {
     "name": "stderr",
     "output_type": "stream",
     "text": [
      "[Evaluating]: 100%|██████████| 313/313 [00:01<00:00, 247.93it/s, Accuracy=0.846]"
     ]
    },
    {
     "name": "stdout",
     "output_type": "stream",
     "text": [
      "test dataset evaluation:0.8455\n"
     ]
    },
    {
     "name": "stderr",
     "output_type": "stream",
     "text": [
      "\n"
     ]
    }
   ],
   "source": [
    "trained_model = trainer.get_trained_model()\n",
    "\n",
    "predictor = Predictor(model=trained_model, device=device)\n",
    "eval_metric = predictor.evaluate(test_loader)\n",
    "print(f'test dataset evaluation:{eval_metric:.4f}')"
   ]
  },
  {
   "cell_type": "code",
   "execution_count": null,
   "id": "f6f7d7e1",
   "metadata": {
    "papermill": {
     "duration": 0.974968,
     "end_time": "2025-08-31T16:51:15.703235",
     "exception": false,
     "start_time": "2025-08-31T16:51:14.728267",
     "status": "completed"
    },
    "tags": []
   },
   "outputs": [],
   "source": []
  }
 ],
 "metadata": {
  "kaggle": {
   "accelerator": "gpu",
   "dataSources": [],
   "dockerImageVersionId": 31090,
   "isGpuEnabled": true,
   "isInternetEnabled": true,
   "language": "python",
   "sourceType": "notebook"
  },
  "kernelspec": {
   "display_name": "Python 3",
   "language": "python",
   "name": "python3"
  },
  "language_info": {
   "codemirror_mode": {
    "name": "ipython",
    "version": 3
   },
   "file_extension": ".py",
   "mimetype": "text/x-python",
   "name": "python",
   "nbconvert_exporter": "python",
   "pygments_lexer": "ipython3",
   "version": "3.11.13"
  },
  "papermill": {
   "default_parameters": {},
   "duration": 1331.373036,
   "end_time": "2025-08-31T16:51:18.987755",
   "environment_variables": {},
   "exception": null,
   "input_path": "__notebook__.ipynb",
   "output_path": "__notebook__.ipynb",
   "parameters": {},
   "start_time": "2025-08-31T16:29:07.614719",
   "version": "2.6.0"
  }
 },
 "nbformat": 4,
 "nbformat_minor": 5
}
