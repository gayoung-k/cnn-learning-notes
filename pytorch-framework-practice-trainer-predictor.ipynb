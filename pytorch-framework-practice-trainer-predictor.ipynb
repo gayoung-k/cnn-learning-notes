{
 "cells": [
  {
   "cell_type": "markdown",
   "id": "2aabe2c9",
   "metadata": {
    "papermill": {
     "duration": 0.006851,
     "end_time": "2025-08-30T18:51:34.127174",
     "exception": false,
     "start_time": "2025-08-30T18:51:34.120323",
     "status": "completed"
    },
    "tags": []
   },
   "source": [
    "### Download FashionMNIST Dataset and Create DataLoader"
   ]
  },
  {
   "cell_type": "code",
   "execution_count": 1,
   "id": "c7c179ba",
   "metadata": {
    "execution": {
     "iopub.execute_input": "2025-08-30T18:51:34.140421Z",
     "iopub.status.busy": "2025-08-30T18:51:34.140087Z",
     "iopub.status.idle": "2025-08-30T18:51:49.859820Z",
     "shell.execute_reply": "2025-08-30T18:51:49.858629Z"
    },
    "papermill": {
     "duration": 15.728141,
     "end_time": "2025-08-30T18:51:49.861563",
     "exception": false,
     "start_time": "2025-08-30T18:51:34.133422",
     "status": "completed"
    },
    "tags": []
   },
   "outputs": [
    {
     "name": "stderr",
     "output_type": "stream",
     "text": [
      "100%|██████████| 26.4M/26.4M [00:01<00:00, 18.8MB/s]\n",
      "100%|██████████| 29.5k/29.5k [00:00<00:00, 308kB/s]\n",
      "100%|██████████| 4.42M/4.42M [00:00<00:00, 5.68MB/s]\n",
      "100%|██████████| 5.15k/5.15k [00:00<00:00, 6.72MB/s]\n"
     ]
    },
    {
     "name": "stdout",
     "output_type": "stream",
     "text": [
      "torch.Size([32, 1, 28, 28]) torch.float32 torch.Size([32]) torch.int64\n"
     ]
    }
   ],
   "source": [
    "from torchvision import datasets\n",
    "from torchvision.transforms import ToTensor\n",
    "from torch.utils.data import DataLoader\n",
    "\n",
    "train_data = datasets.FashionMNIST(root='data',train= True, download=True, transform=ToTensor())\n",
    "val_data = datasets.FashionMNIST(root='data',train= False, download=True, transform=ToTensor())\n",
    "\n",
    "BATCH_SIZE = 32\n",
    "train_loader = DataLoader(train_data, batch_size=BATCH_SIZE, shuffle=True, num_workers=4 )\n",
    "val_loader = DataLoader(val_data, batch_size=BATCH_SIZE, shuffle=False, num_workers=4)\n",
    "\n",
    "images, labels = next(iter(train_loader))\n",
    "print(images.shape, images.dtype, labels.shape, labels.dtype)"
   ]
  },
  {
   "cell_type": "markdown",
   "id": "de24d231",
   "metadata": {
    "papermill": {
     "duration": 0.006743,
     "end_time": "2025-08-30T18:51:49.875804",
     "exception": false,
     "start_time": "2025-08-30T18:51:49.869061",
     "status": "completed"
    },
    "tags": []
   },
   "source": [
    "### Create NetWork Model"
   ]
  },
  {
   "cell_type": "code",
   "execution_count": 2,
   "id": "65114b8a",
   "metadata": {
    "execution": {
     "iopub.execute_input": "2025-08-30T18:51:49.892597Z",
     "iopub.status.busy": "2025-08-30T18:51:49.891265Z",
     "iopub.status.idle": "2025-08-30T18:51:49.903066Z",
     "shell.execute_reply": "2025-08-30T18:51:49.901976Z"
    },
    "papermill": {
     "duration": 0.021377,
     "end_time": "2025-08-30T18:51:49.904471",
     "exception": false,
     "start_time": "2025-08-30T18:51:49.883094",
     "status": "completed"
    },
    "tags": []
   },
   "outputs": [
    {
     "name": "stdout",
     "output_type": "stream",
     "text": [
      "SimpleLinearModel(\n",
      "  (linear_01): Linear(in_features=784, out_features=200, bias=True)\n",
      "  (linear_02): Linear(in_features=200, out_features=100, bias=True)\n",
      "  (linear_03): Linear(in_features=100, out_features=10, bias=True)\n",
      ")\n"
     ]
    }
   ],
   "source": [
    "import torch\n",
    "import torch.nn as nn\n",
    "import torch.nn.functional as F\n",
    "\n",
    "class SimpleLinearModel(nn.Module):\n",
    "    def __init__(self, input_size, num_classes=10):\n",
    "        super().__init__()\n",
    "        # Use nn.Linear layers directly. Linear layers internally have learnable parameters such as weight and bias.\n",
    "        # This also makes the model structure more flexible and easier to apply.\n",
    "        self.linear_01 = nn.Linear(input_size * input_size, 200)\n",
    "        self.linear_02 = nn.Linear(200, 100)\n",
    "        self.linear_03 = nn.Linear(100, num_classes)\n",
    "\n",
    "    # Forward pass: input tensor -> tensor processed through layers -> output tensor returned\n",
    "    def forward(self, x):\n",
    "        # Unlike nn.Flatten(), torch.flatten() defaults start_dim=0. Set start_dim=1 to preserve the batch dimension\n",
    "        x = torch.flatten(x, start_dim=1, end_dim=-1)\n",
    "        x = F.relu(self.linear_01(x))\n",
    "        x = F.relu(self.linear_02(x))\n",
    "        output = self.linear_03(x)\n",
    "\n",
    "        # Return the final tensor after passing through all layers\n",
    "        return output\n",
    "\n",
    "def create_simple_linear_model(input_size, num_classes=10):\n",
    "    model = SimpleLinearModel(input_size=input_size, num_classes=num_classes)\n",
    "    return model\n",
    "    \n",
    "INPUT_SIZE = 28\n",
    "NUM_CLASSES = 10\n",
    "\n",
    "model = create_simple_linear_model(input_size=INPUT_SIZE, num_classes=NUM_CLASSES)\n",
    "print(model)\n"
   ]
  },
  {
   "cell_type": "markdown",
   "id": "2c5e7d60",
   "metadata": {
    "papermill": {
     "duration": 0.007533,
     "end_time": "2025-08-30T18:51:49.920355",
     "exception": false,
     "start_time": "2025-08-30T18:51:49.912822",
     "status": "completed"
    },
    "tags": []
   },
   "source": [
    "\n",
    "### Creating a Trainer Class for the Training Loop – Basic\n",
    "\n",
    "* The `Trainer` class takes the model, loss function, optimizer, training DataLoader, validation DataLoader, and device as input arguments.\n",
    "* Separate methods are defined for training (`train_epoch`) and validation (`valid_epoch`), and the `fit(epochs)` method repeatedly calls these methods for the specified number of epochs.\n",
    "* `tqdm` is used to display a progress bar that updates with the batch-wise loss values.\n",
    "* The loss values shown are **per-batch losses**; running average loss is **not displayed**.\n"
   ]
  },
  {
   "cell_type": "code",
   "execution_count": 3,
   "id": "5e7af484",
   "metadata": {
    "execution": {
     "iopub.execute_input": "2025-08-30T18:51:49.936400Z",
     "iopub.status.busy": "2025-08-30T18:51:49.936097Z",
     "iopub.status.idle": "2025-08-30T18:51:49.947992Z",
     "shell.execute_reply": "2025-08-30T18:51:49.947144Z"
    },
    "papermill": {
     "duration": 0.021958,
     "end_time": "2025-08-30T18:51:49.949746",
     "exception": false,
     "start_time": "2025-08-30T18:51:49.927788",
     "status": "completed"
    },
    "tags": []
   },
   "outputs": [],
   "source": [
    "from tqdm import tqdm\n",
    "\n",
    "class Trainer_01:\n",
    "    def __init__(self, model, loss_fn, optimizer, train_loader, val_loader, device=None):\n",
    "        self.model = model\n",
    "        self.loss_fn = loss_fn\n",
    "        self.train_loader = train_loader\n",
    "        self.val_loader = val_loader\n",
    "        self.optimizer = optimizer\n",
    "        self.device = device\n",
    "\n",
    "    def train_epoch(self, epoch):\n",
    "        self.model.train()\n",
    "        # visualize the process \n",
    "        with tqdm(total=len(self.train_loader), desc=f\"Epoch {epoch+1} [Training..]\", leave=True) as progress_bar:\n",
    "            for batch_idx, (inputs, targets) in enumerate(self.train_loader):\n",
    "                inputs = inputs.to(self.device)\n",
    "                targets = targets.to(self.device)\n",
    "\n",
    "                # Forward pass\n",
    "                ouputs = self.model(inputs)\n",
    "                loss = self.loss_fn(ouputs, targets)\n",
    "               \n",
    "                # Backward pass\n",
    "                self.optimizer.zero_grad()\n",
    "                loss.backward()\n",
    "                self.optimizer.step()\n",
    "\n",
    "                # show progress and batch loss values in tqdm progress_bar\n",
    "                progress_bar.update(1)\n",
    "                if batch_idx % 20 == 0:\n",
    "                    progress_bar.set_postfix({\"Batch Loss\": loss.item()})\n",
    "                if (batch_idx + 1) == len(self.train_loader):\n",
    "                    progress_bar.set_postfix({\"Batch Loss\": loss.item()})\n",
    "\n",
    "    def validate_epoch(self, epoch):\n",
    "        if not self.val_loader:\n",
    "            return None\n",
    "\n",
    "        self.model.eval()\n",
    "        with tqdm(total=len(self.val_loader), desc=f\"Epoch {epoch+1} [Validating]\", leave=True) as progress_bar:\n",
    "            with torch.no_grad():\n",
    "                for batch_idx, (inputs, targets) in enumerate(self.val_loader):\n",
    "                    inputs = inputs.to(self.device)\n",
    "                    targets = targets.to(self.device)\n",
    "\n",
    "                    outputs = self.model(inputs)\n",
    "\n",
    "                    loss = self.loss_fn(outputs, targets)\n",
    "\n",
    "                    progress_bar.update(1)\n",
    "                    if batch_idx % 20 == 0:  # 20 batch횟수마다 update \n",
    "                        progress_bar.set_postfix({\"Batch Loss\": loss.item()})\n",
    "                    if (batch_idx + 1) == len(self.train_loader):\n",
    "                        progress_bar.set_postfix({\"Batch Loss\": loss.item()})\n",
    "    \n",
    "    def fit(self, epochs):\n",
    "        for epoch in range(epochs):\n",
    "            self.train_epoch(epoch)\n",
    "            self.validate_epoch(epoch)"
   ]
  },
  {
   "cell_type": "markdown",
   "id": "10a8ab54",
   "metadata": {
    "papermill": {
     "duration": 0.006709,
     "end_time": "2025-08-30T18:51:49.963686",
     "exception": false,
     "start_time": "2025-08-30T18:51:49.956977",
     "status": "completed"
    },
    "tags": []
   },
   "source": [
    "#### Trainer"
   ]
  },
  {
   "cell_type": "code",
   "execution_count": 4,
   "id": "2faa9a93",
   "metadata": {
    "execution": {
     "iopub.execute_input": "2025-08-30T18:51:49.978713Z",
     "iopub.status.busy": "2025-08-30T18:51:49.978383Z",
     "iopub.status.idle": "2025-08-30T18:53:37.887842Z",
     "shell.execute_reply": "2025-08-30T18:53:37.886636Z"
    },
    "papermill": {
     "duration": 107.918477,
     "end_time": "2025-08-30T18:53:37.889109",
     "exception": false,
     "start_time": "2025-08-30T18:51:49.970632",
     "status": "completed"
    },
    "tags": []
   },
   "outputs": [
    {
     "name": "stderr",
     "output_type": "stream",
     "text": [
      "Epoch 1 [Training..]: 100%|██████████| 1875/1875 [00:09<00:00, 195.86it/s, Batch Loss=0.402]\n",
      "Epoch 1 [Validating]: 100%|██████████| 313/313 [00:01<00:00, 298.23it/s, Batch Loss=0.282]\n",
      "Epoch 2 [Training..]: 100%|██████████| 1875/1875 [00:09<00:00, 197.17it/s, Batch Loss=0.468]\n",
      "Epoch 2 [Validating]: 100%|██████████| 313/313 [00:01<00:00, 292.90it/s, Batch Loss=0.316]\n",
      "Epoch 3 [Training..]: 100%|██████████| 1875/1875 [00:09<00:00, 191.46it/s, Batch Loss=0.318]\n",
      "Epoch 3 [Validating]: 100%|██████████| 313/313 [00:01<00:00, 298.72it/s, Batch Loss=0.234]\n",
      "Epoch 4 [Training..]: 100%|██████████| 1875/1875 [00:09<00:00, 192.11it/s, Batch Loss=0.252]\n",
      "Epoch 4 [Validating]: 100%|██████████| 313/313 [00:01<00:00, 293.91it/s, Batch Loss=0.187]\n",
      "Epoch 5 [Training..]: 100%|██████████| 1875/1875 [00:09<00:00, 192.64it/s, Batch Loss=0.212]\n",
      "Epoch 5 [Validating]: 100%|██████████| 313/313 [00:01<00:00, 267.64it/s, Batch Loss=0.231]\n",
      "Epoch 6 [Training..]: 100%|██████████| 1875/1875 [00:09<00:00, 190.01it/s, Batch Loss=0.139]\n",
      "Epoch 6 [Validating]: 100%|██████████| 313/313 [00:01<00:00, 290.69it/s, Batch Loss=0.219]\n",
      "Epoch 7 [Training..]: 100%|██████████| 1875/1875 [00:09<00:00, 189.86it/s, Batch Loss=0.223]\n",
      "Epoch 7 [Validating]: 100%|██████████| 313/313 [00:01<00:00, 294.88it/s, Batch Loss=0.256]\n",
      "Epoch 8 [Training..]: 100%|██████████| 1875/1875 [00:09<00:00, 191.96it/s, Batch Loss=0.205]\n",
      "Epoch 8 [Validating]: 100%|██████████| 313/313 [00:01<00:00, 295.20it/s, Batch Loss=0.233]\n",
      "Epoch 9 [Training..]: 100%|██████████| 1875/1875 [00:09<00:00, 194.82it/s, Batch Loss=0.158]\n",
      "Epoch 9 [Validating]: 100%|██████████| 313/313 [00:01<00:00, 290.32it/s, Batch Loss=0.335]\n",
      "Epoch 10 [Training..]: 100%|██████████| 1875/1875 [00:09<00:00, 195.32it/s, Batch Loss=0.143]\n",
      "Epoch 10 [Validating]: 100%|██████████| 313/313 [00:01<00:00, 298.07it/s, Batch Loss=0.243]\n"
     ]
    }
   ],
   "source": [
    "from torch.optim import Adam\n",
    "\n",
    "BATCH_SIZE = 32\n",
    "INPUT_SIZE = 28\n",
    "\n",
    "model = create_simple_linear_model(input_size=INPUT_SIZE, num_classes=10)\n",
    "device = torch.device('cuda' if torch.cuda.is_available() else 'cpu')\n",
    "optimizer = Adam(model.parameters(), lr=0.001)\n",
    "loss_fn = nn.CrossEntropyLoss()\n",
    "\n",
    "# create Trainer obj\n",
    "trainer = Trainer_01(model=model, loss_fn=loss_fn, optimizer=optimizer, train_loader=train_loader,\n",
    "                 val_loader=val_loader, device=device)\n",
    "\n",
    "# call fit() and implement train and evaluation by the number of epochs.\n",
    "trainer.fit(epochs=10)"
   ]
  },
  {
   "cell_type": "markdown",
   "id": "8fd1e10b",
   "metadata": {
    "papermill": {
     "duration": 0.104622,
     "end_time": "2025-08-30T18:53:38.099742",
     "exception": false,
     "start_time": "2025-08-30T18:53:37.995120",
     "status": "completed"
    },
    "tags": []
   },
   "source": [
    "### Calculating Running Average Loss During Training and Validation Loops\n",
    "\n",
    "* Display the average loss in the progress bar for each running batch. Compute it by dividing the cumulative running loss by the number of batches processed so far.\n"
   ]
  },
  {
   "cell_type": "code",
   "execution_count": 5,
   "id": "8d7927c7",
   "metadata": {
    "execution": {
     "iopub.execute_input": "2025-08-30T18:53:38.311162Z",
     "iopub.status.busy": "2025-08-30T18:53:38.310847Z",
     "iopub.status.idle": "2025-08-30T18:53:38.323234Z",
     "shell.execute_reply": "2025-08-30T18:53:38.322506Z"
    },
    "papermill": {
     "duration": 0.120871,
     "end_time": "2025-08-30T18:53:38.324669",
     "exception": false,
     "start_time": "2025-08-30T18:53:38.203798",
     "status": "completed"
    },
    "tags": []
   },
   "outputs": [],
   "source": [
    "from tqdm import tqdm\n",
    "\n",
    "class Trainer_02:\n",
    "    def __init__(self, model, loss_fn, optimizer, train_loader, val_loader, device=None):\n",
    "        self.model = model.to(device)  # Move model to specified device\n",
    "        self.loss_fn = loss_fn          # Loss function\n",
    "        self.optimizer = optimizer      # Optimizer\n",
    "        self.train_loader = train_loader\n",
    "        self.val_loader = val_loader\n",
    "        self.device = device\n",
    "    \n",
    "    def train_epoch(self, epoch):\n",
    "        self.model.train()  # Set model to training mode\n",
    "        accu_loss = 0.0     # Accumulated loss\n",
    "        running_avg_loss = 0.0  # Running average loss\n",
    "        \n",
    "        # Use tqdm to visualize real-time progress of training loop\n",
    "        with tqdm(total=len(self.train_loader), desc=f\"Epoch {epoch+1} [Training..]\", leave=True) as progress_bar:\n",
    "            for batch_idx, (inputs, targets) in enumerate(self.train_loader):\n",
    "                # Move input and target tensors to the correct device\n",
    "                inputs = inputs.to(self.device)\n",
    "                targets = targets.to(self.device)\n",
    "                \n",
    "                # Forward pass\n",
    "                outputs = self.model(inputs)\n",
    "                loss = self.loss_fn(outputs, targets)\n",
    "                \n",
    "                # Backward pass\n",
    "                self.optimizer.zero_grad()  # Clear previous gradients\n",
    "                loss.backward()             # Compute gradients\n",
    "                self.optimizer.step()       # Update model parameters\n",
    "\n",
    "                # Compute running average loss for display\n",
    "                accu_loss += loss.item()\n",
    "                running_avg_loss = accu_loss / (batch_idx + 1)\n",
    "                \n",
    "                # Update tqdm progress bar with current running average loss\n",
    "                progress_bar.update(1)\n",
    "                if batch_idx % 20 == 0:  # Update display every 20 batches\n",
    "                    progress_bar.set_postfix({\"Loss\": running_avg_loss})\n",
    "                \n",
    "        # Return final running average loss for the epoch    \n",
    "        return running_avg_loss\n",
    "                \n",
    "    def validate_epoch(self, epoch):\n",
    "        if not self.val_loader:\n",
    "            return None\n",
    "            \n",
    "        self.model.eval()  # Set model to evaluation mode\n",
    "\n",
    "        accu_loss = 0  # Accumulated loss\n",
    "        running_avg_loss = 0  # Running average loss\n",
    "        \n",
    "        with tqdm(total=len(self.val_loader), desc=f\"Epoch {epoch+1} [Validating]\", leave=True) as progress_bar:\n",
    "            with torch.no_grad():  # Disable gradient tracking for evaluation\n",
    "                for batch_idx, (inputs, targets) in enumerate(self.val_loader):\n",
    "                    # Move input and target tensors to the correct device\n",
    "                    inputs = inputs.to(self.device)\n",
    "                    targets = targets.to(self.device)\n",
    "                    \n",
    "                    # Forward pass\n",
    "                    outputs = self.model(inputs)\n",
    "                    \n",
    "                    # Compute loss (no backward step)\n",
    "                    loss = self.loss_fn(outputs, targets)\n",
    "                    \n",
    "                    # Compute running average loss for display\n",
    "                    accu_loss += loss.item()\n",
    "                    running_avg_loss = accu_loss / (batch_idx + 1)\n",
    "                    \n",
    "                    # Update tqdm progress bar with current running average loss\n",
    "                    progress_bar.update(1)\n",
    "                    if batch_idx % 20 == 0:  # Update display every 20 batches\n",
    "                        progress_bar.set_postfix({\"Loss\": running_avg_loss})\n",
    "        \n",
    "        # Return final running average loss for validation    \n",
    "        return running_avg_loss\n",
    "    \n",
    "    def fit(self, epochs):\n",
    "        for epoch in range(epochs):\n",
    "            # Perform training for one epoch\n",
    "            train_loss = self.train_epoch(epoch)\n",
    "            # Perform validation for one epoch\n",
    "            val_loss = self.validate_epoch(epoch)\n",
    "            # Print training and validation losses\n",
    "            print(f\"Epoch {epoch+1}/{epochs}, Train Loss: {train_loss:.4f}\", \n",
    "                  f\", Val Loss: {val_loss:.4f}\" if val_loss is not None else \"\")\n"
   ]
  },
  {
   "cell_type": "code",
   "execution_count": 6,
   "id": "78d66ea2",
   "metadata": {
    "execution": {
     "iopub.execute_input": "2025-08-30T18:53:38.533430Z",
     "iopub.status.busy": "2025-08-30T18:53:38.533070Z",
     "iopub.status.idle": "2025-08-30T18:55:27.806460Z",
     "shell.execute_reply": "2025-08-30T18:55:27.805343Z"
    },
    "papermill": {
     "duration": 109.378762,
     "end_time": "2025-08-30T18:55:27.807894",
     "exception": false,
     "start_time": "2025-08-30T18:53:38.429132",
     "status": "completed"
    },
    "tags": []
   },
   "outputs": [
    {
     "name": "stderr",
     "output_type": "stream",
     "text": [
      "Epoch 1 [Training..]: 100%|██████████| 1875/1875 [00:09<00:00, 201.04it/s, Loss=0.508]\n",
      "Epoch 1 [Validating]: 100%|██████████| 313/313 [00:01<00:00, 295.47it/s, Loss=0.439]\n"
     ]
    },
    {
     "name": "stdout",
     "output_type": "stream",
     "text": [
      "Epoch 1/10, Train Loss: 0.5066 , Val Loss: 0.4368\n"
     ]
    },
    {
     "name": "stderr",
     "output_type": "stream",
     "text": [
      "Epoch 2 [Training..]: 100%|██████████| 1875/1875 [00:09<00:00, 194.47it/s, Loss=0.368]\n",
      "Epoch 2 [Validating]: 100%|██████████| 313/313 [00:01<00:00, 288.49it/s, Loss=0.397]\n"
     ]
    },
    {
     "name": "stdout",
     "output_type": "stream",
     "text": [
      "Epoch 2/10, Train Loss: 0.3684 , Val Loss: 0.3954\n"
     ]
    },
    {
     "name": "stderr",
     "output_type": "stream",
     "text": [
      "Epoch 3 [Training..]: 100%|██████████| 1875/1875 [00:10<00:00, 186.75it/s, Loss=0.331]\n",
      "Epoch 3 [Validating]: 100%|██████████| 313/313 [00:01<00:00, 294.61it/s, Loss=0.36]\n"
     ]
    },
    {
     "name": "stdout",
     "output_type": "stream",
     "text": [
      "Epoch 3/10, Train Loss: 0.3306 , Val Loss: 0.3584\n"
     ]
    },
    {
     "name": "stderr",
     "output_type": "stream",
     "text": [
      "Epoch 4 [Training..]: 100%|██████████| 1875/1875 [00:09<00:00, 188.08it/s, Loss=0.308]\n",
      "Epoch 4 [Validating]: 100%|██████████| 313/313 [00:01<00:00, 296.42it/s, Loss=0.354]\n"
     ]
    },
    {
     "name": "stdout",
     "output_type": "stream",
     "text": [
      "Epoch 4/10, Train Loss: 0.3076 , Val Loss: 0.3519\n"
     ]
    },
    {
     "name": "stderr",
     "output_type": "stream",
     "text": [
      "Epoch 5 [Training..]: 100%|██████████| 1875/1875 [00:09<00:00, 193.47it/s, Loss=0.291]\n",
      "Epoch 5 [Validating]: 100%|██████████| 313/313 [00:01<00:00, 294.04it/s, Loss=0.346]\n"
     ]
    },
    {
     "name": "stdout",
     "output_type": "stream",
     "text": [
      "Epoch 5/10, Train Loss: 0.2908 , Val Loss: 0.3425\n"
     ]
    },
    {
     "name": "stderr",
     "output_type": "stream",
     "text": [
      "Epoch 6 [Training..]: 100%|██████████| 1875/1875 [00:10<00:00, 186.58it/s, Loss=0.275]\n",
      "Epoch 6 [Validating]: 100%|██████████| 313/313 [00:01<00:00, 270.28it/s, Loss=0.35]\n"
     ]
    },
    {
     "name": "stdout",
     "output_type": "stream",
     "text": [
      "Epoch 6/10, Train Loss: 0.2754 , Val Loss: 0.3470\n"
     ]
    },
    {
     "name": "stderr",
     "output_type": "stream",
     "text": [
      "Epoch 7 [Training..]: 100%|██████████| 1875/1875 [00:09<00:00, 190.59it/s, Loss=0.261]\n",
      "Epoch 7 [Validating]: 100%|██████████| 313/313 [00:01<00:00, 289.16it/s, Loss=0.354]\n"
     ]
    },
    {
     "name": "stdout",
     "output_type": "stream",
     "text": [
      "Epoch 7/10, Train Loss: 0.2612 , Val Loss: 0.3507\n"
     ]
    },
    {
     "name": "stderr",
     "output_type": "stream",
     "text": [
      "Epoch 8 [Training..]: 100%|██████████| 1875/1875 [00:09<00:00, 195.63it/s, Loss=0.25]\n",
      "Epoch 8 [Validating]: 100%|██████████| 313/313 [00:01<00:00, 284.77it/s, Loss=0.343]\n"
     ]
    },
    {
     "name": "stdout",
     "output_type": "stream",
     "text": [
      "Epoch 8/10, Train Loss: 0.2498 , Val Loss: 0.3395\n"
     ]
    },
    {
     "name": "stderr",
     "output_type": "stream",
     "text": [
      "Epoch 9 [Training..]: 100%|██████████| 1875/1875 [00:10<00:00, 185.01it/s, Loss=0.239]\n",
      "Epoch 9 [Validating]: 100%|██████████| 313/313 [00:01<00:00, 289.41it/s, Loss=0.338]\n"
     ]
    },
    {
     "name": "stdout",
     "output_type": "stream",
     "text": [
      "Epoch 9/10, Train Loss: 0.2391 , Val Loss: 0.3348\n"
     ]
    },
    {
     "name": "stderr",
     "output_type": "stream",
     "text": [
      "Epoch 10 [Training..]: 100%|██████████| 1875/1875 [00:10<00:00, 185.44it/s, Loss=0.23]\n",
      "Epoch 10 [Validating]: 100%|██████████| 313/313 [00:01<00:00, 296.02it/s, Loss=0.339]"
     ]
    },
    {
     "name": "stdout",
     "output_type": "stream",
     "text": [
      "Epoch 10/10, Train Loss: 0.2304 , Val Loss: 0.3360\n"
     ]
    },
    {
     "name": "stderr",
     "output_type": "stream",
     "text": [
      "\n"
     ]
    }
   ],
   "source": [
    "from torch.optim import Adam\n",
    "\n",
    "# Create a new model and optimizer instead of reusing previously trained ones\n",
    "model = create_simple_linear_model(input_size=INPUT_SIZE, num_classes=10)\n",
    "device = torch.device('cuda' if torch.cuda.is_available() else 'cpu')\n",
    "optimizer = Adam(model.parameters(), lr=0.001)\n",
    "loss_fn = nn.CrossEntropyLoss()\n",
    "\n",
    "# Initialize Trainer_02 with model, loss function, optimizer, and data loaders\n",
    "trainer = Trainer_02(model=model, loss_fn=loss_fn, optimizer=optimizer, train_loader=train_loader,\n",
    "                     val_loader=val_loader, device=device)\n",
    "\n",
    "# Call fit() to perform training and validation for the specified number of epochs\n",
    "trainer.fit(epochs=10)\n"
   ]
  },
  {
   "cell_type": "markdown",
   "id": "044a1b20",
   "metadata": {
    "papermill": {
     "duration": 0.204237,
     "end_time": "2025-08-30T18:55:28.285503",
     "exception": false,
     "start_time": "2025-08-30T18:55:28.081266",
     "status": "completed"
    },
    "tags": []
   },
   "source": [
    "### Calculating Accuracy Metric in the Training Loop\n",
    "\n",
    "* Compute the running average of accuracy alongside the loss for training and validation data.\n",
    "* Calculate accuracy using the total number of samples and the cumulative count of correct predictions for each batch.\n",
    "* Applying softmax is not necessary for predicted class values. The class with the highest logit value corresponds to the highest softmax value, so you can directly use `argmax()` on logits to get the predicted class.\n",
    "* `logit.argmax()` == `logit.softmax().argmax()`\n",
    "* Accuracy = total correct predictions / total samples\n"
   ]
  },
  {
   "cell_type": "code",
   "execution_count": 7,
   "id": "2002e956",
   "metadata": {
    "execution": {
     "iopub.execute_input": "2025-08-30T18:55:28.692338Z",
     "iopub.status.busy": "2025-08-30T18:55:28.692029Z",
     "iopub.status.idle": "2025-08-30T18:55:28.825847Z",
     "shell.execute_reply": "2025-08-30T18:55:28.824561Z"
    },
    "papermill": {
     "duration": 0.340396,
     "end_time": "2025-08-30T18:55:28.827312",
     "exception": false,
     "start_time": "2025-08-30T18:55:28.486916",
     "status": "completed"
    },
    "tags": []
   },
   "outputs": [
    {
     "name": "stdout",
     "output_type": "stream",
     "text": [
      "pred shape: torch.Size([32, 10])\n",
      "pred argmax_01: tensor([0, 8, 3, 2, 3, 1, 6, 7, 0, 9, 8, 9, 8, 0, 0, 0, 2, 3, 3, 0, 1, 4, 9, 5,\n",
      "        4, 5, 9, 6, 0, 6, 9, 7])\n",
      "pred argmax_02: tensor([0, 8, 3, 2, 3, 1, 6, 7, 0, 9, 8, 9, 8, 0, 0, 0, 2, 3, 3, 0, 1, 4, 9, 5,\n",
      "        4, 5, 9, 6, 0, 6, 9, 7])\n",
      "torch.Size([32])\n",
      "max_value: tensor([ 2.3037, 18.0564,  5.3632,  4.8817,  3.9278, 13.4132,  3.5926, 11.2466,\n",
      "         8.7619,  9.5084,  7.7623, 11.0303,  8.4367,  7.9353,  7.1582,  8.4457,\n",
      "         4.4598,  1.8075,  3.9406,  4.0833,  2.9047,  4.8359, 12.1662, 34.3142,\n",
      "         2.6797, 11.9072, 14.1754,  3.0762, 13.3417,  2.4360, 10.4464,  5.2018],\n",
      "       grad_fn=<MaxBackward0>)\n",
      "max_index: tensor([0, 8, 3, 2, 3, 1, 6, 7, 0, 9, 8, 9, 8, 0, 0, 0, 2, 3, 3, 0, 1, 4, 9, 5,\n",
      "        4, 5, 9, 6, 0, 6, 9, 7])\n"
     ]
    }
   ],
   "source": [
    "# Fetch a batch of images and labels from the training data\n",
    "images, labels = next(iter(train_loader))\n",
    "\n",
    "# Move model to CPU\n",
    "model = model.to('cpu')\n",
    "\n",
    "# Forward pass: feed images into the model, output shape is (batch_size, num_classes)\n",
    "pred = model(images)\n",
    "# print('pred:', pred)\n",
    "print('pred shape:', pred.shape)\n",
    "\n",
    "# The argmax of model output and argmax after applying softmax are identical\n",
    "print('pred argmax_01:', pred.argmax(-1))\n",
    "print('pred argmax_02:', F.softmax(pred, dim=-1).argmax(-1))\n",
    "print(pred.argmax(-1).shape)\n",
    "\n",
    "# Instead of argmax, using max(). torch.Tensor.max() returns both the max value and the index of the max value\n",
    "max_value, max_index = pred.max(-1)\n",
    "print('max_value:', max_value)\n",
    "print('max_index:', max_index)\n"
   ]
  },
  {
   "cell_type": "code",
   "execution_count": 8,
   "id": "5fe8b1db",
   "metadata": {
    "execution": {
     "iopub.execute_input": "2025-08-30T18:55:29.239998Z",
     "iopub.status.busy": "2025-08-30T18:55:29.239665Z",
     "iopub.status.idle": "2025-08-30T18:55:29.255461Z",
     "shell.execute_reply": "2025-08-30T18:55:29.254669Z"
    },
    "papermill": {
     "duration": 0.223257,
     "end_time": "2025-08-30T18:55:29.256850",
     "exception": false,
     "start_time": "2025-08-30T18:55:29.033593",
     "status": "completed"
    },
    "tags": []
   },
   "outputs": [],
   "source": [
    "from tqdm import tqdm\n",
    "import torch.nn.functional as F\n",
    "\n",
    "class Trainer:\n",
    "    def __init__(self, model, loss_fn, optimizer, train_loader, val_loader, device=None):\n",
    "        self.model = model.to(device)  # Move model to specified device\n",
    "        self.loss_fn = loss_fn          # Loss function\n",
    "        self.optimizer = optimizer      # Optimizer\n",
    "        self.train_loader = train_loader\n",
    "        self.val_loader = val_loader\n",
    "        self.device = device\n",
    "    \n",
    "    def train_epoch(self, epoch):\n",
    "        self.model.train()  # Set model to training mode\n",
    "        \n",
    "        # Initialize running loss and accuracy\n",
    "        accu_loss = 0.0\n",
    "        running_avg_loss = 0.0\n",
    "        num_total = 0.0           # Total number of samples seen\n",
    "        accu_num_correct = 0.0    # Total number of correct predictions\n",
    "        accuracy = 0.0\n",
    "        \n",
    "        # Visualize training loop progress using tqdm\n",
    "        with tqdm(total=len(self.train_loader), desc=f\"Epoch {epoch+1} [Training..]\", leave=True) as progress_bar:\n",
    "            for batch_idx, (inputs, targets) in enumerate(self.train_loader):\n",
    "                inputs = inputs.to(self.device)   # Move input batch to device\n",
    "                targets = targets.to(self.device) # Move target batch to device\n",
    "                \n",
    "                # Forward pass\n",
    "                outputs = self.model(inputs)\n",
    "                loss = self.loss_fn(outputs, targets)\n",
    "                \n",
    "                # Backward pass\n",
    "                self.optimizer.zero_grad()\n",
    "                loss.backward()\n",
    "                self.optimizer.step()\n",
    "\n",
    "                # Update running average loss\n",
    "                accu_loss += loss.item()\n",
    "                running_avg_loss = accu_loss /(batch_idx + 1)\n",
    "\n",
    "                # Compute accuracy\n",
    "                num_correct = (outputs.argmax(-1) == targets).sum().item()  # Compare predicted vs true labels\n",
    "                num_total += inputs.shape[0]\n",
    "                accu_num_correct += num_correct\n",
    "                accuracy = accu_num_correct / num_total\n",
    "\n",
    "                # Update tqdm progress bar with running loss and accuracy\n",
    "                progress_bar.update(1)\n",
    "                if batch_idx % 20 == 0 or (batch_idx + 1) == progress_bar.total:\n",
    "                    progress_bar.set_postfix({\"Loss\": running_avg_loss, \"Accuracy\": accuracy})\n",
    "        \n",
    "        return running_avg_loss, accuracy\n",
    "                \n",
    "    def validate_epoch(self, epoch):\n",
    "        if not self.val_loader:\n",
    "            return None\n",
    "            \n",
    "        self.model.eval()  # Set model to evaluation mode\n",
    "\n",
    "        accu_loss = 0\n",
    "        running_avg_loss = 0\n",
    "        num_total = 0.0\n",
    "        accu_num_correct = 0.0\n",
    "        accuracy = 0.0\n",
    "        \n",
    "        # Visualize validation loop progress using tqdm\n",
    "        with tqdm(total=len(self.val_loader), desc=f\"Epoch {epoch+1} [Validating]\", leave=True) as progress_bar:\n",
    "            with torch.no_grad():  # Disable gradient tracking\n",
    "                for batch_idx, (inputs, targets) in enumerate(self.val_loader):\n",
    "                    inputs = inputs.to(self.device)\n",
    "                    targets = targets.to(self.device)\n",
    "                    \n",
    "                    outputs = self.model(inputs)\n",
    "                    loss = self.loss_fn(outputs, targets)\n",
    "                    \n",
    "                    # Update running average loss\n",
    "                    accu_loss += loss.item()\n",
    "                    running_avg_loss = accu_loss /(batch_idx + 1)\n",
    "\n",
    "                    # Compute accuracy\n",
    "                    num_correct = (outputs.argmax(-1) == targets).sum().item()\n",
    "                    num_total += inputs.shape[0]\n",
    "                    accu_num_correct += num_correct\n",
    "                    accuracy = accu_num_correct / num_total\n",
    "\n",
    "                    # Update tqdm progress bar with running loss and accuracy\n",
    "                    progress_bar.update(1)\n",
    "                    if batch_idx % 20 == 0 or (batch_idx + 1) == progress_bar.total:\n",
    "                        progress_bar.set_postfix({\"Loss\": running_avg_loss, \"Accuracy\": accuracy})\n",
    "        \n",
    "        return running_avg_loss, accuracy\n",
    "    \n",
    "    def fit(self, epochs):\n",
    "        # Create history dictionary to store train/validation results per epoch\n",
    "        history = {'train_loss': [], 'train_acc': [], 'val_loss': [], 'val_acc': []}\n",
    "        for epoch in range(epochs):\n",
    "            train_loss, train_acc = self.train_epoch(epoch)\n",
    "            val_loss, val_acc = self.validate_epoch(epoch)\n",
    "            print(f\"Epoch {epoch+1}/{epochs}, Train Loss: {train_loss:.4f} Train Accuracy: {train_acc:.4f}\",\n",
    "                  f\", Val Loss: {val_loss:.4f} Val Accuracy: {val_acc:.4f}\" if val_loss is not None else \"\")\n",
    "            \n",
    "            # Store results in history\n",
    "            history['train_loss'].append(train_loss)\n",
    "            history['train_acc'].append(train_acc)\n",
    "            history['val_loss'].append(val_loss)\n",
    "            history['val_acc'].append(val_acc)\n",
    "            \n",
    "        return history \n",
    "    \n",
    "    # Return the trained model\n",
    "    def get_trained_model(self):\n",
    "        return self.model\n"
   ]
  },
  {
   "cell_type": "code",
   "execution_count": 9,
   "id": "db2a6549",
   "metadata": {
    "collapsed": true,
    "execution": {
     "iopub.execute_input": "2025-08-30T18:55:29.667381Z",
     "iopub.status.busy": "2025-08-30T18:55:29.667079Z",
     "iopub.status.idle": "2025-08-30T18:59:15.789103Z",
     "shell.execute_reply": "2025-08-30T18:59:15.788079Z"
    },
    "jupyter": {
     "outputs_hidden": true
    },
    "papermill": {
     "duration": 226.328507,
     "end_time": "2025-08-30T18:59:15.790705",
     "exception": false,
     "start_time": "2025-08-30T18:55:29.462198",
     "status": "completed"
    },
    "tags": []
   },
   "outputs": [
    {
     "name": "stderr",
     "output_type": "stream",
     "text": [
      "Epoch 1 [Training..]: 100%|██████████| 1875/1875 [00:09<00:00, 198.67it/s, Loss=0.507, Accuracy=0.817]\n",
      "Epoch 1 [Validating]: 100%|██████████| 313/313 [00:01<00:00, 297.14it/s, Loss=0.467, Accuracy=0.826]\n"
     ]
    },
    {
     "name": "stdout",
     "output_type": "stream",
     "text": [
      "Epoch 1/20, Train Loss: 0.5065 Train Accuracy: 0.8165 , Val Loss: 0.4672 Val Accuracy: 0.8262\n"
     ]
    },
    {
     "name": "stderr",
     "output_type": "stream",
     "text": [
      "Epoch 2 [Training..]: 100%|██████████| 1875/1875 [00:09<00:00, 188.30it/s, Loss=0.366, Accuracy=0.866]\n",
      "Epoch 2 [Validating]: 100%|██████████| 313/313 [00:01<00:00, 290.29it/s, Loss=0.387, Accuracy=0.862]\n"
     ]
    },
    {
     "name": "stdout",
     "output_type": "stream",
     "text": [
      "Epoch 2/20, Train Loss: 0.3659 Train Accuracy: 0.8663 , Val Loss: 0.3870 Val Accuracy: 0.8623\n"
     ]
    },
    {
     "name": "stderr",
     "output_type": "stream",
     "text": [
      "Epoch 3 [Training..]: 100%|██████████| 1875/1875 [00:10<00:00, 182.06it/s, Loss=0.328, Accuracy=0.878]\n",
      "Epoch 3 [Validating]: 100%|██████████| 313/313 [00:01<00:00, 288.11it/s, Loss=0.355, Accuracy=0.87]\n"
     ]
    },
    {
     "name": "stdout",
     "output_type": "stream",
     "text": [
      "Epoch 3/20, Train Loss: 0.3282 Train Accuracy: 0.8782 , Val Loss: 0.3552 Val Accuracy: 0.8697\n"
     ]
    },
    {
     "name": "stderr",
     "output_type": "stream",
     "text": [
      "Epoch 4 [Training..]: 100%|██████████| 1875/1875 [00:10<00:00, 184.13it/s, Loss=0.304, Accuracy=0.887]\n",
      "Epoch 4 [Validating]: 100%|██████████| 313/313 [00:01<00:00, 267.35it/s, Loss=0.367, Accuracy=0.869]\n"
     ]
    },
    {
     "name": "stdout",
     "output_type": "stream",
     "text": [
      "Epoch 4/20, Train Loss: 0.3043 Train Accuracy: 0.8869 , Val Loss: 0.3671 Val Accuracy: 0.8692\n"
     ]
    },
    {
     "name": "stderr",
     "output_type": "stream",
     "text": [
      "Epoch 5 [Training..]: 100%|██████████| 1875/1875 [00:10<00:00, 185.74it/s, Loss=0.286, Accuracy=0.893]\n",
      "Epoch 5 [Validating]: 100%|██████████| 313/313 [00:01<00:00, 287.86it/s, Loss=0.35, Accuracy=0.873]\n"
     ]
    },
    {
     "name": "stdout",
     "output_type": "stream",
     "text": [
      "Epoch 5/20, Train Loss: 0.2861 Train Accuracy: 0.8927 , Val Loss: 0.3502 Val Accuracy: 0.8733\n"
     ]
    },
    {
     "name": "stderr",
     "output_type": "stream",
     "text": [
      "Epoch 6 [Training..]: 100%|██████████| 1875/1875 [00:10<00:00, 183.78it/s, Loss=0.271, Accuracy=0.898]\n",
      "Epoch 6 [Validating]: 100%|██████████| 313/313 [00:01<00:00, 280.36it/s, Loss=0.34, Accuracy=0.878]\n"
     ]
    },
    {
     "name": "stdout",
     "output_type": "stream",
     "text": [
      "Epoch 6/20, Train Loss: 0.2712 Train Accuracy: 0.8976 , Val Loss: 0.3402 Val Accuracy: 0.8776\n"
     ]
    },
    {
     "name": "stderr",
     "output_type": "stream",
     "text": [
      "Epoch 7 [Training..]: 100%|██████████| 1875/1875 [00:10<00:00, 177.40it/s, Loss=0.257, Accuracy=0.903]\n",
      "Epoch 7 [Validating]: 100%|██████████| 313/313 [00:01<00:00, 265.64it/s, Loss=0.332, Accuracy=0.881]\n"
     ]
    },
    {
     "name": "stdout",
     "output_type": "stream",
     "text": [
      "Epoch 7/20, Train Loss: 0.2574 Train Accuracy: 0.9031 , Val Loss: 0.3322 Val Accuracy: 0.8807\n"
     ]
    },
    {
     "name": "stderr",
     "output_type": "stream",
     "text": [
      "Epoch 8 [Training..]: 100%|██████████| 1875/1875 [00:10<00:00, 177.24it/s, Loss=0.249, Accuracy=0.905]\n",
      "Epoch 8 [Validating]: 100%|██████████| 313/313 [00:01<00:00, 276.39it/s, Loss=0.326, Accuracy=0.887]\n"
     ]
    },
    {
     "name": "stdout",
     "output_type": "stream",
     "text": [
      "Epoch 8/20, Train Loss: 0.2493 Train Accuracy: 0.9050 , Val Loss: 0.3260 Val Accuracy: 0.8867\n"
     ]
    },
    {
     "name": "stderr",
     "output_type": "stream",
     "text": [
      "Epoch 9 [Training..]: 100%|██████████| 1875/1875 [00:10<00:00, 180.59it/s, Loss=0.235, Accuracy=0.912]\n",
      "Epoch 9 [Validating]: 100%|██████████| 313/313 [00:01<00:00, 286.16it/s, Loss=0.321, Accuracy=0.888]\n"
     ]
    },
    {
     "name": "stdout",
     "output_type": "stream",
     "text": [
      "Epoch 9/20, Train Loss: 0.2355 Train Accuracy: 0.9117 , Val Loss: 0.3206 Val Accuracy: 0.8879\n"
     ]
    },
    {
     "name": "stderr",
     "output_type": "stream",
     "text": [
      "Epoch 10 [Training..]: 100%|██████████| 1875/1875 [00:10<00:00, 185.51it/s, Loss=0.225, Accuracy=0.913]\n",
      "Epoch 10 [Validating]: 100%|██████████| 313/313 [00:01<00:00, 280.85it/s, Loss=0.344, Accuracy=0.882]\n"
     ]
    },
    {
     "name": "stdout",
     "output_type": "stream",
     "text": [
      "Epoch 10/20, Train Loss: 0.2253 Train Accuracy: 0.9133 , Val Loss: 0.3442 Val Accuracy: 0.8824\n"
     ]
    },
    {
     "name": "stderr",
     "output_type": "stream",
     "text": [
      "Epoch 11 [Training..]: 100%|██████████| 1875/1875 [00:10<00:00, 181.50it/s, Loss=0.22, Accuracy=0.916]\n",
      "Epoch 11 [Validating]: 100%|██████████| 313/313 [00:01<00:00, 269.36it/s, Loss=0.34, Accuracy=0.887]\n"
     ]
    },
    {
     "name": "stdout",
     "output_type": "stream",
     "text": [
      "Epoch 11/20, Train Loss: 0.2201 Train Accuracy: 0.9155 , Val Loss: 0.3404 Val Accuracy: 0.8868\n"
     ]
    },
    {
     "name": "stderr",
     "output_type": "stream",
     "text": [
      "Epoch 12 [Training..]: 100%|██████████| 1875/1875 [00:10<00:00, 178.48it/s, Loss=0.208, Accuracy=0.921]\n",
      "Epoch 12 [Validating]: 100%|██████████| 313/313 [00:01<00:00, 276.48it/s, Loss=0.328, Accuracy=0.889]\n"
     ]
    },
    {
     "name": "stdout",
     "output_type": "stream",
     "text": [
      "Epoch 12/20, Train Loss: 0.2078 Train Accuracy: 0.9206 , Val Loss: 0.3284 Val Accuracy: 0.8889\n"
     ]
    },
    {
     "name": "stderr",
     "output_type": "stream",
     "text": [
      "Epoch 13 [Training..]: 100%|██████████| 1875/1875 [00:10<00:00, 181.29it/s, Loss=0.206, Accuracy=0.922]\n",
      "Epoch 13 [Validating]: 100%|██████████| 313/313 [00:01<00:00, 277.06it/s, Loss=0.332, Accuracy=0.891]\n"
     ]
    },
    {
     "name": "stdout",
     "output_type": "stream",
     "text": [
      "Epoch 13/20, Train Loss: 0.2055 Train Accuracy: 0.9222 , Val Loss: 0.3321 Val Accuracy: 0.8912\n"
     ]
    },
    {
     "name": "stderr",
     "output_type": "stream",
     "text": [
      "Epoch 14 [Training..]: 100%|██████████| 1875/1875 [00:10<00:00, 178.54it/s, Loss=0.196, Accuracy=0.925]\n",
      "Epoch 14 [Validating]: 100%|██████████| 313/313 [00:01<00:00, 280.01it/s, Loss=0.355, Accuracy=0.885]\n"
     ]
    },
    {
     "name": "stdout",
     "output_type": "stream",
     "text": [
      "Epoch 14/20, Train Loss: 0.1957 Train Accuracy: 0.9251 , Val Loss: 0.3552 Val Accuracy: 0.8853\n"
     ]
    },
    {
     "name": "stderr",
     "output_type": "stream",
     "text": [
      "Epoch 15 [Training..]: 100%|██████████| 1875/1875 [00:10<00:00, 185.75it/s, Loss=0.191, Accuracy=0.927]\n",
      "Epoch 15 [Validating]: 100%|██████████| 313/313 [00:01<00:00, 281.55it/s, Loss=0.345, Accuracy=0.885]\n"
     ]
    },
    {
     "name": "stdout",
     "output_type": "stream",
     "text": [
      "Epoch 15/20, Train Loss: 0.1911 Train Accuracy: 0.9268 , Val Loss: 0.3454 Val Accuracy: 0.8846\n"
     ]
    },
    {
     "name": "stderr",
     "output_type": "stream",
     "text": [
      "Epoch 16 [Training..]: 100%|██████████| 1875/1875 [00:09<00:00, 192.46it/s, Loss=0.184, Accuracy=0.929]\n",
      "Epoch 16 [Validating]: 100%|██████████| 313/313 [00:01<00:00, 285.77it/s, Loss=0.342, Accuracy=0.89]\n"
     ]
    },
    {
     "name": "stdout",
     "output_type": "stream",
     "text": [
      "Epoch 16/20, Train Loss: 0.1844 Train Accuracy: 0.9294 , Val Loss: 0.3418 Val Accuracy: 0.8899\n"
     ]
    },
    {
     "name": "stderr",
     "output_type": "stream",
     "text": [
      "Epoch 17 [Training..]: 100%|██████████| 1875/1875 [00:10<00:00, 183.95it/s, Loss=0.179, Accuracy=0.931]\n",
      "Epoch 17 [Validating]: 100%|██████████| 313/313 [00:01<00:00, 283.11it/s, Loss=0.357, Accuracy=0.891]\n"
     ]
    },
    {
     "name": "stdout",
     "output_type": "stream",
     "text": [
      "Epoch 17/20, Train Loss: 0.1791 Train Accuracy: 0.9315 , Val Loss: 0.3573 Val Accuracy: 0.8909\n"
     ]
    },
    {
     "name": "stderr",
     "output_type": "stream",
     "text": [
      "Epoch 18 [Training..]: 100%|██████████| 1875/1875 [00:09<00:00, 187.63it/s, Loss=0.173, Accuracy=0.934]\n",
      "Epoch 18 [Validating]: 100%|██████████| 313/313 [00:01<00:00, 281.61it/s, Loss=0.378, Accuracy=0.885]\n"
     ]
    },
    {
     "name": "stdout",
     "output_type": "stream",
     "text": [
      "Epoch 18/20, Train Loss: 0.1732 Train Accuracy: 0.9337 , Val Loss: 0.3776 Val Accuracy: 0.8846\n"
     ]
    },
    {
     "name": "stderr",
     "output_type": "stream",
     "text": [
      "Epoch 19 [Training..]: 100%|██████████| 1875/1875 [00:10<00:00, 184.72it/s, Loss=0.171, Accuracy=0.935]\n",
      "Epoch 19 [Validating]: 100%|██████████| 313/313 [00:01<00:00, 282.34it/s, Loss=0.349, Accuracy=0.888]\n"
     ]
    },
    {
     "name": "stdout",
     "output_type": "stream",
     "text": [
      "Epoch 19/20, Train Loss: 0.1709 Train Accuracy: 0.9348 , Val Loss: 0.3488 Val Accuracy: 0.8881\n"
     ]
    },
    {
     "name": "stderr",
     "output_type": "stream",
     "text": [
      "Epoch 20 [Training..]: 100%|██████████| 1875/1875 [00:10<00:00, 187.01it/s, Loss=0.165, Accuracy=0.936]\n",
      "Epoch 20 [Validating]: 100%|██████████| 313/313 [00:01<00:00, 286.97it/s, Loss=0.377, Accuracy=0.889]"
     ]
    },
    {
     "name": "stdout",
     "output_type": "stream",
     "text": [
      "Epoch 20/20, Train Loss: 0.1649 Train Accuracy: 0.9364 , Val Loss: 0.3766 Val Accuracy: 0.8891\n"
     ]
    },
    {
     "name": "stderr",
     "output_type": "stream",
     "text": [
      "\n"
     ]
    }
   ],
   "source": [
    "from torch.optim import Adam\n",
    "\n",
    "model = create_simple_linear_model(input_size=INPUT_SIZE, num_classes=10)\n",
    "device = torch.device('cuda' if torch.cuda.is_available() else 'cpu')\n",
    "optimizer = Adam(model.parameters(), lr=0.001)\n",
    "loss_fn = nn.CrossEntropyLoss()\n",
    "\n",
    "trainer = Trainer(model=model, loss_fn=loss_fn, optimizer=optimizer, train_loader=train_loader,\n",
    "                 val_loader=val_loader, device=device)\n",
    "\n",
    "# # This time, it will be increased to 20 times for learning and evaluation. Overfit check\n",
    "history = trainer.fit(20)"
   ]
  },
  {
   "cell_type": "markdown",
   "id": "00705132",
   "metadata": {
    "papermill": {
     "duration": 0.408705,
     "end_time": "2025-08-30T18:59:16.685904",
     "exception": false,
     "start_time": "2025-08-30T18:59:16.277199",
     "status": "completed"
    },
    "tags": []
   },
   "source": [
    "### Visualizing Training/Validation Loss and Accuracy per Epoch\n",
    "\n",
    "* After running `trainer.fit()`, use the returned `history` dictionary to visualize the results.\n"
   ]
  },
  {
   "cell_type": "code",
   "execution_count": 10,
   "id": "859c13c4",
   "metadata": {
    "execution": {
     "iopub.execute_input": "2025-08-30T18:59:17.569017Z",
     "iopub.status.busy": "2025-08-30T18:59:17.568440Z",
     "iopub.status.idle": "2025-08-30T18:59:17.834282Z",
     "shell.execute_reply": "2025-08-30T18:59:17.833426Z"
    },
    "papermill": {
     "duration": 0.738076,
     "end_time": "2025-08-30T18:59:17.835772",
     "exception": false,
     "start_time": "2025-08-30T18:59:17.097696",
     "status": "completed"
    },
    "tags": []
   },
   "outputs": [
    {
     "data": {
      "image/png": "[encoded data removed]",
      "text/plain": [
       "<Figure size 640x480 with 1 Axes>"
      ]
     },
     "metadata": {},
     "output_type": "display_data"
    }
   ],
   "source": [
    "import matplotlib.pyplot as plt\n",
    "%matplotlib inline\n",
    "\n",
    "def show_history(history, metric='acc'):\n",
    "    if metric == 'loss':\n",
    "        train_metric_name = 'train_loss'\n",
    "        val_metric_name = 'val_loss'\n",
    "    else:\n",
    "        train_metric_name = 'train_acc'\n",
    "        val_metric_name = 'val_acc'\n",
    "        \n",
    "    plt.plot(history[train_metric_name], label='train')\n",
    "    plt.plot(history[val_metric_name], label='valid')\n",
    "    plt.legend()\n",
    "    \n",
    "#show_history(history, metric='loss')\n",
    "show_history(history, metric='acc')"
   ]
  },
  {
   "cell_type": "markdown",
   "id": "2f6592b5",
   "metadata": {
    "papermill": {
     "duration": 0.475759,
     "end_time": "2025-08-30T18:59:18.724761",
     "exception": false,
     "start_time": "2025-08-30T18:59:18.249002",
     "status": "completed"
    },
    "tags": []
   },
   "source": [
    "### Creating the Predictor Class\n",
    "\n",
    "* Input data must be a tensor and should use the same normalization values as the training data.\n",
    "* Create methods: `evaluate()`, `predict_proba()`, and `predict()`.\n",
    "* `evaluate()` performs performance evaluation on the entire test image tensor dataset.\n",
    "* `predict_proba()` calculates class-wise prediction probabilities for input image tensors (including single image tensors).\n",
    "* `predict()` predicts the class labels for input image tensors (including single image tensors).\n"
   ]
  },
  {
   "cell_type": "markdown",
   "id": "c20742e6",
   "metadata": {
    "papermill": {
     "duration": 0.40438,
     "end_time": "2025-08-30T18:59:19.540181",
     "exception": false,
     "start_time": "2025-08-30T18:59:19.135801",
     "status": "completed"
    },
    "tags": []
   },
   "source": [
    "*This is an inference-only class that loads a trained model and returns predictions (class, probabilities, etc.) for new input data.*\n",
    "\n",
    "*✅ Why do we need a separate class?*\n",
    "*The `Trainer` class is used during training (training + validation).*\n",
    "\n",
    "*In contrast, the `Predictor` class is used after training, when you want to input data and only get predictions.*\n",
    "\n",
    "*Separating the code makes it cleaner, more reusable, and easier to debug.*\n"
   ]
  },
  {
   "cell_type": "code",
   "execution_count": 11,
   "id": "e860bad8",
   "metadata": {
    "execution": {
     "iopub.execute_input": "2025-08-30T18:59:20.421770Z",
     "iopub.status.busy": "2025-08-30T18:59:20.421462Z",
     "iopub.status.idle": "2025-08-30T18:59:20.430173Z",
     "shell.execute_reply": "2025-08-30T18:59:20.429305Z"
    },
    "papermill": {
     "duration": 0.416296,
     "end_time": "2025-08-30T18:59:20.431606",
     "exception": false,
     "start_time": "2025-08-30T18:59:20.015310",
     "status": "completed"
    },
    "tags": []
   },
   "outputs": [],
   "source": [
    "class Predictor:\n",
    "    def __init__(self, model, device):\n",
    "        self.model = model\n",
    "        self.device = device\n",
    "\n",
    "    def evaluate(self, loader):\n",
    "        self.model.eval()\n",
    "        eval_metric = 0.0\n",
    "        num_total = 0.0\n",
    "        acc_num_correct = 0.0\n",
    "\n",
    "        with tqdm(total=len(loader), desc=f\"[Evaluating]\", leave=True) as progress_bar:\n",
    "            with torch.no_grad():\n",
    "                for batch_idx, (inputs, targets) in enumerate(loader):\n",
    "                    inputs = inputs.to(self.device)\n",
    "                    targets = targets.to(self.device)\n",
    "                    pred = self.model(inputs)\n",
    "\n",
    "                    num_correct = (pred.argmax(-1) == targets).sum().item()\n",
    "                    num_total += inputs.shape[0]\n",
    "                    acc_num_correct += num_correct\n",
    "                    eval_metric = acc_num_correct/num_total\n",
    "                    \n",
    "                    progress_bar.update(1)\n",
    "                    if batch_idx % 20 == 0 or (batch_idx + 1) == progress_bar.total:\n",
    "                        progress_bar.set_postfix({\"Accuracy\": eval_metric})\n",
    "        \n",
    "        return eval_metric\n",
    "\n",
    "    def predict_proba(self, inputs):\n",
    "        self.model.eval()\n",
    "        with torch.no_grad():\n",
    "            inputs = inputs.to(self.device)\n",
    "            outputs = self.model(inputs)\n",
    "            pred_proba = F.softmax(outputs, -1)\n",
    "        return pred_proba\n",
    "\n",
    "    def predict(self, inputs):\n",
    "        pred_proba = self.predict_proba(inputs)\n",
    "        # pred_proba.shape (32, 10)\n",
    "        pred_class = torch.argmax(pred_proba, dim=-1)\n",
    "\n",
    "        return pred_class"
   ]
  },
  {
   "cell_type": "code",
   "execution_count": 12,
   "id": "384fe52e",
   "metadata": {
    "execution": {
     "iopub.execute_input": "2025-08-30T18:59:21.320674Z",
     "iopub.status.busy": "2025-08-30T18:59:21.320239Z",
     "iopub.status.idle": "2025-08-30T18:59:22.417960Z",
     "shell.execute_reply": "2025-08-30T18:59:22.416920Z"
    },
    "papermill": {
     "duration": 1.583374,
     "end_time": "2025-08-30T18:59:22.419206",
     "exception": false,
     "start_time": "2025-08-30T18:59:20.835832",
     "status": "completed"
    },
    "tags": []
   },
   "outputs": [
    {
     "name": "stderr",
     "output_type": "stream",
     "text": [
      "[Evaluating]: 100%|██████████| 313/313 [00:01<00:00, 291.00it/s, Accuracy=0.889]"
     ]
    },
    {
     "name": "stdout",
     "output_type": "stream",
     "text": [
      "test dataset evaluation:0.8891\n"
     ]
    },
    {
     "name": "stderr",
     "output_type": "stream",
     "text": [
      "\n"
     ]
    }
   ],
   "source": [
    "trained_model = trainer.get_trained_model()\n",
    "\n",
    "BATCH_SIZE = 32\n",
    "\n",
    "test_data = datasets.FashionMNIST(root='data',train= False, download=True, transform=ToTensor())\n",
    "test_loader = DataLoader(test_data, batch_size=BATCH_SIZE, shuffle=False, num_workers=4)\n",
    "\n",
    "predictor = Predictor(model=trained_model, device=device)\n",
    "eval_metric = predictor.evaluate(test_loader)\n",
    "print(f'test dataset evaluation:{eval_metric:.4f}')"
   ]
  },
  {
   "cell_type": "code",
   "execution_count": 13,
   "id": "9e0b69d4",
   "metadata": {
    "execution": {
     "iopub.execute_input": "2025-08-30T18:59:23.239283Z",
     "iopub.status.busy": "2025-08-30T18:59:23.238964Z",
     "iopub.status.idle": "2025-08-30T18:59:23.359042Z",
     "shell.execute_reply": "2025-08-30T18:59:23.358110Z"
    },
    "papermill": {
     "duration": 0.53643,
     "end_time": "2025-08-30T18:59:23.360673",
     "exception": false,
     "start_time": "2025-08-30T18:59:22.824243",
     "status": "completed"
    },
    "tags": []
   },
   "outputs": [
    {
     "name": "stdout",
     "output_type": "stream",
     "text": [
      "torch.Size([32, 1, 28, 28])\n",
      "predicted: tensor([9, 2, 1, 1, 6, 1, 4, 6, 5, 7, 4, 5, 5, 3, 4, 1, 2, 2, 8, 0, 2, 5, 7, 5,\n",
      "        1, 2, 6, 6, 9, 6, 8, 8]) \n",
      "real labels: tensor([9, 2, 1, 1, 6, 1, 4, 6, 5, 7, 4, 5, 7, 3, 4, 1, 2, 4, 8, 0, 2, 5, 7, 9,\n",
      "        1, 4, 6, 0, 9, 3, 8, 8])\n"
     ]
    }
   ],
   "source": [
    "images, labels = next(iter(test_loader))\n",
    "print(images.shape)\n",
    "preds = predictor.predict(images)\n",
    "print('predicted:', preds,'\\nreal labels:', labels)"
   ]
  },
  {
   "cell_type": "code",
   "execution_count": 14,
   "id": "ed8a7ccd",
   "metadata": {
    "execution": {
     "iopub.execute_input": "2025-08-30T18:59:24.263556Z",
     "iopub.status.busy": "2025-08-30T18:59:24.263202Z",
     "iopub.status.idle": "2025-08-30T18:59:24.273934Z",
     "shell.execute_reply": "2025-08-30T18:59:24.272763Z"
    },
    "papermill": {
     "duration": 0.490267,
     "end_time": "2025-08-30T18:59:24.275298",
     "exception": false,
     "start_time": "2025-08-30T18:59:23.785031",
     "status": "completed"
    },
    "tags": []
   },
   "outputs": [
    {
     "name": "stdout",
     "output_type": "stream",
     "text": [
      "tensor([[2.4511e-12, 7.9147e-10, 1.1932e-11, 1.8031e-12, 8.7042e-13, 3.9632e-05,\n",
      "         4.2693e-13, 1.5968e-04, 2.4749e-12, 9.9980e-01],\n",
      "        [1.3126e-05, 3.9956e-18, 9.9997e-01, 2.2464e-12, 6.4888e-06, 1.7677e-21,\n",
      "         7.9346e-06, 4.2231e-25, 2.2550e-15, 6.5461e-24],\n",
      "        [7.1918e-19, 1.0000e+00, 8.7124e-23, 1.2894e-15, 1.1125e-21, 4.1585e-24,\n",
      "         3.4260e-16, 0.0000e+00, 1.4556e-28, 3.6931e-35],\n",
      "        [2.7867e-15, 1.0000e+00, 2.2502e-19, 2.2892e-12, 2.4224e-18, 8.6391e-18,\n",
      "         2.2677e-13, 9.8081e-37, 7.6451e-23, 2.3011e-27],\n",
      "        [3.1998e-01, 1.5550e-08, 3.6784e-02, 6.0716e-05, 6.9377e-04, 2.0735e-11,\n",
      "         6.4248e-01, 2.6143e-11, 1.6509e-06, 9.9645e-10],\n",
      "        [9.0612e-12, 1.0000e+00, 2.3350e-16, 2.9069e-12, 9.1500e-19, 1.0770e-20,\n",
      "         1.4089e-10, 2.6903e-39, 5.6269e-21, 1.3946e-28],\n",
      "        [7.0464e-17, 2.2034e-26, 1.0727e-08, 4.2764e-21, 1.0000e+00, 5.4259e-30,\n",
      "         5.7798e-09, 2.2642e-35, 2.5879e-25, 9.4698e-33],\n",
      "        [1.5456e-10, 5.2783e-14, 1.7303e-05, 3.4601e-09, 1.3703e-03, 1.5751e-19,\n",
      "         9.9861e-01, 2.8637e-21, 1.0515e-14, 5.9355e-17],\n",
      "        [2.0722e-12, 2.2496e-11, 5.9551e-17, 2.4063e-14, 1.4566e-12, 1.0000e+00,\n",
      "         7.1260e-18, 1.3062e-11, 4.0991e-12, 1.8781e-17],\n",
      "        [7.0291e-16, 3.9920e-13, 1.9626e-16, 5.3233e-14, 2.5000e-14, 2.5209e-09,\n",
      "         8.3799e-17, 1.0000e+00, 4.6941e-13, 3.5733e-07],\n",
      "        [9.4122e-03, 1.0754e-04, 3.3812e-02, 7.0025e-06, 9.3835e-01, 2.8675e-08,\n",
      "         1.8310e-02, 1.3160e-09, 1.9080e-08, 2.3916e-07],\n",
      "        [2.3383e-13, 7.1491e-14, 7.9221e-12, 1.0659e-12, 2.0566e-08, 1.0000e+00,\n",
      "         5.0209e-11, 5.5583e-10, 1.5128e-12, 6.0323e-12],\n",
      "        [5.5201e-21, 5.6351e-19, 3.5147e-27, 1.5471e-19, 2.7597e-17, 9.9872e-01,\n",
      "         2.8371e-27, 1.2847e-03, 1.8243e-08, 7.2069e-16],\n",
      "        [2.3346e-04, 1.1396e-04, 1.5443e-07, 9.9964e-01, 3.2528e-07, 1.1200e-11,\n",
      "         1.1241e-05, 1.5336e-15, 4.3765e-08, 1.2052e-12],\n",
      "        [1.7228e-05, 4.1414e-08, 2.0907e-01, 5.5438e-07, 7.6909e-01, 8.5692e-08,\n",
      "         2.1822e-02, 1.0352e-09, 7.2719e-08, 6.5585e-08],\n",
      "        [1.3644e-12, 1.0000e+00, 1.0874e-14, 7.8103e-10, 1.1199e-11, 4.6107e-16,\n",
      "         1.0850e-10, 1.6784e-27, 1.2457e-17, 9.9591e-21],\n",
      "        [9.5436e-06, 1.0879e-10, 9.9960e-01, 1.6178e-10, 4.0413e-05, 1.1627e-13,\n",
      "         3.5352e-04, 1.7828e-18, 1.5149e-10, 3.3331e-16],\n",
      "        [1.0854e-04, 3.2888e-08, 8.4624e-01, 1.0424e-07, 1.4721e-01, 1.1912e-09,\n",
      "         6.4429e-03, 2.9150e-12, 5.4242e-09, 2.2514e-10],\n",
      "        [3.8293e-08, 3.5340e-13, 1.4493e-13, 5.6429e-11, 2.0388e-11, 7.0099e-09,\n",
      "         3.2470e-11, 2.7190e-08, 1.0000e+00, 1.4910e-08],\n",
      "        [7.3786e-01, 9.1057e-07, 2.3445e-03, 2.6174e-04, 3.2141e-05, 9.7199e-10,\n",
      "         2.5950e-01, 2.2045e-12, 1.9532e-06, 3.0081e-11],\n",
      "        [6.7102e-04, 1.3457e-09, 9.9742e-01, 7.0681e-10, 1.5159e-03, 5.1096e-14,\n",
      "         3.9075e-04, 3.8166e-19, 3.2359e-09, 8.3254e-17],\n",
      "        [5.3641e-10, 2.9279e-09, 1.6280e-10, 1.2807e-08, 1.5459e-07, 9.8237e-01,\n",
      "         6.3817e-11, 1.7628e-02, 1.9476e-08, 8.4755e-07],\n",
      "        [2.3634e-22, 1.4123e-17, 5.3669e-20, 8.4370e-18, 1.9683e-17, 2.0988e-10,\n",
      "         1.7110e-20, 1.0000e+00, 1.0527e-13, 4.5825e-10],\n",
      "        [1.4921e-07, 3.6357e-09, 1.6743e-10, 5.0749e-10, 1.4107e-08, 9.9936e-01,\n",
      "         8.2356e-09, 6.1434e-04, 2.2141e-08, 2.4809e-05],\n",
      "        [1.4384e-17, 1.0000e+00, 1.6331e-19, 1.7021e-14, 4.4907e-19, 2.7545e-23,\n",
      "         1.9415e-14, 2.9825e-41, 1.0672e-23, 5.7508e-33],\n",
      "        [5.6526e-04, 9.0690e-09, 9.0767e-01, 1.4478e-06, 8.2141e-02, 4.4510e-12,\n",
      "         9.6231e-03, 6.7819e-13, 4.6776e-08, 1.5354e-13],\n",
      "        [5.9066e-05, 8.3784e-07, 1.6919e-02, 2.9062e-05, 1.2704e-01, 5.1625e-10,\n",
      "         8.5595e-01, 8.3943e-09, 9.9908e-07, 2.2047e-07],\n",
      "        [4.3166e-01, 1.5947e-06, 1.5956e-04, 5.7421e-03, 3.1360e-07, 1.3680e-11,\n",
      "         5.6244e-01, 3.1801e-16, 5.4085e-10, 4.8331e-13],\n",
      "        [1.2444e-12, 1.7240e-08, 1.4639e-10, 7.9824e-12, 1.4598e-12, 1.9577e-06,\n",
      "         4.6165e-12, 5.4018e-03, 6.6739e-12, 9.9460e-01],\n",
      "        [6.3932e-03, 4.9705e-05, 2.6322e-02, 2.4562e-01, 2.9319e-01, 1.7135e-07,\n",
      "         4.2777e-01, 2.6424e-06, 6.5072e-04, 7.9199e-07],\n",
      "        [1.5022e-18, 2.4189e-25, 5.6248e-24, 1.2225e-24, 1.3554e-21, 7.6303e-29,\n",
      "         1.0384e-27, 1.2591e-29, 1.0000e+00, 7.9478e-30],\n",
      "        [2.6923e-10, 1.8337e-18, 8.8696e-10, 4.2952e-12, 2.5018e-07, 2.4873e-18,\n",
      "         1.1553e-13, 9.4768e-20, 1.0000e+00, 8.6144e-27]])\n",
      "torch.Size([32, 10])\n"
     ]
    }
   ],
   "source": [
    "pred_probas = predictor.predict_proba(images)\n",
    "print(pred_probas)\n",
    "print(pred_probas.shape)"
   ]
  },
  {
   "cell_type": "markdown",
   "id": "b562eabd",
   "metadata": {
    "papermill": {
     "duration": 0.48142,
     "end_time": "2025-08-30T18:59:25.167456",
     "exception": false,
     "start_time": "2025-08-30T18:59:24.686036",
     "status": "completed"
    },
    "tags": []
   },
   "source": [
    "#### predict single image"
   ]
  },
  {
   "cell_type": "code",
   "execution_count": 15,
   "id": "372c4742",
   "metadata": {
    "execution": {
     "iopub.execute_input": "2025-08-30T18:59:25.984713Z",
     "iopub.status.busy": "2025-08-30T18:59:25.984023Z",
     "iopub.status.idle": "2025-08-30T18:59:26.001814Z",
     "shell.execute_reply": "2025-08-30T18:59:26.001140Z"
    },
    "papermill": {
     "duration": 0.428764,
     "end_time": "2025-08-30T18:59:26.003237",
     "exception": false,
     "start_time": "2025-08-30T18:59:25.574473",
     "status": "completed"
    },
    "tags": []
   },
   "outputs": [
    {
     "data": {
      "text/plain": [
       "(<PIL.Image.Image image mode=L size=28x28>, 9)"
      ]
     },
     "execution_count": 15,
     "metadata": {},
     "output_type": "execute_result"
    }
   ],
   "source": [
    "test_data_pil = datasets.FashionMNIST(root='data',train= False, download=True)\n",
    "test_data_pil[0]"
   ]
  },
  {
   "cell_type": "code",
   "execution_count": 16,
   "id": "2ab1df7c",
   "metadata": {
    "execution": {
     "iopub.execute_input": "2025-08-30T18:59:26.886086Z",
     "iopub.status.busy": "2025-08-30T18:59:26.885824Z",
     "iopub.status.idle": "2025-08-30T18:59:27.088301Z",
     "shell.execute_reply": "2025-08-30T18:59:27.087489Z"
    },
    "papermill": {
     "duration": 0.676194,
     "end_time": "2025-08-30T18:59:27.089779",
     "exception": false,
     "start_time": "2025-08-30T18:59:26.413585",
     "status": "completed"
    },
    "tags": []
   },
   "outputs": [
    {
     "data": {
      "text/plain": [
       "Text(0.5, 1.0, 'Ankle boot: 9')"
      ]
     },
     "execution_count": 16,
     "metadata": {},
     "output_type": "execute_result"
    },
    {
     "data": {
      "image/png": "[encoded data removed]",
      "text/plain": [
       "<Figure size 640x480 with 1 Axes>"
      ]
     },
     "metadata": {},
     "output_type": "display_data"
    }
   ],
   "source": [
    "import matplotlib.pyplot as plt\n",
    "\n",
    "class_names = ['T-shirt/top', 'Trouser', 'Pullover', 'Dress', 'Coat','Sandal', 'Shirt', 'Sneaker', 'Bag', 'Ankle boot']\n",
    "plt.imshow(test_data_pil[0][0], cmap='gray')\n",
    "plt.title(f'{class_names[test_data_pil[0][1]]}: {test_data_pil[0][1]}')"
   ]
  },
  {
   "cell_type": "code",
   "execution_count": 17,
   "id": "29d7f877",
   "metadata": {
    "execution": {
     "iopub.execute_input": "2025-08-30T18:59:27.973519Z",
     "iopub.status.busy": "2025-08-30T18:59:27.973193Z",
     "iopub.status.idle": "2025-08-30T18:59:27.979186Z",
     "shell.execute_reply": "2025-08-30T18:59:27.978474Z"
    },
    "papermill": {
     "duration": 0.484134,
     "end_time": "2025-08-30T18:59:27.980502",
     "exception": false,
     "start_time": "2025-08-30T18:59:27.496368",
     "status": "completed"
    },
    "tags": []
   },
   "outputs": [
    {
     "name": "stdout",
     "output_type": "stream",
     "text": [
      "<class 'torch.Tensor'> torch.Size([1, 28, 28])\n"
     ]
    }
   ],
   "source": [
    "from torchvision.transforms import ToTensor\n",
    "\n",
    "# PIL image to tensor \n",
    "transform = ToTensor()\n",
    "input_tensor = transform(test_data_pil[0][0])\n",
    "print(type(input_tensor), input_tensor.shape)"
   ]
  },
  {
   "cell_type": "code",
   "execution_count": 18,
   "id": "b350d28f",
   "metadata": {
    "execution": {
     "iopub.execute_input": "2025-08-30T18:59:28.800286Z",
     "iopub.status.busy": "2025-08-30T18:59:28.799997Z",
     "iopub.status.idle": "2025-08-30T18:59:28.805842Z",
     "shell.execute_reply": "2025-08-30T18:59:28.805098Z"
    },
    "papermill": {
     "duration": 0.413557,
     "end_time": "2025-08-30T18:59:28.807157",
     "exception": false,
     "start_time": "2025-08-30T18:59:28.393600",
     "status": "completed"
    },
    "tags": []
   },
   "outputs": [
    {
     "data": {
      "text/plain": [
       "torch.Size([1, 1, 28, 28])"
      ]
     },
     "execution_count": 18,
     "metadata": {},
     "output_type": "execute_result"
    }
   ],
   "source": [
    "input_tensor.unsqueeze(0).shape"
   ]
  },
  {
   "cell_type": "code",
   "execution_count": 19,
   "id": "48d382c8",
   "metadata": {
    "execution": {
     "iopub.execute_input": "2025-08-30T18:59:29.691694Z",
     "iopub.status.busy": "2025-08-30T18:59:29.691338Z",
     "iopub.status.idle": "2025-08-30T18:59:29.699058Z",
     "shell.execute_reply": "2025-08-30T18:59:29.698208Z"
    },
    "papermill": {
     "duration": 0.482483,
     "end_time": "2025-08-30T18:59:29.700293",
     "exception": false,
     "start_time": "2025-08-30T18:59:29.217810",
     "status": "completed"
    },
    "tags": []
   },
   "outputs": [
    {
     "name": "stdout",
     "output_type": "stream",
     "text": [
      "torch.Size([1, 1, 28, 28])\n",
      "9\n",
      "[9]\n"
     ]
    }
   ],
   "source": [
    "\n",
    "print(input_tensor.unsqueeze(0).shape)\n",
    "pred = predictor.predict(input_tensor.unsqueeze(0))\n",
    "print(pred.item())\n",
    "print(pred.cpu().numpy())"
   ]
  },
  {
   "cell_type": "markdown",
   "id": "7624a236",
   "metadata": {
    "papermill": {
     "duration": 0.468621,
     "end_time": "2025-08-30T18:59:30.580902",
     "exception": false,
     "start_time": "2025-08-30T18:59:30.112281",
     "status": "completed"
    },
    "tags": []
   },
   "source": [
    "### Saving and Loading Models\n",
    "\n",
    "* There are two main approaches: saving/loading both the model architecture and parameters, or saving/loading only the parameters.\n",
    "\n",
    "* **Saving/Loading the entire model**\n",
    "\n",
    "  * A trained model (in memory) can be saved to a file using `torch.save(model, PATH)`.\n",
    "  * A saved model file can be loaded back into memory with `torch.load(PATH)`.\n",
    "\n",
    "* **Saving/Loading only the parameters**\n",
    "\n",
    "  * Call `model.state_dict()` and save it using `torch.save(model.state_dict(), PATH)` to store only the parameters.\n",
    "  * To load, first create the same model architecture (untrained), then use `model.load_state_dict()` to load the saved parameters.\n",
    "\n",
    "* It is generally recommended to save/load only the parameters rather than the full model. Differences in PyTorch versions may cause the full model to fail loading. Additionally, parameter-only files are smaller, and the saved parameters can be reused in modified architectures with additional layers.\n"
   ]
  },
  {
   "cell_type": "code",
   "execution_count": 20,
   "id": "07ff02b6",
   "metadata": {
    "execution": {
     "iopub.execute_input": "2025-08-30T18:59:31.397614Z",
     "iopub.status.busy": "2025-08-30T18:59:31.396936Z",
     "iopub.status.idle": "2025-08-30T18:59:31.404243Z",
     "shell.execute_reply": "2025-08-30T18:59:31.403622Z"
    },
    "papermill": {
     "duration": 0.41681,
     "end_time": "2025-08-30T18:59:31.405530",
     "exception": false,
     "start_time": "2025-08-30T18:59:30.988720",
     "status": "completed"
    },
    "tags": []
   },
   "outputs": [],
   "source": [
    "trained_model = trainer.get_trained_model()\n",
    "\n",
    "checkpoint_filepath_01 = '/kaggle/working/checkpoint_01.pt'\n",
    "# save the entire model\n",
    "torch.save(trained_model, checkpoint_filepath_01)"
   ]
  },
  {
   "cell_type": "code",
   "execution_count": 21,
   "id": "96738d70",
   "metadata": {
    "execution": {
     "iopub.execute_input": "2025-08-30T18:59:32.295770Z",
     "iopub.status.busy": "2025-08-30T18:59:32.295116Z",
     "iopub.status.idle": "2025-08-30T18:59:32.300999Z",
     "shell.execute_reply": "2025-08-30T18:59:32.300311Z"
    },
    "papermill": {
     "duration": 0.41916,
     "end_time": "2025-08-30T18:59:32.302468",
     "exception": false,
     "start_time": "2025-08-30T18:59:31.883308",
     "status": "completed"
    },
    "tags": []
   },
   "outputs": [],
   "source": [
    "restored_model_01 = torch.load(checkpoint_filepath_01, weights_only=False)"
   ]
  },
  {
   "cell_type": "code",
   "execution_count": 22,
   "id": "bdc4231c",
   "metadata": {
    "execution": {
     "iopub.execute_input": "2025-08-30T18:59:33.181547Z",
     "iopub.status.busy": "2025-08-30T18:59:33.181220Z",
     "iopub.status.idle": "2025-08-30T18:59:34.347643Z",
     "shell.execute_reply": "2025-08-30T18:59:34.346499Z"
    },
    "papermill": {
     "duration": 1.641525,
     "end_time": "2025-08-30T18:59:34.348863",
     "exception": false,
     "start_time": "2025-08-30T18:59:32.707338",
     "status": "completed"
    },
    "tags": []
   },
   "outputs": [
    {
     "name": "stderr",
     "output_type": "stream",
     "text": [
      "[Evaluating]: 100%|██████████| 313/313 [00:01<00:00, 272.98it/s, Accuracy=0.889]"
     ]
    },
    {
     "name": "stdout",
     "output_type": "stream",
     "text": [
      "test dataset evaluation:0.8891\n"
     ]
    },
    {
     "name": "stderr",
     "output_type": "stream",
     "text": [
      "\n"
     ]
    }
   ],
   "source": [
    "BATCH_SIZE = 32\n",
    "test_data = datasets.FashionMNIST(root='data',train= False, download=True, transform=ToTensor())\n",
    "test_loader = DataLoader(test_data, batch_size=BATCH_SIZE, shuffle=False, num_workers=4)\n",
    "\n",
    "\n",
    "predictor = Predictor(model=restored_model_01, device=device)\n",
    "eval_metric = predictor.evaluate(test_loader)\n",
    "print(f'test dataset evaluation:{eval_metric:.4f}')"
   ]
  },
  {
   "cell_type": "code",
   "execution_count": 23,
   "id": "95ab8ce8",
   "metadata": {
    "execution": {
     "iopub.execute_input": "2025-08-30T18:59:35.164105Z",
     "iopub.status.busy": "2025-08-30T18:59:35.163794Z",
     "iopub.status.idle": "2025-08-30T18:59:35.170461Z",
     "shell.execute_reply": "2025-08-30T18:59:35.169658Z"
    },
    "papermill": {
     "duration": 0.417105,
     "end_time": "2025-08-30T18:59:35.171828",
     "exception": false,
     "start_time": "2025-08-30T18:59:34.754723",
     "status": "completed"
    },
    "tags": []
   },
   "outputs": [],
   "source": [
    "checkpoint_filepath_02 = '/kaggle/working/checkpoint_02.pt'\n",
    "# save only parameters \n",
    "torch.save(trained_model.state_dict(), checkpoint_filepath_02)"
   ]
  },
  {
   "cell_type": "code",
   "execution_count": 24,
   "id": "ffd65c45",
   "metadata": {
    "execution": {
     "iopub.execute_input": "2025-08-30T18:59:36.055343Z",
     "iopub.status.busy": "2025-08-30T18:59:36.055055Z",
     "iopub.status.idle": "2025-08-30T18:59:36.067936Z",
     "shell.execute_reply": "2025-08-30T18:59:36.067198Z"
    },
    "papermill": {
     "duration": 0.424525,
     "end_time": "2025-08-30T18:59:36.069269",
     "exception": false,
     "start_time": "2025-08-30T18:59:35.644744",
     "status": "completed"
    },
    "tags": []
   },
   "outputs": [
    {
     "data": {
      "text/plain": [
       "<All keys matched successfully>"
      ]
     },
     "execution_count": 24,
     "metadata": {},
     "output_type": "execute_result"
    }
   ],
   "source": [
    "# Extract only the parameters from the checkpoint file\n",
    "state_dict = torch.load(checkpoint_filepath_02, weights_only=True)\n",
    "\n",
    "# Create a new model with untrained weights\n",
    "restored_model_02 = create_simple_linear_model(input_size=28, num_classes=10)\n",
    "\n",
    "# Load the parameters into the new model\n",
    "restored_model_02.load_state_dict(state_dict)\n",
    "\n",
    "# Set the restored model to evaluation mode (if needed)\n",
    "# restored_model_02.eval()\n"
   ]
  },
  {
   "cell_type": "code",
   "execution_count": 25,
   "id": "14314bf8",
   "metadata": {
    "execution": {
     "iopub.execute_input": "2025-08-30T18:59:36.956443Z",
     "iopub.status.busy": "2025-08-30T18:59:36.955817Z",
     "iopub.status.idle": "2025-08-30T18:59:38.053009Z",
     "shell.execute_reply": "2025-08-30T18:59:38.051688Z"
    },
    "papermill": {
     "duration": 1.506689,
     "end_time": "2025-08-30T18:59:38.054382",
     "exception": false,
     "start_time": "2025-08-30T18:59:36.547693",
     "status": "completed"
    },
    "tags": []
   },
   "outputs": [
    {
     "name": "stderr",
     "output_type": "stream",
     "text": [
      "[Evaluating]: 100%|██████████| 313/313 [00:01<00:00, 291.09it/s, Accuracy=0.889]"
     ]
    },
    {
     "name": "stdout",
     "output_type": "stream",
     "text": [
      "test dataset evaluation:0.8891\n"
     ]
    },
    {
     "name": "stderr",
     "output_type": "stream",
     "text": [
      "\n"
     ]
    }
   ],
   "source": [
    "BATCH_SIZE = 32\n",
    "test_data = datasets.FashionMNIST(root='data',train= False, download=True, transform=ToTensor())\n",
    "test_loader = DataLoader(test_data, batch_size=BATCH_SIZE, shuffle=False, num_workers=4)\n",
    "\n",
    "predictor = Predictor(model=restored_model_02, device=device)\n",
    "eval_metric = predictor.evaluate(test_loader)\n",
    "print(f'test dataset evaluation:{eval_metric:.4f}')"
   ]
  },
  {
   "cell_type": "code",
   "execution_count": null,
   "id": "198111a4",
   "metadata": {
    "papermill": {
     "duration": 0.406019,
     "end_time": "2025-08-30T18:59:38.872309",
     "exception": false,
     "start_time": "2025-08-30T18:59:38.466290",
     "status": "completed"
    },
    "tags": []
   },
   "outputs": [],
   "source": []
  }
 ],
 "metadata": {
  "kaggle": {
   "accelerator": "none",
   "dataSources": [],
   "dockerImageVersionId": 31089,
   "isGpuEnabled": false,
   "isInternetEnabled": true,
   "language": "python",
   "sourceType": "notebook"
  },
  "kernelspec": {
   "display_name": "Python 3",
   "language": "python",
   "name": "python3"
  },
  "language_info": {
   "codemirror_mode": {
    "name": "ipython",
    "version": 3
   },
   "file_extension": ".py",
   "mimetype": "text/x-python",
   "name": "python",
   "nbconvert_exporter": "python",
   "pygments_lexer": "ipython3",
   "version": "3.11.13"
  },
  "papermill": {
   "default_parameters": {},
   "duration": 492.163933,
   "end_time": "2025-08-30T18:59:41.174163",
   "environment_variables": {},
   "exception": null,
   "input_path": "__notebook__.ipynb",
   "output_path": "__notebook__.ipynb",
   "parameters": {},
   "start_time": "2025-08-30T18:51:29.010230",
   "version": "2.6.0"
  }
 },
 "nbformat": 4,
 "nbformat_minor": 5
}
