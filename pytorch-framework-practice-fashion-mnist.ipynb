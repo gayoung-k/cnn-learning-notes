{
 "cells": [
  {
   "cell_type": "markdown",
   "id": "32df99a2",
   "metadata": {
    "papermill": {
     "duration": 0.009668,
     "end_time": "2025-08-30T17:32:57.253014",
     "exception": false,
     "start_time": "2025-08-30T17:32:57.243346",
     "status": "completed"
    },
    "tags": []
   },
   "source": [
    "### Creating and Training a Model on Fashion MNIST Data\n",
    "\n",
    "* Create the FashionMNIST dataset, apply transformations, and set up the DataLoader.\n",
    "* Build a neural network model using layers, functions, and `Sequential`.\n",
    "* Understand the loss function and optimizer.\n",
    "* Implement the training loop:\n",
    "\n",
    "  * In PyTorch, the model creation and training logic are loosely coupled.\n",
    "  * The model focuses on transforming input tensors (batch-wise) according to the network structure and returning output tensors, which implicitly builds the computational graph.\n",
    "  * The training loop uses the output tensors along with a loss function and optimizer to perform backpropagation and update the model’s weight parameters. This process is repeated for each batch of training data and iterated over the entire dataset for the number of epochs specified.\n"
   ]
  },
  {
   "cell_type": "markdown",
   "id": "acedd8c7",
   "metadata": {
    "papermill": {
     "duration": 0.007812,
     "end_time": "2025-08-30T17:32:57.269278",
     "exception": false,
     "start_time": "2025-08-30T17:32:57.261466",
     "status": "completed"
    },
    "tags": []
   },
   "source": [
    "#### Creating the Fashion MNIST Dataset\n",
    "\n",
    "* Download the FashionMNIST dataset from `torchvision.datasets`.\n",
    "* Setting `train=True` creates the training dataset, while `train=False` creates the test dataset.\n",
    "* The image data is in PIL format, so you need to convert it to a tensor using `torchvision.transforms.ToTensor()`.\n"
   ]
  },
  {
   "cell_type": "code",
   "execution_count": 1,
   "id": "56600b09",
   "metadata": {
    "execution": {
     "iopub.execute_input": "2025-08-30T17:32:57.287726Z",
     "iopub.status.busy": "2025-08-30T17:32:57.287160Z",
     "iopub.status.idle": "2025-08-30T17:33:17.332208Z",
     "shell.execute_reply": "2025-08-30T17:33:17.331272Z"
    },
    "papermill": {
     "duration": 20.055261,
     "end_time": "2025-08-30T17:33:17.333431",
     "exception": false,
     "start_time": "2025-08-30T17:32:57.278170",
     "status": "completed"
    },
    "tags": []
   },
   "outputs": [
    {
     "name": "stderr",
     "output_type": "stream",
     "text": [
      "100%|██████████| 26.4M/26.4M [00:03<00:00, 7.60MB/s]\n",
      "100%|██████████| 29.5k/29.5k [00:00<00:00, 113kB/s]\n",
      "100%|██████████| 4.42M/4.42M [00:02<00:00, 1.83MB/s]\n",
      "100%|██████████| 5.15k/5.15k [00:00<00:00, 12.5MB/s]\n"
     ]
    }
   ],
   "source": [
    "import torch\n",
    "import torch.nn as nn\n",
    "from torchvision import datasets\n",
    "from torchvision.transforms import ToTensor  # Important class to convert images to tensors\n",
    "\n",
    "# Download the FashionMNIST training dataset\n",
    "train_data = datasets.FashionMNIST(root='data', train=True, download=True)  # , transform=ToTensor()\n",
    "\n",
    "# Download the test dataset (used here for testing/validation purposes — though ideally should not be used for validation)\n",
    "test_data = datasets.FashionMNIST(root='data', train=False, download=True)  # , transform=ToTensor()\n"
   ]
  },
  {
   "cell_type": "code",
   "execution_count": 2,
   "id": "1d669415",
   "metadata": {
    "execution": {
     "iopub.execute_input": "2025-08-30T17:33:17.354202Z",
     "iopub.status.busy": "2025-08-30T17:33:17.353797Z",
     "iopub.status.idle": "2025-08-30T17:33:17.359033Z",
     "shell.execute_reply": "2025-08-30T17:33:17.358319Z"
    },
    "papermill": {
     "duration": 0.016733,
     "end_time": "2025-08-30T17:33:17.360134",
     "exception": false,
     "start_time": "2025-08-30T17:33:17.343401",
     "status": "completed"
    },
    "tags": []
   },
   "outputs": [
    {
     "data": {
      "text/plain": [
       "Dataset FashionMNIST\n",
       "    Number of datapoints: 60000\n",
       "    Root location: data\n",
       "    Split: Train"
      ]
     },
     "execution_count": 2,
     "metadata": {},
     "output_type": "execute_result"
    }
   ],
   "source": [
    "train_data"
   ]
  },
  {
   "cell_type": "code",
   "execution_count": 3,
   "id": "df810209",
   "metadata": {
    "execution": {
     "iopub.execute_input": "2025-08-30T17:33:17.380199Z",
     "iopub.status.busy": "2025-08-30T17:33:17.379756Z",
     "iopub.status.idle": "2025-08-30T17:33:17.384427Z",
     "shell.execute_reply": "2025-08-30T17:33:17.383680Z"
    },
    "papermill": {
     "duration": 0.015908,
     "end_time": "2025-08-30T17:33:17.385551",
     "exception": false,
     "start_time": "2025-08-30T17:33:17.369643",
     "status": "completed"
    },
    "tags": []
   },
   "outputs": [
    {
     "data": {
      "text/plain": [
       "Dataset FashionMNIST\n",
       "    Number of datapoints: 10000\n",
       "    Root location: data\n",
       "    Split: Test"
      ]
     },
     "execution_count": 3,
     "metadata": {},
     "output_type": "execute_result"
    }
   ],
   "source": [
    "test_data"
   ]
  },
  {
   "cell_type": "markdown",
   "id": "1907350b",
   "metadata": {
    "papermill": {
     "duration": 0.009658,
     "end_time": "2025-08-30T17:33:17.405798",
     "exception": false,
     "start_time": "2025-08-30T17:33:17.396140",
     "status": "completed"
    },
    "tags": []
   },
   "source": [
    "**PIL: Python Imaging Library**\n",
    "\n",
    "* Provides useful functions for image processing, such as opening images, cropping, rotating, applying filters, and saving.\n",
    "* `PIL.Image.Image` is the image object type used by the Pillow (PIL) library.\n",
    "  → In other words, it can be thought of as a **Python object representing an image file in memory**.\n"
   ]
  },
  {
   "cell_type": "code",
   "execution_count": 4,
   "id": "215ec9e3",
   "metadata": {
    "execution": {
     "iopub.execute_input": "2025-08-30T17:33:17.426336Z",
     "iopub.status.busy": "2025-08-30T17:33:17.425765Z",
     "iopub.status.idle": "2025-08-30T17:33:17.433292Z",
     "shell.execute_reply": "2025-08-30T17:33:17.432456Z"
    },
    "papermill": {
     "duration": 0.019047,
     "end_time": "2025-08-30T17:33:17.434486",
     "exception": false,
     "start_time": "2025-08-30T17:33:17.415439",
     "status": "completed"
    },
    "tags": []
   },
   "outputs": [
    {
     "name": "stdout",
     "output_type": "stream",
     "text": [
      "(<PIL.Image.Image image mode=L size=28x28 at 0x796067542E10>, 9)\n",
      "<class 'tuple'>\n",
      "<class 'PIL.Image.Image'>\n",
      "60000\n"
     ]
    }
   ],
   "source": [
    "# Each Fashion MNIST data point consists of a tuple containing a PIL Image and its corresponding label/target\n",
    "print(train_data[0])\n",
    "print(type(train_data[0]))\n",
    "print(type(train_data[0][0]))\n",
    "print(len(train_data))\n"
   ]
  },
  {
   "cell_type": "code",
   "execution_count": 5,
   "id": "84ff012f",
   "metadata": {
    "execution": {
     "iopub.execute_input": "2025-08-30T17:33:17.454841Z",
     "iopub.status.busy": "2025-08-30T17:33:17.454396Z",
     "iopub.status.idle": "2025-08-30T17:33:17.491433Z",
     "shell.execute_reply": "2025-08-30T17:33:17.490685Z"
    },
    "papermill": {
     "duration": 0.048239,
     "end_time": "2025-08-30T17:33:17.492569",
     "exception": false,
     "start_time": "2025-08-30T17:33:17.444330",
     "status": "completed"
    },
    "tags": []
   },
   "outputs": [
    {
     "data": {
      "image/jpeg": "[encoded data removed]",
      "image/png": "[encoded data removed]",
      "text/plain": [
       "<PIL.Image.Image image mode=L size=28x28>"
      ]
     },
     "execution_count": 5,
     "metadata": {},
     "output_type": "execute_result"
    }
   ],
   "source": [
    "train_data[0][0]  # PIL Image can be visualized directly\n"
   ]
  },
  {
   "cell_type": "code",
   "execution_count": 6,
   "id": "0f6dfc0a",
   "metadata": {
    "execution": {
     "iopub.execute_input": "2025-08-30T17:33:17.514533Z",
     "iopub.status.busy": "2025-08-30T17:33:17.513783Z",
     "iopub.status.idle": "2025-08-30T17:33:17.518149Z",
     "shell.execute_reply": "2025-08-30T17:33:17.517516Z"
    },
    "papermill": {
     "duration": 0.016023,
     "end_time": "2025-08-30T17:33:17.519213",
     "exception": false,
     "start_time": "2025-08-30T17:33:17.503190",
     "status": "completed"
    },
    "tags": []
   },
   "outputs": [
    {
     "name": "stdout",
     "output_type": "stream",
     "text": [
      "<class 'torch.Tensor'> torch.Size([60000, 28, 28])\n"
     ]
    }
   ],
   "source": [
    "print(type(train_data.data), train_data.data.shape)"
   ]
  },
  {
   "cell_type": "code",
   "execution_count": 7,
   "id": "99dd95eb",
   "metadata": {
    "execution": {
     "iopub.execute_input": "2025-08-30T17:33:17.540143Z",
     "iopub.status.busy": "2025-08-30T17:33:17.539807Z",
     "iopub.status.idle": "2025-08-30T17:33:17.546095Z",
     "shell.execute_reply": "2025-08-30T17:33:17.545461Z"
    },
    "papermill": {
     "duration": 0.017984,
     "end_time": "2025-08-30T17:33:17.547206",
     "exception": false,
     "start_time": "2025-08-30T17:33:17.529222",
     "status": "completed"
    },
    "tags": []
   },
   "outputs": [
    {
     "name": "stdout",
     "output_type": "stream",
     "text": [
      "torch.Size([60000])\n"
     ]
    }
   ],
   "source": [
    "print(train_data.targets.shape) #label "
   ]
  },
  {
   "cell_type": "markdown",
   "id": "d81fb554",
   "metadata": {
    "papermill": {
     "duration": 0.009683,
     "end_time": "2025-08-30T17:33:17.566994",
     "exception": false,
     "start_time": "2025-08-30T17:33:17.557311",
     "status": "completed"
    },
    "tags": []
   },
   "source": [
    "`train_data.data`:\n",
    "This attribute directly accesses the raw image tensors inside the `datasets.FashionMNIST` class.\n",
    "\n",
    "In other words, it contains the unprocessed, raw data before any transforms are applied, and PyTorch stores it internally as `torch.Tensor`.\n",
    "\n",
    "`train_data[0][0]` → accessed externally via `__getitem__()` and converted to a `PIL.Image`.\n",
    "\n",
    "`train_data.data` → internal storage, already stored as tensors for all images.\n"
   ]
  },
  {
   "cell_type": "markdown",
   "id": "3b08d338",
   "metadata": {
    "papermill": {
     "duration": 0.009619,
     "end_time": "2025-08-30T17:33:17.586316",
     "exception": false,
     "start_time": "2025-08-30T17:33:17.576697",
     "status": "completed"
    },
    "tags": []
   },
   "source": [
    "### Visualizing Fashion MNIST Images\n"
   ]
  },
  {
   "cell_type": "code",
   "execution_count": 8,
   "id": "3611d826",
   "metadata": {
    "execution": {
     "iopub.execute_input": "2025-08-30T17:33:17.607077Z",
     "iopub.status.busy": "2025-08-30T17:33:17.606435Z",
     "iopub.status.idle": "2025-08-30T17:33:17.813682Z",
     "shell.execute_reply": "2025-08-30T17:33:17.812933Z"
    },
    "papermill": {
     "duration": 0.218995,
     "end_time": "2025-08-30T17:33:17.815039",
     "exception": false,
     "start_time": "2025-08-30T17:33:17.596044",
     "status": "completed"
    },
    "tags": []
   },
   "outputs": [
    {
     "data": {
      "text/plain": [
       "Text(0.5, 1.0, '9')"
      ]
     },
     "execution_count": 8,
     "metadata": {},
     "output_type": "execute_result"
    },
    {
     "data": {
      "image/png": "[encoded data removed]",
      "text/plain": [
       "<Figure size 640x480 with 1 Axes>"
      ]
     },
     "metadata": {},
     "output_type": "display_data"
    }
   ],
   "source": [
    "import matplotlib.pyplot as plt\n",
    "%matplotlib inline\n",
    "\n",
    "train_image = train_data[0][0]\n",
    "train_label = train_data[0][1]\n",
    "\n",
    "#visualize PIL Image\n",
    "plt.imshow(train_image, cmap='gray') # Set the colormap to 'gray' to display the image in grayscale\n",
    "\n",
    "plt.title(train_label)"
   ]
  },
  {
   "cell_type": "code",
   "execution_count": 9,
   "id": "32ef61fe",
   "metadata": {
    "execution": {
     "iopub.execute_input": "2025-08-30T17:33:17.836786Z",
     "iopub.status.busy": "2025-08-30T17:33:17.836564Z",
     "iopub.status.idle": "2025-08-30T17:33:19.957294Z",
     "shell.execute_reply": "2025-08-30T17:33:19.956470Z"
    },
    "papermill": {
     "duration": 2.132887,
     "end_time": "2025-08-30T17:33:19.958752",
     "exception": false,
     "start_time": "2025-08-30T17:33:17.825865",
     "status": "completed"
    },
    "tags": []
   },
   "outputs": [],
   "source": [
    "train_images = [image for image, _ in train_data]\n",
    "train_labels = [label for _, label in train_data]"
   ]
  },
  {
   "cell_type": "code",
   "execution_count": 10,
   "id": "cbf2a8ca",
   "metadata": {
    "execution": {
     "iopub.execute_input": "2025-08-30T17:33:20.030534Z",
     "iopub.status.busy": "2025-08-30T17:33:20.030266Z",
     "iopub.status.idle": "2025-08-30T17:33:20.034908Z",
     "shell.execute_reply": "2025-08-30T17:33:20.034356Z"
    },
    "papermill": {
     "duration": 0.017052,
     "end_time": "2025-08-30T17:33:20.035902",
     "exception": false,
     "start_time": "2025-08-30T17:33:20.018850",
     "status": "completed"
    },
    "tags": []
   },
   "outputs": [
    {
     "data": {
      "text/plain": [
       "PIL.Image.Image"
      ]
     },
     "execution_count": 10,
     "metadata": {},
     "output_type": "execute_result"
    }
   ],
   "source": [
    "type(train_images[0])"
   ]
  },
  {
   "cell_type": "code",
   "execution_count": 11,
   "id": "93e09013",
   "metadata": {
    "execution": {
     "iopub.execute_input": "2025-08-30T17:33:20.057275Z",
     "iopub.status.busy": "2025-08-30T17:33:20.057035Z",
     "iopub.status.idle": "2025-08-30T17:33:21.938370Z",
     "shell.execute_reply": "2025-08-30T17:33:21.937671Z"
    },
    "papermill": {
     "duration": 1.893245,
     "end_time": "2025-08-30T17:33:21.939505",
     "exception": false,
     "start_time": "2025-08-30T17:33:20.046260",
     "status": "completed"
    },
    "tags": []
   },
   "outputs": [
    {
     "data": {
      "image/png": "[encoded data removed]",
      "text/plain": [
       "<Figure size 2200x600 with 8 Axes>"
      ]
     },
     "metadata": {},
     "output_type": "display_data"
    },
    {
     "data": {
      "image/png": "[encoded data removed]",
      "text/plain": [
       "<Figure size 2200x600 with 8 Axes>"
      ]
     },
     "metadata": {},
     "output_type": "display_data"
    }
   ],
   "source": [
    "import matplotlib.pyplot as plt\n",
    "%matplotlib inline\n",
    "\n",
    "class_names=['T-shirt/top', 'Trouser', 'Pullover', 'Dress', 'Coat','Sandal', 'Shirt', 'Sneaker', 'Bag', 'Ankle boot']\n",
    "\n",
    "def show_images(images, labels, ncols=8):\n",
    "    figure, axs = plt.subplots(figsize=(22,6), nrows=1, ncols=ncols)\n",
    "    for i in range(ncols):\n",
    "        axs[i].imshow(images[i], cmap='gray')\n",
    "        axs[i].set_title(class_names[labels[i]])\n",
    "\n",
    "show_images(train_images[:8], train_labels[:8], ncols=8)\n",
    "show_images(train_images[8:16], train_labels[8:16], ncols=8)"
   ]
  },
  {
   "cell_type": "markdown",
   "id": "5933c443",
   "metadata": {
    "papermill": {
     "duration": 0.011025,
     "end_time": "2025-08-30T17:33:21.962438",
     "exception": false,
     "start_time": "2025-08-30T17:33:21.951413",
     "status": "completed"
    },
    "tags": []
   },
   "source": [
    "### Creating a DataLoader to Fetch the Dataset in Batches\n",
    "\n",
    "* A `DataLoader` efficiently feeds a dataset to the model in batches.\n",
    "\n",
    "Parameters:\n",
    "\n",
    "* **dataset**: The dataset object to load.\n",
    "* **batch\\_size**: Number of samples to load per batch.\n",
    "* **shuffle**: Whether to shuffle the data at the end of each epoch.\n",
    "* **num\\_workers**: Number of parallel worker processes for loading data.\n",
    "\n",
    "  * CPU handles data preparation (e.g., opening images, applying transforms) while GPU performs computations.\n",
    "  * If data is not prepared quickly enough, the GPU waits idly.\n",
    "  * Loading data in parallel across multiple CPU processes significantly speeds up training.\n",
    "\n",
    "- It is recommended that the DataLoader outputs data in tensor form.\n"
   ]
  },
  {
   "cell_type": "code",
   "execution_count": 12,
   "id": "f126abda",
   "metadata": {
    "execution": {
     "iopub.execute_input": "2025-08-30T17:33:21.986190Z",
     "iopub.status.busy": "2025-08-30T17:33:21.985661Z",
     "iopub.status.idle": "2025-08-30T17:33:21.990172Z",
     "shell.execute_reply": "2025-08-30T17:33:21.989470Z"
    },
    "papermill": {
     "duration": 0.017779,
     "end_time": "2025-08-30T17:33:21.991337",
     "exception": false,
     "start_time": "2025-08-30T17:33:21.973558",
     "status": "completed"
    },
    "tags": []
   },
   "outputs": [],
   "source": [
    "from torch.utils.data import DataLoader\n",
    "\n",
    "BATCH_SIZE = 32\n",
    "\n",
    "# Create DataLoader \n",
    "train_loader = DataLoader(dataset=train_data, batch_size=BATCH_SIZE, shuffle=True, num_workers=4)\n",
    "val_loader = DataLoader(dataset=test_data, batch_size=BATCH_SIZE, shuffle=False, num_workers=4)"
   ]
  },
  {
   "cell_type": "code",
   "execution_count": 13,
   "id": "6ffa52f0",
   "metadata": {
    "execution": {
     "iopub.execute_input": "2025-08-30T17:33:22.015227Z",
     "iopub.status.busy": "2025-08-30T17:33:22.014549Z",
     "iopub.status.idle": "2025-08-30T17:33:22.017691Z",
     "shell.execute_reply": "2025-08-30T17:33:22.017206Z"
    },
    "papermill": {
     "duration": 0.015969,
     "end_time": "2025-08-30T17:33:22.018645",
     "exception": false,
     "start_time": "2025-08-30T17:33:22.002676",
     "status": "completed"
    },
    "tags": []
   },
   "outputs": [],
   "source": [
    "# # The following error occurs because DataLoader cannot batch PIL images directly.\n",
    "# # TypeError: default_collate: batch must contain tensors, numpy arrays, numbers, dicts or lists; found <class 'PIL.Image.Image'>\n",
    "# images, labels = next(iter(train_loader))\n",
    "# print(images.shape, images.dtype, labels.shape, labels.dtype)\n"
   ]
  },
  {
   "cell_type": "code",
   "execution_count": 14,
   "id": "dae33478",
   "metadata": {
    "execution": {
     "iopub.execute_input": "2025-08-30T17:33:22.042370Z",
     "iopub.status.busy": "2025-08-30T17:33:22.041699Z",
     "iopub.status.idle": "2025-08-30T17:33:22.277064Z",
     "shell.execute_reply": "2025-08-30T17:33:22.276174Z"
    },
    "papermill": {
     "duration": 0.248392,
     "end_time": "2025-08-30T17:33:22.278362",
     "exception": false,
     "start_time": "2025-08-30T17:33:22.029970",
     "status": "completed"
    },
    "tags": []
   },
   "outputs": [
    {
     "name": "stdout",
     "output_type": "stream",
     "text": [
      "train_data image, label type: <class 'torch.Tensor'> <class 'int'>\n",
      "torch.Size([32, 1, 28, 28]) torch.float32 torch.Size([32]) torch.int64\n"
     ]
    }
   ],
   "source": [
    "from torchvision import datasets\n",
    "from torchvision.transforms import ToTensor\n",
    "from torch.utils.data import DataLoader\n",
    "\n",
    "# Apply torchvision.transforms.ToTensor() during dataset download so DataLoader returns tensors\n",
    "train_data = datasets.FashionMNIST(root='data', train=True, download=True, transform=ToTensor())\n",
    "val_data = datasets.FashionMNIST(root='data', train=False, download=True, transform=ToTensor())\n",
    "# ToTensor() converts images to tensors and normalizes pixel values to [0, 1]\n",
    "# Each time a dataset item is accessed via indexing, ToTensor() is applied\n",
    "print('train_data image, label type:', type(train_data[0][0]), type(train_data[0][1]))\n",
    "\n",
    "BATCH_SIZE = 32\n",
    "train_loader = DataLoader(train_data, batch_size=BATCH_SIZE, shuffle=True, num_workers=4)\n",
    "val_loader = DataLoader(val_data, batch_size=BATCH_SIZE, shuffle=False, num_workers=4)\n",
    "\n",
    "images, labels = next(iter(train_loader))\n",
    "print(images.shape, images.dtype, labels.shape, labels.dtype)\n"
   ]
  },
  {
   "cell_type": "markdown",
   "id": "13d93dbf",
   "metadata": {
    "papermill": {
     "duration": 0.011992,
     "end_time": "2025-08-30T17:33:22.301952",
     "exception": false,
     "start_time": "2025-08-30T17:33:22.289960",
     "status": "completed"
    },
    "tags": []
   },
   "source": [
    "### Creating a Linear Model\n",
    "\n",
    "* A Linear Model takes a 4-dimensional image batch tensor as input and outputs 10 classification logits.\n",
    "* Since a Linear layer expects a 2D input (batch size × features), each individual 3D image (grayscale images are originally 2D, but represented as 3D with channel dimension) must be flattened into a 1D tensor using `nn.Flatten()`.\n",
    "* Model construction can be done in several ways:\n",
    "\n",
    "  * Declare all Linear layers and activation functions as separate `Layer` objects, then chain them in `forward()`.\n",
    "  * Declare only weight-bearing layers (e.g., Linear) as `Layer` objects and use functional APIs for activation, pooling, etc., in `forward()`.\n",
    "  * Use `nn.Sequential` to stack layers and functions in a single, ordered container.\n"
   ]
  },
  {
   "cell_type": "code",
   "execution_count": 15,
   "id": "a5ce58bd",
   "metadata": {
    "execution": {
     "iopub.execute_input": "2025-08-30T17:33:22.326199Z",
     "iopub.status.busy": "2025-08-30T17:33:22.325434Z",
     "iopub.status.idle": "2025-08-30T17:33:22.331162Z",
     "shell.execute_reply": "2025-08-30T17:33:22.330296Z"
    },
    "papermill": {
     "duration": 0.019308,
     "end_time": "2025-08-30T17:33:22.332323",
     "exception": false,
     "start_time": "2025-08-30T17:33:22.313015",
     "status": "completed"
    },
    "tags": []
   },
   "outputs": [
    {
     "name": "stdout",
     "output_type": "stream",
     "text": [
      "torch.Size([32, 1, 28, 28]) torch.Size([32, 784])\n"
     ]
    }
   ],
   "source": [
    "import torch\n",
    "import torch.nn as nn\n",
    "\n",
    "# apply Flatten\n",
    "flatten = nn.Flatten()\n",
    "flatten_output = flatten(images) # start_dim = 1 , end_dim = -1\n",
    "print(images.shape, flatten_output.shape)"
   ]
  },
  {
   "cell_type": "code",
   "execution_count": 16,
   "id": "465ffba8",
   "metadata": {
    "execution": {
     "iopub.execute_input": "2025-08-30T17:33:22.355996Z",
     "iopub.status.busy": "2025-08-30T17:33:22.355710Z",
     "iopub.status.idle": "2025-08-30T17:33:22.361176Z",
     "shell.execute_reply": "2025-08-30T17:33:22.360604Z"
    },
    "papermill": {
     "duration": 0.018573,
     "end_time": "2025-08-30T17:33:22.362293",
     "exception": false,
     "start_time": "2025-08-30T17:33:22.343720",
     "status": "completed"
    },
    "tags": []
   },
   "outputs": [],
   "source": [
    "class SimpleLinearModel_01(nn.Module):\n",
    "    def __init__(self, input_size, num_classes=10):\n",
    "        super().__init__()\n",
    "        self.flatten = nn.Flatten()\n",
    "        self.linear_01 = nn.Linear(in_features=input_size*input_size, out_features=200 )\n",
    "        self.act_01 = nn.ReLU()\n",
    "        self.linear_02 = nn.Linear(in_features=200, out_features=100)\n",
    "        self.act_02 = nn.ReLU()\n",
    "        self.linear_03 = nn.Linear(in_features=100, out_features=num_classes)\n",
    "\n",
    "    def forward(self, x):\n",
    "        x = self.flatten(x)\n",
    "        x = self.linear_01(x)\n",
    "        x = self.act_01(x)\n",
    "        x = self.linear_02(x)\n",
    "        x = self.act_02(x)\n",
    "        output = self.linear_03(x)\n",
    "        return output"
   ]
  },
  {
   "cell_type": "code",
   "execution_count": 17,
   "id": "9591c98c",
   "metadata": {
    "execution": {
     "iopub.execute_input": "2025-08-30T17:33:22.386233Z",
     "iopub.status.busy": "2025-08-30T17:33:22.385964Z",
     "iopub.status.idle": "2025-08-30T17:33:22.392623Z",
     "shell.execute_reply": "2025-08-30T17:33:22.391781Z"
    },
    "papermill": {
     "duration": 0.019792,
     "end_time": "2025-08-30T17:33:22.393752",
     "exception": false,
     "start_time": "2025-08-30T17:33:22.373960",
     "status": "completed"
    },
    "tags": []
   },
   "outputs": [
    {
     "name": "stdout",
     "output_type": "stream",
     "text": [
      "SimpleLinearModel_01(\n",
      "  (flatten): Flatten(start_dim=1, end_dim=-1)\n",
      "  (linear_01): Linear(in_features=784, out_features=200, bias=True)\n",
      "  (act_01): ReLU()\n",
      "  (linear_02): Linear(in_features=200, out_features=100, bias=True)\n",
      "  (act_02): ReLU()\n",
      "  (linear_03): Linear(in_features=100, out_features=10, bias=True)\n",
      ")\n"
     ]
    }
   ],
   "source": [
    "INPUT_SIZE = 28\n",
    "NUM_CLASSES = 10 \n",
    "\n",
    "model_01 = SimpleLinearModel_01(input_size=INPUT_SIZE, num_classes=NUM_CLASSES)\n",
    "print(model_01)"
   ]
  },
  {
   "cell_type": "code",
   "execution_count": 18,
   "id": "80bad5c9",
   "metadata": {
    "execution": {
     "iopub.execute_input": "2025-08-30T17:33:22.418443Z",
     "iopub.status.busy": "2025-08-30T17:33:22.418177Z",
     "iopub.status.idle": "2025-08-30T17:33:22.443313Z",
     "shell.execute_reply": "2025-08-30T17:33:22.442530Z"
    },
    "papermill": {
     "duration": 0.038913,
     "end_time": "2025-08-30T17:33:22.444503",
     "exception": false,
     "start_time": "2025-08-30T17:33:22.405590",
     "status": "completed"
    },
    "tags": []
   },
   "outputs": [
    {
     "name": "stdout",
     "output_type": "stream",
     "text": [
      "torch.Size([4, 10])\n"
     ]
    }
   ],
   "source": [
    "#임의의 tensor를 입력\n",
    "input_tensor = torch.randn(4, 1, 28, 28)\n",
    "output = model_01(input_tensor)\n",
    "\n",
    "print(output.shape)"
   ]
  },
  {
   "cell_type": "code",
   "execution_count": 19,
   "id": "9dc77ad7",
   "metadata": {
    "execution": {
     "iopub.execute_input": "2025-08-30T17:33:22.468739Z",
     "iopub.status.busy": "2025-08-30T17:33:22.468488Z",
     "iopub.status.idle": "2025-08-30T17:33:22.608036Z",
     "shell.execute_reply": "2025-08-30T17:33:22.607145Z"
    },
    "papermill": {
     "duration": 0.152706,
     "end_time": "2025-08-30T17:33:22.609241",
     "exception": false,
     "start_time": "2025-08-30T17:33:22.456535",
     "status": "completed"
    },
    "tags": []
   },
   "outputs": [
    {
     "name": "stdout",
     "output_type": "stream",
     "text": [
      "torch.Size([32, 1, 28, 28])\n",
      "torch.Size([32, 10])\n",
      "tensor([ 0.0507,  0.0429, -0.0194,  0.0462,  0.0921, -0.0505, -0.0254, -0.0186,\n",
      "         0.0820, -0.0631], grad_fn=<SelectBackward0>)\n"
     ]
    }
   ],
   "source": [
    "BATCH_SIZE = 32\n",
    "\n",
    "train_loader = DataLoader(train_data, batch_size=BATCH_SIZE, shuffle=True, num_workers=4)\n",
    "val_loader = DataLoader(val_data, batch_size = BATCH_SIZE, shuffle=False, num_workers=4)\n",
    "\n",
    "images, labels = next(iter(train_loader))\n",
    "\n",
    "\n",
    "print(images.shape)\n",
    "output = model_01(images)\n",
    "print(output.shape)\n",
    "print(output[0])"
   ]
  },
  {
   "cell_type": "code",
   "execution_count": 20,
   "id": "daaaff1f",
   "metadata": {
    "execution": {
     "iopub.execute_input": "2025-08-30T17:33:22.634019Z",
     "iopub.status.busy": "2025-08-30T17:33:22.633387Z",
     "iopub.status.idle": "2025-08-30T17:33:22.976699Z",
     "shell.execute_reply": "2025-08-30T17:33:22.975935Z"
    },
    "papermill": {
     "duration": 0.357108,
     "end_time": "2025-08-30T17:33:22.978045",
     "exception": false,
     "start_time": "2025-08-30T17:33:22.620937",
     "status": "completed"
    },
    "tags": []
   },
   "outputs": [
    {
     "data": {
      "text/plain": [
       "========================================================================================================================\n",
       "Layer (type (var_name):depth-idx)             Input Shape               Output Shape              Param #\n",
       "========================================================================================================================\n",
       "SimpleLinearModel_01 (SimpleLinearModel_01)   [1, 1, 28, 28]            [1, 10]                   --\n",
       "├─Flatten (flatten): 1-1                      [1, 1, 28, 28]            [1, 784]                  --\n",
       "├─Linear (linear_01): 1-2                     [1, 784]                  [1, 200]                  157,000\n",
       "├─ReLU (act_01): 1-3                          [1, 200]                  [1, 200]                  --\n",
       "├─Linear (linear_02): 1-4                     [1, 200]                  [1, 100]                  20,100\n",
       "├─ReLU (act_02): 1-5                          [1, 100]                  [1, 100]                  --\n",
       "├─Linear (linear_03): 1-6                     [1, 100]                  [1, 10]                   1,010\n",
       "========================================================================================================================\n",
       "Total params: 178,110\n",
       "Trainable params: 178,110\n",
       "Non-trainable params: 0\n",
       "Total mult-adds (Units.MEGABYTES): 0.18\n",
       "========================================================================================================================\n",
       "Input size (MB): 0.00\n",
       "Forward/backward pass size (MB): 0.00\n",
       "Params size (MB): 0.71\n",
       "Estimated Total Size (MB): 0.72\n",
       "========================================================================================================================"
      ]
     },
     "execution_count": 20,
     "metadata": {},
     "output_type": "execute_result"
    }
   ],
   "source": [
    "from torchinfo import summary\n",
    "\n",
    "summary(model=model_01, input_size=(1,1,28,28),\n",
    "        col_names=['input_size', 'output_size', 'num_params'],\n",
    "        row_settings=['var_names', 'depth'],\n",
    "       )"
   ]
  },
  {
   "cell_type": "markdown",
   "id": "640ea86d",
   "metadata": {
    "papermill": {
     "duration": 0.011688,
     "end_time": "2025-08-30T17:33:23.001997",
     "exception": false,
     "start_time": "2025-08-30T17:33:22.990309",
     "status": "completed"
    },
    "tags": []
   },
   "source": [
    "### Creating a Model Using Linear Layers Only and Applying Activation with `F.relu()` Function\n"
   ]
  },
  {
   "cell_type": "code",
   "execution_count": 21,
   "id": "96bb8fc9",
   "metadata": {
    "execution": {
     "iopub.execute_input": "2025-08-30T17:33:23.026362Z",
     "iopub.status.busy": "2025-08-30T17:33:23.025789Z",
     "iopub.status.idle": "2025-08-30T17:33:23.031393Z",
     "shell.execute_reply": "2025-08-30T17:33:23.030658Z"
    },
    "papermill": {
     "duration": 0.019108,
     "end_time": "2025-08-30T17:33:23.032566",
     "exception": false,
     "start_time": "2025-08-30T17:33:23.013458",
     "status": "completed"
    },
    "tags": []
   },
   "outputs": [],
   "source": [
    "import torch.nn.functional as F\n",
    "\n",
    "class SimpleLinearModel_02(nn.Module):\n",
    "    def __init__(self, input_size, num_classes=10):\n",
    "        super().__init__()\n",
    "        # Use nn.Linear layers only. Linear layers internally have learnable parameters like weight and bias.\n",
    "        # This approach makes the model more flexible and easier to construct.\n",
    "        self.linear_01 = nn.Linear(input_size * input_size, 200)\n",
    "        self.linear_02 = nn.Linear(200, 100)\n",
    "        self.linear_03 = nn.Linear(100, num_classes)\n",
    "\n",
    "    # Forward pass: input tensor → processed through layers → output tensor returned\n",
    "    def forward(self, x):\n",
    "        # Unlike nn.Flatten(), torch.flatten() defaults start_dim=0. Set start_dim=1 to preserve batch dimension.\n",
    "        x = torch.flatten(x, start_dim=1, end_dim=-1)\n",
    "        x = F.relu(self.linear_01(x))\n",
    "        x = F.relu(self.linear_02(x))\n",
    "        output = self.linear_03(x)\n",
    "\n",
    "        # Alternatively, it could be written in a single line, but it's less readable:\n",
    "        # x = torch.flatten(x, start_dim=1, end_dim=-1)\n",
    "        # output = self.linear_03(F.relu(self.linear_02(F.relu(self.linear_01(x)))))\n",
    "\n",
    "        # Return the final tensor after passing through all layers\n",
    "        return output\n"
   ]
  },
  {
   "cell_type": "code",
   "execution_count": 22,
   "id": "a3c8d167",
   "metadata": {
    "execution": {
     "iopub.execute_input": "2025-08-30T17:33:23.057126Z",
     "iopub.status.busy": "2025-08-30T17:33:23.056429Z",
     "iopub.status.idle": "2025-08-30T17:33:23.065111Z",
     "shell.execute_reply": "2025-08-30T17:33:23.064248Z"
    },
    "papermill": {
     "duration": 0.022043,
     "end_time": "2025-08-30T17:33:23.066242",
     "exception": false,
     "start_time": "2025-08-30T17:33:23.044199",
     "status": "completed"
    },
    "tags": []
   },
   "outputs": [
    {
     "name": "stdout",
     "output_type": "stream",
     "text": [
      "torch.Size([32, 1, 28, 28])\n",
      "torch.Size([32, 10])\n"
     ]
    }
   ],
   "source": [
    "INPUT_SIZE = 28\n",
    "NUM_CLASSES = 10\n",
    "\n",
    "print(images.shape)\n",
    "model_02 = SimpleLinearModel_02(input_size=INPUT_SIZE, num_classes=NUM_CLASSES)\n",
    "\n",
    "output = model_02(images)\n",
    "print(output.shape)"
   ]
  },
  {
   "cell_type": "code",
   "execution_count": 23,
   "id": "1d51f85d",
   "metadata": {
    "execution": {
     "iopub.execute_input": "2025-08-30T17:33:23.093444Z",
     "iopub.status.busy": "2025-08-30T17:33:23.092976Z",
     "iopub.status.idle": "2025-08-30T17:33:23.100637Z",
     "shell.execute_reply": "2025-08-30T17:33:23.099930Z"
    },
    "papermill": {
     "duration": 0.021132,
     "end_time": "2025-08-30T17:33:23.101775",
     "exception": false,
     "start_time": "2025-08-30T17:33:23.080643",
     "status": "completed"
    },
    "tags": []
   },
   "outputs": [
    {
     "data": {
      "text/plain": [
       "========================================================================================================================\n",
       "Layer (type (var_name):depth-idx)             Input Shape               Output Shape              Param #\n",
       "========================================================================================================================\n",
       "SimpleLinearModel_02 (SimpleLinearModel_02)   [1, 1, 28, 28]            [1, 10]                   --\n",
       "├─Linear (linear_01): 1-1                     [1, 784]                  [1, 200]                  157,000\n",
       "├─Linear (linear_02): 1-2                     [1, 200]                  [1, 100]                  20,100\n",
       "├─Linear (linear_03): 1-3                     [1, 100]                  [1, 10]                   1,010\n",
       "========================================================================================================================\n",
       "Total params: 178,110\n",
       "Trainable params: 178,110\n",
       "Non-trainable params: 0\n",
       "Total mult-adds (Units.MEGABYTES): 0.18\n",
       "========================================================================================================================\n",
       "Input size (MB): 0.00\n",
       "Forward/backward pass size (MB): 0.00\n",
       "Params size (MB): 0.71\n",
       "Estimated Total Size (MB): 0.72\n",
       "========================================================================================================================"
      ]
     },
     "execution_count": 23,
     "metadata": {},
     "output_type": "execute_result"
    }
   ],
   "source": [
    "from torchinfo import summary\n",
    "\n",
    "summary(model=model_02, input_size=(1, 1, 28, 28), \n",
    "        col_names=['input_size', 'output_size', 'num_params'],\n",
    "        row_settings=['var_names', 'depth'],\n",
    "        #verbose=2\n",
    "       )"
   ]
  },
  {
   "cell_type": "markdown",
   "id": "7d3c2013",
   "metadata": {
    "papermill": {
     "duration": 0.011423,
     "end_time": "2025-08-30T17:33:23.125023",
     "exception": false,
     "start_time": "2025-08-30T17:33:23.113600",
     "status": "completed"
    },
    "tags": []
   },
   "source": [
    "### Creating a Model Using `Sequential`\n",
    "\n",
    "* `nn.Sequential` allows you to modularly chain layers or modules passed as arguments into a single sequential block.\n",
    "* This approach eliminates the need to explicitly define the layer connections inside `forward()`, enabling efficient creation of repeated or ordered layer blocks.\n",
    "* Documentation: [PyTorch nn.Sequential](https://docs.pytorch.org/docs/stable/generated/torch.nn.Sequential.html#torch.nn.Sequential)\n",
    "* For more complex layer arrangements, consider using `nn.ModuleList`.\n"
   ]
  },
  {
   "cell_type": "code",
   "execution_count": 24,
   "id": "b06158c3",
   "metadata": {
    "execution": {
     "iopub.execute_input": "2025-08-30T17:33:23.149071Z",
     "iopub.status.busy": "2025-08-30T17:33:23.148699Z",
     "iopub.status.idle": "2025-08-30T17:33:23.153746Z",
     "shell.execute_reply": "2025-08-30T17:33:23.153072Z"
    },
    "papermill": {
     "duration": 0.018297,
     "end_time": "2025-08-30T17:33:23.154788",
     "exception": false,
     "start_time": "2025-08-30T17:33:23.136491",
     "status": "completed"
    },
    "tags": []
   },
   "outputs": [],
   "source": [
    "import torch.nn.functional as F\n",
    "\n",
    "class SimpleLinearModel_03(nn.Module):\n",
    "    def __init__(self, input_size, num_classes=10):\n",
    "        super().__init__()\n",
    "        self.linear_block_01 = nn.Sequential(nn.Linear(in_features=input_size*input_size, out_features=200),\n",
    "                                              nn.ReLU(), \n",
    "                                              nn.Linear(200, 100),\n",
    "                                              nn.ReLU(),\n",
    "                                              nn.Linear(100, num_classes)\n",
    "                                            )\n",
    "    def forward(self, x):\n",
    "        x = torch.flatten(x, start_dim=1, end_dim=-1)\n",
    "        output = self.linear_block_01(x)\n",
    "        return output"
   ]
  },
  {
   "cell_type": "code",
   "execution_count": 25,
   "id": "04bf236f",
   "metadata": {
    "execution": {
     "iopub.execute_input": "2025-08-30T17:33:23.179092Z",
     "iopub.status.busy": "2025-08-30T17:33:23.178581Z",
     "iopub.status.idle": "2025-08-30T17:33:23.186146Z",
     "shell.execute_reply": "2025-08-30T17:33:23.185322Z"
    },
    "papermill": {
     "duration": 0.021071,
     "end_time": "2025-08-30T17:33:23.187387",
     "exception": false,
     "start_time": "2025-08-30T17:33:23.166316",
     "status": "completed"
    },
    "tags": []
   },
   "outputs": [
    {
     "name": "stdout",
     "output_type": "stream",
     "text": [
      "torch.Size([32, 10])\n"
     ]
    }
   ],
   "source": [
    "INPUT_SIZE = 28\n",
    "NUM_CLASSES = 10 \n",
    "\n",
    "model_03 = SimpleLinearModel_03(input_size=INPUT_SIZE, num_classes=NUM_CLASSES)\n",
    "output = model_03(images)\n",
    "print(output.shape)"
   ]
  },
  {
   "cell_type": "code",
   "execution_count": 26,
   "id": "5824ae6f",
   "metadata": {
    "collapsed": true,
    "execution": {
     "iopub.execute_input": "2025-08-30T17:33:23.211753Z",
     "iopub.status.busy": "2025-08-30T17:33:23.211511Z",
     "iopub.status.idle": "2025-08-30T17:33:23.219213Z",
     "shell.execute_reply": "2025-08-30T17:33:23.218593Z"
    },
    "jupyter": {
     "outputs_hidden": true
    },
    "papermill": {
     "duration": 0.021096,
     "end_time": "2025-08-30T17:33:23.220304",
     "exception": false,
     "start_time": "2025-08-30T17:33:23.199208",
     "status": "completed"
    },
    "tags": []
   },
   "outputs": [
    {
     "data": {
      "text/plain": [
       "========================================================================================================================\n",
       "Layer (type (var_name):depth-idx)             Input Shape               Output Shape              Param #\n",
       "========================================================================================================================\n",
       "SimpleLinearModel_03 (SimpleLinearModel_03)   [1, 1, 28, 28]            [1, 10]                   --\n",
       "├─Sequential (linear_block_01): 1-1           [1, 784]                  [1, 10]                   --\n",
       "│    └─Linear (0): 2-1                        [1, 784]                  [1, 200]                  157,000\n",
       "│    └─ReLU (1): 2-2                          [1, 200]                  [1, 200]                  --\n",
       "│    └─Linear (2): 2-3                        [1, 200]                  [1, 100]                  20,100\n",
       "│    └─ReLU (3): 2-4                          [1, 100]                  [1, 100]                  --\n",
       "│    └─Linear (4): 2-5                        [1, 100]                  [1, 10]                   1,010\n",
       "========================================================================================================================\n",
       "Total params: 178,110\n",
       "Trainable params: 178,110\n",
       "Non-trainable params: 0\n",
       "Total mult-adds (Units.MEGABYTES): 0.18\n",
       "========================================================================================================================\n",
       "Input size (MB): 0.00\n",
       "Forward/backward pass size (MB): 0.00\n",
       "Params size (MB): 0.71\n",
       "Estimated Total Size (MB): 0.72\n",
       "========================================================================================================================"
      ]
     },
     "execution_count": 26,
     "metadata": {},
     "output_type": "execute_result"
    }
   ],
   "source": [
    "summary(model=model_03, input_size=(1, 1, 28, 28), \n",
    "        col_names=['input_size', 'output_size', 'num_params'],\n",
    "        row_settings=['var_names', 'depth'],\n",
    "        #verbose=2\n",
    "       )"
   ]
  },
  {
   "cell_type": "markdown",
   "id": "492665d9",
   "metadata": {
    "papermill": {
     "duration": 0.011558,
     "end_time": "2025-08-30T17:33:23.243975",
     "exception": false,
     "start_time": "2025-08-30T17:33:23.232417",
     "status": "completed"
    },
    "tags": []
   },
   "source": [
    "#### Declare a function to create a SimpleLinearModel\n",
    "\n",
    "* Create and return the model using the create_simple_linear_model() function"
   ]
  },
  {
   "cell_type": "code",
   "execution_count": 27,
   "id": "25bec9ae",
   "metadata": {
    "execution": {
     "iopub.execute_input": "2025-08-30T17:33:23.268639Z",
     "iopub.status.busy": "2025-08-30T17:33:23.268379Z",
     "iopub.status.idle": "2025-08-30T17:33:23.272254Z",
     "shell.execute_reply": "2025-08-30T17:33:23.271529Z"
    },
    "papermill": {
     "duration": 0.017686,
     "end_time": "2025-08-30T17:33:23.273415",
     "exception": false,
     "start_time": "2025-08-30T17:33:23.255729",
     "status": "completed"
    },
    "tags": []
   },
   "outputs": [],
   "source": [
    "INPUT_SIZE = 28\n",
    "NUM_CLASSES = 10\n",
    "\n",
    "def create_simple_linear_model(input_size, num_classes=10):\n",
    "    model = SimpleLinearModel_02(input_size=input_size, num_classes=num_classes)\n",
    "    return model"
   ]
  },
  {
   "cell_type": "code",
   "execution_count": 28,
   "id": "fda6d863",
   "metadata": {
    "execution": {
     "iopub.execute_input": "2025-08-30T17:33:23.298371Z",
     "iopub.status.busy": "2025-08-30T17:33:23.298129Z",
     "iopub.status.idle": "2025-08-30T17:33:23.505704Z",
     "shell.execute_reply": "2025-08-30T17:33:23.504658Z"
    },
    "papermill": {
     "duration": 0.221414,
     "end_time": "2025-08-30T17:33:23.506905",
     "exception": false,
     "start_time": "2025-08-30T17:33:23.285491",
     "status": "completed"
    },
    "tags": []
   },
   "outputs": [
    {
     "name": "stdout",
     "output_type": "stream",
     "text": [
      "torch.Size([32, 1, 28, 28])\n",
      "tensor([1, 7, 4, 4, 3, 2, 1, 6, 4, 7, 2, 4, 4, 1, 1, 2, 0, 7, 1, 7, 4, 4, 6, 6,\n",
      "        0, 4, 2, 2, 8, 5, 4, 6])\n"
     ]
    }
   ],
   "source": [
    "BATCH_SIZE = 32\n",
    "\n",
    "from torchvision import datasets\n",
    "from torchvision.transforms import ToTensor\n",
    "from torch.utils.data import DataLoader\n",
    "\n",
    "train_data = datasets.FashionMNIST(root='data',train= True, download=True, transform=ToTensor())\n",
    "val_data = datasets.FashionMNIST(root='data',train= False, download=True, transform=ToTensor())\n",
    "\n",
    "train_loader = DataLoader(train_data, batch_size=BATCH_SIZE, shuffle=True, num_workers=4 )\n",
    "val_loader = DataLoader(val_data, batch_size=BATCH_SIZE, shuffle=False, num_workers=4)\n",
    "\n",
    "images, labels = next(iter(train_loader))\n",
    "\n",
    "print(images.shape)\n",
    "print(labels)"
   ]
  },
  {
   "cell_type": "markdown",
   "id": "0c55b0da",
   "metadata": {
    "papermill": {
     "duration": 0.01176,
     "end_time": "2025-08-30T17:33:23.531181",
     "exception": false,
     "start_time": "2025-08-30T17:33:23.519421",
     "status": "completed"
    },
    "tags": []
   },
   "source": [
    "### Loss Function (Class)\n",
    "\n",
    "* For prediction models in multiclass classification, the loss function used is **Cross Entropy Loss**. PyTorch provides this through the `CrossEntropyLoss` class.\n",
    "* `CrossEntropyLoss` takes as input **logit predictions without softmax applied** and integer-type labels (class indices). You must **not** provide one-hot encoded labels.\n",
    "* Since the class internally applies softmax to the input logits, the model outputs must be raw logits without softmax applied.\n",
    "* For labels (targets), you should input the class index values (from 0 to C). If needed, the class internally applies one-hot encoding, so you must not use one-hot encoded labels as input.\n",
    "* Therefore, the input arguments are: (1) model outputs without softmax applied, and (2) target labels without one-hot encoding.\n",
    "* The `CrossEntropyLoss` class is essentially a combination of **LogSoftmax** and **NLLLoss**. `LogSoftmax` improves numerical stability when computing cross entropy by avoiding instability that can occur when applying softmax followed by log separately.\n",
    "* The output of `CrossEntropyLoss` is a tensor containing the computed loss value. Calling the `backward()` method on this loss tensor performs backpropagation and computes the gradients. The gradients are stored in the `grad` attribute of the model parameters, but the parameters themselves are **not updated automatically**. The actual update is carried out by the **optimizer**.\n",
    "\n"
   ]
  },
  {
   "cell_type": "code",
   "execution_count": 29,
   "id": "367f45a2",
   "metadata": {
    "execution": {
     "iopub.execute_input": "2025-08-30T17:33:23.556803Z",
     "iopub.status.busy": "2025-08-30T17:33:23.555996Z",
     "iopub.status.idle": "2025-08-30T17:33:23.567578Z",
     "shell.execute_reply": "2025-08-30T17:33:23.566527Z"
    },
    "papermill": {
     "duration": 0.025778,
     "end_time": "2025-08-30T17:33:23.568743",
     "exception": false,
     "start_time": "2025-08-30T17:33:23.542965",
     "status": "completed"
    },
    "tags": []
   },
   "outputs": [
    {
     "name": "stdout",
     "output_type": "stream",
     "text": [
      "tensor([[-0.0397, -0.0897,  0.0843,  0.1433,  0.0938, -0.0330, -0.0900, -0.0608,\n",
      "         -0.0505, -0.0291],\n",
      "        [-0.0486, -0.0218,  0.0644,  0.1265,  0.0538, -0.0402, -0.1010, -0.0595,\n",
      "         -0.0431,  0.0023],\n",
      "        [ 0.0108, -0.0274,  0.0312,  0.2554,  0.0165, -0.0268, -0.0698,  0.0245,\n",
      "         -0.0078,  0.0273],\n",
      "        [ 0.0196,  0.0019,  0.0266,  0.2268,  0.0019, -0.0140, -0.0759,  0.0232,\n",
      "         -0.0205,  0.0575],\n",
      "        [-0.0503, -0.0420,  0.0587,  0.2080,  0.0405, -0.0207, -0.0865, -0.0286,\n",
      "         -0.0189, -0.0113],\n",
      "        [ 0.0028, -0.0469,  0.0500,  0.1534,  0.0384, -0.0246, -0.1096, -0.0490,\n",
      "         -0.0502,  0.0123],\n",
      "        [-0.0612, -0.0640,  0.1078,  0.0948,  0.0634, -0.0198, -0.0941, -0.0934,\n",
      "         -0.0681, -0.0066],\n",
      "        [-0.0199, -0.0887,  0.0808,  0.0810,  0.0746, -0.0380, -0.0896, -0.0570,\n",
      "         -0.0502, -0.0157],\n",
      "        [-0.0306, -0.0847,  0.0866,  0.1063,  0.0659, -0.0309, -0.0814, -0.0668,\n",
      "         -0.0499, -0.0197],\n",
      "        [-0.0146, -0.0291,  0.0578,  0.1506,  0.0269, -0.0356, -0.1083, -0.0412,\n",
      "         -0.0301,  0.0385],\n",
      "        [ 0.0383, -0.0207,  0.0443,  0.2138,  0.0345, -0.0053, -0.0947,  0.0118,\n",
      "          0.0164,  0.0550],\n",
      "        [-0.0010, -0.0542,  0.0307,  0.1752, -0.0201, -0.0307, -0.0897, -0.0340,\n",
      "         -0.0419,  0.0329],\n",
      "        [ 0.0413, -0.0158,  0.0072,  0.2045,  0.0016, -0.0177, -0.0920, -0.0134,\n",
      "         -0.0020,  0.0377],\n",
      "        [-0.0555, -0.0836,  0.1048,  0.1065,  0.0593, -0.0376, -0.0884, -0.0748,\n",
      "         -0.0440, -0.0225],\n",
      "        [-0.0477, -0.0808,  0.0923,  0.1406,  0.0786, -0.0264, -0.0889, -0.0621,\n",
      "         -0.0822, -0.0203],\n",
      "        [ 0.0084, -0.0692,  0.0470,  0.1960,  0.0488, -0.0185, -0.1019, -0.0047,\n",
      "         -0.0218,  0.0040],\n",
      "        [ 0.0010, -0.0564,  0.0678,  0.2059,  0.0011, -0.0366, -0.0563, -0.0031,\n",
      "         -0.0070,  0.0340],\n",
      "        [-0.0273, -0.0277,  0.0568,  0.1224,  0.0386, -0.0266, -0.1254, -0.0583,\n",
      "         -0.0284, -0.0066],\n",
      "        [-0.0464, -0.0762,  0.1006,  0.1388,  0.0718, -0.0294, -0.0829, -0.0454,\n",
      "         -0.0446, -0.0068],\n",
      "        [-0.0310, -0.0483,  0.0642,  0.1273,  0.0258, -0.0126, -0.0892, -0.0441,\n",
      "         -0.0903,  0.0399],\n",
      "        [ 0.0283, -0.0377,  0.0385,  0.2109, -0.0054, -0.0140, -0.0737, -0.0181,\n",
      "          0.0083,  0.0385],\n",
      "        [ 0.0133,  0.0154,  0.0197,  0.2203,  0.0009, -0.0231, -0.0703,  0.0352,\n",
      "         -0.0429,  0.0573],\n",
      "        [ 0.0036, -0.0355,  0.0617,  0.1802,  0.0152, -0.0250, -0.0946, -0.0362,\n",
      "         -0.0257,  0.0179],\n",
      "        [-0.0308, -0.0481,  0.0580,  0.1762,  0.0188, -0.0151, -0.1031, -0.0568,\n",
      "          0.0048, -0.0045],\n",
      "        [-0.0297, -0.0573,  0.0611,  0.1588,  0.0262, -0.0652, -0.0837, -0.0127,\n",
      "          0.0126,  0.0087],\n",
      "        [ 0.0597, -0.0062, -0.0056,  0.2318, -0.0128,  0.0047, -0.1156, -0.0068,\n",
      "         -0.0073,  0.0612],\n",
      "        [ 0.0043, -0.0626,  0.0512,  0.1560,  0.0379, -0.0292, -0.0798, -0.0308,\n",
      "         -0.0199,  0.0136],\n",
      "        [ 0.0005, -0.0519,  0.0432,  0.1556,  0.0050, -0.0454, -0.0926, -0.0944,\n",
      "          0.0219,  0.0195],\n",
      "        [-0.0177, -0.0372,  0.0471,  0.1973, -0.0337, -0.0379, -0.1145, -0.0127,\n",
      "         -0.0432,  0.0185],\n",
      "        [-0.0156, -0.1040,  0.0837,  0.0881,  0.0560, -0.0347, -0.0656, -0.0834,\n",
      "         -0.0560, -0.0220],\n",
      "        [ 0.0149, -0.0258,  0.0309,  0.1711,  0.0211, -0.0239, -0.1011, -0.0275,\n",
      "         -0.0332,  0.0183],\n",
      "        [ 0.0291, -0.0366,  0.0102,  0.2336, -0.0196, -0.0239, -0.1063, -0.0259,\n",
      "          0.0303,  0.0214]], grad_fn=<AddmmBackward0>)\n",
      "torch.Size([32, 10])\n"
     ]
    }
   ],
   "source": [
    "model = create_simple_linear_model(input_size=28, num_classes=10)\n",
    "# output is logit\n",
    "output = model(images)\n",
    "print(output)\n",
    "print(output.shape)"
   ]
  },
  {
   "cell_type": "code",
   "execution_count": 30,
   "id": "54c1a4e8",
   "metadata": {
    "execution": {
     "iopub.execute_input": "2025-08-30T17:33:23.596538Z",
     "iopub.status.busy": "2025-08-30T17:33:23.596269Z",
     "iopub.status.idle": "2025-08-30T17:33:23.609799Z",
     "shell.execute_reply": "2025-08-30T17:33:23.608959Z"
    },
    "papermill": {
     "duration": 0.027563,
     "end_time": "2025-08-30T17:33:23.611182",
     "exception": false,
     "start_time": "2025-08-30T17:33:23.583619",
     "status": "completed"
    },
    "tags": []
   },
   "outputs": [
    {
     "name": "stdout",
     "output_type": "stream",
     "text": [
      "tensor(2.2752, grad_fn=<NllLossBackward0>) 2.275200128555298\n"
     ]
    }
   ],
   "source": [
    "model = create_simple_linear_model(input_size=28, num_classes=10)\n",
    "# Model output (logit values)\n",
    "output = model(images)\n",
    "\n",
    "#criterion = nn.CrossEntropyLoss()\n",
    "# Create CrossEntropyLoss object\n",
    "loss_fn = nn.CrossEntropyLoss()\n",
    "# Pass model outputs as the first argument and labels as the second argument\n",
    "loss = loss_fn(output, labels)\n",
    "print(loss, loss.item())\n"
   ]
  },
  {
   "cell_type": "code",
   "execution_count": 31,
   "id": "bce7ce76",
   "metadata": {
    "execution": {
     "iopub.execute_input": "2025-08-30T17:33:23.639580Z",
     "iopub.status.busy": "2025-08-30T17:33:23.639086Z",
     "iopub.status.idle": "2025-08-30T17:33:23.643542Z",
     "shell.execute_reply": "2025-08-30T17:33:23.642932Z"
    },
    "papermill": {
     "duration": 0.018396,
     "end_time": "2025-08-30T17:33:23.644528",
     "exception": false,
     "start_time": "2025-08-30T17:33:23.626132",
     "status": "completed"
    },
    "tags": []
   },
   "outputs": [
    {
     "name": "stdout",
     "output_type": "stream",
     "text": [
      "Before backward():\n",
      "linear_01.weight.grad: None\n",
      "linear_01.bias.grad: None\n",
      "linear_02.weight.grad: None\n",
      "linear_02.bias.grad: None\n",
      "linear_03.weight.grad: None\n",
      "linear_03.bias.grad: None\n"
     ]
    }
   ],
   "source": [
    "print(\"Before backward():\")\n",
    "for name, param in model.named_parameters():\n",
    "    print(f\"{name}.grad: {param.grad}\")"
   ]
  },
  {
   "cell_type": "markdown",
   "id": "f426e43f",
   "metadata": {
    "papermill": {
     "duration": 0.011837,
     "end_time": "2025-08-30T17:33:23.668529",
     "exception": false,
     "start_time": "2025-08-30T17:33:23.656692",
     "status": "completed"
    },
    "tags": []
   },
   "source": [
    "before calling .backward(), only the forward pass is executed — no gradients are computed yet.\n",
    "\n",
    "That’s why param.grad is still None right after computing the loss.\n",
    "\n",
    "PyTorch does this to save memory and computation until you explicitly ask for gradients."
   ]
  },
  {
   "cell_type": "code",
   "execution_count": 32,
   "id": "97b2f179",
   "metadata": {
    "execution": {
     "iopub.execute_input": "2025-08-30T17:33:23.694607Z",
     "iopub.status.busy": "2025-08-30T17:33:23.693923Z",
     "iopub.status.idle": "2025-08-30T17:33:23.708754Z",
     "shell.execute_reply": "2025-08-30T17:33:23.708202Z"
    },
    "papermill": {
     "duration": 0.029005,
     "end_time": "2025-08-30T17:33:23.709975",
     "exception": false,
     "start_time": "2025-08-30T17:33:23.680970",
     "status": "completed"
    },
    "tags": []
   },
   "outputs": [],
   "source": [
    "loss.backward()"
   ]
  },
  {
   "cell_type": "code",
   "execution_count": 33,
   "id": "08a4607e",
   "metadata": {
    "execution": {
     "iopub.execute_input": "2025-08-30T17:33:23.735949Z",
     "iopub.status.busy": "2025-08-30T17:33:23.735673Z",
     "iopub.status.idle": "2025-08-30T17:33:23.740440Z",
     "shell.execute_reply": "2025-08-30T17:33:23.739803Z"
    },
    "papermill": {
     "duration": 0.019075,
     "end_time": "2025-08-30T17:33:23.741451",
     "exception": false,
     "start_time": "2025-08-30T17:33:23.722376",
     "status": "completed"
    },
    "tags": []
   },
   "outputs": [
    {
     "name": "stdout",
     "output_type": "stream",
     "text": [
      "tensor(2.2752, grad_fn=<NllLossBackward0>)\n"
     ]
    }
   ],
   "source": [
    "print(loss)"
   ]
  },
  {
   "cell_type": "code",
   "execution_count": 34,
   "id": "5b84be8d",
   "metadata": {
    "collapsed": true,
    "execution": {
     "iopub.execute_input": "2025-08-30T17:33:23.767184Z",
     "iopub.status.busy": "2025-08-30T17:33:23.766564Z",
     "iopub.status.idle": "2025-08-30T17:33:23.781770Z",
     "shell.execute_reply": "2025-08-30T17:33:23.781217Z"
    },
    "jupyter": {
     "outputs_hidden": true
    },
    "papermill": {
     "duration": 0.029676,
     "end_time": "2025-08-30T17:33:23.783318",
     "exception": false,
     "start_time": "2025-08-30T17:33:23.753642",
     "status": "completed"
    },
    "tags": []
   },
   "outputs": [
    {
     "name": "stdout",
     "output_type": "stream",
     "text": [
      "After backward():\n",
      "linear_01.weight.grad: tensor([[ 0.0000e+00,  0.0000e+00,  0.0000e+00,  ...,  3.6187e-04,\n",
      "          1.8093e-04,  0.0000e+00],\n",
      "        [ 0.0000e+00,  0.0000e+00,  0.0000e+00,  ..., -2.4004e-04,\n",
      "         -1.7412e-04,  0.0000e+00],\n",
      "        [ 0.0000e+00,  0.0000e+00,  0.0000e+00,  ...,  3.0344e-04,\n",
      "          1.2162e-04,  0.0000e+00],\n",
      "        ...,\n",
      "        [ 0.0000e+00,  0.0000e+00,  0.0000e+00,  ...,  2.4172e-04,\n",
      "          1.5355e-04,  0.0000e+00],\n",
      "        [ 0.0000e+00,  0.0000e+00,  0.0000e+00,  ..., -2.3644e-05,\n",
      "          1.2023e-04,  0.0000e+00],\n",
      "        [ 0.0000e+00,  0.0000e+00,  0.0000e+00,  ...,  0.0000e+00,\n",
      "          0.0000e+00,  0.0000e+00]])\n",
      "linear_01.bias.grad: tensor([ 2.4805e-04,  1.0653e-03,  5.3265e-03,  9.6255e-04, -5.5003e-03,\n",
      "        -4.2995e-03,  7.4225e-04,  7.4289e-04,  9.2936e-05,  1.9171e-03,\n",
      "         8.7435e-04,  1.3535e-03, -4.9459e-03, -3.1119e-03, -2.0364e-03,\n",
      "        -8.6476e-04,  4.6851e-03, -6.2901e-04,  2.7562e-03,  5.0241e-03,\n",
      "         1.7802e-03, -1.5972e-03, -2.9427e-03, -1.0593e-03, -1.3590e-03,\n",
      "        -7.8258e-03, -4.3191e-03, -1.8579e-03, -5.5259e-03,  1.5009e-03,\n",
      "         2.0324e-03, -3.4565e-04,  2.5802e-03,  5.6651e-04, -1.7647e-03,\n",
      "         4.9995e-04,  1.7436e-04, -1.7115e-04,  1.7744e-03, -5.6357e-04,\n",
      "         2.9788e-03,  8.7631e-03,  1.0915e-03, -2.6929e-03,  9.1608e-05,\n",
      "        -1.2774e-03,  5.9426e-03,  1.4983e-03,  7.8218e-04, -8.2267e-03,\n",
      "         1.4496e-03,  9.4051e-04,  1.2869e-03, -1.0056e-03,  1.3412e-03,\n",
      "        -1.1957e-03,  7.2587e-03,  5.3095e-04, -7.9337e-04, -3.0731e-04,\n",
      "        -4.9577e-04,  8.1354e-06, -9.6130e-04, -9.5170e-04,  2.4122e-04,\n",
      "        -6.8953e-03,  0.0000e+00, -3.5698e-03,  3.8382e-03,  2.0588e-03,\n",
      "         7.5371e-04, -2.7016e-03, -5.0169e-04,  5.4285e-03,  2.5846e-03,\n",
      "        -2.3845e-04, -2.9994e-03,  2.1355e-03, -2.4857e-03,  2.2646e-03,\n",
      "         1.8621e-03,  7.9104e-04,  1.1566e-03,  7.5046e-04, -2.0869e-03,\n",
      "        -2.8594e-03,  5.4374e-04,  1.2688e-03,  1.3113e-03,  1.2958e-03,\n",
      "         1.0083e-03,  4.1578e-04,  1.5939e-04,  5.4622e-03, -2.3997e-03,\n",
      "        -1.1101e-03, -7.4280e-03, -2.4048e-03, -8.2058e-04, -3.3485e-04,\n",
      "        -1.2207e-03, -2.3960e-03, -1.1775e-03,  2.5061e-03,  1.9421e-03,\n",
      "        -3.2907e-03,  6.3344e-04, -3.3680e-03, -8.3697e-04,  2.3239e-03,\n",
      "        -2.7382e-04,  9.1144e-04, -2.8020e-03, -1.8430e-03,  0.0000e+00,\n",
      "         2.8766e-04, -7.1964e-04, -1.5396e-03,  6.2656e-04,  4.4696e-03,\n",
      "         3.6761e-04, -4.7780e-03, -1.7197e-03, -1.6716e-03, -4.5865e-03,\n",
      "         5.0498e-03,  4.8462e-04,  1.4796e-03,  2.1977e-04,  2.3746e-03,\n",
      "         6.2759e-03, -6.2458e-04,  0.0000e+00, -4.5649e-03,  9.2702e-04,\n",
      "        -4.8423e-03,  6.8799e-04,  2.7248e-03,  1.1286e-03, -1.7077e-04,\n",
      "         1.3071e-03, -2.3780e-04,  6.9122e-04,  4.4266e-04,  4.4962e-04,\n",
      "        -1.5973e-03,  1.5166e-04,  0.0000e+00, -3.2152e-04,  3.4896e-04,\n",
      "        -2.3088e-04,  0.0000e+00,  2.7318e-03,  5.3099e-03,  3.8198e-03,\n",
      "         1.2580e-03,  1.7618e-04, -1.8657e-04,  1.2423e-03,  3.0276e-03,\n",
      "        -4.4187e-03, -2.8459e-03, -8.3649e-04, -7.6218e-04,  1.3194e-03,\n",
      "        -3.2622e-03, -3.5827e-03,  2.4434e-05, -2.3419e-03, -6.6651e-03,\n",
      "        -2.3829e-03,  1.8496e-04,  1.3817e-03, -2.7813e-04,  1.3927e-04,\n",
      "         3.6134e-03, -8.5820e-04, -1.7352e-04,  7.1814e-06,  7.4171e-04,\n",
      "        -1.2579e-03,  2.0738e-03, -2.6369e-03, -4.6089e-04, -2.1663e-03,\n",
      "        -3.6999e-04, -1.3429e-04, -4.7514e-04, -1.1579e-05,  0.0000e+00,\n",
      "         3.3667e-04,  0.0000e+00, -1.2709e-03, -1.2641e-04,  2.3410e-03,\n",
      "         2.2620e-03, -2.2848e-03,  7.7574e-05, -8.5938e-03,  4.2495e-04])\n",
      "linear_02.weight.grad: tensor([[-1.6484e-06, -3.6676e-04, -4.3283e-04,  ..., -9.9565e-05,\n",
      "         -1.7747e-04,  0.0000e+00],\n",
      "        [ 0.0000e+00,  0.0000e+00,  0.0000e+00,  ...,  0.0000e+00,\n",
      "          0.0000e+00,  0.0000e+00],\n",
      "        [-2.3101e-05, -6.2864e-04, -9.4928e-04,  ..., -6.2196e-04,\n",
      "         -2.2313e-05,  0.0000e+00],\n",
      "        ...,\n",
      "        [-9.3186e-04, -7.4238e-03, -9.0564e-03,  ..., -5.4499e-03,\n",
      "         -3.7255e-03,  3.2534e-04],\n",
      "        [ 4.7844e-04, -1.3270e-03, -3.3662e-03,  ..., -2.8048e-03,\n",
      "          2.1234e-03, -2.4774e-04],\n",
      "        [ 1.0192e-04,  2.8115e-03,  3.4552e-03,  ...,  2.2617e-03,\n",
      "          4.2005e-04, -2.8894e-05]])\n",
      "linear_02.bias.grad: tensor([-0.0013,  0.0000, -0.0011,  0.0014,  0.0056, -0.0030,  0.0226, -0.0135,\n",
      "         0.0011,  0.0000,  0.0004, -0.0119,  0.0000, -0.0065,  0.0000, -0.0002,\n",
      "        -0.0231, -0.0016,  0.0022,  0.0014, -0.0032,  0.0000, -0.0163,  0.0280,\n",
      "        -0.0202,  0.0101, -0.0109,  0.0145, -0.0016,  0.0030,  0.0005, -0.0148,\n",
      "         0.0033, -0.0124, -0.0058, -0.0101,  0.0048, -0.0016,  0.0000, -0.0101,\n",
      "        -0.0235,  0.0019, -0.0060,  0.0092, -0.0230, -0.0027,  0.0025,  0.0048,\n",
      "        -0.0028, -0.0069, -0.0033, -0.0216,  0.0018,  0.0012,  0.0029, -0.0098,\n",
      "        -0.0006, -0.0066,  0.0118,  0.0168, -0.0074, -0.0021,  0.0000,  0.0003,\n",
      "        -0.0031,  0.0074,  0.0037, -0.0054, -0.0234,  0.0016,  0.0016, -0.0049,\n",
      "        -0.0046,  0.0091,  0.0007,  0.0054,  0.0085, -0.0035,  0.0163,  0.0000,\n",
      "        -0.0003, -0.0137,  0.0075, -0.0027,  0.0167,  0.0020,  0.0017, -0.0024,\n",
      "        -0.0002,  0.0002,  0.0007,  0.0015,  0.0069, -0.0068,  0.0004,  0.0005,\n",
      "         0.0000, -0.0222, -0.0004,  0.0049])\n",
      "linear_03.weight.grad: tensor([[ 9.4312e-05,  0.0000e+00, -3.1357e-04,  1.8546e-03,  1.8896e-04,\n",
      "          3.2926e-04,  5.0943e-03,  2.1186e-04,  6.5595e-03,  0.0000e+00,\n",
      "          1.5689e-04,  7.8073e-04,  0.0000e+00,  8.8015e-04,  0.0000e+00,\n",
      "          5.2674e-03,  1.1146e-03,  1.8873e-05,  5.3003e-04,  4.6533e-03,\n",
      "          3.3596e-04,  0.0000e+00,  1.3729e-03,  6.1998e-03,  1.3805e-03,\n",
      "          1.9901e-03,  1.9471e-04,  1.8813e-03,  1.2224e-03,  4.9083e-03,\n",
      "          1.4728e-03,  4.4414e-03,  2.0423e-04,  8.2689e-04,  4.3892e-03,\n",
      "          4.2909e-04,  1.7296e-03,  3.2535e-03,  0.0000e+00,  4.9398e-04,\n",
      "          6.2694e-03, -3.2178e-04,  2.4477e-03,  7.1646e-04,  8.2995e-04,\n",
      "          1.1281e-03,  2.7856e-04,  3.1150e-05,  3.5635e-04,  1.3559e-03,\n",
      "         -4.5100e-05,  4.3046e-03,  1.8921e-04,  2.4221e-06,  2.7334e-03,\n",
      "          4.5367e-04, -1.1230e-04,  3.6705e-03,  8.3117e-03,  6.7962e-03,\n",
      "          2.3463e-03,  1.1670e-04,  0.0000e+00,  5.0888e-04, -1.9012e-04,\n",
      "          1.2566e-03,  1.3857e-03,  2.0529e-03,  5.4221e-04,  2.3009e-04,\n",
      "          1.6003e-04,  2.7931e-03,  4.6676e-04,  3.4026e-03,  1.2938e-04,\n",
      "          8.9065e-04,  5.7192e-04,  6.9889e-06, -2.9566e-04,  0.0000e+00,\n",
      "          3.2474e-03,  2.7828e-03,  2.4024e-03,  1.5476e-03,  2.2585e-03,\n",
      "          9.5517e-04,  5.2867e-04,  3.3694e-03,  5.3887e-04,  9.3716e-05,\n",
      "          4.1313e-05,  3.3223e-05,  7.0977e-03,  8.2010e-03, -2.6435e-04,\n",
      "          5.5860e-04,  0.0000e+00,  8.0878e-03,  6.7466e-04,  3.2477e-03],\n",
      "        [-7.7506e-04,  0.0000e+00,  1.3577e-04, -6.8861e-03, -1.5197e-03,\n",
      "         -9.8639e-05, -1.1785e-02,  6.6916e-03, -1.9980e-03,  0.0000e+00,\n",
      "         -1.3604e-03, -4.8234e-03,  0.0000e+00, -1.6428e-03,  0.0000e+00,\n",
      "         -4.6413e-03, -3.2197e-03,  1.9416e-05,  2.0803e-03,  6.6450e-03,\n",
      "         -5.3365e-04,  0.0000e+00,  1.0030e-05,  3.3940e-03, -1.7215e-03,\n",
      "         -7.7212e-03, -5.8915e-03, -6.4064e-03,  1.5935e-04,  8.0808e-03,\n",
      "         -6.8074e-03,  5.0917e-03,  2.0854e-04, -1.5462e-03, -7.5192e-03,\n",
      "          2.4151e-04,  9.6432e-04, -1.0611e-03,  0.0000e+00, -4.0174e-03,\n",
      "          6.9217e-03,  8.9578e-05, -1.1588e-03, -1.3501e-05, -7.6294e-03,\n",
      "         -2.0968e-03, -1.0929e-03, -5.9365e-04,  3.5207e-04,  1.4284e-03,\n",
      "          1.0945e-03,  5.8846e-03,  1.8930e-04,  2.4918e-06,  6.8639e-04,\n",
      "          2.9277e-03,  3.7944e-04,  6.3702e-03,  3.8717e-03, -6.5520e-03,\n",
      "         -1.0078e-02,  1.1734e-04,  0.0000e+00,  4.2739e-03,  3.2403e-03,\n",
      "          1.2676e-03, -4.4381e-03, -7.3476e-03, -4.3573e-03, -1.9950e-03,\n",
      "         -2.4876e-04,  9.1354e-04, -3.7906e-04,  4.6262e-03,  1.3002e-04,\n",
      "          4.3917e-03,  3.9420e-04,  7.1097e-06,  1.2674e-03,  0.0000e+00,\n",
      "         -7.8153e-04, -1.0967e-02,  5.7958e-03, -1.7212e-03,  2.2482e-03,\n",
      "          1.3089e-03,  4.0880e-04,  3.5995e-03,  4.0421e-04,  8.8712e-05,\n",
      "         -3.5411e-04,  3.2769e-05,  2.4576e-03,  1.8716e-04,  5.8552e-05,\n",
      "         -1.8003e-03,  0.0000e+00, -1.1090e-02, -1.0914e-03,  6.7191e-03],\n",
      "        [ 9.1404e-05,  0.0000e+00,  1.3514e-04, -1.0423e-03,  7.3962e-05,\n",
      "          1.3255e-03, -1.8851e-03, -6.7413e-03, -2.6067e-03,  0.0000e+00,\n",
      "          1.5138e-04,  4.3530e-04,  0.0000e+00,  2.0911e-04,  0.0000e+00,\n",
      "         -1.0539e-02, -1.1590e-02,  1.7964e-05, -3.9798e-04, -6.5759e-03,\n",
      "          3.2099e-04,  0.0000e+00, -3.0886e-03, -1.4973e-02, -4.0530e-03,\n",
      "         -3.4916e-03, -1.1332e-03, -3.9991e-03, -3.1992e-03, -9.3488e-03,\n",
      "         -2.2351e-04, -2.7510e-03,  1.9496e-04,  1.1796e-03, -1.3006e-02,\n",
      "         -2.2085e-03, -1.8728e-03, -4.7729e-03,  0.0000e+00,  4.7631e-04,\n",
      "         -1.3458e-02, -3.8636e-04, -1.3289e-02,  3.1049e-05, -1.7716e-03,\n",
      "          1.0663e-03,  1.1279e-03, -6.4414e-04,  3.3743e-04,  2.3659e-03,\n",
      "         -1.6910e-03, -6.0906e-03,  1.8707e-04,  2.3054e-06,  2.5274e-04,\n",
      "         -5.5510e-03,  3.7361e-04, -8.9513e-03, -1.5732e-02, -9.3122e-03,\n",
      "         -2.0095e-03, -8.2304e-04,  0.0000e+00, -6.9667e-03, -3.5877e-03,\n",
      "          1.2271e-03,  8.1820e-04, -1.2656e-03, -4.4792e-03,  2.2080e-04,\n",
      "          1.5259e-04, -1.2329e-02,  4.4715e-04, -3.7213e-03, -9.5921e-04,\n",
      "         -6.6801e-03, -1.0549e-03,  6.7659e-06, -1.3400e-03,  0.0000e+00,\n",
      "         -6.5468e-03, -2.1510e-03, -6.9725e-03,  1.9281e-04,  9.9695e-04,\n",
      "         -2.4287e-03,  1.6266e-04, -1.5532e-03,  4.9325e-04, -7.8340e-04,\n",
      "          3.9034e-05,  3.3465e-05, -9.3600e-03, -7.5903e-03,  5.6665e-05,\n",
      "          5.4476e-04,  0.0000e+00, -1.3427e-02,  2.1521e-03, -8.8179e-03],\n",
      "        [ 8.5834e-05,  0.0000e+00,  1.2631e-04,  1.7805e-03,  1.6922e-04,\n",
      "          3.1085e-03,  3.1973e-03,  4.4025e-03,  6.9088e-03,  0.0000e+00,\n",
      "          1.4252e-04,  3.5462e-05,  0.0000e+00, -7.3781e-04,  0.0000e+00,\n",
      "          1.1237e-02,  2.8135e-03,  1.6688e-05,  2.2358e-03,  1.0236e-02,\n",
      "          2.9664e-04,  0.0000e+00,  6.0745e-03,  1.1926e-02,  2.5420e-03,\n",
      "          5.9037e-04,  4.0902e-03,  3.7936e-03,  1.1511e-03,  9.3692e-03,\n",
      "          1.3201e-03,  5.1130e-03,  1.7945e-04, -5.6056e-04,  6.5712e-03,\n",
      "          3.7948e-04,  1.5043e-03,  1.9741e-03,  0.0000e+00,  4.4708e-04,\n",
      "          1.2971e-02,  8.2198e-05,  7.9536e-03, -9.7332e-04,  2.9131e-03,\n",
      "          7.4029e-04,  1.0552e-03,  3.1362e-04,  3.2246e-04,  6.0652e-03,\n",
      "          9.8651e-04,  9.5073e-03, -1.1208e-04,  2.1417e-06,  2.7852e-03,\n",
      "          2.2047e-03,  3.2900e-04,  7.6102e-03,  1.7044e-02,  8.6742e-03,\n",
      "          3.9908e-03,  1.0643e-04,  0.0000e+00,  3.9331e-03,  3.4987e-04,\n",
      "          1.1100e-03,  1.5447e-03,  2.2658e-03,  2.4561e-03,  2.0758e-04,\n",
      "          1.4223e-04,  5.8194e-03,  4.1359e-04,  4.2695e-03,  1.1837e-04,\n",
      "          3.0414e-03,  5.1127e-04,  6.3193e-06,  1.4402e-03,  0.0000e+00,\n",
      "          4.0804e-03,  4.8475e-03,  8.4636e-03,  2.3887e-03,  2.0160e-03,\n",
      "          1.6539e-03, -4.9437e-04,  3.0811e-03,  4.7564e-04,  8.1497e-05,\n",
      "          3.6727e-05,  2.8536e-05,  9.0778e-03,  1.0373e-02,  5.0956e-05,\n",
      "          4.8949e-04,  0.0000e+00,  1.2702e-02,  1.7775e-03,  4.7591e-03],\n",
      "        [ 9.5431e-05,  0.0000e+00, -7.6084e-04,  2.1478e-03,  1.8851e-04,\n",
      "         -1.0407e-03, -1.3835e-02, -3.1184e-02, -1.0200e-02,  0.0000e+00,\n",
      "          1.5748e-04,  2.1730e-04,  0.0000e+00, -4.6631e-03,  0.0000e+00,\n",
      "         -4.0339e-02, -1.3881e-02,  1.9163e-05, -7.0790e-03, -4.2526e-02,\n",
      "         -8.3635e-04,  0.0000e+00, -2.5704e-02, -5.7782e-02, -1.1156e-02,\n",
      "         -1.1852e-02, -6.9294e-03, -2.4566e-02, -5.4156e-03, -3.8142e-02,\n",
      "         -2.2566e-04, -2.5847e-02, -5.5831e-04, -1.6082e-04, -2.9077e-02,\n",
      "         -5.1713e-04, -5.1609e-04, -1.1764e-02,  0.0000e+00,  2.3125e-04,\n",
      "         -5.4113e-02,  9.2970e-05, -3.4532e-02, -3.0149e-03, -3.1286e-03,\n",
      "         -3.8888e-03, -4.3567e-03,  4.5651e-04, -1.7464e-03, -2.1625e-02,\n",
      "         -1.0664e-03, -2.7381e-02,  1.8068e-04,  2.4593e-06,  2.3824e-04,\n",
      "         -7.7080e-03,  3.6993e-04, -2.8041e-02, -7.4199e-02, -3.7749e-02,\n",
      "         -3.8140e-04,  1.1690e-04,  0.0000e+00, -2.1334e-02, -9.3220e-03,\n",
      "          7.4237e-04,  1.3345e-03, -5.3259e-03, -1.8982e-03,  2.3214e-04,\n",
      "          1.6257e-04, -3.4211e-02, -7.7654e-04, -1.9158e-02,  1.2975e-04,\n",
      "         -1.7480e-02, -2.4484e-03,  6.5947e-06, -2.0839e-03,  0.0000e+00,\n",
      "         -1.0404e-02, -9.4783e-03, -3.9237e-02, -8.8069e-04, -4.4287e-03,\n",
      "         -2.0237e-03,  5.1842e-04, -2.4431e-02,  3.0776e-05,  8.8824e-05,\n",
      "          4.1130e-05,  3.1310e-05, -4.1800e-02, -2.9711e-02, -1.7917e-04,\n",
      "          1.5394e-04,  0.0000e+00, -4.9668e-02, -1.3366e-02, -2.7321e-02],\n",
      "        [ 8.9447e-05,  0.0000e+00,  1.3513e-04,  1.1827e-03,  1.8097e-04,\n",
      "          1.3280e-03,  5.6403e-03,  7.4110e-03,  7.2419e-03,  0.0000e+00,\n",
      "          1.4894e-04,  7.5299e-04,  0.0000e+00,  7.5884e-04,  0.0000e+00,\n",
      "          1.5010e-02,  8.4638e-03, -1.6371e-04,  2.3519e-03,  1.3517e-02,\n",
      "         -8.5615e-04,  0.0000e+00,  7.8519e-03,  1.9821e-02,  3.5012e-03,\n",
      "          4.5964e-03,  3.3518e-03,  7.2980e-03,  1.7113e-03,  1.0786e-02,\n",
      "         -1.0104e-04,  5.6776e-03, -1.0029e-03,  1.1515e-03,  1.2278e-02,\n",
      "          4.1417e-04,  1.7050e-05,  3.7320e-03,  0.0000e+00,  4.7080e-04,\n",
      "          1.7677e-02,  8.8617e-05,  1.0047e-02,  3.4585e-04,  3.5385e-03,\n",
      "          1.0693e-03, -3.6814e-05, -1.3429e-03,  3.2982e-04,  5.8335e-03,\n",
      "          1.0514e-03,  8.8338e-03,  1.7282e-04, -2.1010e-05,  2.7751e-03,\n",
      "          2.3405e-03, -7.9798e-04,  7.5404e-03,  2.5762e-02,  1.1711e-02,\n",
      "          1.7704e-03,  1.1350e-04,  0.0000e+00,  4.2472e-03,  3.2755e-03,\n",
      "          7.2889e-04,  3.4037e-04,  2.6837e-03,  2.2798e-03,  2.2124e-04,\n",
      "         -9.7553e-04,  1.1494e-02, -1.1088e-03,  4.5358e-03,  1.2572e-04,\n",
      "          4.2282e-03,  5.4999e-04,  6.1413e-06,  1.5200e-03,  0.0000e+00,\n",
      "          3.3188e-03,  8.0890e-03,  1.1830e-02,  1.8943e-03,  2.0942e-03,\n",
      "          1.1311e-03,  2.2291e-04,  5.2519e-03, -9.1418e-04,  8.8767e-05,\n",
      "          3.9817e-05,  2.9443e-05,  1.3775e-02,  1.4068e-02,  5.5754e-05,\n",
      "          5.2032e-04,  0.0000e+00,  1.5990e-02,  6.0339e-03,  6.4800e-03],\n",
      "        [ 9.6544e-05,  0.0000e+00,  1.4504e-04, -8.9749e-04,  1.8992e-04,\n",
      "         -4.0198e-04,  1.1246e-04, -3.8610e-03,  3.3713e-03,  0.0000e+00,\n",
      "          1.5976e-04,  4.0425e-04,  0.0000e+00,  1.3705e-03,  0.0000e+00,\n",
      "         -4.0476e-03, -4.3492e-03,  1.8677e-05,  6.3741e-04, -2.7495e-03,\n",
      "          3.3180e-04,  0.0000e+00, -2.9549e-03, -6.0845e-03, -1.5476e-03,\n",
      "          3.9034e-03, -4.9298e-03, -6.1929e-03,  7.7617e-04,  4.2348e-04,\n",
      "          1.4786e-03,  1.2757e-03,  2.0079e-04, -1.4463e-03, -8.1852e-04,\n",
      "          7.3318e-05, -6.2686e-06, -3.8572e-03,  0.0000e+00,  5.0208e-04,\n",
      "         -6.0321e-03,  9.3007e-05,  1.4913e-03,  1.1054e-03,  1.3254e-03,\n",
      "         -1.1733e-03,  1.4814e-04,  4.6967e-04,  2.0514e-04, -6.0030e-03,\n",
      "         -2.4799e-05, -3.9743e-03,  1.8192e-04,  2.3970e-06,  1.4968e-03,\n",
      "          9.5214e-04,  3.6830e-04, -3.4472e-03, -4.2797e-03,  2.1095e-03,\n",
      "          2.2817e-03,  1.1832e-04,  0.0000e+00,  3.7415e-03, -2.2785e-03,\n",
      "          4.6340e-04,  1.1323e-03,  9.2290e-05, -1.3005e-04,  2.3353e-04,\n",
      "          1.5910e-04, -9.5207e-04,  4.6023e-04,  2.6070e-03,  1.3140e-04,\n",
      "         -4.0333e-03,  5.4526e-05,  6.6308e-06,  1.6186e-03,  0.0000e+00,\n",
      "          1.1983e-03,  2.0712e-03, -4.8710e-03,  6.2390e-04, -5.6055e-04,\n",
      "         -1.3933e-03, -2.3244e-04,  2.0025e-03, -1.3976e-03,  9.2589e-05,\n",
      "          4.1112e-05,  3.1644e-05,  2.2279e-03, -3.0935e-03,  5.8247e-05,\n",
      "          5.4539e-04,  0.0000e+00, -7.4356e-03, -3.4315e-03,  1.0712e-03],\n",
      "        [ 4.7834e-05,  0.0000e+00,  1.4066e-04,  3.7635e-04,  1.8330e-04,\n",
      "         -6.0297e-03, -5.9017e-04,  7.9380e-03, -2.1435e-02,  0.0000e+00,\n",
      "          1.5418e-04,  7.6524e-04,  0.0000e+00,  1.3507e-03,  0.0000e+00,\n",
      "          1.6017e-04,  3.0561e-03,  1.8337e-05, -4.2677e-03, -3.2457e-03,\n",
      "          3.2640e-04,  0.0000e+00,  7.1533e-03,  1.0097e-02,  3.9085e-03,\n",
      "          4.7046e-03,  2.1823e-03,  8.9733e-03,  3.8716e-04, -1.1374e-03,\n",
      "          4.0111e-04, -3.7785e-03,  1.9899e-04, -1.6717e-03,  3.2904e-03,\n",
      "          4.1821e-04, -4.9758e-03,  4.4230e-03,  0.0000e+00,  4.8607e-04,\n",
      "         -2.8549e-03,  9.3999e-05,  7.9900e-03,  5.7989e-04, -4.5930e-03,\n",
      "          1.1095e-03,  7.3479e-04,  4.5521e-04, -8.0112e-04, -1.1342e-03,\n",
      "         -8.1413e-04, -5.2700e-03, -1.3311e-03,  2.3534e-06, -1.3022e-02,\n",
      "          2.0047e-04, -1.5945e-03,  2.9318e-03, -2.0878e-04,  3.0486e-03,\n",
      "         -7.3589e-03, -8.1014e-05,  0.0000e+00,  3.9050e-03,  3.3847e-03,\n",
      "         -9.0663e-03, -5.2918e-03,  4.9099e-04, -9.3980e-04,  2.2645e-04,\n",
      "          1.5507e-04,  6.9198e-03, -3.7980e-04,  8.6049e-04, -4.3406e-05,\n",
      "          5.5442e-03,  3.9898e-04, -5.9038e-05, -1.5858e-03,  0.0000e+00,\n",
      "         -9.6698e-04, -7.5200e-03,  5.1060e-03, -8.3490e-03, -8.4632e-03,\n",
      "         -8.9511e-04, -2.0784e-03,  2.1685e-03, -6.2409e-04,  8.6599e-05,\n",
      "          3.9776e-05, -2.7989e-04, -4.1097e-03, -1.2793e-02,  5.7148e-05,\n",
      "         -2.0208e-03,  0.0000e+00,  1.2078e-02,  3.2235e-04,  5.1964e-03],\n",
      "        [ 8.6649e-05,  0.0000e+00,  1.2519e-04, -6.5067e-04,  1.7116e-04,\n",
      "         -1.7482e-03,  6.9342e-03,  7.4345e-03,  3.1028e-03,  0.0000e+00,\n",
      "          1.4431e-04,  7.1410e-04,  0.0000e+00,  1.2217e-03,  0.0000e+00,\n",
      "          1.0291e-02,  8.5994e-03,  1.7285e-05,  1.6244e-03,  6.9597e-03,\n",
      "          3.0695e-04,  0.0000e+00,  1.3869e-03,  7.6597e-03,  3.5203e-03,\n",
      "          2.9022e-03,  4.0539e-03,  9.4790e-03,  1.5819e-03,  4.1057e-03,\n",
      "          1.3416e-03,  5.2895e-03,  1.8679e-04,  1.1073e-03,  1.1136e-02,\n",
      "          3.8062e-04,  1.5652e-03,  3.9715e-03,  0.0000e+00,  4.5392e-04,\n",
      "          1.3252e-02,  8.2561e-05,  7.0960e-03, -3.1304e-04,  3.6143e-03,\n",
      "          1.0078e-03,  1.0535e-03,  4.2559e-04,  3.1616e-04,  4.0137e-03,\n",
      "         -5.1244e-04,  2.9579e-03,  1.7229e-04,  2.2183e-06, -8.8281e-04,\n",
      "          1.3235e-03,  3.4475e-04,  4.4839e-03,  1.4085e-02,  7.7815e-03,\n",
      "          4.3157e-03,  1.0668e-04,  0.0000e+00,  3.6402e-03,  1.9617e-03,\n",
      "          1.1398e-03,  1.5878e-03,  3.1476e-03,  3.2409e-03,  2.1155e-04,\n",
      "          1.4651e-04,  8.4984e-03,  4.2710e-04, -1.8201e-03,  1.1817e-04,\n",
      "          4.9646e-03,  5.0256e-04,  6.2744e-06, -2.0318e-03,  0.0000e+00,\n",
      "          2.6495e-03,  3.3469e-03,  6.0567e-03,  9.0845e-04,  1.7786e-03,\n",
      "         -2.1966e-05,  4.8001e-04,  1.4462e-03,  4.9505e-04,  8.0238e-05,\n",
      "          3.7247e-05,  3.0214e-05,  7.3166e-03,  5.2839e-03,  5.2736e-05,\n",
      "          5.0913e-04,  0.0000e+00,  1.1593e-02,  1.0411e-03,  2.3256e-03],\n",
      "        [ 8.7609e-05,  0.0000e+00,  1.3117e-04,  2.1346e-03,  1.7370e-04,\n",
      "          3.2279e-03,  7.1166e-03,  7.6967e-03,  9.0560e-03,  0.0000e+00,\n",
      "          1.4493e-04,  7.1804e-04,  0.0000e+00,  1.2527e-03,  0.0000e+00,\n",
      "          1.7601e-02,  8.9923e-03,  1.7304e-05,  2.2849e-03,  1.3086e-02,\n",
      "          3.0742e-04,  0.0000e+00,  7.8977e-03,  1.9741e-02,  3.6260e-03,\n",
      "          4.3776e-03,  5.0110e-03,  9.7388e-03,  1.6254e-03,  1.0955e-02,\n",
      "          1.3434e-03,  5.4874e-03,  1.8746e-04,  1.1203e-03,  1.2756e-02,\n",
      "          3.8920e-04,  1.5906e-03,  4.1008e-03,  0.0000e+00,  4.5592e-04,\n",
      "          1.9367e-02,  8.5213e-05,  1.1954e-02,  1.5362e-03,  4.9014e-03,\n",
      "          1.0375e-03,  1.0883e-03,  4.2892e-04,  3.2813e-04,  7.6996e-03,\n",
      "          1.0213e-03,  1.1228e-02,  1.6993e-04,  2.2207e-06,  2.9373e-03,\n",
      "          2.8563e-03,  3.3974e-04,  7.8326e-03,  2.5346e-02,  1.3492e-02,\n",
      "          5.1231e-03,  1.0819e-04,  0.0000e+00,  4.0508e-03,  3.1663e-03,\n",
      "          1.1307e-03,  1.5863e-03,  3.2058e-03,  3.2855e-03,  2.1162e-04,\n",
      "          1.4618e-04,  1.1054e-02,  4.2939e-04,  4.3974e-03,  1.1981e-04,\n",
      "          5.1331e-03,  5.1981e-04,  6.2131e-06,  1.4909e-03,  0.0000e+00,\n",
      "          4.2049e-03,  8.9789e-03,  1.1426e-02,  3.3951e-03,  2.0599e-03,\n",
      "          1.7138e-03,  4.8374e-04,  5.0652e-03,  4.9812e-04,  8.2464e-05,\n",
      "          3.7957e-05,  2.9283e-05,  1.3317e-02,  1.5075e-02,  5.3459e-05,\n",
      "          4.9950e-04,  0.0000e+00,  2.1171e-02,  5.8869e-03,  6.3398e-03]])\n",
      "linear_03.bias.grad: tensor([ 0.0416, -0.0525, -0.0564,  0.0615, -0.1776,  0.0680, -0.0205, -0.0221,\n",
      "         0.0622,  0.0957])\n"
     ]
    }
   ],
   "source": [
    "print(\"After backward():\")\n",
    "for name, param in model.named_parameters():\n",
    "    print(f\"{name}.grad: {param.grad}\")"
   ]
  },
  {
   "cell_type": "markdown",
   "id": "4f64cc9c",
   "metadata": {
    "papermill": {
     "duration": 0.012467,
     "end_time": "2025-08-30T17:33:23.809469",
     "exception": false,
     "start_time": "2025-08-30T17:33:23.797002",
     "status": "completed"
    },
    "tags": []
   },
   "source": [
    "### Creating an Optimizer\n",
    "\n",
    "* PyTorch’s `torch.optim` provides various optimizer classes.\n",
    "* When creating an optimizer, you pass the model’s parameters and a learning rate as arguments.\n",
    "* The `zero_grad()` method resets (initializes) the gradient values of the trainable parameters.\n",
    "* The `step()` method updates the trainable parameters.\n",
    "* [https://pytorch.org/docs/stable/optim.html](https://pytorch.org/docs/stable/optim.html)\n"
   ]
  },
  {
   "cell_type": "code",
   "execution_count": 35,
   "id": "b7f10e09",
   "metadata": {
    "execution": {
     "iopub.execute_input": "2025-08-30T17:33:23.836102Z",
     "iopub.status.busy": "2025-08-30T17:33:23.835364Z",
     "iopub.status.idle": "2025-08-30T17:33:23.841195Z",
     "shell.execute_reply": "2025-08-30T17:33:23.840591Z"
    },
    "papermill": {
     "duration": 0.020347,
     "end_time": "2025-08-30T17:33:23.842270",
     "exception": false,
     "start_time": "2025-08-30T17:33:23.821923",
     "status": "completed"
    },
    "tags": []
   },
   "outputs": [],
   "source": [
    "from torch.optim import SGD, Adagrad, RMSprop, Adam\n",
    "\n",
    "sgd_optim = SGD(model.parameters(), lr=0.001, momentum=0.9)\n",
    "ada_grad_optim = Adagrad(model.parameters(), lr=0.001, eps=1e-9) \n",
    "rmsprop_optim = RMSprop(model.parameters(), lr=0.001, alpha=0.99, eps=1e-9) \n",
    "adam_optim = Adam(model.parameters(), lr=0.001, betas=(0.9, 0.999))"
   ]
  },
  {
   "cell_type": "code",
   "execution_count": 36,
   "id": "97125e45",
   "metadata": {
    "execution": {
     "iopub.execute_input": "2025-08-30T17:33:23.868847Z",
     "iopub.status.busy": "2025-08-30T17:33:23.868336Z",
     "iopub.status.idle": "2025-08-30T17:33:23.889123Z",
     "shell.execute_reply": "2025-08-30T17:33:23.888358Z"
    },
    "papermill": {
     "duration": 0.03531,
     "end_time": "2025-08-30T17:33:23.890331",
     "exception": false,
     "start_time": "2025-08-30T17:33:23.855021",
     "status": "completed"
    },
    "tags": []
   },
   "outputs": [
    {
     "name": "stdout",
     "output_type": "stream",
     "text": [
      "### gradients in initial state: None\n",
      "### gradient after loss.backward(): tensor([[ 0.0000e+00,  0.0000e+00,  0.0000e+00,  ...,  2.9558e-04,\n",
      "          1.5074e-04,  0.0000e+00],\n",
      "        [ 0.0000e+00,  0.0000e+00,  0.0000e+00,  ...,  5.7755e-05,\n",
      "         -4.0737e-05,  0.0000e+00],\n",
      "        [ 0.0000e+00,  0.0000e+00,  0.0000e+00,  ...,  1.9539e-05,\n",
      "          3.1147e-05,  0.0000e+00],\n",
      "        ...,\n",
      "        [ 0.0000e+00,  0.0000e+00,  0.0000e+00,  ...,  0.0000e+00,\n",
      "          0.0000e+00,  0.0000e+00],\n",
      "        [ 0.0000e+00,  0.0000e+00,  0.0000e+00,  ...,  6.0065e-05,\n",
      "          2.7214e-05,  0.0000e+00],\n",
      "        [ 0.0000e+00,  0.0000e+00,  0.0000e+00,  ...,  0.0000e+00,\n",
      "          0.0000e+00,  0.0000e+00]])\n",
      "### gradient after optimizer.zero_grad(): None\n"
     ]
    }
   ],
   "source": [
    "model = create_simple_linear_model(input_size=28, num_classes=10)\n",
    "# output is logit\n",
    "output = model(images) # feed forward \n",
    "\n",
    "loss_fn = nn.CrossEntropyLoss()\n",
    "loss = loss_fn(output, labels) # calculate loss \n",
    "\n",
    "optimizer = Adam(model.parameters(), lr=0.001, betas=(0.9, 0.999))\n",
    "\n",
    "params = list(model.parameters())\n",
    "print('### gradients in initial state:', params[0].grad)\n",
    "# print('### params[0] in initial state:', params[0])\n",
    "\n",
    "loss.backward() # back propagation \n",
    "print('### gradient after loss.backward():', params[0].grad)\n",
    "# print('### params[0] after loss.backward():', params[0])\n",
    "\n",
    "optimizer.step() # update w (W ← W - lr × grad)\n",
    "# print(\"### params[0] after optimizer.step():\", params[0])\n",
    "\n",
    "optimizer.zero_grad() # clears the gradients so that they don't accumulate\n",
    "print('### gradient after optimizer.zero_grad():', params[0].grad)"
   ]
  },
  {
   "cell_type": "markdown",
   "id": "46d01d5f",
   "metadata": {
    "papermill": {
     "duration": 0.012322,
     "end_time": "2025-08-30T17:33:23.915674",
     "exception": false,
     "start_time": "2025-08-30T17:33:23.903352",
     "status": "completed"
    },
    "tags": []
   },
   "source": [
    "### Setting the Device\n",
    "\n",
    "* In PyTorch, you must explicitly specify whether to use the GPU or CPU. If not specified, PyTorch defaults to using the CPU for model training and inference.\n",
    "* To do this, PyTorch uses the `torch.device` object. You need to assign the device to both the model and the tensors that are passed into the model and loss function. (In some cases, such as when using `torchemetrics`, you also need to specify the device for the metrics, but by default, you should at least set the device for the model itself and the tensors fed into it.)\n"
   ]
  },
  {
   "cell_type": "code",
   "execution_count": 37,
   "id": "78b7b434",
   "metadata": {
    "execution": {
     "iopub.execute_input": "2025-08-30T17:33:23.942412Z",
     "iopub.status.busy": "2025-08-30T17:33:23.941641Z",
     "iopub.status.idle": "2025-08-30T17:33:24.061604Z",
     "shell.execute_reply": "2025-08-30T17:33:24.060649Z"
    },
    "papermill": {
     "duration": 0.134596,
     "end_time": "2025-08-30T17:33:24.062748",
     "exception": false,
     "start_time": "2025-08-30T17:33:23.928152",
     "status": "completed"
    },
    "tags": []
   },
   "outputs": [
    {
     "name": "stdout",
     "output_type": "stream",
     "text": [
      "<class 'torch.Tensor'> cpu <class 'torch.Tensor'> cpu\n"
     ]
    }
   ],
   "source": [
    "# The device of tensor is cpu by default \n",
    "images, labels = next(iter(train_loader))\n",
    "print(type(images), images.device, type(labels), labels.device)"
   ]
  },
  {
   "cell_type": "code",
   "execution_count": 38,
   "id": "5abd8ca6",
   "metadata": {
    "execution": {
     "iopub.execute_input": "2025-08-30T17:33:24.089596Z",
     "iopub.status.busy": "2025-08-30T17:33:24.089348Z",
     "iopub.status.idle": "2025-08-30T17:33:24.208829Z",
     "shell.execute_reply": "2025-08-30T17:33:24.207870Z"
    },
    "papermill": {
     "duration": 0.134148,
     "end_time": "2025-08-30T17:33:24.210156",
     "exception": false,
     "start_time": "2025-08-30T17:33:24.076008",
     "status": "completed"
    },
    "tags": []
   },
   "outputs": [
    {
     "name": "stdout",
     "output_type": "stream",
     "text": [
      "cuda:0 <class 'torch.device'>\n",
      "<class 'torch.Tensor'> cpu <class 'torch.Tensor'> cpu\n",
      "<class 'torch.Tensor'> cuda:0 <class 'torch.Tensor'> cuda:0\n"
     ]
    }
   ],
   "source": [
    "import torch\n",
    "# Before running the following codes, you need to set the accelerator to GPU \n",
    "device = torch.device('cuda:0' if torch.cuda.is_available() else 'cpu')\n",
    "print(device, type(device))\n",
    "\n",
    "images, labels = next(iter(train_loader))\n",
    "print(type(images), images.device, type(labels), labels.device)\n",
    "\n",
    "images = images.to(device)\n",
    "labels = labels.to(device)\n",
    "print(type(images), images.device, type(labels), labels.device)"
   ]
  },
  {
   "cell_type": "markdown",
   "id": "431bff9c",
   "metadata": {
    "papermill": {
     "duration": 0.012409,
     "end_time": "2025-08-30T17:33:24.235858",
     "exception": false,
     "start_time": "2025-08-30T17:33:24.223449",
     "status": "completed"
    },
    "tags": []
   },
   "source": [
    "### It is important that both the model and the input tensors are on the same device. If they are on different devices, an error will occur.\n"
   ]
  },
  {
   "cell_type": "code",
   "execution_count": 39,
   "id": "8c7b17c2",
   "metadata": {
    "execution": {
     "iopub.execute_input": "2025-08-30T17:33:24.262654Z",
     "iopub.status.busy": "2025-08-30T17:33:24.262342Z",
     "iopub.status.idle": "2025-08-30T17:33:24.387603Z",
     "shell.execute_reply": "2025-08-30T17:33:24.386565Z"
    },
    "papermill": {
     "duration": 0.140326,
     "end_time": "2025-08-30T17:33:24.388999",
     "exception": false,
     "start_time": "2025-08-30T17:33:24.248673",
     "status": "completed"
    },
    "tags": []
   },
   "outputs": [
    {
     "name": "stdout",
     "output_type": "stream",
     "text": [
      "image tensor device: cpu\n"
     ]
    }
   ],
   "source": [
    "# Extract images and labels from the training data in batches of batch_size\n",
    "images, labels = next(iter(train_loader))\n",
    "\n",
    "device = torch.device('cuda' if torch.cuda.is_available() else 'cpu')\n",
    "model = create_simple_linear_model(input_size=28, num_classes=10)\n",
    "model = model.to(device)\n",
    "# The model is on device cuda:0, but images are still on CPU.\n",
    "print('image tensor device:', images.device) \n",
    "# The device of the model can be checked with the parameters, e.g., next(model.parameters()).device\n",
    "\n",
    "# To avoid errors, images must also be moved to the same device as the model using to('cuda').\n",
    "#images = images.to(device)\n",
    "#print(images.device)\n",
    "\n",
    "# The following code will cause an error because the model is on cuda, \n",
    "# but the input tensor (images) is still on CPU. \n",
    "# pred = model(images)\n"
   ]
  },
  {
   "cell_type": "markdown",
   "id": "b1bb65f4",
   "metadata": {
    "papermill": {
     "duration": 0.013025,
     "end_time": "2025-08-30T17:33:24.415281",
     "exception": false,
     "start_time": "2025-08-30T17:33:24.402256",
     "status": "completed"
    },
    "tags": []
   },
   "source": [
    "\n",
    "### Creating the Training Logic (Loop)\n",
    "\n",
    "* In PyTorch, the creation of neural network models and the training logic are **loosely coupled**.\n",
    "* The model takes a batch of input training data tensors, transforms them according to its structure, and returns the output tensors — with a focus on **building the computational graph**.\n",
    "* The training logic uses the model’s output tensors together with a loss function and an optimizer to update the model’s weight parameters through backpropagation. This is repeated for each batch of training data, and the process is run for the number of epochs specified.\n",
    "* Before training begins, the model must be set to training mode (`model.train()`). This is important because when using techniques such as **Batch Normalization** or **Dropout**, the model behaves differently in training mode compared to validation or inference mode.\n"
   ]
  },
  {
   "cell_type": "code",
   "execution_count": 40,
   "id": "5f674f6e",
   "metadata": {
    "execution": {
     "iopub.execute_input": "2025-08-30T17:33:24.442063Z",
     "iopub.status.busy": "2025-08-30T17:33:24.441720Z",
     "iopub.status.idle": "2025-08-30T17:33:24.559950Z",
     "shell.execute_reply": "2025-08-30T17:33:24.558702Z"
    },
    "papermill": {
     "duration": 0.133609,
     "end_time": "2025-08-30T17:33:24.561709",
     "exception": false,
     "start_time": "2025-08-30T17:33:24.428100",
     "status": "completed"
    },
    "tags": []
   },
   "outputs": [
    {
     "data": {
      "text/plain": [
       "(torch.Size([32, 1, 28, 28]), torch.float32, torch.Size([32]), torch.int64)"
      ]
     },
     "execution_count": 40,
     "metadata": {},
     "output_type": "execute_result"
    }
   ],
   "source": [
    "# Extract images and labels from the training data in batches of BATCH_SIZE\n",
    "BATCH_SIZE = 32\n",
    "train_loader = DataLoader(train_data, batch_size=BATCH_SIZE, shuffle=True, num_workers=4)\n",
    "\n",
    "images, labels = next(iter(train_loader))\n",
    "# Check the shapes and data types of the batch tensors\n",
    "images.shape, images.dtype, labels.shape, labels.dtype\n"
   ]
  },
  {
   "cell_type": "code",
   "execution_count": 41,
   "id": "c8b9ea35",
   "metadata": {
    "collapsed": true,
    "execution": {
     "iopub.execute_input": "2025-08-30T17:33:24.590018Z",
     "iopub.status.busy": "2025-08-30T17:33:24.589226Z",
     "iopub.status.idle": "2025-08-30T17:33:31.204521Z",
     "shell.execute_reply": "2025-08-30T17:33:31.203788Z"
    },
    "jupyter": {
     "outputs_hidden": true
    },
    "papermill": {
     "duration": 6.630798,
     "end_time": "2025-08-30T17:33:31.205938",
     "exception": false,
     "start_time": "2025-08-30T17:33:24.575140",
     "status": "completed"
    },
    "tags": []
   },
   "outputs": [
    {
     "name": "stdout",
     "output_type": "stream",
     "text": [
      "Performing 1th gradient update, current loss: 2.3128795623779297\n",
      "Performing 101th gradient update, current loss: 0.7146307826042175\n",
      "Performing 201th gradient update, current loss: 0.540241539478302\n",
      "Performing 301th gradient update, current loss: 0.6614893674850464\n",
      "Performing 401th gradient update, current loss: 0.7271491885185242\n",
      "Performing 501th gradient update, current loss: 0.4488963782787323\n",
      "Performing 601th gradient update, current loss: 0.4240359365940094\n",
      "Performing 701th gradient update, current loss: 0.35440120100975037\n",
      "Performing 801th gradient update, current loss: 0.2861812114715576\n",
      "Performing 901th gradient update, current loss: 0.4208143353462219\n",
      "Performing 1001th gradient update, current loss: 0.2932419776916504\n",
      "Performing 1101th gradient update, current loss: 0.36761555075645447\n",
      "Performing 1201th gradient update, current loss: 0.7389582991600037\n",
      "Performing 1301th gradient update, current loss: 0.40139853954315186\n",
      "Performing 1401th gradient update, current loss: 0.38816365599632263\n",
      "Performing 1501th gradient update, current loss: 0.6047376394271851\n",
      "Performing 1601th gradient update, current loss: 0.2645728886127472\n",
      "Performing 1701th gradient update, current loss: 0.39658409357070923\n",
      "Performing 1801th gradient update, current loss: 0.254840612411499\n"
     ]
    }
   ],
   "source": [
    "import torch\n",
    "import torch.nn as nn\n",
    "from torch.optim import Adam\n",
    "\n",
    "loss_fn = nn.CrossEntropyLoss()\n",
    "optimizer = Adam(model.parameters(), lr=0.001)\n",
    "\n",
    "device = torch.device('cuda' if torch.cuda.is_available() else 'cpu')\n",
    "# It is recommended to move the model to the device before entering the training loop\n",
    "model.to(device)\n",
    "\n",
    "# Set the model to training mode\n",
    "model.train()\n",
    "\n",
    "# Perform training loop in mini-batches. The training dataset has 60,000 samples\n",
    "for batch_idx, (images, labels) in enumerate(train_loader):\n",
    "    # Move input data to the same device as the model\n",
    "    images = images.to(device)\n",
    "    labels = labels.to(device)\n",
    "\n",
    "    # Pass the image tensor through the model to get the output tensor (logits)\n",
    "    pred = model(images)\n",
    "   \n",
    "    # Compute loss. CrossEntropyLoss applies softmax internally, so do NOT apply softmax to the model's output\n",
    "    loss = loss_fn(pred, labels)\n",
    "\n",
    "    # Initialize optimizer gradients\n",
    "    optimizer.zero_grad()\n",
    "    \n",
    "    # Compute gradients via backpropagation\n",
    "    loss.backward()\n",
    "    \n",
    "    # Update model parameters using the optimizer\n",
    "    optimizer.step()\n",
    "    \n",
    "    if batch_idx % 100 == 0:\n",
    "        print(f'Performing {batch_idx+1}th gradient update, current loss: {loss.item()}')\n"
   ]
  },
  {
   "cell_type": "markdown",
   "id": "f7d13a4b",
   "metadata": {
    "papermill": {
     "duration": 0.013832,
     "end_time": "2025-08-30T17:33:31.234465",
     "exception": false,
     "start_time": "2025-08-30T17:33:31.220633",
     "status": "completed"
    },
    "tags": []
   },
   "source": [
    "### Making it as a function"
   ]
  },
  {
   "cell_type": "code",
   "execution_count": 42,
   "id": "aee3b95e",
   "metadata": {
    "collapsed": true,
    "execution": {
     "iopub.execute_input": "2025-08-30T17:33:31.262703Z",
     "iopub.status.busy": "2025-08-30T17:33:31.262404Z",
     "iopub.status.idle": "2025-08-30T17:33:37.520534Z",
     "shell.execute_reply": "2025-08-30T17:33:37.519700Z"
    },
    "jupyter": {
     "outputs_hidden": true
    },
    "papermill": {
     "duration": 6.274079,
     "end_time": "2025-08-30T17:33:37.522040",
     "exception": false,
     "start_time": "2025-08-30T17:33:31.247961",
     "status": "completed"
    },
    "tags": []
   },
   "outputs": [
    {
     "name": "stdout",
     "output_type": "stream",
     "text": [
      "Applying gradient for batch 1, current loss: 0.32917433977127075\n",
      "Applying gradient for batch 101, current loss: 0.33505311608314514\n",
      "Applying gradient for batch 201, current loss: 0.1745051145553589\n",
      "Applying gradient for batch 301, current loss: 0.2757560908794403\n",
      "Applying gradient for batch 401, current loss: 0.2841458022594452\n",
      "Applying gradient for batch 501, current loss: 0.30647942423820496\n",
      "Applying gradient for batch 601, current loss: 0.5381497740745544\n",
      "Applying gradient for batch 701, current loss: 0.361266553401947\n",
      "Applying gradient for batch 801, current loss: 0.2536719739437103\n",
      "Applying gradient for batch 901, current loss: 0.6475058794021606\n",
      "Applying gradient for batch 1001, current loss: 0.2673327624797821\n",
      "Applying gradient for batch 1101, current loss: 0.24537798762321472\n",
      "Applying gradient for batch 1201, current loss: 0.3880641460418701\n",
      "Applying gradient for batch 1301, current loss: 0.6502519845962524\n",
      "Applying gradient for batch 1401, current loss: 0.16738982498645782\n",
      "Applying gradient for batch 1501, current loss: 0.25807395577430725\n",
      "Applying gradient for batch 1601, current loss: 0.550507128238678\n",
      "Applying gradient for batch 1701, current loss: 0.23492416739463806\n",
      "Applying gradient for batch 1801, current loss: 0.2839922308921814\n"
     ]
    }
   ],
   "source": [
    "# Train the model on the training dataset in mini-batches for 1 epoch\n",
    "def train_step():\n",
    "    # Perform training loop in mini-batches. The training dataset has 60,000 samples\n",
    "    for batch_idx, (images, labels) in enumerate(train_loader):\n",
    "        # Move input data to the same device as the model\n",
    "        images = images.to(device)\n",
    "        labels = labels.to(device)\n",
    "        \n",
    "        # Pass the image tensor through the model to get the output tensor (logits)\n",
    "        pred = model(images)\n",
    "        \n",
    "        # Compute loss. CrossEntropyLoss applies softmax internally, so do NOT apply softmax to the model output\n",
    "        loss = loss_fn(pred, labels)\n",
    "\n",
    "        # Initialize optimizer gradients\n",
    "        optimizer.zero_grad()\n",
    "        \n",
    "        # Compute gradients via backpropagation\n",
    "        loss.backward()\n",
    "        \n",
    "        # Update model parameters using the optimizer\n",
    "        optimizer.step()\n",
    "        \n",
    "        # Print loss every 100 batches\n",
    "        if batch_idx % 100 == 0:\n",
    "            print(f'Applying gradient for batch {batch_idx+1}, current loss: {loss.item()}')\n",
    "\n",
    "train_step()\n"
   ]
  },
  {
   "cell_type": "markdown",
   "id": "0bfa8407",
   "metadata": {
    "papermill": {
     "duration": 0.013994,
     "end_time": "2025-08-30T17:33:37.551556",
     "exception": false,
     "start_time": "2025-08-30T17:33:37.537562",
     "status": "completed"
    },
    "tags": []
   },
   "source": [
    "#### Repeat the training loop for multiple epochs"
   ]
  },
  {
   "cell_type": "code",
   "execution_count": 43,
   "id": "d7277c7b",
   "metadata": {
    "collapsed": true,
    "execution": {
     "iopub.execute_input": "2025-08-30T17:33:37.581764Z",
     "iopub.status.busy": "2025-08-30T17:33:37.581009Z",
     "iopub.status.idle": "2025-08-30T17:34:40.084544Z",
     "shell.execute_reply": "2025-08-30T17:34:40.083589Z"
    },
    "jupyter": {
     "outputs_hidden": true
    },
    "papermill": {
     "duration": 62.520317,
     "end_time": "2025-08-30T17:34:40.085990",
     "exception": false,
     "start_time": "2025-08-30T17:33:37.565673",
     "status": "completed"
    },
    "tags": []
   },
   "outputs": [
    {
     "name": "stdout",
     "output_type": "stream",
     "text": [
      "######## Starting training epoch 1\n",
      "Applying gradient for batch 1, current loss: 0.3970460891723633\n",
      "Applying gradient for batch 101, current loss: 0.4268745183944702\n",
      "Applying gradient for batch 201, current loss: 0.15417563915252686\n",
      "Applying gradient for batch 301, current loss: 0.3786919414997101\n",
      "Applying gradient for batch 401, current loss: 0.28827956318855286\n",
      "Applying gradient for batch 501, current loss: 0.34847432374954224\n",
      "Applying gradient for batch 601, current loss: 0.32767096161842346\n",
      "Applying gradient for batch 701, current loss: 0.17305293679237366\n",
      "Applying gradient for batch 801, current loss: 0.2164413034915924\n",
      "Applying gradient for batch 901, current loss: 0.7466790676116943\n",
      "Applying gradient for batch 1001, current loss: 0.41108080744743347\n",
      "Applying gradient for batch 1101, current loss: 0.3551371991634369\n",
      "Applying gradient for batch 1201, current loss: 0.41207751631736755\n",
      "Applying gradient for batch 1301, current loss: 0.2977469265460968\n",
      "Applying gradient for batch 1401, current loss: 0.16021129488945007\n",
      "Applying gradient for batch 1501, current loss: 0.40671348571777344\n",
      "Applying gradient for batch 1601, current loss: 0.7408224940299988\n",
      "Applying gradient for batch 1701, current loss: 0.299973726272583\n",
      "Applying gradient for batch 1801, current loss: 0.11238443851470947\n",
      "######## Starting training epoch 2\n",
      "Applying gradient for batch 1, current loss: 0.27408722043037415\n",
      "Applying gradient for batch 101, current loss: 0.2889068126678467\n",
      "Applying gradient for batch 201, current loss: 0.4253491461277008\n",
      "Applying gradient for batch 301, current loss: 0.5373435616493225\n",
      "Applying gradient for batch 401, current loss: 0.1608765870332718\n",
      "Applying gradient for batch 501, current loss: 0.26638472080230713\n",
      "Applying gradient for batch 601, current loss: 0.5991149544715881\n",
      "Applying gradient for batch 701, current loss: 0.5776280164718628\n",
      "Applying gradient for batch 801, current loss: 0.3943893015384674\n",
      "Applying gradient for batch 901, current loss: 0.4366913139820099\n",
      "Applying gradient for batch 1001, current loss: 0.2393760234117508\n",
      "Applying gradient for batch 1101, current loss: 0.06228943169116974\n",
      "Applying gradient for batch 1201, current loss: 0.4542645514011383\n",
      "Applying gradient for batch 1301, current loss: 0.16861611604690552\n",
      "Applying gradient for batch 1401, current loss: 0.340777188539505\n",
      "Applying gradient for batch 1501, current loss: 0.22614532709121704\n",
      "Applying gradient for batch 1601, current loss: 0.24218568205833435\n",
      "Applying gradient for batch 1701, current loss: 0.3424850404262543\n",
      "Applying gradient for batch 1801, current loss: 0.4496232271194458\n",
      "######## Starting training epoch 3\n",
      "Applying gradient for batch 1, current loss: 0.2969338297843933\n",
      "Applying gradient for batch 101, current loss: 0.13206888735294342\n",
      "Applying gradient for batch 201, current loss: 0.258295476436615\n",
      "Applying gradient for batch 301, current loss: 0.3477102518081665\n",
      "Applying gradient for batch 401, current loss: 0.23796996474266052\n",
      "Applying gradient for batch 501, current loss: 0.431173712015152\n",
      "Applying gradient for batch 601, current loss: 0.4540453553199768\n",
      "Applying gradient for batch 701, current loss: 0.0816488116979599\n",
      "Applying gradient for batch 801, current loss: 0.5400153994560242\n",
      "Applying gradient for batch 901, current loss: 0.14579668641090393\n",
      "Applying gradient for batch 1001, current loss: 0.12973076105117798\n",
      "Applying gradient for batch 1101, current loss: 0.26182711124420166\n",
      "Applying gradient for batch 1201, current loss: 0.5358805060386658\n",
      "Applying gradient for batch 1301, current loss: 0.12154942005872726\n",
      "Applying gradient for batch 1401, current loss: 0.2599807381629944\n",
      "Applying gradient for batch 1501, current loss: 0.21937856078147888\n",
      "Applying gradient for batch 1601, current loss: 0.432721883058548\n",
      "Applying gradient for batch 1701, current loss: 0.22892822325229645\n",
      "Applying gradient for batch 1801, current loss: 0.039676763117313385\n",
      "######## Starting training epoch 4\n",
      "Applying gradient for batch 1, current loss: 0.21718426048755646\n",
      "Applying gradient for batch 101, current loss: 0.33098432421684265\n",
      "Applying gradient for batch 201, current loss: 0.138353168964386\n",
      "Applying gradient for batch 301, current loss: 0.3491152226924896\n",
      "Applying gradient for batch 401, current loss: 0.22218017280101776\n",
      "Applying gradient for batch 501, current loss: 0.1749589592218399\n",
      "Applying gradient for batch 601, current loss: 0.10890401899814606\n",
      "Applying gradient for batch 701, current loss: 0.21782197058200836\n",
      "Applying gradient for batch 801, current loss: 0.1784626841545105\n",
      "Applying gradient for batch 901, current loss: 0.3152386546134949\n",
      "Applying gradient for batch 1001, current loss: 0.4374432861804962\n",
      "Applying gradient for batch 1101, current loss: 0.22357603907585144\n",
      "Applying gradient for batch 1201, current loss: 0.34418052434921265\n",
      "Applying gradient for batch 1301, current loss: 0.42419078946113586\n",
      "Applying gradient for batch 1401, current loss: 0.17889124155044556\n",
      "Applying gradient for batch 1501, current loss: 0.1452367603778839\n",
      "Applying gradient for batch 1601, current loss: 0.20425906777381897\n",
      "Applying gradient for batch 1701, current loss: 0.31245937943458557\n",
      "Applying gradient for batch 1801, current loss: 0.2827639579772949\n",
      "######## Starting training epoch 5\n",
      "Applying gradient for batch 1, current loss: 0.3050384521484375\n",
      "Applying gradient for batch 101, current loss: 0.5342928767204285\n",
      "Applying gradient for batch 201, current loss: 0.25330546498298645\n",
      "Applying gradient for batch 301, current loss: 0.3268295228481293\n",
      "Applying gradient for batch 401, current loss: 0.24146102368831635\n",
      "Applying gradient for batch 501, current loss: 0.24004487693309784\n",
      "Applying gradient for batch 601, current loss: 0.5223995447158813\n",
      "Applying gradient for batch 701, current loss: 0.2657867968082428\n",
      "Applying gradient for batch 801, current loss: 0.17570699751377106\n",
      "Applying gradient for batch 901, current loss: 0.12340495735406876\n",
      "Applying gradient for batch 1001, current loss: 0.1631392538547516\n",
      "Applying gradient for batch 1101, current loss: 0.166398823261261\n",
      "Applying gradient for batch 1201, current loss: 0.19121651351451874\n",
      "Applying gradient for batch 1301, current loss: 0.30988743901252747\n",
      "Applying gradient for batch 1401, current loss: 0.31284385919570923\n",
      "Applying gradient for batch 1501, current loss: 0.3223344385623932\n",
      "Applying gradient for batch 1601, current loss: 0.1582322120666504\n",
      "Applying gradient for batch 1701, current loss: 0.20484797656536102\n",
      "Applying gradient for batch 1801, current loss: 0.21105080842971802\n",
      "######## Starting training epoch 6\n",
      "Applying gradient for batch 1, current loss: 0.17035484313964844\n",
      "Applying gradient for batch 101, current loss: 0.38280513882637024\n",
      "Applying gradient for batch 201, current loss: 0.5809364318847656\n",
      "Applying gradient for batch 301, current loss: 0.23046356439590454\n",
      "Applying gradient for batch 401, current loss: 0.2459385097026825\n",
      "Applying gradient for batch 501, current loss: 0.10486854612827301\n",
      "Applying gradient for batch 601, current loss: 0.2568776607513428\n",
      "Applying gradient for batch 701, current loss: 0.4717199504375458\n",
      "Applying gradient for batch 801, current loss: 0.3195553719997406\n",
      "Applying gradient for batch 901, current loss: 0.24460993707180023\n",
      "Applying gradient for batch 1001, current loss: 0.1154961884021759\n",
      "Applying gradient for batch 1101, current loss: 0.19729773700237274\n",
      "Applying gradient for batch 1201, current loss: 0.40016984939575195\n",
      "Applying gradient for batch 1301, current loss: 0.4152389168739319\n",
      "Applying gradient for batch 1401, current loss: 0.3420068025588989\n",
      "Applying gradient for batch 1501, current loss: 0.6446639895439148\n",
      "Applying gradient for batch 1601, current loss: 0.2300856113433838\n",
      "Applying gradient for batch 1701, current loss: 0.1513073742389679\n",
      "Applying gradient for batch 1801, current loss: 0.2826138734817505\n",
      "######## Starting training epoch 7\n",
      "Applying gradient for batch 1, current loss: 0.21980202198028564\n",
      "Applying gradient for batch 101, current loss: 0.15896138548851013\n",
      "Applying gradient for batch 201, current loss: 0.13254733383655548\n",
      "Applying gradient for batch 301, current loss: 0.21010971069335938\n",
      "Applying gradient for batch 401, current loss: 0.2650916874408722\n",
      "Applying gradient for batch 501, current loss: 0.34042593836784363\n",
      "Applying gradient for batch 601, current loss: 0.2544052004814148\n",
      "Applying gradient for batch 701, current loss: 0.34198108315467834\n",
      "Applying gradient for batch 801, current loss: 0.45064854621887207\n",
      "Applying gradient for batch 901, current loss: 0.23398226499557495\n",
      "Applying gradient for batch 1001, current loss: 0.24093292653560638\n",
      "Applying gradient for batch 1101, current loss: 0.16591708362102509\n",
      "Applying gradient for batch 1201, current loss: 0.26147109270095825\n",
      "Applying gradient for batch 1301, current loss: 0.11386760324239731\n",
      "Applying gradient for batch 1401, current loss: 0.3893837332725525\n",
      "Applying gradient for batch 1501, current loss: 0.1647845208644867\n",
      "Applying gradient for batch 1601, current loss: 0.18590210378170013\n",
      "Applying gradient for batch 1701, current loss: 0.16405880451202393\n",
      "Applying gradient for batch 1801, current loss: 0.17807236313819885\n",
      "######## Starting training epoch 8\n",
      "Applying gradient for batch 1, current loss: 0.26452744007110596\n",
      "Applying gradient for batch 101, current loss: 0.20613984763622284\n",
      "Applying gradient for batch 201, current loss: 0.13603171706199646\n",
      "Applying gradient for batch 301, current loss: 0.24769213795661926\n",
      "Applying gradient for batch 401, current loss: 0.20074808597564697\n",
      "Applying gradient for batch 501, current loss: 0.28010475635528564\n",
      "Applying gradient for batch 601, current loss: 0.08786850422620773\n",
      "Applying gradient for batch 701, current loss: 0.15315452218055725\n",
      "Applying gradient for batch 801, current loss: 0.06939538568258286\n",
      "Applying gradient for batch 901, current loss: 0.22347111999988556\n",
      "Applying gradient for batch 1001, current loss: 0.29969197511672974\n",
      "Applying gradient for batch 1101, current loss: 0.06453923135995865\n",
      "Applying gradient for batch 1201, current loss: 0.16696856915950775\n",
      "Applying gradient for batch 1301, current loss: 0.10921008139848709\n",
      "Applying gradient for batch 1401, current loss: 0.2041691094636917\n",
      "Applying gradient for batch 1501, current loss: 0.2366512566804886\n",
      "Applying gradient for batch 1601, current loss: 0.14220143854618073\n",
      "Applying gradient for batch 1701, current loss: 0.4632430374622345\n",
      "Applying gradient for batch 1801, current loss: 0.23132909834384918\n",
      "######## Starting training epoch 9\n",
      "Applying gradient for batch 1, current loss: 0.2275838404893875\n",
      "Applying gradient for batch 101, current loss: 0.16350296139717102\n",
      "Applying gradient for batch 201, current loss: 0.2519148588180542\n",
      "Applying gradient for batch 301, current loss: 0.1630723476409912\n",
      "Applying gradient for batch 401, current loss: 0.21153533458709717\n",
      "Applying gradient for batch 501, current loss: 0.15801526606082916\n",
      "Applying gradient for batch 601, current loss: 0.11311766505241394\n",
      "Applying gradient for batch 701, current loss: 0.08910682052373886\n",
      "Applying gradient for batch 801, current loss: 0.2057931125164032\n",
      "Applying gradient for batch 901, current loss: 0.08964676409959793\n",
      "Applying gradient for batch 1001, current loss: 0.15371787548065186\n",
      "Applying gradient for batch 1101, current loss: 0.26709434390068054\n",
      "Applying gradient for batch 1201, current loss: 0.5911636352539062\n",
      "Applying gradient for batch 1301, current loss: 0.2925300598144531\n",
      "Applying gradient for batch 1401, current loss: 0.5131397247314453\n",
      "Applying gradient for batch 1501, current loss: 0.19822894036769867\n",
      "Applying gradient for batch 1601, current loss: 0.22689175605773926\n",
      "Applying gradient for batch 1701, current loss: 0.5259696841239929\n",
      "Applying gradient for batch 1801, current loss: 0.21111899614334106\n",
      "######## Starting training epoch 10\n",
      "Applying gradient for batch 1, current loss: 0.12872308492660522\n",
      "Applying gradient for batch 101, current loss: 0.051230575889348984\n",
      "Applying gradient for batch 201, current loss: 0.12054935842752457\n",
      "Applying gradient for batch 301, current loss: 0.1998603641986847\n",
      "Applying gradient for batch 401, current loss: 0.17277048528194427\n",
      "Applying gradient for batch 501, current loss: 0.10857215523719788\n",
      "Applying gradient for batch 601, current loss: 0.11376344412565231\n",
      "Applying gradient for batch 701, current loss: 0.31849583983421326\n",
      "Applying gradient for batch 801, current loss: 0.31826817989349365\n",
      "Applying gradient for batch 901, current loss: 0.055978186428546906\n",
      "Applying gradient for batch 1001, current loss: 0.11654609441757202\n",
      "Applying gradient for batch 1101, current loss: 0.14271734654903412\n",
      "Applying gradient for batch 1201, current loss: 0.14357449114322662\n",
      "Applying gradient for batch 1301, current loss: 0.20437213778495789\n",
      "Applying gradient for batch 1401, current loss: 0.35225215554237366\n",
      "Applying gradient for batch 1501, current loss: 0.16311782598495483\n",
      "Applying gradient for batch 1601, current loss: 0.37563931941986084\n",
      "Applying gradient for batch 1701, current loss: 0.1323872208595276\n",
      "Applying gradient for batch 1801, current loss: 0.09619065374135971\n"
     ]
    }
   ],
   "source": [
    "\n",
    "EPOCHS = 10\n",
    "\n",
    "optimizer = Adam(model.parameters(), lr=0.001)\n",
    "loss_fn = nn.CrossEntropyLoss()\n",
    "\n",
    "# Move the model to the specified device\n",
    "model = model.to(device)\n",
    "\n",
    "# Set the model to training mode\n",
    "model.train()\n",
    "\n",
    "for epoch in range(EPOCHS):\n",
    "    print(f\"######## Starting training epoch {epoch+1}\")\n",
    "    train_step()\n"
   ]
  },
  {
   "cell_type": "markdown",
   "id": "22a911a3",
   "metadata": {
    "papermill": {
     "duration": 0.022418,
     "end_time": "2025-08-30T17:34:40.131684",
     "exception": false,
     "start_time": "2025-08-30T17:34:40.109266",
     "status": "completed"
    },
    "tags": []
   },
   "source": [
    "### Perform evaluation using validation data\n",
    "\n",
    "* Evaluate the model on batch-wise validation data during or after the training loop to check the model’s loss and performance metrics.\n",
    "* Compare performance metrics on training data and validation data to monitor the extent of overfitting.\n",
    "* Set the model to evaluation mode (`model.eval()`) before starting evaluation. This ensures layers like Batch Normalization or Dropout behave differently than in training mode.\n",
    "* Evaluation is based on the model’s output, so backpropagation or gradient tracking is not required. By default, PyTorch tracks gradients for tensors with `requires_grad=True` during the forward pass, so to improve evaluation speed, gradient tracking is disabled using the `with torch.no_grad()` context.\n"
   ]
  },
  {
   "cell_type": "code",
   "execution_count": 44,
   "id": "4533cee5",
   "metadata": {
    "execution": {
     "iopub.execute_input": "2025-08-30T17:34:40.177389Z",
     "iopub.status.busy": "2025-08-30T17:34:40.177078Z",
     "iopub.status.idle": "2025-08-30T17:34:41.089417Z",
     "shell.execute_reply": "2025-08-30T17:34:41.088324Z"
    },
    "papermill": {
     "duration": 0.936636,
     "end_time": "2025-08-30T17:34:41.090557",
     "exception": false,
     "start_time": "2025-08-30T17:34:40.153921",
     "status": "completed"
    },
    "tags": []
   },
   "outputs": [
    {
     "name": "stdout",
     "output_type": "stream",
     "text": [
      "Validation loss at batch 0: 0.6612581014633179\n",
      "Validation loss at batch 100: 0.5522692203521729\n",
      "Validation loss at batch 200: 0.3506075441837311\n",
      "Validation loss at batch 300: 0.27856364846229553\n"
     ]
    }
   ],
   "source": [
    "BATCH_SIZE = 32\n",
    "\n",
    "# No need to shuffle validation data. Usually, batch size can be larger than in training for speed improvement.\n",
    "val_loader = DataLoader(val_data, batch_size=BATCH_SIZE, shuffle=False, num_workers=4)\n",
    "device = torch.device('cuda' if torch.cuda.is_available() else 'cpu')\n",
    "\n",
    "# loss function for evaluation\n",
    "loss_fn = nn.CrossEntropyLoss()\n",
    "\n",
    "# move model to the specified device\n",
    "model = model.to(device)\n",
    "\n",
    "# set model to evaluation mode\n",
    "model.eval()\n",
    "\n",
    "# apply torch.no_grad() context to disable gradient tracking for all tensors\n",
    "with torch.no_grad():\n",
    "# iterate over validation data in mini-batches\n",
    "    for batch_idx, (images, labels) in enumerate(val_loader):\n",
    "        # move input tensors to the same device as the model\n",
    "        images = images.to(device)\n",
    "        labels = labels.to(device)\n",
    "\n",
    "        # forward pass through the model\n",
    "        pred = model(images)\n",
    "    \n",
    "        # compute loss for comparison with training loss; no backpropagation performed\n",
    "        loss = loss_fn(pred, labels)\n",
    "\n",
    "        # print every 100 batches\n",
    "        if batch_idx % 100 == 0:\n",
    "            print(f'Validation loss at batch {batch_idx}: {loss.item()}')\n"
   ]
  },
  {
   "cell_type": "code",
   "execution_count": 45,
   "id": "978a6ed9",
   "metadata": {
    "execution": {
     "iopub.execute_input": "2025-08-30T17:34:41.137334Z",
     "iopub.status.busy": "2025-08-30T17:34:41.137024Z",
     "iopub.status.idle": "2025-08-30T17:34:41.142167Z",
     "shell.execute_reply": "2025-08-30T17:34:41.141466Z"
    },
    "papermill": {
     "duration": 0.029771,
     "end_time": "2025-08-30T17:34:41.143322",
     "exception": false,
     "start_time": "2025-08-30T17:34:41.113551",
     "status": "completed"
    },
    "tags": []
   },
   "outputs": [],
   "source": [
    "def val_step():\n",
    "    with torch.no_grad():\n",
    "    # iterate over validation data in mini-batches\n",
    "        for batch_idx, (images, labels) in enumerate(val_loader):\n",
    "            # move input tensors to the same device as the model\n",
    "            images = images.to(device)\n",
    "            labels = labels.to(device)\n",
    "\n",
    "            # forward pass through the model\n",
    "            pred = model(images)\n",
    "    \n",
    "            # compute loss for comparison with training loss; no backpropagation performed\n",
    "            loss = loss_fn(pred, labels)\n",
    "\n",
    "            # print every 100 batches\n",
    "            if batch_idx % 100 == 0:\n",
    "                print(f'Validation loss at batch {batch_idx}: {loss.item()}')"
   ]
  },
  {
   "cell_type": "markdown",
   "id": "70a038ef",
   "metadata": {
    "papermill": {
     "duration": 0.022205,
     "end_time": "2025-08-30T17:34:41.187624",
     "exception": false,
     "start_time": "2025-08-30T17:34:41.165419",
     "status": "completed"
    },
    "tags": []
   },
   "source": [
    "#### Training Loop with Validation Data Evaluation\n"
   ]
  },
  {
   "cell_type": "code",
   "execution_count": 46,
   "id": "99b895a9",
   "metadata": {
    "collapsed": true,
    "execution": {
     "iopub.execute_input": "2025-08-30T17:34:41.233395Z",
     "iopub.status.busy": "2025-08-30T17:34:41.233116Z",
     "iopub.status.idle": "2025-08-30T17:35:51.764392Z",
     "shell.execute_reply": "2025-08-30T17:35:51.763336Z"
    },
    "jupyter": {
     "outputs_hidden": true
    },
    "papermill": {
     "duration": 70.555633,
     "end_time": "2025-08-30T17:35:51.765601",
     "exception": false,
     "start_time": "2025-08-30T17:34:41.209968",
     "status": "completed"
    },
    "tags": []
   },
   "outputs": [
    {
     "name": "stdout",
     "output_type": "stream",
     "text": [
      "######## Starting train epoch 1\n",
      "Applying gradient for batch 1, current loss: 0.10308381915092468\n",
      "Applying gradient for batch 101, current loss: 0.0332147441804409\n",
      "Applying gradient for batch 201, current loss: 0.23480479419231415\n",
      "Applying gradient for batch 301, current loss: 0.29505935311317444\n",
      "Applying gradient for batch 401, current loss: 0.16447153687477112\n",
      "Applying gradient for batch 501, current loss: 0.20250576734542847\n",
      "Applying gradient for batch 601, current loss: 0.11963443458080292\n",
      "Applying gradient for batch 701, current loss: 0.23377621173858643\n",
      "Applying gradient for batch 801, current loss: 0.3336952030658722\n",
      "Applying gradient for batch 901, current loss: 0.20074661076068878\n",
      "Applying gradient for batch 1001, current loss: 0.1644068956375122\n",
      "Applying gradient for batch 1101, current loss: 0.3539550304412842\n",
      "Applying gradient for batch 1201, current loss: 0.2739941477775574\n",
      "Applying gradient for batch 1301, current loss: 0.09637360274791718\n",
      "Applying gradient for batch 1401, current loss: 0.26260480284690857\n",
      "Applying gradient for batch 1501, current loss: 0.3845294415950775\n",
      "Applying gradient for batch 1601, current loss: 0.1395488977432251\n",
      "Applying gradient for batch 1701, current loss: 0.15630720555782318\n",
      "Applying gradient for batch 1801, current loss: 0.19846631586551666\n",
      "######## Starting validation epoch 1\n",
      "Validation loss at batch 0: 0.6120340824127197\n",
      "Validation loss at batch 100: 0.5120735764503479\n",
      "Validation loss at batch 200: 0.30005502700805664\n",
      "Validation loss at batch 300: 0.3241957128047943\n",
      "######## Starting train epoch 2\n",
      "Applying gradient for batch 1, current loss: 0.16285106539726257\n",
      "Applying gradient for batch 101, current loss: 0.13366833329200745\n",
      "Applying gradient for batch 201, current loss: 0.3325459361076355\n",
      "Applying gradient for batch 301, current loss: 0.13592515885829926\n",
      "Applying gradient for batch 401, current loss: 0.28470054268836975\n",
      "Applying gradient for batch 501, current loss: 0.13197803497314453\n",
      "Applying gradient for batch 601, current loss: 0.32960689067840576\n",
      "Applying gradient for batch 701, current loss: 0.17801430821418762\n",
      "Applying gradient for batch 801, current loss: 0.18004091084003448\n",
      "Applying gradient for batch 901, current loss: 0.21131181716918945\n",
      "Applying gradient for batch 1001, current loss: 0.10261131823062897\n",
      "Applying gradient for batch 1101, current loss: 0.24786338210105896\n",
      "Applying gradient for batch 1201, current loss: 0.19122694432735443\n",
      "Applying gradient for batch 1301, current loss: 0.14095598459243774\n",
      "Applying gradient for batch 1401, current loss: 0.2972802519798279\n",
      "Applying gradient for batch 1501, current loss: 0.15408092737197876\n",
      "Applying gradient for batch 1601, current loss: 0.44846975803375244\n",
      "Applying gradient for batch 1701, current loss: 0.25225329399108887\n",
      "Applying gradient for batch 1801, current loss: 0.11921177804470062\n",
      "######## Starting validation epoch 2\n",
      "Validation loss at batch 0: 1.1669539213180542\n",
      "Validation loss at batch 100: 0.4809516966342926\n",
      "Validation loss at batch 200: 0.3554699122905731\n",
      "Validation loss at batch 300: 0.15782102942466736\n",
      "######## Starting train epoch 3\n",
      "Applying gradient for batch 1, current loss: 0.14043128490447998\n",
      "Applying gradient for batch 101, current loss: 0.25044065713882446\n",
      "Applying gradient for batch 201, current loss: 0.24316731095314026\n",
      "Applying gradient for batch 301, current loss: 0.2873820662498474\n",
      "Applying gradient for batch 401, current loss: 0.4494292140007019\n",
      "Applying gradient for batch 501, current loss: 0.1738092303276062\n",
      "Applying gradient for batch 601, current loss: 0.211945578455925\n",
      "Applying gradient for batch 701, current loss: 0.18744944036006927\n",
      "Applying gradient for batch 801, current loss: 0.17927898466587067\n",
      "Applying gradient for batch 901, current loss: 0.1933252066373825\n",
      "Applying gradient for batch 1001, current loss: 0.2112334668636322\n",
      "Applying gradient for batch 1101, current loss: 0.1676209270954132\n",
      "Applying gradient for batch 1201, current loss: 0.12450917810201645\n",
      "Applying gradient for batch 1301, current loss: 0.2485683411359787\n",
      "Applying gradient for batch 1401, current loss: 0.16225209832191467\n",
      "Applying gradient for batch 1501, current loss: 0.2693367302417755\n",
      "Applying gradient for batch 1601, current loss: 0.3542473018169403\n",
      "Applying gradient for batch 1701, current loss: 0.09523437917232513\n",
      "Applying gradient for batch 1801, current loss: 0.11775578558444977\n",
      "######## Starting validation epoch 3\n",
      "Validation loss at batch 0: 0.7283235192298889\n",
      "Validation loss at batch 100: 0.4406743049621582\n",
      "Validation loss at batch 200: 0.3124043047428131\n",
      "Validation loss at batch 300: 0.2630629539489746\n",
      "######## Starting train epoch 4\n",
      "Applying gradient for batch 1, current loss: 0.20861321687698364\n",
      "Applying gradient for batch 101, current loss: 0.1751316636800766\n",
      "Applying gradient for batch 201, current loss: 0.28010568022727966\n",
      "Applying gradient for batch 301, current loss: 0.1096208319067955\n",
      "Applying gradient for batch 401, current loss: 0.2117367386817932\n",
      "Applying gradient for batch 501, current loss: 0.4957963824272156\n",
      "Applying gradient for batch 601, current loss: 0.18869122862815857\n",
      "Applying gradient for batch 701, current loss: 0.07413382828235626\n",
      "Applying gradient for batch 801, current loss: 0.026958899572491646\n",
      "Applying gradient for batch 901, current loss: 0.14809775352478027\n",
      "Applying gradient for batch 1001, current loss: 0.353363037109375\n",
      "Applying gradient for batch 1101, current loss: 0.20313358306884766\n",
      "Applying gradient for batch 1201, current loss: 0.06924232095479965\n",
      "Applying gradient for batch 1301, current loss: 0.20429019629955292\n",
      "Applying gradient for batch 1401, current loss: 0.15754958987236023\n",
      "Applying gradient for batch 1501, current loss: 0.2550585865974426\n",
      "Applying gradient for batch 1601, current loss: 0.12616252899169922\n",
      "Applying gradient for batch 1701, current loss: 0.19757606089115143\n",
      "Applying gradient for batch 1801, current loss: 0.14150701463222504\n",
      "######## Starting validation epoch 4\n",
      "Validation loss at batch 0: 0.7675971984863281\n",
      "Validation loss at batch 100: 0.5430128574371338\n",
      "Validation loss at batch 200: 0.2527083456516266\n",
      "Validation loss at batch 300: 0.2735538184642792\n",
      "######## Starting train epoch 5\n",
      "Applying gradient for batch 1, current loss: 0.3386082351207733\n",
      "Applying gradient for batch 101, current loss: 0.10161209851503372\n",
      "Applying gradient for batch 201, current loss: 0.12740540504455566\n",
      "Applying gradient for batch 301, current loss: 0.24173489212989807\n",
      "Applying gradient for batch 401, current loss: 0.11115670949220657\n",
      "Applying gradient for batch 501, current loss: 0.10665890574455261\n",
      "Applying gradient for batch 601, current loss: 0.08404357731342316\n",
      "Applying gradient for batch 701, current loss: 0.1486070156097412\n",
      "Applying gradient for batch 801, current loss: 0.09802132099866867\n",
      "Applying gradient for batch 901, current loss: 0.12120822817087173\n",
      "Applying gradient for batch 1001, current loss: 0.1663399040699005\n",
      "Applying gradient for batch 1101, current loss: 0.24140676856040955\n",
      "Applying gradient for batch 1201, current loss: 0.13069428503513336\n",
      "Applying gradient for batch 1301, current loss: 0.178758442401886\n",
      "Applying gradient for batch 1401, current loss: 0.19459423422813416\n",
      "Applying gradient for batch 1501, current loss: 0.1288241147994995\n",
      "Applying gradient for batch 1601, current loss: 0.11753669381141663\n",
      "Applying gradient for batch 1701, current loss: 0.11523399502038956\n",
      "Applying gradient for batch 1801, current loss: 0.14231611788272858\n",
      "######## Starting validation epoch 5\n",
      "Validation loss at batch 0: 0.49573010206222534\n",
      "Validation loss at batch 100: 0.5802713632583618\n",
      "Validation loss at batch 200: 0.27637824416160583\n",
      "Validation loss at batch 300: 0.29622915387153625\n",
      "######## Starting train epoch 6\n",
      "Applying gradient for batch 1, current loss: 0.48220178484916687\n",
      "Applying gradient for batch 101, current loss: 0.08303866535425186\n",
      "Applying gradient for batch 201, current loss: 0.10522883385419846\n",
      "Applying gradient for batch 301, current loss: 0.08425763249397278\n",
      "Applying gradient for batch 401, current loss: 0.08008822053670883\n",
      "Applying gradient for batch 501, current loss: 0.11113888025283813\n",
      "Applying gradient for batch 601, current loss: 0.30391353368759155\n",
      "Applying gradient for batch 701, current loss: 0.047811221331357956\n",
      "Applying gradient for batch 801, current loss: 0.041109565645456314\n",
      "Applying gradient for batch 901, current loss: 0.10450749844312668\n",
      "Applying gradient for batch 1001, current loss: 0.16583237051963806\n",
      "Applying gradient for batch 1101, current loss: 0.08897393941879272\n",
      "Applying gradient for batch 1201, current loss: 0.20265540480613708\n",
      "Applying gradient for batch 1301, current loss: 0.14701054990291595\n",
      "Applying gradient for batch 1401, current loss: 0.26225998997688293\n",
      "Applying gradient for batch 1501, current loss: 0.1644315868616104\n",
      "Applying gradient for batch 1601, current loss: 0.18469037115573883\n",
      "Applying gradient for batch 1701, current loss: 0.11397090554237366\n",
      "Applying gradient for batch 1801, current loss: 0.1955309808254242\n",
      "######## Starting validation epoch 6\n",
      "Validation loss at batch 0: 0.9378989934921265\n",
      "Validation loss at batch 100: 0.4122399389743805\n",
      "Validation loss at batch 200: 0.24008134007453918\n",
      "Validation loss at batch 300: 0.31696346402168274\n",
      "######## Starting train epoch 7\n",
      "Applying gradient for batch 1, current loss: 0.22561213374137878\n",
      "Applying gradient for batch 101, current loss: 0.13290739059448242\n",
      "Applying gradient for batch 201, current loss: 0.1556071639060974\n",
      "Applying gradient for batch 301, current loss: 0.06659052520990372\n",
      "Applying gradient for batch 401, current loss: 0.23660236597061157\n",
      "Applying gradient for batch 501, current loss: 0.04444633796811104\n",
      "Applying gradient for batch 601, current loss: 0.08704165369272232\n",
      "Applying gradient for batch 701, current loss: 0.08500813692808151\n",
      "Applying gradient for batch 801, current loss: 0.08125923573970795\n",
      "Applying gradient for batch 901, current loss: 0.2498849332332611\n",
      "Applying gradient for batch 1001, current loss: 0.23282718658447266\n",
      "Applying gradient for batch 1101, current loss: 0.21599537134170532\n",
      "Applying gradient for batch 1201, current loss: 0.22818619012832642\n",
      "Applying gradient for batch 1301, current loss: 0.23801277577877045\n",
      "Applying gradient for batch 1401, current loss: 0.09587740153074265\n",
      "Applying gradient for batch 1501, current loss: 0.20811603963375092\n",
      "Applying gradient for batch 1601, current loss: 0.14669586718082428\n",
      "Applying gradient for batch 1701, current loss: 0.2157794088125229\n",
      "Applying gradient for batch 1801, current loss: 0.062437769025564194\n",
      "######## Starting validation epoch 7\n",
      "Validation loss at batch 0: 0.5074944496154785\n",
      "Validation loss at batch 100: 0.568252444267273\n",
      "Validation loss at batch 200: 0.2680917978286743\n",
      "Validation loss at batch 300: 0.4621424376964569\n",
      "######## Starting train epoch 8\n",
      "Applying gradient for batch 1, current loss: 0.2085571438074112\n",
      "Applying gradient for batch 101, current loss: 0.3272492289543152\n",
      "Applying gradient for batch 201, current loss: 0.0974159985780716\n",
      "Applying gradient for batch 301, current loss: 0.11900968104600906\n",
      "Applying gradient for batch 401, current loss: 0.05378834903240204\n",
      "Applying gradient for batch 501, current loss: 0.06579646468162537\n",
      "Applying gradient for batch 601, current loss: 0.28397390246391296\n",
      "Applying gradient for batch 701, current loss: 0.1661646068096161\n",
      "Applying gradient for batch 801, current loss: 0.12382534891366959\n",
      "Applying gradient for batch 901, current loss: 0.24511393904685974\n",
      "Applying gradient for batch 1001, current loss: 0.04037667438387871\n",
      "Applying gradient for batch 1101, current loss: 0.1672600507736206\n",
      "Applying gradient for batch 1201, current loss: 0.1429690420627594\n",
      "Applying gradient for batch 1301, current loss: 0.15276871621608734\n",
      "Applying gradient for batch 1401, current loss: 0.12375504523515701\n",
      "Applying gradient for batch 1501, current loss: 0.3023635745048523\n",
      "Applying gradient for batch 1601, current loss: 0.15486551821231842\n",
      "Applying gradient for batch 1701, current loss: 0.20188118517398834\n",
      "Applying gradient for batch 1801, current loss: 0.06317490339279175\n",
      "######## Starting validation epoch 8\n",
      "Validation loss at batch 0: 1.0389158725738525\n",
      "Validation loss at batch 100: 0.523423433303833\n",
      "Validation loss at batch 200: 0.22736328840255737\n",
      "Validation loss at batch 300: 0.452957421541214\n",
      "######## Starting train epoch 9\n",
      "Applying gradient for batch 1, current loss: 0.1508055180311203\n",
      "Applying gradient for batch 101, current loss: 0.20744220912456512\n",
      "Applying gradient for batch 201, current loss: 0.27955299615859985\n",
      "Applying gradient for batch 301, current loss: 0.3169267177581787\n",
      "Applying gradient for batch 401, current loss: 0.13732744753360748\n",
      "Applying gradient for batch 501, current loss: 0.06636904925107956\n",
      "Applying gradient for batch 601, current loss: 0.08194466680288315\n",
      "Applying gradient for batch 701, current loss: 0.3239469826221466\n",
      "Applying gradient for batch 801, current loss: 0.2709037661552429\n",
      "Applying gradient for batch 901, current loss: 0.19231313467025757\n",
      "Applying gradient for batch 1001, current loss: 0.21038255095481873\n",
      "Applying gradient for batch 1101, current loss: 0.093239925801754\n",
      "Applying gradient for batch 1201, current loss: 0.40368184447288513\n",
      "Applying gradient for batch 1301, current loss: 0.07155882567167282\n",
      "Applying gradient for batch 1401, current loss: 0.2936073839664459\n",
      "Applying gradient for batch 1501, current loss: 0.12058529257774353\n",
      "Applying gradient for batch 1601, current loss: 0.05943764001131058\n",
      "Applying gradient for batch 1701, current loss: 0.08200673758983612\n",
      "Applying gradient for batch 1801, current loss: 0.22529760003089905\n",
      "######## Starting validation epoch 9\n",
      "Validation loss at batch 0: 0.5361230373382568\n",
      "Validation loss at batch 100: 0.6450384855270386\n",
      "Validation loss at batch 200: 0.2714538872241974\n",
      "Validation loss at batch 300: 0.4700838327407837\n",
      "######## Starting train epoch 10\n",
      "Applying gradient for batch 1, current loss: 0.1906525194644928\n",
      "Applying gradient for batch 101, current loss: 0.24197524785995483\n",
      "Applying gradient for batch 201, current loss: 0.08719667047262192\n",
      "Applying gradient for batch 301, current loss: 0.10836340487003326\n",
      "Applying gradient for batch 401, current loss: 0.12920227646827698\n",
      "Applying gradient for batch 501, current loss: 0.2618243992328644\n",
      "Applying gradient for batch 601, current loss: 0.15428805351257324\n",
      "Applying gradient for batch 701, current loss: 0.13640613853931427\n",
      "Applying gradient for batch 801, current loss: 0.33364108204841614\n",
      "Applying gradient for batch 901, current loss: 0.09389549493789673\n",
      "Applying gradient for batch 1001, current loss: 0.14863044023513794\n",
      "Applying gradient for batch 1101, current loss: 0.22615335881710052\n",
      "Applying gradient for batch 1201, current loss: 0.23160386085510254\n",
      "Applying gradient for batch 1301, current loss: 0.04701388254761696\n",
      "Applying gradient for batch 1401, current loss: 0.09761451929807663\n",
      "Applying gradient for batch 1501, current loss: 0.12762236595153809\n",
      "Applying gradient for batch 1601, current loss: 0.15680623054504395\n",
      "Applying gradient for batch 1701, current loss: 0.24572691321372986\n",
      "Applying gradient for batch 1801, current loss: 0.27729374170303345\n",
      "######## Starting validation epoch 10\n",
      "Validation loss at batch 0: 0.95600426197052\n",
      "Validation loss at batch 100: 0.5612298250198364\n",
      "Validation loss at batch 200: 0.35148900747299194\n",
      "Validation loss at batch 300: 0.47488194704055786\n"
     ]
    }
   ],
   "source": [
    "EPOCHS = 10\n",
    "\n",
    "optimizer = Adam(model.parameters(), lr=0.001)\n",
    "loss_fn = nn.CrossEntropyLoss()\n",
    "\n",
    "model = model.to(device)\n",
    "\n",
    "for epoch in range(EPOCHS):\n",
    "    # set model to training mode\n",
    "    model.train()\n",
    "    print(f\"######## Starting train epoch {epoch+1}\")\n",
    "    train_step()\n",
    "\n",
    "    # set model to evaluation mode\n",
    "    model.eval()\n",
    "    print(f\"######## Starting validation epoch {epoch+1}\")\n",
    "    val_step()"
   ]
  },
  {
   "cell_type": "markdown",
   "id": "cb9c0987",
   "metadata": {
    "papermill": {
     "duration": 0.03025,
     "end_time": "2025-08-30T17:35:51.827758",
     "exception": false,
     "start_time": "2025-08-30T17:35:51.797508",
     "status": "completed"
    },
    "tags": []
   },
   "source": [
    "1️⃣ Training loss\n",
    "\n",
    "The training loss per batch is generally decreasing.\n",
    "\n",
    "Some batches even reach 0.018, which is extremely low.\n",
    "\n",
    "→ This means the model is fitting the training data very well.\n",
    "\n",
    "2️⃣ Validation loss\n",
    "\n",
    "Validation loss is irregular and sometimes quite high.\n",
    "\n",
    "Example: batch 0 → 0.598, batch 200 → 0.225, batch 300 → 0.387\n",
    "\n",
    "On average, validation loss is higher than training loss.\n",
    "\n",
    "→ The model is not generalizing as well to unseen data."
   ]
  },
  {
   "cell_type": "markdown",
   "id": "a30698e4",
   "metadata": {
    "papermill": {
     "duration": 0.030384,
     "end_time": "2025-08-30T17:35:51.889031",
     "exception": false,
     "start_time": "2025-08-30T17:35:51.858647",
     "status": "completed"
    },
    "tags": []
   },
   "source": [
    "### Predicting Images with a Trained Model\n"
   ]
  },
  {
   "cell_type": "code",
   "execution_count": 47,
   "id": "8476abb9",
   "metadata": {
    "execution": {
     "iopub.execute_input": "2025-08-30T17:35:51.952187Z",
     "iopub.status.busy": "2025-08-30T17:35:51.951519Z",
     "iopub.status.idle": "2025-08-30T17:35:51.960946Z",
     "shell.execute_reply": "2025-08-30T17:35:51.960401Z"
    },
    "papermill": {
     "duration": 0.042295,
     "end_time": "2025-08-30T17:35:51.962022",
     "exception": false,
     "start_time": "2025-08-30T17:35:51.919727",
     "status": "completed"
    },
    "tags": []
   },
   "outputs": [],
   "source": [
    "BATCH_SIZE = 32\n",
    "\n",
    "# Reuse the val_data for test\n",
    "test_loader = DataLoader(val_data, batch_size=BATCH_SIZE, shuffle=False)\n",
    "images, labels = next(iter(test_loader))\n"
   ]
  },
  {
   "cell_type": "code",
   "execution_count": 48,
   "id": "4d209aef",
   "metadata": {
    "execution": {
     "iopub.execute_input": "2025-08-30T17:35:52.026661Z",
     "iopub.status.busy": "2025-08-30T17:35:52.026039Z",
     "iopub.status.idle": "2025-08-30T17:35:52.096869Z",
     "shell.execute_reply": "2025-08-30T17:35:52.096044Z"
    },
    "papermill": {
     "duration": 0.105188,
     "end_time": "2025-08-30T17:35:52.098181",
     "exception": false,
     "start_time": "2025-08-30T17:35:51.992993",
     "status": "completed"
    },
    "tags": []
   },
   "outputs": [
    {
     "name": "stdout",
     "output_type": "stream",
     "text": [
      "model output shape: torch.Size([32, 10])\n",
      "predicted class: tensor([9, 2, 1, 1, 6, 1, 4, 6, 5, 7, 4, 5, 5, 3, 4, 1, 2, 2, 8, 0, 2, 5, 7, 5,\n",
      "        1, 2, 6, 0, 9, 3, 8, 8], device='cuda:0') torch.Size([32])\n",
      "targets: tensor([9, 2, 1, 1, 6, 1, 4, 6, 5, 7, 4, 5, 7, 3, 4, 1, 2, 4, 8, 0, 2, 5, 7, 9,\n",
      "        1, 4, 6, 0, 9, 3, 8, 8], device='cuda:0') torch.Size([32])\n",
      "Out of 32 samples, 28 predictions are correct\n"
     ]
    }
   ],
   "source": [
    "# Here, `model` should be a trained model. The model's device is 'cuda:0'.\n",
    "# Set the model to evaluation mode.\n",
    "model.eval()\n",
    "\n",
    "with torch.no_grad():\n",
    "    # Move images and labels to the same device as the model.\n",
    "    images = images.to(device)\n",
    "    labels = labels.to(device)\n",
    "\n",
    "    # Forward pass: get logits from the model\n",
    "    pred_logit = model(images)\n",
    "    # Apply softmax to get probabilities and get the predicted class index\n",
    "    pred_class = F.softmax(pred_logit, dim=-1).argmax(-1)\n",
    "    \n",
    "print('model output shape:', pred_logit.shape)\n",
    "print('predicted class:', pred_class, pred_class.shape)\n",
    "print('targets:', labels, labels.shape)\n",
    "\n",
    "# Optional debugging:\n",
    "# print('pred_logit[0]:', pred_logit[0])\n",
    "# print('after softmax:', F.softmax(pred_logit[0], -1))\n",
    "# print('after tensor argmax:', F.softmax(pred_logit[0], dim=-1).argmax(-1))\n",
    "\n",
    "# Count the number of correct predictions\n",
    "num_correct = (pred_class == labels).sum().item()\n",
    "# print(pred_class == targets)\n",
    "print(f'Out of {images.size()[0]} samples, {num_correct} predictions are correct')\n"
   ]
  },
  {
   "cell_type": "code",
   "execution_count": 49,
   "id": "d1cf4524",
   "metadata": {
    "execution": {
     "iopub.execute_input": "2025-08-30T17:35:52.162303Z",
     "iopub.status.busy": "2025-08-30T17:35:52.162025Z",
     "iopub.status.idle": "2025-08-30T17:35:52.168416Z",
     "shell.execute_reply": "2025-08-30T17:35:52.167762Z"
    },
    "papermill": {
     "duration": 0.039737,
     "end_time": "2025-08-30T17:35:52.169506",
     "exception": false,
     "start_time": "2025-08-30T17:35:52.129769",
     "status": "completed"
    },
    "tags": []
   },
   "outputs": [
    {
     "name": "stdout",
     "output_type": "stream",
     "text": [
      "torch.Size([1, 28, 28]) torch.Size([])\n",
      "target class:9, predicted class: tensor([9], device='cuda:0')\n"
     ]
    }
   ],
   "source": [
    "# Predict a single image\n",
    "s_image = images[0] #.unsqueeze(0)\n",
    "s_label = labels[0] #.unsqueeze(0)\n",
    "print(s_image.shape, s_label.shape)\n",
    "\n",
    "model.eval()\n",
    "\n",
    "with torch.no_grad():\n",
    "    s_image = s_image.to(device)\n",
    "    s_label = s_label.to(device)\n",
    "\n",
    "    pred_logit = model(s_image)\n",
    "    pred_class = F.softmax(pred_logit, dim=-1).argmax(-1)\n",
    "\n",
    "print(f'target class:{s_label}, predicted class: {pred_class}')"
   ]
  },
  {
   "cell_type": "code",
   "execution_count": 50,
   "id": "791adebd",
   "metadata": {
    "execution": {
     "iopub.execute_input": "2025-08-30T17:35:52.233498Z",
     "iopub.status.busy": "2025-08-30T17:35:52.232925Z",
     "iopub.status.idle": "2025-08-30T17:35:52.405166Z",
     "shell.execute_reply": "2025-08-30T17:35:52.404463Z"
    },
    "papermill": {
     "duration": 0.205308,
     "end_time": "2025-08-30T17:35:52.406515",
     "exception": false,
     "start_time": "2025-08-30T17:35:52.201207",
     "status": "completed"
    },
    "tags": []
   },
   "outputs": [
    {
     "data": {
      "text/plain": [
       "Text(0.5, 1.0, 'Ankle boot')"
      ]
     },
     "execution_count": 50,
     "metadata": {},
     "output_type": "execute_result"
    },
    {
     "data": {
      "image/png": "[encoded data removed]",
      "text/plain": [
       "<Figure size 640x480 with 1 Axes>"
      ]
     },
     "metadata": {},
     "output_type": "display_data"
    }
   ],
   "source": [
    "import matplotlib.pyplot as plt\n",
    "from torchvision.transforms import ToPILImage\n",
    "\n",
    "class_names = ['T-shirt/top', 'Trouser', 'Pullover', 'Dress', 'Coat','Sandal', 'Shirt', 'Sneaker', 'Bag', 'Ankle boot']\n",
    "\n",
    "#tensor to PIL\n",
    "to_pil = ToPILImage()\n",
    "pil_image = to_pil(images[0])\n",
    "\n",
    "plt.imshow(pil_image, cmap='gray')\n",
    "plt.title(class_names[pred_class.item()])\n"
   ]
  },
  {
   "cell_type": "code",
   "execution_count": null,
   "id": "48628dcd",
   "metadata": {
    "papermill": {
     "duration": 0.030648,
     "end_time": "2025-08-30T17:35:52.469739",
     "exception": false,
     "start_time": "2025-08-30T17:35:52.439091",
     "status": "completed"
    },
    "tags": []
   },
   "outputs": [],
   "source": []
  }
 ],
 "metadata": {
  "kaggle": {
   "accelerator": "gpu",
   "dataSources": [],
   "dockerImageVersionId": 31089,
   "isGpuEnabled": true,
   "isInternetEnabled": true,
   "language": "python",
   "sourceType": "notebook"
  },
  "kernelspec": {
   "display_name": "Python 3",
   "language": "python",
   "name": "python3"
  },
  "language_info": {
   "codemirror_mode": {
    "name": "ipython",
    "version": 3
   },
   "file_extension": ".py",
   "mimetype": "text/x-python",
   "name": "python",
   "nbconvert_exporter": "python",
   "pygments_lexer": "ipython3",
   "version": "3.11.13"
  },
  "papermill": {
   "default_parameters": {},
   "duration": 181.152239,
   "end_time": "2025-08-30T17:35:54.323732",
   "environment_variables": {},
   "exception": null,
   "input_path": "__notebook__.ipynb",
   "output_path": "__notebook__.ipynb",
   "parameters": {},
   "start_time": "2025-08-30T17:32:53.171493",
   "version": "2.6.0"
  }
 },
 "nbformat": 4,
 "nbformat_minor": 5
}
