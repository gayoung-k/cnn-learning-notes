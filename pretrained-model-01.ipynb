{
 "cells": [
  {
   "cell_type": "markdown",
   "id": "546e6265",
   "metadata": {
    "papermill": {
     "duration": 0.005122,
     "end_time": "2025-08-31T18:14:20.190066",
     "exception": false,
     "start_time": "2025-08-31T18:14:20.184944",
     "status": "completed"
    },
    "tags": []
   },
   "source": [
    "### torchvision Pretrained Models\n",
    "\n",
    "* **torchvision** provides many state-of-the-art CNN models, and these models come with pre-trained weights learned on the **ImageNet** dataset.\n",
    "* Using these pretrained models, you can easily build your own **custom models** by fine-tuning or modifying them.\n",
    "* You can check the full list of available models at:\n",
    "  👉 [https://pytorch.org/vision/main/models.html](https://pytorch.org/vision/main/models.html)\n"
   ]
  },
  {
   "cell_type": "markdown",
   "id": "cb751125",
   "metadata": {
    "papermill": {
     "duration": 0.003793,
     "end_time": "2025-08-31T18:14:20.198087",
     "exception": false,
     "start_time": "2025-08-31T18:14:20.194294",
     "status": "completed"
    },
    "tags": []
   },
   "source": [
    "### Using the models Module in torchvision\n"
   ]
  },
  {
   "cell_type": "code",
   "execution_count": 1,
   "id": "48a394f4",
   "metadata": {
    "execution": {
     "iopub.execute_input": "2025-08-31T18:14:20.207019Z",
     "iopub.status.busy": "2025-08-31T18:14:20.206750Z",
     "iopub.status.idle": "2025-08-31T18:14:29.038280Z",
     "shell.execute_reply": "2025-08-31T18:14:29.037439Z"
    },
    "papermill": {
     "duration": 8.837504,
     "end_time": "2025-08-31T18:14:29.039455",
     "exception": false,
     "start_time": "2025-08-31T18:14:20.201951",
     "status": "completed"
    },
    "tags": []
   },
   "outputs": [
    {
     "name": "stdout",
     "output_type": "stream",
     "text": [
      "0.21.0+cu124\n"
     ]
    },
    {
     "data": {
      "text/plain": [
       "['alexnet',\n",
       " 'convnext_base',\n",
       " 'convnext_large',\n",
       " 'convnext_small',\n",
       " 'convnext_tiny',\n",
       " 'deeplabv3_mobilenet_v3_large',\n",
       " 'deeplabv3_resnet101',\n",
       " 'deeplabv3_resnet50',\n",
       " 'densenet121',\n",
       " 'densenet161',\n",
       " 'densenet169',\n",
       " 'densenet201',\n",
       " 'efficientnet_b0',\n",
       " 'efficientnet_b1',\n",
       " 'efficientnet_b2',\n",
       " 'efficientnet_b3',\n",
       " 'efficientnet_b4',\n",
       " 'efficientnet_b5',\n",
       " 'efficientnet_b6',\n",
       " 'efficientnet_b7',\n",
       " 'efficientnet_v2_l',\n",
       " 'efficientnet_v2_m',\n",
       " 'efficientnet_v2_s',\n",
       " 'fasterrcnn_mobilenet_v3_large_320_fpn',\n",
       " 'fasterrcnn_mobilenet_v3_large_fpn',\n",
       " 'fasterrcnn_resnet50_fpn',\n",
       " 'fasterrcnn_resnet50_fpn_v2',\n",
       " 'fcn_resnet101',\n",
       " 'fcn_resnet50',\n",
       " 'fcos_resnet50_fpn',\n",
       " 'googlenet',\n",
       " 'inception_v3',\n",
       " 'keypointrcnn_resnet50_fpn',\n",
       " 'lraspp_mobilenet_v3_large',\n",
       " 'maskrcnn_resnet50_fpn',\n",
       " 'maskrcnn_resnet50_fpn_v2',\n",
       " 'maxvit_t',\n",
       " 'mc3_18',\n",
       " 'mnasnet0_5',\n",
       " 'mnasnet0_75',\n",
       " 'mnasnet1_0',\n",
       " 'mnasnet1_3',\n",
       " 'mobilenet_v2',\n",
       " 'mobilenet_v3_large',\n",
       " 'mobilenet_v3_small',\n",
       " 'mvit_v1_b',\n",
       " 'mvit_v2_s',\n",
       " 'quantized_googlenet',\n",
       " 'quantized_inception_v3',\n",
       " 'quantized_mobilenet_v2',\n",
       " 'quantized_mobilenet_v3_large',\n",
       " 'quantized_resnet18',\n",
       " 'quantized_resnet50',\n",
       " 'quantized_resnext101_32x8d',\n",
       " 'quantized_resnext101_64x4d',\n",
       " 'quantized_shufflenet_v2_x0_5',\n",
       " 'quantized_shufflenet_v2_x1_0',\n",
       " 'quantized_shufflenet_v2_x1_5',\n",
       " 'quantized_shufflenet_v2_x2_0',\n",
       " 'r2plus1d_18',\n",
       " 'r3d_18',\n",
       " 'raft_large',\n",
       " 'raft_small',\n",
       " 'regnet_x_16gf',\n",
       " 'regnet_x_1_6gf',\n",
       " 'regnet_x_32gf',\n",
       " 'regnet_x_3_2gf',\n",
       " 'regnet_x_400mf',\n",
       " 'regnet_x_800mf',\n",
       " 'regnet_x_8gf',\n",
       " 'regnet_y_128gf',\n",
       " 'regnet_y_16gf',\n",
       " 'regnet_y_1_6gf',\n",
       " 'regnet_y_32gf',\n",
       " 'regnet_y_3_2gf',\n",
       " 'regnet_y_400mf',\n",
       " 'regnet_y_800mf',\n",
       " 'regnet_y_8gf',\n",
       " 'resnet101',\n",
       " 'resnet152',\n",
       " 'resnet18',\n",
       " 'resnet34',\n",
       " 'resnet50',\n",
       " 'resnext101_32x8d',\n",
       " 'resnext101_64x4d',\n",
       " 'resnext50_32x4d',\n",
       " 'retinanet_resnet50_fpn',\n",
       " 'retinanet_resnet50_fpn_v2',\n",
       " 's3d',\n",
       " 'shufflenet_v2_x0_5',\n",
       " 'shufflenet_v2_x1_0',\n",
       " 'shufflenet_v2_x1_5',\n",
       " 'shufflenet_v2_x2_0',\n",
       " 'squeezenet1_0',\n",
       " 'squeezenet1_1',\n",
       " 'ssd300_vgg16',\n",
       " 'ssdlite320_mobilenet_v3_large',\n",
       " 'swin3d_b',\n",
       " 'swin3d_s',\n",
       " 'swin3d_t',\n",
       " 'swin_b',\n",
       " 'swin_s',\n",
       " 'swin_t',\n",
       " 'swin_v2_b',\n",
       " 'swin_v2_s',\n",
       " 'swin_v2_t',\n",
       " 'vgg11',\n",
       " 'vgg11_bn',\n",
       " 'vgg13',\n",
       " 'vgg13_bn',\n",
       " 'vgg16',\n",
       " 'vgg16_bn',\n",
       " 'vgg19',\n",
       " 'vgg19_bn',\n",
       " 'vit_b_16',\n",
       " 'vit_b_32',\n",
       " 'vit_h_14',\n",
       " 'vit_l_16',\n",
       " 'vit_l_32',\n",
       " 'wide_resnet101_2',\n",
       " 'wide_resnet50_2']"
      ]
     },
     "execution_count": 1,
     "metadata": {},
     "output_type": "execute_result"
    }
   ],
   "source": [
    "import torch\n",
    "import torchvision\n",
    "from torchvision import models\n",
    "\n",
    "print(torchvision.__version__)\n",
    "\n",
    "# List of models available in the current torchvision version\n",
    "models.list_models()  # You can filter the model list using include or exclude\n"
   ]
  },
  {
   "cell_type": "code",
   "execution_count": 2,
   "id": "a6e8a93f",
   "metadata": {
    "execution": {
     "iopub.execute_input": "2025-08-31T18:14:29.049335Z",
     "iopub.status.busy": "2025-08-31T18:14:29.049033Z",
     "iopub.status.idle": "2025-08-31T18:14:29.053514Z",
     "shell.execute_reply": "2025-08-31T18:14:29.052944Z"
    },
    "papermill": {
     "duration": 0.010556,
     "end_time": "2025-08-31T18:14:29.054575",
     "exception": false,
     "start_time": "2025-08-31T18:14:29.044019",
     "status": "completed"
    },
    "tags": []
   },
   "outputs": [
    {
     "data": {
      "text/plain": [
       "<enum 'ResNet50_Weights'>"
      ]
     },
     "execution_count": 2,
     "metadata": {},
     "output_type": "execute_result"
    }
   ],
   "source": [
    "models.get_model_weights(name='resnet50')"
   ]
  },
  {
   "cell_type": "code",
   "execution_count": 3,
   "id": "9319e524",
   "metadata": {
    "execution": {
     "iopub.execute_input": "2025-08-31T18:14:29.064246Z",
     "iopub.status.busy": "2025-08-31T18:14:29.063788Z",
     "iopub.status.idle": "2025-08-31T18:14:29.067891Z",
     "shell.execute_reply": "2025-08-31T18:14:29.067201Z"
    },
    "papermill": {
     "duration": 0.01,
     "end_time": "2025-08-31T18:14:29.068932",
     "exception": false,
     "start_time": "2025-08-31T18:14:29.058932",
     "status": "completed"
    },
    "tags": []
   },
   "outputs": [
    {
     "name": "stdout",
     "output_type": "stream",
     "text": [
      "[ResNet50_Weights.IMAGENET1K_V1, ResNet50_Weights.IMAGENET1K_V2]\n"
     ]
    }
   ],
   "source": [
    "# Check the types of weights available for a specific model. \n",
    "# A single model can have multiple weights depending on the training dataset and training method. \n",
    "weights_enum = models.get_model_weights(name='resnet50')  # 'efficientnet_b1'\n",
    "print([weight for weight in weights_enum])\n"
   ]
  },
  {
   "cell_type": "code",
   "execution_count": 4,
   "id": "ba4d4360",
   "metadata": {
    "execution": {
     "iopub.execute_input": "2025-08-31T18:14:29.078303Z",
     "iopub.status.busy": "2025-08-31T18:14:29.078119Z",
     "iopub.status.idle": "2025-08-31T18:14:29.087674Z",
     "shell.execute_reply": "2025-08-31T18:14:29.086294Z"
    },
    "papermill": {
     "duration": 0.015561,
     "end_time": "2025-08-31T18:14:29.088831",
     "exception": false,
     "start_time": "2025-08-31T18:14:29.073270",
     "status": "completed"
    },
    "tags": []
   },
   "outputs": [
    {
     "name": "stdout",
     "output_type": "stream",
     "text": [
      "Model: alexnet, Weights: [AlexNet_Weights.IMAGENET1K_V1]\n",
      "Model: convnext_base, Weights: [ConvNeXt_Base_Weights.IMAGENET1K_V1]\n",
      "Model: convnext_large, Weights: [ConvNeXt_Large_Weights.IMAGENET1K_V1]\n",
      "Model: convnext_small, Weights: [ConvNeXt_Small_Weights.IMAGENET1K_V1]\n",
      "Model: convnext_tiny, Weights: [ConvNeXt_Tiny_Weights.IMAGENET1K_V1]\n",
      "Model: deeplabv3_mobilenet_v3_large, Weights: [DeepLabV3_MobileNet_V3_Large_Weights.COCO_WITH_VOC_LABELS_V1]\n",
      "Model: deeplabv3_resnet101, Weights: [DeepLabV3_ResNet101_Weights.COCO_WITH_VOC_LABELS_V1]\n",
      "Model: deeplabv3_resnet50, Weights: [DeepLabV3_ResNet50_Weights.COCO_WITH_VOC_LABELS_V1]\n",
      "Model: densenet121, Weights: [DenseNet121_Weights.IMAGENET1K_V1]\n",
      "Model: densenet161, Weights: [DenseNet161_Weights.IMAGENET1K_V1]\n",
      "Model: densenet169, Weights: [DenseNet169_Weights.IMAGENET1K_V1]\n",
      "Model: densenet201, Weights: [DenseNet201_Weights.IMAGENET1K_V1]\n",
      "Model: efficientnet_b0, Weights: [EfficientNet_B0_Weights.IMAGENET1K_V1]\n",
      "Model: efficientnet_b1, Weights: [EfficientNet_B1_Weights.IMAGENET1K_V1, EfficientNet_B1_Weights.IMAGENET1K_V2]\n",
      "Model: efficientnet_b2, Weights: [EfficientNet_B2_Weights.IMAGENET1K_V1]\n",
      "Model: efficientnet_b3, Weights: [EfficientNet_B3_Weights.IMAGENET1K_V1]\n",
      "Model: efficientnet_b4, Weights: [EfficientNet_B4_Weights.IMAGENET1K_V1]\n",
      "Model: efficientnet_b5, Weights: [EfficientNet_B5_Weights.IMAGENET1K_V1]\n",
      "Model: efficientnet_b6, Weights: [EfficientNet_B6_Weights.IMAGENET1K_V1]\n",
      "Model: efficientnet_b7, Weights: [EfficientNet_B7_Weights.IMAGENET1K_V1]\n",
      "Model: efficientnet_v2_l, Weights: [EfficientNet_V2_L_Weights.IMAGENET1K_V1]\n",
      "Model: efficientnet_v2_m, Weights: [EfficientNet_V2_M_Weights.IMAGENET1K_V1]\n",
      "Model: efficientnet_v2_s, Weights: [EfficientNet_V2_S_Weights.IMAGENET1K_V1]\n",
      "Model: fasterrcnn_mobilenet_v3_large_320_fpn, Weights: [FasterRCNN_MobileNet_V3_Large_320_FPN_Weights.COCO_V1]\n",
      "Model: fasterrcnn_mobilenet_v3_large_fpn, Weights: [FasterRCNN_MobileNet_V3_Large_FPN_Weights.COCO_V1]\n",
      "Model: fasterrcnn_resnet50_fpn, Weights: [FasterRCNN_ResNet50_FPN_Weights.COCO_V1]\n",
      "Model: fasterrcnn_resnet50_fpn_v2, Weights: [FasterRCNN_ResNet50_FPN_V2_Weights.COCO_V1]\n",
      "Model: fcn_resnet101, Weights: [FCN_ResNet101_Weights.COCO_WITH_VOC_LABELS_V1]\n",
      "Model: fcn_resnet50, Weights: [FCN_ResNet50_Weights.COCO_WITH_VOC_LABELS_V1]\n",
      "Model: fcos_resnet50_fpn, Weights: [FCOS_ResNet50_FPN_Weights.COCO_V1]\n",
      "Model: googlenet, Weights: [GoogLeNet_Weights.IMAGENET1K_V1]\n",
      "Model: inception_v3, Weights: [Inception_V3_Weights.IMAGENET1K_V1]\n",
      "Model: keypointrcnn_resnet50_fpn, Weights: [KeypointRCNN_ResNet50_FPN_Weights.COCO_LEGACY, KeypointRCNN_ResNet50_FPN_Weights.COCO_V1]\n",
      "Model: lraspp_mobilenet_v3_large, Weights: [LRASPP_MobileNet_V3_Large_Weights.COCO_WITH_VOC_LABELS_V1]\n",
      "Model: maskrcnn_resnet50_fpn, Weights: [MaskRCNN_ResNet50_FPN_Weights.COCO_V1]\n",
      "Model: maskrcnn_resnet50_fpn_v2, Weights: [MaskRCNN_ResNet50_FPN_V2_Weights.COCO_V1]\n",
      "Model: maxvit_t, Weights: [MaxVit_T_Weights.IMAGENET1K_V1]\n",
      "Model: mc3_18, Weights: [MC3_18_Weights.KINETICS400_V1]\n",
      "Model: mnasnet0_5, Weights: [MNASNet0_5_Weights.IMAGENET1K_V1]\n",
      "Model: mnasnet0_75, Weights: [MNASNet0_75_Weights.IMAGENET1K_V1]\n",
      "Model: mnasnet1_0, Weights: [MNASNet1_0_Weights.IMAGENET1K_V1]\n",
      "Model: mnasnet1_3, Weights: [MNASNet1_3_Weights.IMAGENET1K_V1]\n",
      "Model: mobilenet_v2, Weights: [MobileNet_V2_Weights.IMAGENET1K_V1, MobileNet_V2_Weights.IMAGENET1K_V2]\n",
      "Model: mobilenet_v3_large, Weights: [MobileNet_V3_Large_Weights.IMAGENET1K_V1, MobileNet_V3_Large_Weights.IMAGENET1K_V2]\n",
      "Model: mobilenet_v3_small, Weights: [MobileNet_V3_Small_Weights.IMAGENET1K_V1]\n",
      "Model: mvit_v1_b, Weights: [MViT_V1_B_Weights.KINETICS400_V1]\n",
      "Model: mvit_v2_s, Weights: [MViT_V2_S_Weights.KINETICS400_V1]\n",
      "Model: quantized_googlenet, Weights: [GoogLeNet_QuantizedWeights.IMAGENET1K_FBGEMM_V1]\n",
      "Model: quantized_inception_v3, Weights: [Inception_V3_QuantizedWeights.IMAGENET1K_FBGEMM_V1]\n",
      "Model: quantized_mobilenet_v2, Weights: [MobileNet_V2_QuantizedWeights.IMAGENET1K_QNNPACK_V1]\n",
      "Model: quantized_mobilenet_v3_large, Weights: [MobileNet_V3_Large_QuantizedWeights.IMAGENET1K_QNNPACK_V1]\n",
      "Model: quantized_resnet18, Weights: [ResNet18_QuantizedWeights.IMAGENET1K_FBGEMM_V1]\n",
      "Model: quantized_resnet50, Weights: [ResNet50_QuantizedWeights.IMAGENET1K_FBGEMM_V1, ResNet50_QuantizedWeights.IMAGENET1K_FBGEMM_V2]\n",
      "Model: quantized_resnext101_32x8d, Weights: [ResNeXt101_32X8D_QuantizedWeights.IMAGENET1K_FBGEMM_V1, ResNeXt101_32X8D_QuantizedWeights.IMAGENET1K_FBGEMM_V2]\n",
      "Model: quantized_resnext101_64x4d, Weights: [ResNeXt101_64X4D_QuantizedWeights.IMAGENET1K_FBGEMM_V1]\n",
      "Model: quantized_shufflenet_v2_x0_5, Weights: [ShuffleNet_V2_X0_5_QuantizedWeights.IMAGENET1K_FBGEMM_V1]\n",
      "Model: quantized_shufflenet_v2_x1_0, Weights: [ShuffleNet_V2_X1_0_QuantizedWeights.IMAGENET1K_FBGEMM_V1]\n",
      "Model: quantized_shufflenet_v2_x1_5, Weights: [ShuffleNet_V2_X1_5_QuantizedWeights.IMAGENET1K_FBGEMM_V1]\n",
      "Model: quantized_shufflenet_v2_x2_0, Weights: [ShuffleNet_V2_X2_0_QuantizedWeights.IMAGENET1K_FBGEMM_V1]\n",
      "Model: r2plus1d_18, Weights: [R2Plus1D_18_Weights.KINETICS400_V1]\n",
      "Model: r3d_18, Weights: [R3D_18_Weights.KINETICS400_V1]\n",
      "Model: raft_large, Weights: [Raft_Large_Weights.C_T_V1, Raft_Large_Weights.C_T_V2, Raft_Large_Weights.C_T_SKHT_V1, Raft_Large_Weights.C_T_SKHT_V2, Raft_Large_Weights.C_T_SKHT_K_V1, Raft_Large_Weights.C_T_SKHT_K_V2]\n",
      "Model: raft_small, Weights: [Raft_Small_Weights.C_T_V1, Raft_Small_Weights.C_T_V2]\n",
      "Model: regnet_x_16gf, Weights: [RegNet_X_16GF_Weights.IMAGENET1K_V1, RegNet_X_16GF_Weights.IMAGENET1K_V2]\n",
      "Model: regnet_x_1_6gf, Weights: [RegNet_X_1_6GF_Weights.IMAGENET1K_V1, RegNet_X_1_6GF_Weights.IMAGENET1K_V2]\n",
      "Model: regnet_x_32gf, Weights: [RegNet_X_32GF_Weights.IMAGENET1K_V1, RegNet_X_32GF_Weights.IMAGENET1K_V2]\n",
      "Model: regnet_x_3_2gf, Weights: [RegNet_X_3_2GF_Weights.IMAGENET1K_V1, RegNet_X_3_2GF_Weights.IMAGENET1K_V2]\n",
      "Model: regnet_x_400mf, Weights: [RegNet_X_400MF_Weights.IMAGENET1K_V1, RegNet_X_400MF_Weights.IMAGENET1K_V2]\n",
      "Model: regnet_x_800mf, Weights: [RegNet_X_800MF_Weights.IMAGENET1K_V1, RegNet_X_800MF_Weights.IMAGENET1K_V2]\n",
      "Model: regnet_x_8gf, Weights: [RegNet_X_8GF_Weights.IMAGENET1K_V1, RegNet_X_8GF_Weights.IMAGENET1K_V2]\n",
      "Model: regnet_y_128gf, Weights: [RegNet_Y_128GF_Weights.IMAGENET1K_SWAG_E2E_V1, RegNet_Y_128GF_Weights.IMAGENET1K_SWAG_LINEAR_V1]\n",
      "Model: regnet_y_16gf, Weights: [RegNet_Y_16GF_Weights.IMAGENET1K_V1, RegNet_Y_16GF_Weights.IMAGENET1K_V2, RegNet_Y_16GF_Weights.IMAGENET1K_SWAG_E2E_V1, RegNet_Y_16GF_Weights.IMAGENET1K_SWAG_LINEAR_V1]\n",
      "Model: regnet_y_1_6gf, Weights: [RegNet_Y_1_6GF_Weights.IMAGENET1K_V1, RegNet_Y_1_6GF_Weights.IMAGENET1K_V2]\n",
      "Model: regnet_y_32gf, Weights: [RegNet_Y_32GF_Weights.IMAGENET1K_V1, RegNet_Y_32GF_Weights.IMAGENET1K_V2, RegNet_Y_32GF_Weights.IMAGENET1K_SWAG_E2E_V1, RegNet_Y_32GF_Weights.IMAGENET1K_SWAG_LINEAR_V1]\n",
      "Model: regnet_y_3_2gf, Weights: [RegNet_Y_3_2GF_Weights.IMAGENET1K_V1, RegNet_Y_3_2GF_Weights.IMAGENET1K_V2]\n",
      "Model: regnet_y_400mf, Weights: [RegNet_Y_400MF_Weights.IMAGENET1K_V1, RegNet_Y_400MF_Weights.IMAGENET1K_V2]\n",
      "Model: regnet_y_800mf, Weights: [RegNet_Y_800MF_Weights.IMAGENET1K_V1, RegNet_Y_800MF_Weights.IMAGENET1K_V2]\n",
      "Model: regnet_y_8gf, Weights: [RegNet_Y_8GF_Weights.IMAGENET1K_V1, RegNet_Y_8GF_Weights.IMAGENET1K_V2]\n",
      "Model: resnet101, Weights: [ResNet101_Weights.IMAGENET1K_V1, ResNet101_Weights.IMAGENET1K_V2]\n",
      "Model: resnet152, Weights: [ResNet152_Weights.IMAGENET1K_V1, ResNet152_Weights.IMAGENET1K_V2]\n",
      "Model: resnet18, Weights: [ResNet18_Weights.IMAGENET1K_V1]\n",
      "Model: resnet34, Weights: [ResNet34_Weights.IMAGENET1K_V1]\n",
      "Model: resnet50, Weights: [ResNet50_Weights.IMAGENET1K_V1, ResNet50_Weights.IMAGENET1K_V2]\n",
      "Model: resnext101_32x8d, Weights: [ResNeXt101_32X8D_Weights.IMAGENET1K_V1, ResNeXt101_32X8D_Weights.IMAGENET1K_V2]\n",
      "Model: resnext101_64x4d, Weights: [ResNeXt101_64X4D_Weights.IMAGENET1K_V1]\n",
      "Model: resnext50_32x4d, Weights: [ResNeXt50_32X4D_Weights.IMAGENET1K_V1, ResNeXt50_32X4D_Weights.IMAGENET1K_V2]\n",
      "Model: retinanet_resnet50_fpn, Weights: [RetinaNet_ResNet50_FPN_Weights.COCO_V1]\n",
      "Model: retinanet_resnet50_fpn_v2, Weights: [RetinaNet_ResNet50_FPN_V2_Weights.COCO_V1]\n",
      "Model: s3d, Weights: [S3D_Weights.KINETICS400_V1]\n",
      "Model: shufflenet_v2_x0_5, Weights: [ShuffleNet_V2_X0_5_Weights.IMAGENET1K_V1]\n",
      "Model: shufflenet_v2_x1_0, Weights: [ShuffleNet_V2_X1_0_Weights.IMAGENET1K_V1]\n",
      "Model: shufflenet_v2_x1_5, Weights: [ShuffleNet_V2_X1_5_Weights.IMAGENET1K_V1]\n",
      "Model: shufflenet_v2_x2_0, Weights: [ShuffleNet_V2_X2_0_Weights.IMAGENET1K_V1]\n",
      "Model: squeezenet1_0, Weights: [SqueezeNet1_0_Weights.IMAGENET1K_V1]\n",
      "Model: squeezenet1_1, Weights: [SqueezeNet1_1_Weights.IMAGENET1K_V1]\n",
      "Model: ssd300_vgg16, Weights: [SSD300_VGG16_Weights.COCO_V1]\n",
      "Model: ssdlite320_mobilenet_v3_large, Weights: [SSDLite320_MobileNet_V3_Large_Weights.COCO_V1]\n",
      "Model: swin3d_b, Weights: [Swin3D_B_Weights.KINETICS400_V1, Swin3D_B_Weights.KINETICS400_IMAGENET22K_V1]\n",
      "Model: swin3d_s, Weights: [Swin3D_S_Weights.KINETICS400_V1]\n",
      "Model: swin3d_t, Weights: [Swin3D_T_Weights.KINETICS400_V1]\n",
      "Model: swin_b, Weights: [Swin_B_Weights.IMAGENET1K_V1]\n",
      "Model: swin_s, Weights: [Swin_S_Weights.IMAGENET1K_V1]\n",
      "Model: swin_t, Weights: [Swin_T_Weights.IMAGENET1K_V1]\n",
      "Model: swin_v2_b, Weights: [Swin_V2_B_Weights.IMAGENET1K_V1]\n",
      "Model: swin_v2_s, Weights: [Swin_V2_S_Weights.IMAGENET1K_V1]\n",
      "Model: swin_v2_t, Weights: [Swin_V2_T_Weights.IMAGENET1K_V1]\n",
      "Model: vgg11, Weights: [VGG11_Weights.IMAGENET1K_V1]\n",
      "Model: vgg11_bn, Weights: [VGG11_BN_Weights.IMAGENET1K_V1]\n",
      "Model: vgg13, Weights: [VGG13_Weights.IMAGENET1K_V1]\n",
      "Model: vgg13_bn, Weights: [VGG13_BN_Weights.IMAGENET1K_V1]\n",
      "Model: vgg16, Weights: [VGG16_Weights.IMAGENET1K_V1, VGG16_Weights.IMAGENET1K_FEATURES]\n",
      "Model: vgg16_bn, Weights: [VGG16_BN_Weights.IMAGENET1K_V1]\n",
      "Model: vgg19, Weights: [VGG19_Weights.IMAGENET1K_V1]\n",
      "Model: vgg19_bn, Weights: [VGG19_BN_Weights.IMAGENET1K_V1]\n",
      "Model: vit_b_16, Weights: [ViT_B_16_Weights.IMAGENET1K_V1, ViT_B_16_Weights.IMAGENET1K_SWAG_E2E_V1, ViT_B_16_Weights.IMAGENET1K_SWAG_LINEAR_V1]\n",
      "Model: vit_b_32, Weights: [ViT_B_32_Weights.IMAGENET1K_V1]\n",
      "Model: vit_h_14, Weights: [ViT_H_14_Weights.IMAGENET1K_SWAG_E2E_V1, ViT_H_14_Weights.IMAGENET1K_SWAG_LINEAR_V1]\n",
      "Model: vit_l_16, Weights: [ViT_L_16_Weights.IMAGENET1K_V1, ViT_L_16_Weights.IMAGENET1K_SWAG_E2E_V1, ViT_L_16_Weights.IMAGENET1K_SWAG_LINEAR_V1]\n",
      "Model: vit_l_32, Weights: [ViT_L_32_Weights.IMAGENET1K_V1]\n",
      "Model: wide_resnet101_2, Weights: [Wide_ResNet101_2_Weights.IMAGENET1K_V1, Wide_ResNet101_2_Weights.IMAGENET1K_V2]\n",
      "Model: wide_resnet50_2, Weights: [Wide_ResNet50_2_Weights.IMAGENET1K_V1, Wide_ResNet50_2_Weights.IMAGENET1K_V2]\n"
     ]
    }
   ],
   "source": [
    "# Print the list of weights available for all models\n",
    "all_models = models.list_models()\n",
    "for model_name in all_models:\n",
    "    weights = models.get_model_weights(name=model_name)\n",
    "    if weights:\n",
    "        print(f\"Model: {model_name}, Weights: {[weight for weight in weights]}\")\n"
   ]
  },
  {
   "cell_type": "markdown",
   "id": "2212b54e",
   "metadata": {
    "papermill": {
     "duration": 0.004975,
     "end_time": "2025-08-31T18:14:29.098485",
     "exception": false,
     "start_time": "2025-08-31T18:14:29.093510",
     "status": "completed"
    },
    "tags": []
   },
   "source": [
    "### Loading Pretrained Models in torchvision\n",
    "\n",
    "* In older versions, you could load pretrained models using `models.model_name(pretrained=True)`.\n",
    "* In the current version, even for the same model, you must specify the pretrained weights when creating it.\n"
   ]
  },
  {
   "cell_type": "code",
   "execution_count": 5,
   "id": "942d11d9",
   "metadata": {
    "execution": {
     "iopub.execute_input": "2025-08-31T18:14:29.108942Z",
     "iopub.status.busy": "2025-08-31T18:14:29.108523Z",
     "iopub.status.idle": "2025-08-31T18:14:37.262413Z",
     "shell.execute_reply": "2025-08-31T18:14:37.261127Z"
    },
    "papermill": {
     "duration": 8.160534,
     "end_time": "2025-08-31T18:14:37.263775",
     "exception": false,
     "start_time": "2025-08-31T18:14:29.103241",
     "status": "completed"
    },
    "tags": []
   },
   "outputs": [
    {
     "name": "stderr",
     "output_type": "stream",
     "text": [
      "/usr/local/lib/python3.11/dist-packages/torchvision/models/_utils.py:208: UserWarning: The parameter 'pretrained' is deprecated since 0.13 and may be removed in the future, please use 'weights' instead.\n",
      "  warnings.warn(\n",
      "/usr/local/lib/python3.11/dist-packages/torchvision/models/_utils.py:223: UserWarning: Arguments other than a weight enum or `None` for 'weights' are deprecated since 0.13 and may be removed in the future. The current behavior is equivalent to passing `weights=VGG19_BN_Weights.IMAGENET1K_V1`. You can also use `weights=VGG19_BN_Weights.DEFAULT` to get the most up-to-date weights.\n",
      "  warnings.warn(msg)\n",
      "Downloading: \"https://download.pytorch.org/models/vgg19_bn-c79401a0.pth\" to /root/.cache/torch/hub/checkpoints/vgg19_bn-c79401a0.pth\n",
      "100%|██████████| 548M/548M [00:06<00:00, 92.4MB/s]\n"
     ]
    },
    {
     "name": "stdout",
     "output_type": "stream",
     "text": [
      "VGG(\n",
      "  (features): Sequential(\n",
      "    (0): Conv2d(3, 64, kernel_size=(3, 3), stride=(1, 1), padding=(1, 1))\n",
      "    (1): BatchNorm2d(64, eps=1e-05, momentum=0.1, affine=True, track_running_stats=True)\n",
      "    (2): ReLU(inplace=True)\n",
      "    (3): Conv2d(64, 64, kernel_size=(3, 3), stride=(1, 1), padding=(1, 1))\n",
      "    (4): BatchNorm2d(64, eps=1e-05, momentum=0.1, affine=True, track_running_stats=True)\n",
      "    (5): ReLU(inplace=True)\n",
      "    (6): MaxPool2d(kernel_size=2, stride=2, padding=0, dilation=1, ceil_mode=False)\n",
      "    (7): Conv2d(64, 128, kernel_size=(3, 3), stride=(1, 1), padding=(1, 1))\n",
      "    (8): BatchNorm2d(128, eps=1e-05, momentum=0.1, affine=True, track_running_stats=True)\n",
      "    (9): ReLU(inplace=True)\n",
      "    (10): Conv2d(128, 128, kernel_size=(3, 3), stride=(1, 1), padding=(1, 1))\n",
      "    (11): BatchNorm2d(128, eps=1e-05, momentum=0.1, affine=True, track_running_stats=True)\n",
      "    (12): ReLU(inplace=True)\n",
      "    (13): MaxPool2d(kernel_size=2, stride=2, padding=0, dilation=1, ceil_mode=False)\n",
      "    (14): Conv2d(128, 256, kernel_size=(3, 3), stride=(1, 1), padding=(1, 1))\n",
      "    (15): BatchNorm2d(256, eps=1e-05, momentum=0.1, affine=True, track_running_stats=True)\n",
      "    (16): ReLU(inplace=True)\n",
      "    (17): Conv2d(256, 256, kernel_size=(3, 3), stride=(1, 1), padding=(1, 1))\n",
      "    (18): BatchNorm2d(256, eps=1e-05, momentum=0.1, affine=True, track_running_stats=True)\n",
      "    (19): ReLU(inplace=True)\n",
      "    (20): Conv2d(256, 256, kernel_size=(3, 3), stride=(1, 1), padding=(1, 1))\n",
      "    (21): BatchNorm2d(256, eps=1e-05, momentum=0.1, affine=True, track_running_stats=True)\n",
      "    (22): ReLU(inplace=True)\n",
      "    (23): Conv2d(256, 256, kernel_size=(3, 3), stride=(1, 1), padding=(1, 1))\n",
      "    (24): BatchNorm2d(256, eps=1e-05, momentum=0.1, affine=True, track_running_stats=True)\n",
      "    (25): ReLU(inplace=True)\n",
      "    (26): MaxPool2d(kernel_size=2, stride=2, padding=0, dilation=1, ceil_mode=False)\n",
      "    (27): Conv2d(256, 512, kernel_size=(3, 3), stride=(1, 1), padding=(1, 1))\n",
      "    (28): BatchNorm2d(512, eps=1e-05, momentum=0.1, affine=True, track_running_stats=True)\n",
      "    (29): ReLU(inplace=True)\n",
      "    (30): Conv2d(512, 512, kernel_size=(3, 3), stride=(1, 1), padding=(1, 1))\n",
      "    (31): BatchNorm2d(512, eps=1e-05, momentum=0.1, affine=True, track_running_stats=True)\n",
      "    (32): ReLU(inplace=True)\n",
      "    (33): Conv2d(512, 512, kernel_size=(3, 3), stride=(1, 1), padding=(1, 1))\n",
      "    (34): BatchNorm2d(512, eps=1e-05, momentum=0.1, affine=True, track_running_stats=True)\n",
      "    (35): ReLU(inplace=True)\n",
      "    (36): Conv2d(512, 512, kernel_size=(3, 3), stride=(1, 1), padding=(1, 1))\n",
      "    (37): BatchNorm2d(512, eps=1e-05, momentum=0.1, affine=True, track_running_stats=True)\n",
      "    (38): ReLU(inplace=True)\n",
      "    (39): MaxPool2d(kernel_size=2, stride=2, padding=0, dilation=1, ceil_mode=False)\n",
      "    (40): Conv2d(512, 512, kernel_size=(3, 3), stride=(1, 1), padding=(1, 1))\n",
      "    (41): BatchNorm2d(512, eps=1e-05, momentum=0.1, affine=True, track_running_stats=True)\n",
      "    (42): ReLU(inplace=True)\n",
      "    (43): Conv2d(512, 512, kernel_size=(3, 3), stride=(1, 1), padding=(1, 1))\n",
      "    (44): BatchNorm2d(512, eps=1e-05, momentum=0.1, affine=True, track_running_stats=True)\n",
      "    (45): ReLU(inplace=True)\n",
      "    (46): Conv2d(512, 512, kernel_size=(3, 3), stride=(1, 1), padding=(1, 1))\n",
      "    (47): BatchNorm2d(512, eps=1e-05, momentum=0.1, affine=True, track_running_stats=True)\n",
      "    (48): ReLU(inplace=True)\n",
      "    (49): Conv2d(512, 512, kernel_size=(3, 3), stride=(1, 1), padding=(1, 1))\n",
      "    (50): BatchNorm2d(512, eps=1e-05, momentum=0.1, affine=True, track_running_stats=True)\n",
      "    (51): ReLU(inplace=True)\n",
      "    (52): MaxPool2d(kernel_size=2, stride=2, padding=0, dilation=1, ceil_mode=False)\n",
      "  )\n",
      "  (avgpool): AdaptiveAvgPool2d(output_size=(7, 7))\n",
      "  (classifier): Sequential(\n",
      "    (0): Linear(in_features=25088, out_features=4096, bias=True)\n",
      "    (1): ReLU(inplace=True)\n",
      "    (2): Dropout(p=0.5, inplace=False)\n",
      "    (3): Linear(in_features=4096, out_features=4096, bias=True)\n",
      "    (4): ReLU(inplace=True)\n",
      "    (5): Dropout(p=0.5, inplace=False)\n",
      "    (6): Linear(in_features=4096, out_features=1000, bias=True)\n",
      "  )\n",
      ")\n"
     ]
    }
   ],
   "source": [
    "# In older versions, pretrained=True could be used to load models with pretrained weights,\n",
    "# but since torchvision 0.13 this has been deprecated. \n",
    "model_temp = models.vgg19_bn(pretrained=True)  # pretrained=False does not load pretrained weights. \n",
    "# Examples: resnet50, efficientnet-b0, resnext101_32x8d\n",
    "print(model_temp)\n"
   ]
  },
  {
   "cell_type": "code",
   "execution_count": 6,
   "id": "7f58ade2",
   "metadata": {
    "execution": {
     "iopub.execute_input": "2025-08-31T18:14:37.278951Z",
     "iopub.status.busy": "2025-08-31T18:14:37.278723Z",
     "iopub.status.idle": "2025-08-31T18:14:37.282981Z",
     "shell.execute_reply": "2025-08-31T18:14:37.282203Z"
    },
    "papermill": {
     "duration": 0.012984,
     "end_time": "2025-08-31T18:14:37.284124",
     "exception": false,
     "start_time": "2025-08-31T18:14:37.271140",
     "status": "completed"
    },
    "tags": []
   },
   "outputs": [
    {
     "name": "stdout",
     "output_type": "stream",
     "text": [
      "[VGG19_BN_Weights.IMAGENET1K_V1]\n"
     ]
    }
   ],
   "source": [
    "print([weight for weight in models.get_model_weights('vgg19_bn')])"
   ]
  },
  {
   "cell_type": "code",
   "execution_count": 7,
   "id": "fcf85831",
   "metadata": {
    "execution": {
     "iopub.execute_input": "2025-08-31T18:14:37.299259Z",
     "iopub.status.busy": "2025-08-31T18:14:37.298565Z",
     "iopub.status.idle": "2025-08-31T18:14:38.995249Z",
     "shell.execute_reply": "2025-08-31T18:14:38.994445Z"
    },
    "papermill": {
     "duration": 1.705575,
     "end_time": "2025-08-31T18:14:38.996640",
     "exception": false,
     "start_time": "2025-08-31T18:14:37.291065",
     "status": "completed"
    },
    "tags": []
   },
   "outputs": [
    {
     "name": "stdout",
     "output_type": "stream",
     "text": [
      "[VGG19_BN_Weights.IMAGENET1K_V1]\n",
      "VGG(\n",
      "  (features): Sequential(\n",
      "    (0): Conv2d(3, 64, kernel_size=(3, 3), stride=(1, 1), padding=(1, 1))\n",
      "    (1): BatchNorm2d(64, eps=1e-05, momentum=0.1, affine=True, track_running_stats=True)\n",
      "    (2): ReLU(inplace=True)\n",
      "    (3): Conv2d(64, 64, kernel_size=(3, 3), stride=(1, 1), padding=(1, 1))\n",
      "    (4): BatchNorm2d(64, eps=1e-05, momentum=0.1, affine=True, track_running_stats=True)\n",
      "    (5): ReLU(inplace=True)\n",
      "    (6): MaxPool2d(kernel_size=2, stride=2, padding=0, dilation=1, ceil_mode=False)\n",
      "    (7): Conv2d(64, 128, kernel_size=(3, 3), stride=(1, 1), padding=(1, 1))\n",
      "    (8): BatchNorm2d(128, eps=1e-05, momentum=0.1, affine=True, track_running_stats=True)\n",
      "    (9): ReLU(inplace=True)\n",
      "    (10): Conv2d(128, 128, kernel_size=(3, 3), stride=(1, 1), padding=(1, 1))\n",
      "    (11): BatchNorm2d(128, eps=1e-05, momentum=0.1, affine=True, track_running_stats=True)\n",
      "    (12): ReLU(inplace=True)\n",
      "    (13): MaxPool2d(kernel_size=2, stride=2, padding=0, dilation=1, ceil_mode=False)\n",
      "    (14): Conv2d(128, 256, kernel_size=(3, 3), stride=(1, 1), padding=(1, 1))\n",
      "    (15): BatchNorm2d(256, eps=1e-05, momentum=0.1, affine=True, track_running_stats=True)\n",
      "    (16): ReLU(inplace=True)\n",
      "    (17): Conv2d(256, 256, kernel_size=(3, 3), stride=(1, 1), padding=(1, 1))\n",
      "    (18): BatchNorm2d(256, eps=1e-05, momentum=0.1, affine=True, track_running_stats=True)\n",
      "    (19): ReLU(inplace=True)\n",
      "    (20): Conv2d(256, 256, kernel_size=(3, 3), stride=(1, 1), padding=(1, 1))\n",
      "    (21): BatchNorm2d(256, eps=1e-05, momentum=0.1, affine=True, track_running_stats=True)\n",
      "    (22): ReLU(inplace=True)\n",
      "    (23): Conv2d(256, 256, kernel_size=(3, 3), stride=(1, 1), padding=(1, 1))\n",
      "    (24): BatchNorm2d(256, eps=1e-05, momentum=0.1, affine=True, track_running_stats=True)\n",
      "    (25): ReLU(inplace=True)\n",
      "    (26): MaxPool2d(kernel_size=2, stride=2, padding=0, dilation=1, ceil_mode=False)\n",
      "    (27): Conv2d(256, 512, kernel_size=(3, 3), stride=(1, 1), padding=(1, 1))\n",
      "    (28): BatchNorm2d(512, eps=1e-05, momentum=0.1, affine=True, track_running_stats=True)\n",
      "    (29): ReLU(inplace=True)\n",
      "    (30): Conv2d(512, 512, kernel_size=(3, 3), stride=(1, 1), padding=(1, 1))\n",
      "    (31): BatchNorm2d(512, eps=1e-05, momentum=0.1, affine=True, track_running_stats=True)\n",
      "    (32): ReLU(inplace=True)\n",
      "    (33): Conv2d(512, 512, kernel_size=(3, 3), stride=(1, 1), padding=(1, 1))\n",
      "    (34): BatchNorm2d(512, eps=1e-05, momentum=0.1, affine=True, track_running_stats=True)\n",
      "    (35): ReLU(inplace=True)\n",
      "    (36): Conv2d(512, 512, kernel_size=(3, 3), stride=(1, 1), padding=(1, 1))\n",
      "    (37): BatchNorm2d(512, eps=1e-05, momentum=0.1, affine=True, track_running_stats=True)\n",
      "    (38): ReLU(inplace=True)\n",
      "    (39): MaxPool2d(kernel_size=2, stride=2, padding=0, dilation=1, ceil_mode=False)\n",
      "    (40): Conv2d(512, 512, kernel_size=(3, 3), stride=(1, 1), padding=(1, 1))\n",
      "    (41): BatchNorm2d(512, eps=1e-05, momentum=0.1, affine=True, track_running_stats=True)\n",
      "    (42): ReLU(inplace=True)\n",
      "    (43): Conv2d(512, 512, kernel_size=(3, 3), stride=(1, 1), padding=(1, 1))\n",
      "    (44): BatchNorm2d(512, eps=1e-05, momentum=0.1, affine=True, track_running_stats=True)\n",
      "    (45): ReLU(inplace=True)\n",
      "    (46): Conv2d(512, 512, kernel_size=(3, 3), stride=(1, 1), padding=(1, 1))\n",
      "    (47): BatchNorm2d(512, eps=1e-05, momentum=0.1, affine=True, track_running_stats=True)\n",
      "    (48): ReLU(inplace=True)\n",
      "    (49): Conv2d(512, 512, kernel_size=(3, 3), stride=(1, 1), padding=(1, 1))\n",
      "    (50): BatchNorm2d(512, eps=1e-05, momentum=0.1, affine=True, track_running_stats=True)\n",
      "    (51): ReLU(inplace=True)\n",
      "    (52): MaxPool2d(kernel_size=2, stride=2, padding=0, dilation=1, ceil_mode=False)\n",
      "  )\n",
      "  (avgpool): AdaptiveAvgPool2d(output_size=(7, 7))\n",
      "  (classifier): Sequential(\n",
      "    (0): Linear(in_features=25088, out_features=4096, bias=True)\n",
      "    (1): ReLU(inplace=True)\n",
      "    (2): Dropout(p=0.5, inplace=False)\n",
      "    (3): Linear(in_features=4096, out_features=4096, bias=True)\n",
      "    (4): ReLU(inplace=True)\n",
      "    (5): Dropout(p=0.5, inplace=False)\n",
      "    (6): Linear(in_features=4096, out_features=1000, bias=True)\n",
      "  )\n",
      ")\n"
     ]
    }
   ],
   "source": [
    "# from torchvision.models import VGG19_Weights, VGG19_BN_Weights\n",
    "\n",
    "# batch normalization is applied\n",
    "print([weight for weight in models.get_model_weights('vgg19_bn')])\n",
    "vgg_model = models.vgg19_bn(weights=models.VGG19_BN_Weights.IMAGENET1K_V1) #weights='IMAGENET1K_V1' 또는 'DEFAULT'\n",
    "print(vgg_model)"
   ]
  },
  {
   "cell_type": "code",
   "execution_count": 8,
   "id": "c8c44c6e",
   "metadata": {
    "execution": {
     "iopub.execute_input": "2025-08-31T18:14:39.012343Z",
     "iopub.status.busy": "2025-08-31T18:14:39.011752Z",
     "iopub.status.idle": "2025-08-31T18:14:39.962939Z",
     "shell.execute_reply": "2025-08-31T18:14:39.962172Z"
    },
    "papermill": {
     "duration": 0.960023,
     "end_time": "2025-08-31T18:14:39.964139",
     "exception": false,
     "start_time": "2025-08-31T18:14:39.004116",
     "status": "completed"
    },
    "tags": []
   },
   "outputs": [
    {
     "data": {
      "text/plain": [
       "===================================================================================================================\n",
       "Layer (type (var_name))                  Input Shape               Output Shape              Param #\n",
       "===================================================================================================================\n",
       "VGG (VGG)                                [1, 3, 418, 418]          [1, 1000]                 --\n",
       "├─Sequential (features)                  [1, 3, 418, 418]          [1, 512, 13, 13]          --\n",
       "│    └─Conv2d (0)                        [1, 3, 418, 418]          [1, 64, 418, 418]         1,792\n",
       "│    └─BatchNorm2d (1)                   [1, 64, 418, 418]         [1, 64, 418, 418]         128\n",
       "│    └─ReLU (2)                          [1, 64, 418, 418]         [1, 64, 418, 418]         --\n",
       "│    └─Conv2d (3)                        [1, 64, 418, 418]         [1, 64, 418, 418]         36,928\n",
       "│    └─BatchNorm2d (4)                   [1, 64, 418, 418]         [1, 64, 418, 418]         128\n",
       "│    └─ReLU (5)                          [1, 64, 418, 418]         [1, 64, 418, 418]         --\n",
       "│    └─MaxPool2d (6)                     [1, 64, 418, 418]         [1, 64, 209, 209]         --\n",
       "│    └─Conv2d (7)                        [1, 64, 209, 209]         [1, 128, 209, 209]        73,856\n",
       "│    └─BatchNorm2d (8)                   [1, 128, 209, 209]        [1, 128, 209, 209]        256\n",
       "│    └─ReLU (9)                          [1, 128, 209, 209]        [1, 128, 209, 209]        --\n",
       "│    └─Conv2d (10)                       [1, 128, 209, 209]        [1, 128, 209, 209]        147,584\n",
       "│    └─BatchNorm2d (11)                  [1, 128, 209, 209]        [1, 128, 209, 209]        256\n",
       "│    └─ReLU (12)                         [1, 128, 209, 209]        [1, 128, 209, 209]        --\n",
       "│    └─MaxPool2d (13)                    [1, 128, 209, 209]        [1, 128, 104, 104]        --\n",
       "│    └─Conv2d (14)                       [1, 128, 104, 104]        [1, 256, 104, 104]        295,168\n",
       "│    └─BatchNorm2d (15)                  [1, 256, 104, 104]        [1, 256, 104, 104]        512\n",
       "│    └─ReLU (16)                         [1, 256, 104, 104]        [1, 256, 104, 104]        --\n",
       "│    └─Conv2d (17)                       [1, 256, 104, 104]        [1, 256, 104, 104]        590,080\n",
       "│    └─BatchNorm2d (18)                  [1, 256, 104, 104]        [1, 256, 104, 104]        512\n",
       "│    └─ReLU (19)                         [1, 256, 104, 104]        [1, 256, 104, 104]        --\n",
       "│    └─Conv2d (20)                       [1, 256, 104, 104]        [1, 256, 104, 104]        590,080\n",
       "│    └─BatchNorm2d (21)                  [1, 256, 104, 104]        [1, 256, 104, 104]        512\n",
       "│    └─ReLU (22)                         [1, 256, 104, 104]        [1, 256, 104, 104]        --\n",
       "│    └─Conv2d (23)                       [1, 256, 104, 104]        [1, 256, 104, 104]        590,080\n",
       "│    └─BatchNorm2d (24)                  [1, 256, 104, 104]        [1, 256, 104, 104]        512\n",
       "│    └─ReLU (25)                         [1, 256, 104, 104]        [1, 256, 104, 104]        --\n",
       "│    └─MaxPool2d (26)                    [1, 256, 104, 104]        [1, 256, 52, 52]          --\n",
       "│    └─Conv2d (27)                       [1, 256, 52, 52]          [1, 512, 52, 52]          1,180,160\n",
       "│    └─BatchNorm2d (28)                  [1, 512, 52, 52]          [1, 512, 52, 52]          1,024\n",
       "│    └─ReLU (29)                         [1, 512, 52, 52]          [1, 512, 52, 52]          --\n",
       "│    └─Conv2d (30)                       [1, 512, 52, 52]          [1, 512, 52, 52]          2,359,808\n",
       "│    └─BatchNorm2d (31)                  [1, 512, 52, 52]          [1, 512, 52, 52]          1,024\n",
       "│    └─ReLU (32)                         [1, 512, 52, 52]          [1, 512, 52, 52]          --\n",
       "│    └─Conv2d (33)                       [1, 512, 52, 52]          [1, 512, 52, 52]          2,359,808\n",
       "│    └─BatchNorm2d (34)                  [1, 512, 52, 52]          [1, 512, 52, 52]          1,024\n",
       "│    └─ReLU (35)                         [1, 512, 52, 52]          [1, 512, 52, 52]          --\n",
       "│    └─Conv2d (36)                       [1, 512, 52, 52]          [1, 512, 52, 52]          2,359,808\n",
       "│    └─BatchNorm2d (37)                  [1, 512, 52, 52]          [1, 512, 52, 52]          1,024\n",
       "│    └─ReLU (38)                         [1, 512, 52, 52]          [1, 512, 52, 52]          --\n",
       "│    └─MaxPool2d (39)                    [1, 512, 52, 52]          [1, 512, 26, 26]          --\n",
       "│    └─Conv2d (40)                       [1, 512, 26, 26]          [1, 512, 26, 26]          2,359,808\n",
       "│    └─BatchNorm2d (41)                  [1, 512, 26, 26]          [1, 512, 26, 26]          1,024\n",
       "│    └─ReLU (42)                         [1, 512, 26, 26]          [1, 512, 26, 26]          --\n",
       "│    └─Conv2d (43)                       [1, 512, 26, 26]          [1, 512, 26, 26]          2,359,808\n",
       "│    └─BatchNorm2d (44)                  [1, 512, 26, 26]          [1, 512, 26, 26]          1,024\n",
       "│    └─ReLU (45)                         [1, 512, 26, 26]          [1, 512, 26, 26]          --\n",
       "│    └─Conv2d (46)                       [1, 512, 26, 26]          [1, 512, 26, 26]          2,359,808\n",
       "│    └─BatchNorm2d (47)                  [1, 512, 26, 26]          [1, 512, 26, 26]          1,024\n",
       "│    └─ReLU (48)                         [1, 512, 26, 26]          [1, 512, 26, 26]          --\n",
       "│    └─Conv2d (49)                       [1, 512, 26, 26]          [1, 512, 26, 26]          2,359,808\n",
       "│    └─BatchNorm2d (50)                  [1, 512, 26, 26]          [1, 512, 26, 26]          1,024\n",
       "│    └─ReLU (51)                         [1, 512, 26, 26]          [1, 512, 26, 26]          --\n",
       "│    └─MaxPool2d (52)                    [1, 512, 26, 26]          [1, 512, 13, 13]          --\n",
       "├─AdaptiveAvgPool2d (avgpool)            [1, 512, 13, 13]          [1, 512, 7, 7]            --\n",
       "├─Sequential (classifier)                [1, 25088]                [1, 1000]                 --\n",
       "│    └─Linear (0)                        [1, 25088]                [1, 4096]                 102,764,544\n",
       "│    └─ReLU (1)                          [1, 4096]                 [1, 4096]                 --\n",
       "│    └─Dropout (2)                       [1, 4096]                 [1, 4096]                 --\n",
       "│    └─Linear (3)                        [1, 4096]                 [1, 4096]                 16,781,312\n",
       "│    └─ReLU (4)                          [1, 4096]                 [1, 4096]                 --\n",
       "│    └─Dropout (5)                       [1, 4096]                 [1, 4096]                 --\n",
       "│    └─Linear (6)                        [1, 4096]                 [1, 1000]                 4,097,000\n",
       "===================================================================================================================\n",
       "Total params: 143,678,248\n",
       "Trainable params: 143,678,248\n",
       "Non-trainable params: 0\n",
       "Total mult-adds (Units.GIGABYTES): 67.62\n",
       "===================================================================================================================\n",
       "Input size (MB): 2.10\n",
       "Forward/backward pass size (MB): 824.79\n",
       "Params size (MB): 574.71\n",
       "Estimated Total Size (MB): 1401.60\n",
       "==================================================================================================================="
      ]
     },
     "execution_count": 8,
     "metadata": {},
     "output_type": "execute_result"
    }
   ],
   "source": [
    "from torchinfo import summary\n",
    "\n",
    "summary(model=vgg_model, input_size=(1, 3, 418, 418), #(1, 3, 32, 32)\n",
    "        col_names=['input_size', 'output_size', 'num_params'], \n",
    "        row_settings=['var_names'])"
   ]
  },
  {
   "cell_type": "code",
   "execution_count": 9,
   "id": "13aee0be",
   "metadata": {
    "execution": {
     "iopub.execute_input": "2025-08-31T18:14:39.980801Z",
     "iopub.status.busy": "2025-08-31T18:14:39.980028Z",
     "iopub.status.idle": "2025-08-31T18:14:41.072497Z",
     "shell.execute_reply": "2025-08-31T18:14:41.070873Z"
    },
    "papermill": {
     "duration": 1.101989,
     "end_time": "2025-08-31T18:14:41.073980",
     "exception": false,
     "start_time": "2025-08-31T18:14:39.971991",
     "status": "completed"
    },
    "tags": []
   },
   "outputs": [
    {
     "name": "stdout",
     "output_type": "stream",
     "text": [
      "[ResNet50_Weights.IMAGENET1K_V1, ResNet50_Weights.IMAGENET1K_V2]\n"
     ]
    },
    {
     "name": "stderr",
     "output_type": "stream",
     "text": [
      "Downloading: \"https://download.pytorch.org/models/resnet50-11ad3fa6.pth\" to /root/.cache/torch/hub/checkpoints/resnet50-11ad3fa6.pth\n",
      "100%|██████████| 97.8M/97.8M [00:00<00:00, 192MB/s]\n"
     ]
    },
    {
     "name": "stdout",
     "output_type": "stream",
     "text": [
      "ResNet(\n",
      "  (conv1): Conv2d(3, 64, kernel_size=(7, 7), stride=(2, 2), padding=(3, 3), bias=False)\n",
      "  (bn1): BatchNorm2d(64, eps=1e-05, momentum=0.1, affine=True, track_running_stats=True)\n",
      "  (relu): ReLU(inplace=True)\n",
      "  (maxpool): MaxPool2d(kernel_size=3, stride=2, padding=1, dilation=1, ceil_mode=False)\n",
      "  (layer1): Sequential(\n",
      "    (0): Bottleneck(\n",
      "      (conv1): Conv2d(64, 64, kernel_size=(1, 1), stride=(1, 1), bias=False)\n",
      "      (bn1): BatchNorm2d(64, eps=1e-05, momentum=0.1, affine=True, track_running_stats=True)\n",
      "      (conv2): Conv2d(64, 64, kernel_size=(3, 3), stride=(1, 1), padding=(1, 1), bias=False)\n",
      "      (bn2): BatchNorm2d(64, eps=1e-05, momentum=0.1, affine=True, track_running_stats=True)\n",
      "      (conv3): Conv2d(64, 256, kernel_size=(1, 1), stride=(1, 1), bias=False)\n",
      "      (bn3): BatchNorm2d(256, eps=1e-05, momentum=0.1, affine=True, track_running_stats=True)\n",
      "      (relu): ReLU(inplace=True)\n",
      "      (downsample): Sequential(\n",
      "        (0): Conv2d(64, 256, kernel_size=(1, 1), stride=(1, 1), bias=False)\n",
      "        (1): BatchNorm2d(256, eps=1e-05, momentum=0.1, affine=True, track_running_stats=True)\n",
      "      )\n",
      "    )\n",
      "    (1): Bottleneck(\n",
      "      (conv1): Conv2d(256, 64, kernel_size=(1, 1), stride=(1, 1), bias=False)\n",
      "      (bn1): BatchNorm2d(64, eps=1e-05, momentum=0.1, affine=True, track_running_stats=True)\n",
      "      (conv2): Conv2d(64, 64, kernel_size=(3, 3), stride=(1, 1), padding=(1, 1), bias=False)\n",
      "      (bn2): BatchNorm2d(64, eps=1e-05, momentum=0.1, affine=True, track_running_stats=True)\n",
      "      (conv3): Conv2d(64, 256, kernel_size=(1, 1), stride=(1, 1), bias=False)\n",
      "      (bn3): BatchNorm2d(256, eps=1e-05, momentum=0.1, affine=True, track_running_stats=True)\n",
      "      (relu): ReLU(inplace=True)\n",
      "    )\n",
      "    (2): Bottleneck(\n",
      "      (conv1): Conv2d(256, 64, kernel_size=(1, 1), stride=(1, 1), bias=False)\n",
      "      (bn1): BatchNorm2d(64, eps=1e-05, momentum=0.1, affine=True, track_running_stats=True)\n",
      "      (conv2): Conv2d(64, 64, kernel_size=(3, 3), stride=(1, 1), padding=(1, 1), bias=False)\n",
      "      (bn2): BatchNorm2d(64, eps=1e-05, momentum=0.1, affine=True, track_running_stats=True)\n",
      "      (conv3): Conv2d(64, 256, kernel_size=(1, 1), stride=(1, 1), bias=False)\n",
      "      (bn3): BatchNorm2d(256, eps=1e-05, momentum=0.1, affine=True, track_running_stats=True)\n",
      "      (relu): ReLU(inplace=True)\n",
      "    )\n",
      "  )\n",
      "  (layer2): Sequential(\n",
      "    (0): Bottleneck(\n",
      "      (conv1): Conv2d(256, 128, kernel_size=(1, 1), stride=(1, 1), bias=False)\n",
      "      (bn1): BatchNorm2d(128, eps=1e-05, momentum=0.1, affine=True, track_running_stats=True)\n",
      "      (conv2): Conv2d(128, 128, kernel_size=(3, 3), stride=(2, 2), padding=(1, 1), bias=False)\n",
      "      (bn2): BatchNorm2d(128, eps=1e-05, momentum=0.1, affine=True, track_running_stats=True)\n",
      "      (conv3): Conv2d(128, 512, kernel_size=(1, 1), stride=(1, 1), bias=False)\n",
      "      (bn3): BatchNorm2d(512, eps=1e-05, momentum=0.1, affine=True, track_running_stats=True)\n",
      "      (relu): ReLU(inplace=True)\n",
      "      (downsample): Sequential(\n",
      "        (0): Conv2d(256, 512, kernel_size=(1, 1), stride=(2, 2), bias=False)\n",
      "        (1): BatchNorm2d(512, eps=1e-05, momentum=0.1, affine=True, track_running_stats=True)\n",
      "      )\n",
      "    )\n",
      "    (1): Bottleneck(\n",
      "      (conv1): Conv2d(512, 128, kernel_size=(1, 1), stride=(1, 1), bias=False)\n",
      "      (bn1): BatchNorm2d(128, eps=1e-05, momentum=0.1, affine=True, track_running_stats=True)\n",
      "      (conv2): Conv2d(128, 128, kernel_size=(3, 3), stride=(1, 1), padding=(1, 1), bias=False)\n",
      "      (bn2): BatchNorm2d(128, eps=1e-05, momentum=0.1, affine=True, track_running_stats=True)\n",
      "      (conv3): Conv2d(128, 512, kernel_size=(1, 1), stride=(1, 1), bias=False)\n",
      "      (bn3): BatchNorm2d(512, eps=1e-05, momentum=0.1, affine=True, track_running_stats=True)\n",
      "      (relu): ReLU(inplace=True)\n",
      "    )\n",
      "    (2): Bottleneck(\n",
      "      (conv1): Conv2d(512, 128, kernel_size=(1, 1), stride=(1, 1), bias=False)\n",
      "      (bn1): BatchNorm2d(128, eps=1e-05, momentum=0.1, affine=True, track_running_stats=True)\n",
      "      (conv2): Conv2d(128, 128, kernel_size=(3, 3), stride=(1, 1), padding=(1, 1), bias=False)\n",
      "      (bn2): BatchNorm2d(128, eps=1e-05, momentum=0.1, affine=True, track_running_stats=True)\n",
      "      (conv3): Conv2d(128, 512, kernel_size=(1, 1), stride=(1, 1), bias=False)\n",
      "      (bn3): BatchNorm2d(512, eps=1e-05, momentum=0.1, affine=True, track_running_stats=True)\n",
      "      (relu): ReLU(inplace=True)\n",
      "    )\n",
      "    (3): Bottleneck(\n",
      "      (conv1): Conv2d(512, 128, kernel_size=(1, 1), stride=(1, 1), bias=False)\n",
      "      (bn1): BatchNorm2d(128, eps=1e-05, momentum=0.1, affine=True, track_running_stats=True)\n",
      "      (conv2): Conv2d(128, 128, kernel_size=(3, 3), stride=(1, 1), padding=(1, 1), bias=False)\n",
      "      (bn2): BatchNorm2d(128, eps=1e-05, momentum=0.1, affine=True, track_running_stats=True)\n",
      "      (conv3): Conv2d(128, 512, kernel_size=(1, 1), stride=(1, 1), bias=False)\n",
      "      (bn3): BatchNorm2d(512, eps=1e-05, momentum=0.1, affine=True, track_running_stats=True)\n",
      "      (relu): ReLU(inplace=True)\n",
      "    )\n",
      "  )\n",
      "  (layer3): Sequential(\n",
      "    (0): Bottleneck(\n",
      "      (conv1): Conv2d(512, 256, kernel_size=(1, 1), stride=(1, 1), bias=False)\n",
      "      (bn1): BatchNorm2d(256, eps=1e-05, momentum=0.1, affine=True, track_running_stats=True)\n",
      "      (conv2): Conv2d(256, 256, kernel_size=(3, 3), stride=(2, 2), padding=(1, 1), bias=False)\n",
      "      (bn2): BatchNorm2d(256, eps=1e-05, momentum=0.1, affine=True, track_running_stats=True)\n",
      "      (conv3): Conv2d(256, 1024, kernel_size=(1, 1), stride=(1, 1), bias=False)\n",
      "      (bn3): BatchNorm2d(1024, eps=1e-05, momentum=0.1, affine=True, track_running_stats=True)\n",
      "      (relu): ReLU(inplace=True)\n",
      "      (downsample): Sequential(\n",
      "        (0): Conv2d(512, 1024, kernel_size=(1, 1), stride=(2, 2), bias=False)\n",
      "        (1): BatchNorm2d(1024, eps=1e-05, momentum=0.1, affine=True, track_running_stats=True)\n",
      "      )\n",
      "    )\n",
      "    (1): Bottleneck(\n",
      "      (conv1): Conv2d(1024, 256, kernel_size=(1, 1), stride=(1, 1), bias=False)\n",
      "      (bn1): BatchNorm2d(256, eps=1e-05, momentum=0.1, affine=True, track_running_stats=True)\n",
      "      (conv2): Conv2d(256, 256, kernel_size=(3, 3), stride=(1, 1), padding=(1, 1), bias=False)\n",
      "      (bn2): BatchNorm2d(256, eps=1e-05, momentum=0.1, affine=True, track_running_stats=True)\n",
      "      (conv3): Conv2d(256, 1024, kernel_size=(1, 1), stride=(1, 1), bias=False)\n",
      "      (bn3): BatchNorm2d(1024, eps=1e-05, momentum=0.1, affine=True, track_running_stats=True)\n",
      "      (relu): ReLU(inplace=True)\n",
      "    )\n",
      "    (2): Bottleneck(\n",
      "      (conv1): Conv2d(1024, 256, kernel_size=(1, 1), stride=(1, 1), bias=False)\n",
      "      (bn1): BatchNorm2d(256, eps=1e-05, momentum=0.1, affine=True, track_running_stats=True)\n",
      "      (conv2): Conv2d(256, 256, kernel_size=(3, 3), stride=(1, 1), padding=(1, 1), bias=False)\n",
      "      (bn2): BatchNorm2d(256, eps=1e-05, momentum=0.1, affine=True, track_running_stats=True)\n",
      "      (conv3): Conv2d(256, 1024, kernel_size=(1, 1), stride=(1, 1), bias=False)\n",
      "      (bn3): BatchNorm2d(1024, eps=1e-05, momentum=0.1, affine=True, track_running_stats=True)\n",
      "      (relu): ReLU(inplace=True)\n",
      "    )\n",
      "    (3): Bottleneck(\n",
      "      (conv1): Conv2d(1024, 256, kernel_size=(1, 1), stride=(1, 1), bias=False)\n",
      "      (bn1): BatchNorm2d(256, eps=1e-05, momentum=0.1, affine=True, track_running_stats=True)\n",
      "      (conv2): Conv2d(256, 256, kernel_size=(3, 3), stride=(1, 1), padding=(1, 1), bias=False)\n",
      "      (bn2): BatchNorm2d(256, eps=1e-05, momentum=0.1, affine=True, track_running_stats=True)\n",
      "      (conv3): Conv2d(256, 1024, kernel_size=(1, 1), stride=(1, 1), bias=False)\n",
      "      (bn3): BatchNorm2d(1024, eps=1e-05, momentum=0.1, affine=True, track_running_stats=True)\n",
      "      (relu): ReLU(inplace=True)\n",
      "    )\n",
      "    (4): Bottleneck(\n",
      "      (conv1): Conv2d(1024, 256, kernel_size=(1, 1), stride=(1, 1), bias=False)\n",
      "      (bn1): BatchNorm2d(256, eps=1e-05, momentum=0.1, affine=True, track_running_stats=True)\n",
      "      (conv2): Conv2d(256, 256, kernel_size=(3, 3), stride=(1, 1), padding=(1, 1), bias=False)\n",
      "      (bn2): BatchNorm2d(256, eps=1e-05, momentum=0.1, affine=True, track_running_stats=True)\n",
      "      (conv3): Conv2d(256, 1024, kernel_size=(1, 1), stride=(1, 1), bias=False)\n",
      "      (bn3): BatchNorm2d(1024, eps=1e-05, momentum=0.1, affine=True, track_running_stats=True)\n",
      "      (relu): ReLU(inplace=True)\n",
      "    )\n",
      "    (5): Bottleneck(\n",
      "      (conv1): Conv2d(1024, 256, kernel_size=(1, 1), stride=(1, 1), bias=False)\n",
      "      (bn1): BatchNorm2d(256, eps=1e-05, momentum=0.1, affine=True, track_running_stats=True)\n",
      "      (conv2): Conv2d(256, 256, kernel_size=(3, 3), stride=(1, 1), padding=(1, 1), bias=False)\n",
      "      (bn2): BatchNorm2d(256, eps=1e-05, momentum=0.1, affine=True, track_running_stats=True)\n",
      "      (conv3): Conv2d(256, 1024, kernel_size=(1, 1), stride=(1, 1), bias=False)\n",
      "      (bn3): BatchNorm2d(1024, eps=1e-05, momentum=0.1, affine=True, track_running_stats=True)\n",
      "      (relu): ReLU(inplace=True)\n",
      "    )\n",
      "  )\n",
      "  (layer4): Sequential(\n",
      "    (0): Bottleneck(\n",
      "      (conv1): Conv2d(1024, 512, kernel_size=(1, 1), stride=(1, 1), bias=False)\n",
      "      (bn1): BatchNorm2d(512, eps=1e-05, momentum=0.1, affine=True, track_running_stats=True)\n",
      "      (conv2): Conv2d(512, 512, kernel_size=(3, 3), stride=(2, 2), padding=(1, 1), bias=False)\n",
      "      (bn2): BatchNorm2d(512, eps=1e-05, momentum=0.1, affine=True, track_running_stats=True)\n",
      "      (conv3): Conv2d(512, 2048, kernel_size=(1, 1), stride=(1, 1), bias=False)\n",
      "      (bn3): BatchNorm2d(2048, eps=1e-05, momentum=0.1, affine=True, track_running_stats=True)\n",
      "      (relu): ReLU(inplace=True)\n",
      "      (downsample): Sequential(\n",
      "        (0): Conv2d(1024, 2048, kernel_size=(1, 1), stride=(2, 2), bias=False)\n",
      "        (1): BatchNorm2d(2048, eps=1e-05, momentum=0.1, affine=True, track_running_stats=True)\n",
      "      )\n",
      "    )\n",
      "    (1): Bottleneck(\n",
      "      (conv1): Conv2d(2048, 512, kernel_size=(1, 1), stride=(1, 1), bias=False)\n",
      "      (bn1): BatchNorm2d(512, eps=1e-05, momentum=0.1, affine=True, track_running_stats=True)\n",
      "      (conv2): Conv2d(512, 512, kernel_size=(3, 3), stride=(1, 1), padding=(1, 1), bias=False)\n",
      "      (bn2): BatchNorm2d(512, eps=1e-05, momentum=0.1, affine=True, track_running_stats=True)\n",
      "      (conv3): Conv2d(512, 2048, kernel_size=(1, 1), stride=(1, 1), bias=False)\n",
      "      (bn3): BatchNorm2d(2048, eps=1e-05, momentum=0.1, affine=True, track_running_stats=True)\n",
      "      (relu): ReLU(inplace=True)\n",
      "    )\n",
      "    (2): Bottleneck(\n",
      "      (conv1): Conv2d(2048, 512, kernel_size=(1, 1), stride=(1, 1), bias=False)\n",
      "      (bn1): BatchNorm2d(512, eps=1e-05, momentum=0.1, affine=True, track_running_stats=True)\n",
      "      (conv2): Conv2d(512, 512, kernel_size=(3, 3), stride=(1, 1), padding=(1, 1), bias=False)\n",
      "      (bn2): BatchNorm2d(512, eps=1e-05, momentum=0.1, affine=True, track_running_stats=True)\n",
      "      (conv3): Conv2d(512, 2048, kernel_size=(1, 1), stride=(1, 1), bias=False)\n",
      "      (bn3): BatchNorm2d(2048, eps=1e-05, momentum=0.1, affine=True, track_running_stats=True)\n",
      "      (relu): ReLU(inplace=True)\n",
      "    )\n",
      "  )\n",
      "  (avgpool): AdaptiveAvgPool2d(output_size=(1, 1))\n",
      "  (fc): Linear(in_features=2048, out_features=1000, bias=True)\n",
      ")\n"
     ]
    }
   ],
   "source": [
    "print([weight for weight in models.get_model_weights('resnet50')])\n",
    "resnet_model = models.resnet50(weights=models.ResNet50_Weights.IMAGENET1K_V2)#weights='IMAGENET1K_V2' 또는 'DEFAULT'\n",
    "print(resnet_model)"
   ]
  },
  {
   "cell_type": "markdown",
   "id": "f61c5756",
   "metadata": {
    "papermill": {
     "duration": 0.007728,
     "end_time": "2025-08-31T18:14:41.090029",
     "exception": false,
     "start_time": "2025-08-31T18:14:41.082301",
     "status": "completed"
    },
    "tags": []
   },
   "source": [
    "### Creating a Custom Model by Modifying the Classification Layer\n",
    "\n",
    "* Most CNN classification models in **torchvision** are designed to classify **ImageNet**, which has 1000 classes. Therefore, the final classification layer outputs 1000 units.\n",
    "* For custom datasets with a different number of classes, the last classification layer must be customized so that its output size matches the number of classes.\n",
    "* In torchvision models, the final classifier layer (or block) is usually named **`classifier`** or **`fc`**. You can directly replace this variable with your own custom classifier layer.\n",
    "* Therefore, you should always check the model structure (by printing the model or using `torchinfo.summary`) to confirm how the classification block is defined.\n"
   ]
  },
  {
   "cell_type": "code",
   "execution_count": 10,
   "id": "fd74e8fa",
   "metadata": {
    "execution": {
     "iopub.execute_input": "2025-08-31T18:14:41.106828Z",
     "iopub.status.busy": "2025-08-31T18:14:41.106281Z",
     "iopub.status.idle": "2025-08-31T18:14:41.110597Z",
     "shell.execute_reply": "2025-08-31T18:14:41.109999Z"
    },
    "papermill": {
     "duration": 0.013869,
     "end_time": "2025-08-31T18:14:41.111706",
     "exception": false,
     "start_time": "2025-08-31T18:14:41.097837",
     "status": "completed"
    },
    "tags": []
   },
   "outputs": [
    {
     "data": {
      "text/plain": [
       "Sequential(\n",
       "  (0): Linear(in_features=25088, out_features=4096, bias=True)\n",
       "  (1): ReLU(inplace=True)\n",
       "  (2): Dropout(p=0.5, inplace=False)\n",
       "  (3): Linear(in_features=4096, out_features=4096, bias=True)\n",
       "  (4): ReLU(inplace=True)\n",
       "  (5): Dropout(p=0.5, inplace=False)\n",
       "  (6): Linear(in_features=4096, out_features=1000, bias=True)\n",
       ")"
      ]
     },
     "execution_count": 10,
     "metadata": {},
     "output_type": "execute_result"
    }
   ],
   "source": [
    "vgg_model.classifier # resnet_model.fc\n",
    "# resnet_model.fc"
   ]
  },
  {
   "cell_type": "code",
   "execution_count": 11,
   "id": "b9752ba0",
   "metadata": {
    "execution": {
     "iopub.execute_input": "2025-08-31T18:14:41.128166Z",
     "iopub.status.busy": "2025-08-31T18:14:41.127970Z",
     "iopub.status.idle": "2025-08-31T18:14:42.082133Z",
     "shell.execute_reply": "2025-08-31T18:14:42.080992Z"
    },
    "papermill": {
     "duration": 0.963688,
     "end_time": "2025-08-31T18:14:42.083312",
     "exception": false,
     "start_time": "2025-08-31T18:14:41.119624",
     "status": "completed"
    },
    "tags": []
   },
   "outputs": [
    {
     "name": "stdout",
     "output_type": "stream",
     "text": [
      "VGG(\n",
      "  (features): Sequential(\n",
      "    (0): Conv2d(3, 64, kernel_size=(3, 3), stride=(1, 1), padding=(1, 1))\n",
      "    (1): BatchNorm2d(64, eps=1e-05, momentum=0.1, affine=True, track_running_stats=True)\n",
      "    (2): ReLU(inplace=True)\n",
      "    (3): Conv2d(64, 64, kernel_size=(3, 3), stride=(1, 1), padding=(1, 1))\n",
      "    (4): BatchNorm2d(64, eps=1e-05, momentum=0.1, affine=True, track_running_stats=True)\n",
      "    (5): ReLU(inplace=True)\n",
      "    (6): MaxPool2d(kernel_size=2, stride=2, padding=0, dilation=1, ceil_mode=False)\n",
      "    (7): Conv2d(64, 128, kernel_size=(3, 3), stride=(1, 1), padding=(1, 1))\n",
      "    (8): BatchNorm2d(128, eps=1e-05, momentum=0.1, affine=True, track_running_stats=True)\n",
      "    (9): ReLU(inplace=True)\n",
      "    (10): Conv2d(128, 128, kernel_size=(3, 3), stride=(1, 1), padding=(1, 1))\n",
      "    (11): BatchNorm2d(128, eps=1e-05, momentum=0.1, affine=True, track_running_stats=True)\n",
      "    (12): ReLU(inplace=True)\n",
      "    (13): MaxPool2d(kernel_size=2, stride=2, padding=0, dilation=1, ceil_mode=False)\n",
      "    (14): Conv2d(128, 256, kernel_size=(3, 3), stride=(1, 1), padding=(1, 1))\n",
      "    (15): BatchNorm2d(256, eps=1e-05, momentum=0.1, affine=True, track_running_stats=True)\n",
      "    (16): ReLU(inplace=True)\n",
      "    (17): Conv2d(256, 256, kernel_size=(3, 3), stride=(1, 1), padding=(1, 1))\n",
      "    (18): BatchNorm2d(256, eps=1e-05, momentum=0.1, affine=True, track_running_stats=True)\n",
      "    (19): ReLU(inplace=True)\n",
      "    (20): Conv2d(256, 256, kernel_size=(3, 3), stride=(1, 1), padding=(1, 1))\n",
      "    (21): BatchNorm2d(256, eps=1e-05, momentum=0.1, affine=True, track_running_stats=True)\n",
      "    (22): ReLU(inplace=True)\n",
      "    (23): Conv2d(256, 256, kernel_size=(3, 3), stride=(1, 1), padding=(1, 1))\n",
      "    (24): BatchNorm2d(256, eps=1e-05, momentum=0.1, affine=True, track_running_stats=True)\n",
      "    (25): ReLU(inplace=True)\n",
      "    (26): MaxPool2d(kernel_size=2, stride=2, padding=0, dilation=1, ceil_mode=False)\n",
      "    (27): Conv2d(256, 512, kernel_size=(3, 3), stride=(1, 1), padding=(1, 1))\n",
      "    (28): BatchNorm2d(512, eps=1e-05, momentum=0.1, affine=True, track_running_stats=True)\n",
      "    (29): ReLU(inplace=True)\n",
      "    (30): Conv2d(512, 512, kernel_size=(3, 3), stride=(1, 1), padding=(1, 1))\n",
      "    (31): BatchNorm2d(512, eps=1e-05, momentum=0.1, affine=True, track_running_stats=True)\n",
      "    (32): ReLU(inplace=True)\n",
      "    (33): Conv2d(512, 512, kernel_size=(3, 3), stride=(1, 1), padding=(1, 1))\n",
      "    (34): BatchNorm2d(512, eps=1e-05, momentum=0.1, affine=True, track_running_stats=True)\n",
      "    (35): ReLU(inplace=True)\n",
      "    (36): Conv2d(512, 512, kernel_size=(3, 3), stride=(1, 1), padding=(1, 1))\n",
      "    (37): BatchNorm2d(512, eps=1e-05, momentum=0.1, affine=True, track_running_stats=True)\n",
      "    (38): ReLU(inplace=True)\n",
      "    (39): MaxPool2d(kernel_size=2, stride=2, padding=0, dilation=1, ceil_mode=False)\n",
      "    (40): Conv2d(512, 512, kernel_size=(3, 3), stride=(1, 1), padding=(1, 1))\n",
      "    (41): BatchNorm2d(512, eps=1e-05, momentum=0.1, affine=True, track_running_stats=True)\n",
      "    (42): ReLU(inplace=True)\n",
      "    (43): Conv2d(512, 512, kernel_size=(3, 3), stride=(1, 1), padding=(1, 1))\n",
      "    (44): BatchNorm2d(512, eps=1e-05, momentum=0.1, affine=True, track_running_stats=True)\n",
      "    (45): ReLU(inplace=True)\n",
      "    (46): Conv2d(512, 512, kernel_size=(3, 3), stride=(1, 1), padding=(1, 1))\n",
      "    (47): BatchNorm2d(512, eps=1e-05, momentum=0.1, affine=True, track_running_stats=True)\n",
      "    (48): ReLU(inplace=True)\n",
      "    (49): Conv2d(512, 512, kernel_size=(3, 3), stride=(1, 1), padding=(1, 1))\n",
      "    (50): BatchNorm2d(512, eps=1e-05, momentum=0.1, affine=True, track_running_stats=True)\n",
      "    (51): ReLU(inplace=True)\n",
      "    (52): MaxPool2d(kernel_size=2, stride=2, padding=0, dilation=1, ceil_mode=False)\n",
      "  )\n",
      "  (avgpool): AdaptiveAvgPool2d(output_size=(7, 7))\n",
      "  (classifier): Sequential(\n",
      "    (0): Linear(in_features=25088, out_features=4096, bias=True)\n",
      "    (1): ReLU(inplace=True)\n",
      "    (2): Dropout(p=0.5, inplace=False)\n",
      "    (3): Linear(in_features=4096, out_features=4096, bias=True)\n",
      "    (4): ReLU(inplace=True)\n",
      "    (5): Dropout(p=0.5, inplace=False)\n",
      "    (6): Linear(in_features=4096, out_features=10, bias=True)\n",
      "  )\n",
      ")\n"
     ]
    }
   ],
   "source": [
    "import torch\n",
    "import torch.nn as nn\n",
    "import torch.nn.functional as F\n",
    "NUM_CLASSES = 10\n",
    "\n",
    "# You can directly redefine the model's final classifier.\n",
    "vgg_model.classifier = nn.Sequential(\n",
    "      nn.Linear(in_features=25088, out_features=4096, bias=True),\n",
    "      nn.ReLU(inplace=True),\n",
    "      nn.Dropout(p=0.5, inplace=False),\n",
    "      nn.Linear(in_features=4096, out_features=4096, bias=True),\n",
    "      nn.ReLU(inplace=True),\n",
    "      nn.Dropout(p=0.5, inplace=False), \n",
    "      nn.Linear(in_features=4096, out_features=NUM_CLASSES, bias=True)\n",
    ")\n",
    "\n",
    "# Redefine Sequential\n",
    "# vgg_model.classifier = nn.Sequential(\n",
    "#     nn.Linear(in_features=25088, out_features=4096, bias=True),\n",
    "#     nn.ReLU(inplace=True),\n",
    "#     nn.Dropout(p=0.5, inplace=False),\n",
    "#     nn.Linear(in_features=4096, out_features=500, bias=True),\n",
    "#     nn.ReLU(inplace=True),\n",
    "#     nn.Dropout(p=0.5, inplace=False),\n",
    "#     nn.Linear(in_features=500, out_features=NUM_CLASSES, bias=True)\n",
    "# )\n",
    "\n",
    "print(vgg_model)\n"
   ]
  },
  {
   "cell_type": "code",
   "execution_count": 12,
   "id": "e30639e5",
   "metadata": {
    "execution": {
     "iopub.execute_input": "2025-08-31T18:14:42.101018Z",
     "iopub.status.busy": "2025-08-31T18:14:42.100637Z",
     "iopub.status.idle": "2025-08-31T18:14:42.105094Z",
     "shell.execute_reply": "2025-08-31T18:14:42.104421Z"
    },
    "papermill": {
     "duration": 0.014367,
     "end_time": "2025-08-31T18:14:42.106210",
     "exception": false,
     "start_time": "2025-08-31T18:14:42.091843",
     "status": "completed"
    },
    "tags": []
   },
   "outputs": [
    {
     "data": {
      "text/plain": [
       "Linear(in_features=4096, out_features=10, bias=True)"
      ]
     },
     "execution_count": 12,
     "metadata": {},
     "output_type": "execute_result"
    }
   ],
   "source": [
    "vgg_model.classifier[6]"
   ]
  },
  {
   "cell_type": "code",
   "execution_count": 13,
   "id": "2fa70799",
   "metadata": {
    "execution": {
     "iopub.execute_input": "2025-08-31T18:14:42.123233Z",
     "iopub.status.busy": "2025-08-31T18:14:42.123046Z",
     "iopub.status.idle": "2025-08-31T18:14:42.128485Z",
     "shell.execute_reply": "2025-08-31T18:14:42.127694Z"
    },
    "papermill": {
     "duration": 0.015064,
     "end_time": "2025-08-31T18:14:42.129608",
     "exception": false,
     "start_time": "2025-08-31T18:14:42.114544",
     "status": "completed"
    },
    "tags": []
   },
   "outputs": [
    {
     "name": "stdout",
     "output_type": "stream",
     "text": [
      "VGG(\n",
      "  (features): Sequential(\n",
      "    (0): Conv2d(3, 64, kernel_size=(3, 3), stride=(1, 1), padding=(1, 1))\n",
      "    (1): BatchNorm2d(64, eps=1e-05, momentum=0.1, affine=True, track_running_stats=True)\n",
      "    (2): ReLU(inplace=True)\n",
      "    (3): Conv2d(64, 64, kernel_size=(3, 3), stride=(1, 1), padding=(1, 1))\n",
      "    (4): BatchNorm2d(64, eps=1e-05, momentum=0.1, affine=True, track_running_stats=True)\n",
      "    (5): ReLU(inplace=True)\n",
      "    (6): MaxPool2d(kernel_size=2, stride=2, padding=0, dilation=1, ceil_mode=False)\n",
      "    (7): Conv2d(64, 128, kernel_size=(3, 3), stride=(1, 1), padding=(1, 1))\n",
      "    (8): BatchNorm2d(128, eps=1e-05, momentum=0.1, affine=True, track_running_stats=True)\n",
      "    (9): ReLU(inplace=True)\n",
      "    (10): Conv2d(128, 128, kernel_size=(3, 3), stride=(1, 1), padding=(1, 1))\n",
      "    (11): BatchNorm2d(128, eps=1e-05, momentum=0.1, affine=True, track_running_stats=True)\n",
      "    (12): ReLU(inplace=True)\n",
      "    (13): MaxPool2d(kernel_size=2, stride=2, padding=0, dilation=1, ceil_mode=False)\n",
      "    (14): Conv2d(128, 256, kernel_size=(3, 3), stride=(1, 1), padding=(1, 1))\n",
      "    (15): BatchNorm2d(256, eps=1e-05, momentum=0.1, affine=True, track_running_stats=True)\n",
      "    (16): ReLU(inplace=True)\n",
      "    (17): Conv2d(256, 256, kernel_size=(3, 3), stride=(1, 1), padding=(1, 1))\n",
      "    (18): BatchNorm2d(256, eps=1e-05, momentum=0.1, affine=True, track_running_stats=True)\n",
      "    (19): ReLU(inplace=True)\n",
      "    (20): Conv2d(256, 256, kernel_size=(3, 3), stride=(1, 1), padding=(1, 1))\n",
      "    (21): BatchNorm2d(256, eps=1e-05, momentum=0.1, affine=True, track_running_stats=True)\n",
      "    (22): ReLU(inplace=True)\n",
      "    (23): Conv2d(256, 256, kernel_size=(3, 3), stride=(1, 1), padding=(1, 1))\n",
      "    (24): BatchNorm2d(256, eps=1e-05, momentum=0.1, affine=True, track_running_stats=True)\n",
      "    (25): ReLU(inplace=True)\n",
      "    (26): MaxPool2d(kernel_size=2, stride=2, padding=0, dilation=1, ceil_mode=False)\n",
      "    (27): Conv2d(256, 512, kernel_size=(3, 3), stride=(1, 1), padding=(1, 1))\n",
      "    (28): BatchNorm2d(512, eps=1e-05, momentum=0.1, affine=True, track_running_stats=True)\n",
      "    (29): ReLU(inplace=True)\n",
      "    (30): Conv2d(512, 512, kernel_size=(3, 3), stride=(1, 1), padding=(1, 1))\n",
      "    (31): BatchNorm2d(512, eps=1e-05, momentum=0.1, affine=True, track_running_stats=True)\n",
      "    (32): ReLU(inplace=True)\n",
      "    (33): Conv2d(512, 512, kernel_size=(3, 3), stride=(1, 1), padding=(1, 1))\n",
      "    (34): BatchNorm2d(512, eps=1e-05, momentum=0.1, affine=True, track_running_stats=True)\n",
      "    (35): ReLU(inplace=True)\n",
      "    (36): Conv2d(512, 512, kernel_size=(3, 3), stride=(1, 1), padding=(1, 1))\n",
      "    (37): BatchNorm2d(512, eps=1e-05, momentum=0.1, affine=True, track_running_stats=True)\n",
      "    (38): ReLU(inplace=True)\n",
      "    (39): MaxPool2d(kernel_size=2, stride=2, padding=0, dilation=1, ceil_mode=False)\n",
      "    (40): Conv2d(512, 512, kernel_size=(3, 3), stride=(1, 1), padding=(1, 1))\n",
      "    (41): BatchNorm2d(512, eps=1e-05, momentum=0.1, affine=True, track_running_stats=True)\n",
      "    (42): ReLU(inplace=True)\n",
      "    (43): Conv2d(512, 512, kernel_size=(3, 3), stride=(1, 1), padding=(1, 1))\n",
      "    (44): BatchNorm2d(512, eps=1e-05, momentum=0.1, affine=True, track_running_stats=True)\n",
      "    (45): ReLU(inplace=True)\n",
      "    (46): Conv2d(512, 512, kernel_size=(3, 3), stride=(1, 1), padding=(1, 1))\n",
      "    (47): BatchNorm2d(512, eps=1e-05, momentum=0.1, affine=True, track_running_stats=True)\n",
      "    (48): ReLU(inplace=True)\n",
      "    (49): Conv2d(512, 512, kernel_size=(3, 3), stride=(1, 1), padding=(1, 1))\n",
      "    (50): BatchNorm2d(512, eps=1e-05, momentum=0.1, affine=True, track_running_stats=True)\n",
      "    (51): ReLU(inplace=True)\n",
      "    (52): MaxPool2d(kernel_size=2, stride=2, padding=0, dilation=1, ceil_mode=False)\n",
      "  )\n",
      "  (avgpool): AdaptiveAvgPool2d(output_size=(7, 7))\n",
      "  (classifier): Sequential(\n",
      "    (0): Linear(in_features=25088, out_features=4096, bias=True)\n",
      "    (1): ReLU(inplace=True)\n",
      "    (2): Dropout(p=0.5, inplace=False)\n",
      "    (3): Linear(in_features=4096, out_features=4096, bias=True)\n",
      "    (4): ReLU(inplace=True)\n",
      "    (5): Dropout(p=0.5, inplace=False)\n",
      "    (6): Linear(in_features=4096, out_features=10, bias=True)\n",
      "  )\n",
      ")\n"
     ]
    }
   ],
   "source": [
    "NUM_CLASSES = 10\n",
    "# Change only the final layer inside Sequential.\n",
    "# vgg_model.classifier[6] = nn.Linear(in_features=4096, out_features=NUM_CLASSES)\n",
    "\n",
    "# Typically, it's better to directly retrieve the in_features value from the final layer \n",
    "# and use it to create the new layer.\n",
    "num_in_features = vgg_model.classifier[6].in_features\n",
    "vgg_model.classifier[6] = nn.Linear(in_features=num_in_features, out_features=NUM_CLASSES)\n",
    "\n",
    "print(vgg_model)\n"
   ]
  },
  {
   "cell_type": "code",
   "execution_count": 14,
   "id": "64ca44ab",
   "metadata": {
    "execution": {
     "iopub.execute_input": "2025-08-31T18:14:42.147016Z",
     "iopub.status.busy": "2025-08-31T18:14:42.146808Z",
     "iopub.status.idle": "2025-08-31T18:14:42.153076Z",
     "shell.execute_reply": "2025-08-31T18:14:42.151671Z"
    },
    "papermill": {
     "duration": 0.016087,
     "end_time": "2025-08-31T18:14:42.154188",
     "exception": false,
     "start_time": "2025-08-31T18:14:42.138101",
     "status": "completed"
    },
    "tags": []
   },
   "outputs": [
    {
     "name": "stdout",
     "output_type": "stream",
     "text": [
      "ResNet(\n",
      "  (conv1): Conv2d(3, 64, kernel_size=(7, 7), stride=(2, 2), padding=(3, 3), bias=False)\n",
      "  (bn1): BatchNorm2d(64, eps=1e-05, momentum=0.1, affine=True, track_running_stats=True)\n",
      "  (relu): ReLU(inplace=True)\n",
      "  (maxpool): MaxPool2d(kernel_size=3, stride=2, padding=1, dilation=1, ceil_mode=False)\n",
      "  (layer1): Sequential(\n",
      "    (0): Bottleneck(\n",
      "      (conv1): Conv2d(64, 64, kernel_size=(1, 1), stride=(1, 1), bias=False)\n",
      "      (bn1): BatchNorm2d(64, eps=1e-05, momentum=0.1, affine=True, track_running_stats=True)\n",
      "      (conv2): Conv2d(64, 64, kernel_size=(3, 3), stride=(1, 1), padding=(1, 1), bias=False)\n",
      "      (bn2): BatchNorm2d(64, eps=1e-05, momentum=0.1, affine=True, track_running_stats=True)\n",
      "      (conv3): Conv2d(64, 256, kernel_size=(1, 1), stride=(1, 1), bias=False)\n",
      "      (bn3): BatchNorm2d(256, eps=1e-05, momentum=0.1, affine=True, track_running_stats=True)\n",
      "      (relu): ReLU(inplace=True)\n",
      "      (downsample): Sequential(\n",
      "        (0): Conv2d(64, 256, kernel_size=(1, 1), stride=(1, 1), bias=False)\n",
      "        (1): BatchNorm2d(256, eps=1e-05, momentum=0.1, affine=True, track_running_stats=True)\n",
      "      )\n",
      "    )\n",
      "    (1): Bottleneck(\n",
      "      (conv1): Conv2d(256, 64, kernel_size=(1, 1), stride=(1, 1), bias=False)\n",
      "      (bn1): BatchNorm2d(64, eps=1e-05, momentum=0.1, affine=True, track_running_stats=True)\n",
      "      (conv2): Conv2d(64, 64, kernel_size=(3, 3), stride=(1, 1), padding=(1, 1), bias=False)\n",
      "      (bn2): BatchNorm2d(64, eps=1e-05, momentum=0.1, affine=True, track_running_stats=True)\n",
      "      (conv3): Conv2d(64, 256, kernel_size=(1, 1), stride=(1, 1), bias=False)\n",
      "      (bn3): BatchNorm2d(256, eps=1e-05, momentum=0.1, affine=True, track_running_stats=True)\n",
      "      (relu): ReLU(inplace=True)\n",
      "    )\n",
      "    (2): Bottleneck(\n",
      "      (conv1): Conv2d(256, 64, kernel_size=(1, 1), stride=(1, 1), bias=False)\n",
      "      (bn1): BatchNorm2d(64, eps=1e-05, momentum=0.1, affine=True, track_running_stats=True)\n",
      "      (conv2): Conv2d(64, 64, kernel_size=(3, 3), stride=(1, 1), padding=(1, 1), bias=False)\n",
      "      (bn2): BatchNorm2d(64, eps=1e-05, momentum=0.1, affine=True, track_running_stats=True)\n",
      "      (conv3): Conv2d(64, 256, kernel_size=(1, 1), stride=(1, 1), bias=False)\n",
      "      (bn3): BatchNorm2d(256, eps=1e-05, momentum=0.1, affine=True, track_running_stats=True)\n",
      "      (relu): ReLU(inplace=True)\n",
      "    )\n",
      "  )\n",
      "  (layer2): Sequential(\n",
      "    (0): Bottleneck(\n",
      "      (conv1): Conv2d(256, 128, kernel_size=(1, 1), stride=(1, 1), bias=False)\n",
      "      (bn1): BatchNorm2d(128, eps=1e-05, momentum=0.1, affine=True, track_running_stats=True)\n",
      "      (conv2): Conv2d(128, 128, kernel_size=(3, 3), stride=(2, 2), padding=(1, 1), bias=False)\n",
      "      (bn2): BatchNorm2d(128, eps=1e-05, momentum=0.1, affine=True, track_running_stats=True)\n",
      "      (conv3): Conv2d(128, 512, kernel_size=(1, 1), stride=(1, 1), bias=False)\n",
      "      (bn3): BatchNorm2d(512, eps=1e-05, momentum=0.1, affine=True, track_running_stats=True)\n",
      "      (relu): ReLU(inplace=True)\n",
      "      (downsample): Sequential(\n",
      "        (0): Conv2d(256, 512, kernel_size=(1, 1), stride=(2, 2), bias=False)\n",
      "        (1): BatchNorm2d(512, eps=1e-05, momentum=0.1, affine=True, track_running_stats=True)\n",
      "      )\n",
      "    )\n",
      "    (1): Bottleneck(\n",
      "      (conv1): Conv2d(512, 128, kernel_size=(1, 1), stride=(1, 1), bias=False)\n",
      "      (bn1): BatchNorm2d(128, eps=1e-05, momentum=0.1, affine=True, track_running_stats=True)\n",
      "      (conv2): Conv2d(128, 128, kernel_size=(3, 3), stride=(1, 1), padding=(1, 1), bias=False)\n",
      "      (bn2): BatchNorm2d(128, eps=1e-05, momentum=0.1, affine=True, track_running_stats=True)\n",
      "      (conv3): Conv2d(128, 512, kernel_size=(1, 1), stride=(1, 1), bias=False)\n",
      "      (bn3): BatchNorm2d(512, eps=1e-05, momentum=0.1, affine=True, track_running_stats=True)\n",
      "      (relu): ReLU(inplace=True)\n",
      "    )\n",
      "    (2): Bottleneck(\n",
      "      (conv1): Conv2d(512, 128, kernel_size=(1, 1), stride=(1, 1), bias=False)\n",
      "      (bn1): BatchNorm2d(128, eps=1e-05, momentum=0.1, affine=True, track_running_stats=True)\n",
      "      (conv2): Conv2d(128, 128, kernel_size=(3, 3), stride=(1, 1), padding=(1, 1), bias=False)\n",
      "      (bn2): BatchNorm2d(128, eps=1e-05, momentum=0.1, affine=True, track_running_stats=True)\n",
      "      (conv3): Conv2d(128, 512, kernel_size=(1, 1), stride=(1, 1), bias=False)\n",
      "      (bn3): BatchNorm2d(512, eps=1e-05, momentum=0.1, affine=True, track_running_stats=True)\n",
      "      (relu): ReLU(inplace=True)\n",
      "    )\n",
      "    (3): Bottleneck(\n",
      "      (conv1): Conv2d(512, 128, kernel_size=(1, 1), stride=(1, 1), bias=False)\n",
      "      (bn1): BatchNorm2d(128, eps=1e-05, momentum=0.1, affine=True, track_running_stats=True)\n",
      "      (conv2): Conv2d(128, 128, kernel_size=(3, 3), stride=(1, 1), padding=(1, 1), bias=False)\n",
      "      (bn2): BatchNorm2d(128, eps=1e-05, momentum=0.1, affine=True, track_running_stats=True)\n",
      "      (conv3): Conv2d(128, 512, kernel_size=(1, 1), stride=(1, 1), bias=False)\n",
      "      (bn3): BatchNorm2d(512, eps=1e-05, momentum=0.1, affine=True, track_running_stats=True)\n",
      "      (relu): ReLU(inplace=True)\n",
      "    )\n",
      "  )\n",
      "  (layer3): Sequential(\n",
      "    (0): Bottleneck(\n",
      "      (conv1): Conv2d(512, 256, kernel_size=(1, 1), stride=(1, 1), bias=False)\n",
      "      (bn1): BatchNorm2d(256, eps=1e-05, momentum=0.1, affine=True, track_running_stats=True)\n",
      "      (conv2): Conv2d(256, 256, kernel_size=(3, 3), stride=(2, 2), padding=(1, 1), bias=False)\n",
      "      (bn2): BatchNorm2d(256, eps=1e-05, momentum=0.1, affine=True, track_running_stats=True)\n",
      "      (conv3): Conv2d(256, 1024, kernel_size=(1, 1), stride=(1, 1), bias=False)\n",
      "      (bn3): BatchNorm2d(1024, eps=1e-05, momentum=0.1, affine=True, track_running_stats=True)\n",
      "      (relu): ReLU(inplace=True)\n",
      "      (downsample): Sequential(\n",
      "        (0): Conv2d(512, 1024, kernel_size=(1, 1), stride=(2, 2), bias=False)\n",
      "        (1): BatchNorm2d(1024, eps=1e-05, momentum=0.1, affine=True, track_running_stats=True)\n",
      "      )\n",
      "    )\n",
      "    (1): Bottleneck(\n",
      "      (conv1): Conv2d(1024, 256, kernel_size=(1, 1), stride=(1, 1), bias=False)\n",
      "      (bn1): BatchNorm2d(256, eps=1e-05, momentum=0.1, affine=True, track_running_stats=True)\n",
      "      (conv2): Conv2d(256, 256, kernel_size=(3, 3), stride=(1, 1), padding=(1, 1), bias=False)\n",
      "      (bn2): BatchNorm2d(256, eps=1e-05, momentum=0.1, affine=True, track_running_stats=True)\n",
      "      (conv3): Conv2d(256, 1024, kernel_size=(1, 1), stride=(1, 1), bias=False)\n",
      "      (bn3): BatchNorm2d(1024, eps=1e-05, momentum=0.1, affine=True, track_running_stats=True)\n",
      "      (relu): ReLU(inplace=True)\n",
      "    )\n",
      "    (2): Bottleneck(\n",
      "      (conv1): Conv2d(1024, 256, kernel_size=(1, 1), stride=(1, 1), bias=False)\n",
      "      (bn1): BatchNorm2d(256, eps=1e-05, momentum=0.1, affine=True, track_running_stats=True)\n",
      "      (conv2): Conv2d(256, 256, kernel_size=(3, 3), stride=(1, 1), padding=(1, 1), bias=False)\n",
      "      (bn2): BatchNorm2d(256, eps=1e-05, momentum=0.1, affine=True, track_running_stats=True)\n",
      "      (conv3): Conv2d(256, 1024, kernel_size=(1, 1), stride=(1, 1), bias=False)\n",
      "      (bn3): BatchNorm2d(1024, eps=1e-05, momentum=0.1, affine=True, track_running_stats=True)\n",
      "      (relu): ReLU(inplace=True)\n",
      "    )\n",
      "    (3): Bottleneck(\n",
      "      (conv1): Conv2d(1024, 256, kernel_size=(1, 1), stride=(1, 1), bias=False)\n",
      "      (bn1): BatchNorm2d(256, eps=1e-05, momentum=0.1, affine=True, track_running_stats=True)\n",
      "      (conv2): Conv2d(256, 256, kernel_size=(3, 3), stride=(1, 1), padding=(1, 1), bias=False)\n",
      "      (bn2): BatchNorm2d(256, eps=1e-05, momentum=0.1, affine=True, track_running_stats=True)\n",
      "      (conv3): Conv2d(256, 1024, kernel_size=(1, 1), stride=(1, 1), bias=False)\n",
      "      (bn3): BatchNorm2d(1024, eps=1e-05, momentum=0.1, affine=True, track_running_stats=True)\n",
      "      (relu): ReLU(inplace=True)\n",
      "    )\n",
      "    (4): Bottleneck(\n",
      "      (conv1): Conv2d(1024, 256, kernel_size=(1, 1), stride=(1, 1), bias=False)\n",
      "      (bn1): BatchNorm2d(256, eps=1e-05, momentum=0.1, affine=True, track_running_stats=True)\n",
      "      (conv2): Conv2d(256, 256, kernel_size=(3, 3), stride=(1, 1), padding=(1, 1), bias=False)\n",
      "      (bn2): BatchNorm2d(256, eps=1e-05, momentum=0.1, affine=True, track_running_stats=True)\n",
      "      (conv3): Conv2d(256, 1024, kernel_size=(1, 1), stride=(1, 1), bias=False)\n",
      "      (bn3): BatchNorm2d(1024, eps=1e-05, momentum=0.1, affine=True, track_running_stats=True)\n",
      "      (relu): ReLU(inplace=True)\n",
      "    )\n",
      "    (5): Bottleneck(\n",
      "      (conv1): Conv2d(1024, 256, kernel_size=(1, 1), stride=(1, 1), bias=False)\n",
      "      (bn1): BatchNorm2d(256, eps=1e-05, momentum=0.1, affine=True, track_running_stats=True)\n",
      "      (conv2): Conv2d(256, 256, kernel_size=(3, 3), stride=(1, 1), padding=(1, 1), bias=False)\n",
      "      (bn2): BatchNorm2d(256, eps=1e-05, momentum=0.1, affine=True, track_running_stats=True)\n",
      "      (conv3): Conv2d(256, 1024, kernel_size=(1, 1), stride=(1, 1), bias=False)\n",
      "      (bn3): BatchNorm2d(1024, eps=1e-05, momentum=0.1, affine=True, track_running_stats=True)\n",
      "      (relu): ReLU(inplace=True)\n",
      "    )\n",
      "  )\n",
      "  (layer4): Sequential(\n",
      "    (0): Bottleneck(\n",
      "      (conv1): Conv2d(1024, 512, kernel_size=(1, 1), stride=(1, 1), bias=False)\n",
      "      (bn1): BatchNorm2d(512, eps=1e-05, momentum=0.1, affine=True, track_running_stats=True)\n",
      "      (conv2): Conv2d(512, 512, kernel_size=(3, 3), stride=(2, 2), padding=(1, 1), bias=False)\n",
      "      (bn2): BatchNorm2d(512, eps=1e-05, momentum=0.1, affine=True, track_running_stats=True)\n",
      "      (conv3): Conv2d(512, 2048, kernel_size=(1, 1), stride=(1, 1), bias=False)\n",
      "      (bn3): BatchNorm2d(2048, eps=1e-05, momentum=0.1, affine=True, track_running_stats=True)\n",
      "      (relu): ReLU(inplace=True)\n",
      "      (downsample): Sequential(\n",
      "        (0): Conv2d(1024, 2048, kernel_size=(1, 1), stride=(2, 2), bias=False)\n",
      "        (1): BatchNorm2d(2048, eps=1e-05, momentum=0.1, affine=True, track_running_stats=True)\n",
      "      )\n",
      "    )\n",
      "    (1): Bottleneck(\n",
      "      (conv1): Conv2d(2048, 512, kernel_size=(1, 1), stride=(1, 1), bias=False)\n",
      "      (bn1): BatchNorm2d(512, eps=1e-05, momentum=0.1, affine=True, track_running_stats=True)\n",
      "      (conv2): Conv2d(512, 512, kernel_size=(3, 3), stride=(1, 1), padding=(1, 1), bias=False)\n",
      "      (bn2): BatchNorm2d(512, eps=1e-05, momentum=0.1, affine=True, track_running_stats=True)\n",
      "      (conv3): Conv2d(512, 2048, kernel_size=(1, 1), stride=(1, 1), bias=False)\n",
      "      (bn3): BatchNorm2d(2048, eps=1e-05, momentum=0.1, affine=True, track_running_stats=True)\n",
      "      (relu): ReLU(inplace=True)\n",
      "    )\n",
      "    (2): Bottleneck(\n",
      "      (conv1): Conv2d(2048, 512, kernel_size=(1, 1), stride=(1, 1), bias=False)\n",
      "      (bn1): BatchNorm2d(512, eps=1e-05, momentum=0.1, affine=True, track_running_stats=True)\n",
      "      (conv2): Conv2d(512, 512, kernel_size=(3, 3), stride=(1, 1), padding=(1, 1), bias=False)\n",
      "      (bn2): BatchNorm2d(512, eps=1e-05, momentum=0.1, affine=True, track_running_stats=True)\n",
      "      (conv3): Conv2d(512, 2048, kernel_size=(1, 1), stride=(1, 1), bias=False)\n",
      "      (bn3): BatchNorm2d(2048, eps=1e-05, momentum=0.1, affine=True, track_running_stats=True)\n",
      "      (relu): ReLU(inplace=True)\n",
      "    )\n",
      "  )\n",
      "  (avgpool): AdaptiveAvgPool2d(output_size=(1, 1))\n",
      "  (fc): Linear(in_features=2048, out_features=10, bias=True)\n",
      ")\n"
     ]
    }
   ],
   "source": [
    "# In the case of ResNet, the final classifier variable is named `fc`. \n",
    "# Replace it with a Linear layer where out_features = 10.\n",
    "num_in_features = resnet_model.fc.in_features\n",
    "resnet_model.fc = nn.Linear(in_features=num_in_features, out_features=NUM_CLASSES)\n",
    "\n",
    "# resnet_model.fc = nn.Linear(in_features=2048, out_features=10, bias=True)\n",
    "print(resnet_model)\n"
   ]
  },
  {
   "cell_type": "code",
   "execution_count": 15,
   "id": "10d99c01",
   "metadata": {
    "execution": {
     "iopub.execute_input": "2025-08-31T18:14:42.172220Z",
     "iopub.status.busy": "2025-08-31T18:14:42.172023Z",
     "iopub.status.idle": "2025-08-31T18:14:42.184568Z",
     "shell.execute_reply": "2025-08-31T18:14:42.183784Z"
    },
    "papermill": {
     "duration": 0.023062,
     "end_time": "2025-08-31T18:14:42.185825",
     "exception": false,
     "start_time": "2025-08-31T18:14:42.162763",
     "status": "completed"
    },
    "tags": []
   },
   "outputs": [
    {
     "name": "stdout",
     "output_type": "stream",
     "text": [
      "ResNet(\n",
      "  (conv1): Conv2d(3, 64, kernel_size=(7, 7), stride=(2, 2), padding=(3, 3), bias=False)\n",
      "  (bn1): BatchNorm2d(64, eps=1e-05, momentum=0.1, affine=True, track_running_stats=True)\n",
      "  (relu): ReLU(inplace=True)\n",
      "  (maxpool): MaxPool2d(kernel_size=3, stride=2, padding=1, dilation=1, ceil_mode=False)\n",
      "  (layer1): Sequential(\n",
      "    (0): Bottleneck(\n",
      "      (conv1): Conv2d(64, 64, kernel_size=(1, 1), stride=(1, 1), bias=False)\n",
      "      (bn1): BatchNorm2d(64, eps=1e-05, momentum=0.1, affine=True, track_running_stats=True)\n",
      "      (conv2): Conv2d(64, 64, kernel_size=(3, 3), stride=(1, 1), padding=(1, 1), bias=False)\n",
      "      (bn2): BatchNorm2d(64, eps=1e-05, momentum=0.1, affine=True, track_running_stats=True)\n",
      "      (conv3): Conv2d(64, 256, kernel_size=(1, 1), stride=(1, 1), bias=False)\n",
      "      (bn3): BatchNorm2d(256, eps=1e-05, momentum=0.1, affine=True, track_running_stats=True)\n",
      "      (relu): ReLU(inplace=True)\n",
      "      (downsample): Sequential(\n",
      "        (0): Conv2d(64, 256, kernel_size=(1, 1), stride=(1, 1), bias=False)\n",
      "        (1): BatchNorm2d(256, eps=1e-05, momentum=0.1, affine=True, track_running_stats=True)\n",
      "      )\n",
      "    )\n",
      "    (1): Bottleneck(\n",
      "      (conv1): Conv2d(256, 64, kernel_size=(1, 1), stride=(1, 1), bias=False)\n",
      "      (bn1): BatchNorm2d(64, eps=1e-05, momentum=0.1, affine=True, track_running_stats=True)\n",
      "      (conv2): Conv2d(64, 64, kernel_size=(3, 3), stride=(1, 1), padding=(1, 1), bias=False)\n",
      "      (bn2): BatchNorm2d(64, eps=1e-05, momentum=0.1, affine=True, track_running_stats=True)\n",
      "      (conv3): Conv2d(64, 256, kernel_size=(1, 1), stride=(1, 1), bias=False)\n",
      "      (bn3): BatchNorm2d(256, eps=1e-05, momentum=0.1, affine=True, track_running_stats=True)\n",
      "      (relu): ReLU(inplace=True)\n",
      "    )\n",
      "    (2): Bottleneck(\n",
      "      (conv1): Conv2d(256, 64, kernel_size=(1, 1), stride=(1, 1), bias=False)\n",
      "      (bn1): BatchNorm2d(64, eps=1e-05, momentum=0.1, affine=True, track_running_stats=True)\n",
      "      (conv2): Conv2d(64, 64, kernel_size=(3, 3), stride=(1, 1), padding=(1, 1), bias=False)\n",
      "      (bn2): BatchNorm2d(64, eps=1e-05, momentum=0.1, affine=True, track_running_stats=True)\n",
      "      (conv3): Conv2d(64, 256, kernel_size=(1, 1), stride=(1, 1), bias=False)\n",
      "      (bn3): BatchNorm2d(256, eps=1e-05, momentum=0.1, affine=True, track_running_stats=True)\n",
      "      (relu): ReLU(inplace=True)\n",
      "    )\n",
      "  )\n",
      "  (layer2): Sequential(\n",
      "    (0): Bottleneck(\n",
      "      (conv1): Conv2d(256, 128, kernel_size=(1, 1), stride=(1, 1), bias=False)\n",
      "      (bn1): BatchNorm2d(128, eps=1e-05, momentum=0.1, affine=True, track_running_stats=True)\n",
      "      (conv2): Conv2d(128, 128, kernel_size=(3, 3), stride=(2, 2), padding=(1, 1), bias=False)\n",
      "      (bn2): BatchNorm2d(128, eps=1e-05, momentum=0.1, affine=True, track_running_stats=True)\n",
      "      (conv3): Conv2d(128, 512, kernel_size=(1, 1), stride=(1, 1), bias=False)\n",
      "      (bn3): BatchNorm2d(512, eps=1e-05, momentum=0.1, affine=True, track_running_stats=True)\n",
      "      (relu): ReLU(inplace=True)\n",
      "      (downsample): Sequential(\n",
      "        (0): Conv2d(256, 512, kernel_size=(1, 1), stride=(2, 2), bias=False)\n",
      "        (1): BatchNorm2d(512, eps=1e-05, momentum=0.1, affine=True, track_running_stats=True)\n",
      "      )\n",
      "    )\n",
      "    (1): Bottleneck(\n",
      "      (conv1): Conv2d(512, 128, kernel_size=(1, 1), stride=(1, 1), bias=False)\n",
      "      (bn1): BatchNorm2d(128, eps=1e-05, momentum=0.1, affine=True, track_running_stats=True)\n",
      "      (conv2): Conv2d(128, 128, kernel_size=(3, 3), stride=(1, 1), padding=(1, 1), bias=False)\n",
      "      (bn2): BatchNorm2d(128, eps=1e-05, momentum=0.1, affine=True, track_running_stats=True)\n",
      "      (conv3): Conv2d(128, 512, kernel_size=(1, 1), stride=(1, 1), bias=False)\n",
      "      (bn3): BatchNorm2d(512, eps=1e-05, momentum=0.1, affine=True, track_running_stats=True)\n",
      "      (relu): ReLU(inplace=True)\n",
      "    )\n",
      "    (2): Bottleneck(\n",
      "      (conv1): Conv2d(512, 128, kernel_size=(1, 1), stride=(1, 1), bias=False)\n",
      "      (bn1): BatchNorm2d(128, eps=1e-05, momentum=0.1, affine=True, track_running_stats=True)\n",
      "      (conv2): Conv2d(128, 128, kernel_size=(3, 3), stride=(1, 1), padding=(1, 1), bias=False)\n",
      "      (bn2): BatchNorm2d(128, eps=1e-05, momentum=0.1, affine=True, track_running_stats=True)\n",
      "      (conv3): Conv2d(128, 512, kernel_size=(1, 1), stride=(1, 1), bias=False)\n",
      "      (bn3): BatchNorm2d(512, eps=1e-05, momentum=0.1, affine=True, track_running_stats=True)\n",
      "      (relu): ReLU(inplace=True)\n",
      "    )\n",
      "    (3): Bottleneck(\n",
      "      (conv1): Conv2d(512, 128, kernel_size=(1, 1), stride=(1, 1), bias=False)\n",
      "      (bn1): BatchNorm2d(128, eps=1e-05, momentum=0.1, affine=True, track_running_stats=True)\n",
      "      (conv2): Conv2d(128, 128, kernel_size=(3, 3), stride=(1, 1), padding=(1, 1), bias=False)\n",
      "      (bn2): BatchNorm2d(128, eps=1e-05, momentum=0.1, affine=True, track_running_stats=True)\n",
      "      (conv3): Conv2d(128, 512, kernel_size=(1, 1), stride=(1, 1), bias=False)\n",
      "      (bn3): BatchNorm2d(512, eps=1e-05, momentum=0.1, affine=True, track_running_stats=True)\n",
      "      (relu): ReLU(inplace=True)\n",
      "    )\n",
      "  )\n",
      "  (layer3): Sequential(\n",
      "    (0): Bottleneck(\n",
      "      (conv1): Conv2d(512, 256, kernel_size=(1, 1), stride=(1, 1), bias=False)\n",
      "      (bn1): BatchNorm2d(256, eps=1e-05, momentum=0.1, affine=True, track_running_stats=True)\n",
      "      (conv2): Conv2d(256, 256, kernel_size=(3, 3), stride=(2, 2), padding=(1, 1), bias=False)\n",
      "      (bn2): BatchNorm2d(256, eps=1e-05, momentum=0.1, affine=True, track_running_stats=True)\n",
      "      (conv3): Conv2d(256, 1024, kernel_size=(1, 1), stride=(1, 1), bias=False)\n",
      "      (bn3): BatchNorm2d(1024, eps=1e-05, momentum=0.1, affine=True, track_running_stats=True)\n",
      "      (relu): ReLU(inplace=True)\n",
      "      (downsample): Sequential(\n",
      "        (0): Conv2d(512, 1024, kernel_size=(1, 1), stride=(2, 2), bias=False)\n",
      "        (1): BatchNorm2d(1024, eps=1e-05, momentum=0.1, affine=True, track_running_stats=True)\n",
      "      )\n",
      "    )\n",
      "    (1): Bottleneck(\n",
      "      (conv1): Conv2d(1024, 256, kernel_size=(1, 1), stride=(1, 1), bias=False)\n",
      "      (bn1): BatchNorm2d(256, eps=1e-05, momentum=0.1, affine=True, track_running_stats=True)\n",
      "      (conv2): Conv2d(256, 256, kernel_size=(3, 3), stride=(1, 1), padding=(1, 1), bias=False)\n",
      "      (bn2): BatchNorm2d(256, eps=1e-05, momentum=0.1, affine=True, track_running_stats=True)\n",
      "      (conv3): Conv2d(256, 1024, kernel_size=(1, 1), stride=(1, 1), bias=False)\n",
      "      (bn3): BatchNorm2d(1024, eps=1e-05, momentum=0.1, affine=True, track_running_stats=True)\n",
      "      (relu): ReLU(inplace=True)\n",
      "    )\n",
      "    (2): Bottleneck(\n",
      "      (conv1): Conv2d(1024, 256, kernel_size=(1, 1), stride=(1, 1), bias=False)\n",
      "      (bn1): BatchNorm2d(256, eps=1e-05, momentum=0.1, affine=True, track_running_stats=True)\n",
      "      (conv2): Conv2d(256, 256, kernel_size=(3, 3), stride=(1, 1), padding=(1, 1), bias=False)\n",
      "      (bn2): BatchNorm2d(256, eps=1e-05, momentum=0.1, affine=True, track_running_stats=True)\n",
      "      (conv3): Conv2d(256, 1024, kernel_size=(1, 1), stride=(1, 1), bias=False)\n",
      "      (bn3): BatchNorm2d(1024, eps=1e-05, momentum=0.1, affine=True, track_running_stats=True)\n",
      "      (relu): ReLU(inplace=True)\n",
      "    )\n",
      "    (3): Bottleneck(\n",
      "      (conv1): Conv2d(1024, 256, kernel_size=(1, 1), stride=(1, 1), bias=False)\n",
      "      (bn1): BatchNorm2d(256, eps=1e-05, momentum=0.1, affine=True, track_running_stats=True)\n",
      "      (conv2): Conv2d(256, 256, kernel_size=(3, 3), stride=(1, 1), padding=(1, 1), bias=False)\n",
      "      (bn2): BatchNorm2d(256, eps=1e-05, momentum=0.1, affine=True, track_running_stats=True)\n",
      "      (conv3): Conv2d(256, 1024, kernel_size=(1, 1), stride=(1, 1), bias=False)\n",
      "      (bn3): BatchNorm2d(1024, eps=1e-05, momentum=0.1, affine=True, track_running_stats=True)\n",
      "      (relu): ReLU(inplace=True)\n",
      "    )\n",
      "    (4): Bottleneck(\n",
      "      (conv1): Conv2d(1024, 256, kernel_size=(1, 1), stride=(1, 1), bias=False)\n",
      "      (bn1): BatchNorm2d(256, eps=1e-05, momentum=0.1, affine=True, track_running_stats=True)\n",
      "      (conv2): Conv2d(256, 256, kernel_size=(3, 3), stride=(1, 1), padding=(1, 1), bias=False)\n",
      "      (bn2): BatchNorm2d(256, eps=1e-05, momentum=0.1, affine=True, track_running_stats=True)\n",
      "      (conv3): Conv2d(256, 1024, kernel_size=(1, 1), stride=(1, 1), bias=False)\n",
      "      (bn3): BatchNorm2d(1024, eps=1e-05, momentum=0.1, affine=True, track_running_stats=True)\n",
      "      (relu): ReLU(inplace=True)\n",
      "    )\n",
      "    (5): Bottleneck(\n",
      "      (conv1): Conv2d(1024, 256, kernel_size=(1, 1), stride=(1, 1), bias=False)\n",
      "      (bn1): BatchNorm2d(256, eps=1e-05, momentum=0.1, affine=True, track_running_stats=True)\n",
      "      (conv2): Conv2d(256, 256, kernel_size=(3, 3), stride=(1, 1), padding=(1, 1), bias=False)\n",
      "      (bn2): BatchNorm2d(256, eps=1e-05, momentum=0.1, affine=True, track_running_stats=True)\n",
      "      (conv3): Conv2d(256, 1024, kernel_size=(1, 1), stride=(1, 1), bias=False)\n",
      "      (bn3): BatchNorm2d(1024, eps=1e-05, momentum=0.1, affine=True, track_running_stats=True)\n",
      "      (relu): ReLU(inplace=True)\n",
      "    )\n",
      "  )\n",
      "  (layer4): Sequential(\n",
      "    (0): Bottleneck(\n",
      "      (conv1): Conv2d(1024, 512, kernel_size=(1, 1), stride=(1, 1), bias=False)\n",
      "      (bn1): BatchNorm2d(512, eps=1e-05, momentum=0.1, affine=True, track_running_stats=True)\n",
      "      (conv2): Conv2d(512, 512, kernel_size=(3, 3), stride=(2, 2), padding=(1, 1), bias=False)\n",
      "      (bn2): BatchNorm2d(512, eps=1e-05, momentum=0.1, affine=True, track_running_stats=True)\n",
      "      (conv3): Conv2d(512, 2048, kernel_size=(1, 1), stride=(1, 1), bias=False)\n",
      "      (bn3): BatchNorm2d(2048, eps=1e-05, momentum=0.1, affine=True, track_running_stats=True)\n",
      "      (relu): ReLU(inplace=True)\n",
      "      (downsample): Sequential(\n",
      "        (0): Conv2d(1024, 2048, kernel_size=(1, 1), stride=(2, 2), bias=False)\n",
      "        (1): BatchNorm2d(2048, eps=1e-05, momentum=0.1, affine=True, track_running_stats=True)\n",
      "      )\n",
      "    )\n",
      "    (1): Bottleneck(\n",
      "      (conv1): Conv2d(2048, 512, kernel_size=(1, 1), stride=(1, 1), bias=False)\n",
      "      (bn1): BatchNorm2d(512, eps=1e-05, momentum=0.1, affine=True, track_running_stats=True)\n",
      "      (conv2): Conv2d(512, 512, kernel_size=(3, 3), stride=(1, 1), padding=(1, 1), bias=False)\n",
      "      (bn2): BatchNorm2d(512, eps=1e-05, momentum=0.1, affine=True, track_running_stats=True)\n",
      "      (conv3): Conv2d(512, 2048, kernel_size=(1, 1), stride=(1, 1), bias=False)\n",
      "      (bn3): BatchNorm2d(2048, eps=1e-05, momentum=0.1, affine=True, track_running_stats=True)\n",
      "      (relu): ReLU(inplace=True)\n",
      "    )\n",
      "    (2): Bottleneck(\n",
      "      (conv1): Conv2d(2048, 512, kernel_size=(1, 1), stride=(1, 1), bias=False)\n",
      "      (bn1): BatchNorm2d(512, eps=1e-05, momentum=0.1, affine=True, track_running_stats=True)\n",
      "      (conv2): Conv2d(512, 512, kernel_size=(3, 3), stride=(1, 1), padding=(1, 1), bias=False)\n",
      "      (bn2): BatchNorm2d(512, eps=1e-05, momentum=0.1, affine=True, track_running_stats=True)\n",
      "      (conv3): Conv2d(512, 2048, kernel_size=(1, 1), stride=(1, 1), bias=False)\n",
      "      (bn3): BatchNorm2d(2048, eps=1e-05, momentum=0.1, affine=True, track_running_stats=True)\n",
      "      (relu): ReLU(inplace=True)\n",
      "    )\n",
      "  )\n",
      "  (avgpool): AdaptiveAvgPool2d(output_size=(1, 1))\n",
      "  (fc): Sequential(\n",
      "    (0): Dropout(p=0.5, inplace=False)\n",
      "    (1): Linear(in_features=2048, out_features=512, bias=True)\n",
      "    (2): ReLU()\n",
      "    (3): Dropout(p=0.3, inplace=False)\n",
      "    (4): Linear(in_features=512, out_features=128, bias=True)\n",
      "    (5): ReLU()\n",
      "    (6): Dropout(p=0.2, inplace=False)\n",
      "    (7): Linear(in_features=128, out_features=10, bias=True)\n",
      "  )\n",
      ")\n"
     ]
    }
   ],
   "source": [
    "# Or completely redefine the final layer structure\n",
    "resnet_model.fc = nn.Sequential(\n",
    "                    nn.Dropout(0.5),\n",
    "                    nn.Linear(in_features=2048, out_features=512),\n",
    "                    nn.ReLU(),\n",
    "                    nn.Dropout(0.3),\n",
    "                    nn.Linear(in_features=512, out_features=128),\n",
    "                    nn.ReLU(),\n",
    "                    nn.Dropout(0.2),\n",
    "                    nn.Linear(in_features=128, out_features=NUM_CLASSES)\n",
    ")\n",
    "print(resnet_model)\n"
   ]
  },
  {
   "cell_type": "markdown",
   "id": "91780488",
   "metadata": {
    "papermill": {
     "duration": 0.008724,
     "end_time": "2025-08-31T18:14:42.203601",
     "exception": false,
     "start_time": "2025-08-31T18:14:42.194877",
     "status": "completed"
    },
    "tags": []
   },
   "source": [
    "### Checking the Default Transforms Applied to a Pretrained Model (Weights)\n",
    "\n",
    "* Call the `transforms()` method on the **Weights** object to see the default preprocessing transforms that are applied.\n",
    "* These transforms typically include **resize, crop, normalization, and tensor conversion**, which match the requirements of the pretrained model.\n",
    "* When running inference with a pretrained model, you can use these transforms to make sure your input images are processed into the correct **size and normalization range** expected by the model.\n"
   ]
  },
  {
   "cell_type": "code",
   "execution_count": 16,
   "id": "55b042f2",
   "metadata": {
    "execution": {
     "iopub.execute_input": "2025-08-31T18:14:42.222351Z",
     "iopub.status.busy": "2025-08-31T18:14:42.221873Z",
     "iopub.status.idle": "2025-08-31T18:14:42.226065Z",
     "shell.execute_reply": "2025-08-31T18:14:42.225418Z"
    },
    "papermill": {
     "duration": 0.014685,
     "end_time": "2025-08-31T18:14:42.227129",
     "exception": false,
     "start_time": "2025-08-31T18:14:42.212444",
     "status": "completed"
    },
    "tags": []
   },
   "outputs": [
    {
     "name": "stdout",
     "output_type": "stream",
     "text": [
      "ImageClassification(\n",
      "    crop_size=[224]\n",
      "    resize_size=[232]\n",
      "    mean=[0.485, 0.456, 0.406]\n",
      "    std=[0.229, 0.224, 0.225]\n",
      "    interpolation=InterpolationMode.BILINEAR\n",
      ")\n"
     ]
    }
   ],
   "source": [
    "from torchvision import models\n",
    "\n",
    "resnet_weights = models.ResNet50_Weights.IMAGENET1K_V2# or ResNet50_Weights.DEFAULT\n",
    "resnet_transforms = resnet_weights.transforms()\n",
    "\n",
    "print(resnet_transforms)"
   ]
  },
  {
   "cell_type": "markdown",
   "id": "012860bf",
   "metadata": {
    "papermill": {
     "duration": 0.053558,
     "end_time": "2025-08-31T18:14:42.289658",
     "exception": false,
     "start_time": "2025-08-31T18:14:42.236100",
     "status": "completed"
    },
    "tags": []
   },
   "source": [
    "### Performing a Dog vs. Cat Classification Model Based on a Pretrained Model\n"
   ]
  },
  {
   "cell_type": "markdown",
   "id": "2023f07c",
   "metadata": {
    "papermill": {
     "duration": 0.011485,
     "end_time": "2025-08-31T18:14:42.319232",
     "exception": false,
     "start_time": "2025-08-31T18:14:42.307747",
     "status": "completed"
    },
    "tags": []
   },
   "source": [
    "#### Create Custom Model function"
   ]
  },
  {
   "cell_type": "code",
   "execution_count": 17,
   "id": "75509c8c",
   "metadata": {
    "execution": {
     "iopub.execute_input": "2025-08-31T18:14:42.345461Z",
     "iopub.status.busy": "2025-08-31T18:14:42.345067Z",
     "iopub.status.idle": "2025-08-31T18:14:42.940301Z",
     "shell.execute_reply": "2025-08-31T18:14:42.939532Z"
    },
    "papermill": {
     "duration": 0.611007,
     "end_time": "2025-08-31T18:14:42.942349",
     "exception": false,
     "start_time": "2025-08-31T18:14:42.331342",
     "status": "completed"
    },
    "tags": []
   },
   "outputs": [
    {
     "name": "stdout",
     "output_type": "stream",
     "text": [
      "ResNet(\n",
      "  (conv1): Conv2d(3, 64, kernel_size=(7, 7), stride=(2, 2), padding=(3, 3), bias=False)\n",
      "  (bn1): BatchNorm2d(64, eps=1e-05, momentum=0.1, affine=True, track_running_stats=True)\n",
      "  (relu): ReLU(inplace=True)\n",
      "  (maxpool): MaxPool2d(kernel_size=3, stride=2, padding=1, dilation=1, ceil_mode=False)\n",
      "  (layer1): Sequential(\n",
      "    (0): Bottleneck(\n",
      "      (conv1): Conv2d(64, 64, kernel_size=(1, 1), stride=(1, 1), bias=False)\n",
      "      (bn1): BatchNorm2d(64, eps=1e-05, momentum=0.1, affine=True, track_running_stats=True)\n",
      "      (conv2): Conv2d(64, 64, kernel_size=(3, 3), stride=(1, 1), padding=(1, 1), bias=False)\n",
      "      (bn2): BatchNorm2d(64, eps=1e-05, momentum=0.1, affine=True, track_running_stats=True)\n",
      "      (conv3): Conv2d(64, 256, kernel_size=(1, 1), stride=(1, 1), bias=False)\n",
      "      (bn3): BatchNorm2d(256, eps=1e-05, momentum=0.1, affine=True, track_running_stats=True)\n",
      "      (relu): ReLU(inplace=True)\n",
      "      (downsample): Sequential(\n",
      "        (0): Conv2d(64, 256, kernel_size=(1, 1), stride=(1, 1), bias=False)\n",
      "        (1): BatchNorm2d(256, eps=1e-05, momentum=0.1, affine=True, track_running_stats=True)\n",
      "      )\n",
      "    )\n",
      "    (1): Bottleneck(\n",
      "      (conv1): Conv2d(256, 64, kernel_size=(1, 1), stride=(1, 1), bias=False)\n",
      "      (bn1): BatchNorm2d(64, eps=1e-05, momentum=0.1, affine=True, track_running_stats=True)\n",
      "      (conv2): Conv2d(64, 64, kernel_size=(3, 3), stride=(1, 1), padding=(1, 1), bias=False)\n",
      "      (bn2): BatchNorm2d(64, eps=1e-05, momentum=0.1, affine=True, track_running_stats=True)\n",
      "      (conv3): Conv2d(64, 256, kernel_size=(1, 1), stride=(1, 1), bias=False)\n",
      "      (bn3): BatchNorm2d(256, eps=1e-05, momentum=0.1, affine=True, track_running_stats=True)\n",
      "      (relu): ReLU(inplace=True)\n",
      "    )\n",
      "    (2): Bottleneck(\n",
      "      (conv1): Conv2d(256, 64, kernel_size=(1, 1), stride=(1, 1), bias=False)\n",
      "      (bn1): BatchNorm2d(64, eps=1e-05, momentum=0.1, affine=True, track_running_stats=True)\n",
      "      (conv2): Conv2d(64, 64, kernel_size=(3, 3), stride=(1, 1), padding=(1, 1), bias=False)\n",
      "      (bn2): BatchNorm2d(64, eps=1e-05, momentum=0.1, affine=True, track_running_stats=True)\n",
      "      (conv3): Conv2d(64, 256, kernel_size=(1, 1), stride=(1, 1), bias=False)\n",
      "      (bn3): BatchNorm2d(256, eps=1e-05, momentum=0.1, affine=True, track_running_stats=True)\n",
      "      (relu): ReLU(inplace=True)\n",
      "    )\n",
      "  )\n",
      "  (layer2): Sequential(\n",
      "    (0): Bottleneck(\n",
      "      (conv1): Conv2d(256, 128, kernel_size=(1, 1), stride=(1, 1), bias=False)\n",
      "      (bn1): BatchNorm2d(128, eps=1e-05, momentum=0.1, affine=True, track_running_stats=True)\n",
      "      (conv2): Conv2d(128, 128, kernel_size=(3, 3), stride=(2, 2), padding=(1, 1), bias=False)\n",
      "      (bn2): BatchNorm2d(128, eps=1e-05, momentum=0.1, affine=True, track_running_stats=True)\n",
      "      (conv3): Conv2d(128, 512, kernel_size=(1, 1), stride=(1, 1), bias=False)\n",
      "      (bn3): BatchNorm2d(512, eps=1e-05, momentum=0.1, affine=True, track_running_stats=True)\n",
      "      (relu): ReLU(inplace=True)\n",
      "      (downsample): Sequential(\n",
      "        (0): Conv2d(256, 512, kernel_size=(1, 1), stride=(2, 2), bias=False)\n",
      "        (1): BatchNorm2d(512, eps=1e-05, momentum=0.1, affine=True, track_running_stats=True)\n",
      "      )\n",
      "    )\n",
      "    (1): Bottleneck(\n",
      "      (conv1): Conv2d(512, 128, kernel_size=(1, 1), stride=(1, 1), bias=False)\n",
      "      (bn1): BatchNorm2d(128, eps=1e-05, momentum=0.1, affine=True, track_running_stats=True)\n",
      "      (conv2): Conv2d(128, 128, kernel_size=(3, 3), stride=(1, 1), padding=(1, 1), bias=False)\n",
      "      (bn2): BatchNorm2d(128, eps=1e-05, momentum=0.1, affine=True, track_running_stats=True)\n",
      "      (conv3): Conv2d(128, 512, kernel_size=(1, 1), stride=(1, 1), bias=False)\n",
      "      (bn3): BatchNorm2d(512, eps=1e-05, momentum=0.1, affine=True, track_running_stats=True)\n",
      "      (relu): ReLU(inplace=True)\n",
      "    )\n",
      "    (2): Bottleneck(\n",
      "      (conv1): Conv2d(512, 128, kernel_size=(1, 1), stride=(1, 1), bias=False)\n",
      "      (bn1): BatchNorm2d(128, eps=1e-05, momentum=0.1, affine=True, track_running_stats=True)\n",
      "      (conv2): Conv2d(128, 128, kernel_size=(3, 3), stride=(1, 1), padding=(1, 1), bias=False)\n",
      "      (bn2): BatchNorm2d(128, eps=1e-05, momentum=0.1, affine=True, track_running_stats=True)\n",
      "      (conv3): Conv2d(128, 512, kernel_size=(1, 1), stride=(1, 1), bias=False)\n",
      "      (bn3): BatchNorm2d(512, eps=1e-05, momentum=0.1, affine=True, track_running_stats=True)\n",
      "      (relu): ReLU(inplace=True)\n",
      "    )\n",
      "    (3): Bottleneck(\n",
      "      (conv1): Conv2d(512, 128, kernel_size=(1, 1), stride=(1, 1), bias=False)\n",
      "      (bn1): BatchNorm2d(128, eps=1e-05, momentum=0.1, affine=True, track_running_stats=True)\n",
      "      (conv2): Conv2d(128, 128, kernel_size=(3, 3), stride=(1, 1), padding=(1, 1), bias=False)\n",
      "      (bn2): BatchNorm2d(128, eps=1e-05, momentum=0.1, affine=True, track_running_stats=True)\n",
      "      (conv3): Conv2d(128, 512, kernel_size=(1, 1), stride=(1, 1), bias=False)\n",
      "      (bn3): BatchNorm2d(512, eps=1e-05, momentum=0.1, affine=True, track_running_stats=True)\n",
      "      (relu): ReLU(inplace=True)\n",
      "    )\n",
      "  )\n",
      "  (layer3): Sequential(\n",
      "    (0): Bottleneck(\n",
      "      (conv1): Conv2d(512, 256, kernel_size=(1, 1), stride=(1, 1), bias=False)\n",
      "      (bn1): BatchNorm2d(256, eps=1e-05, momentum=0.1, affine=True, track_running_stats=True)\n",
      "      (conv2): Conv2d(256, 256, kernel_size=(3, 3), stride=(2, 2), padding=(1, 1), bias=False)\n",
      "      (bn2): BatchNorm2d(256, eps=1e-05, momentum=0.1, affine=True, track_running_stats=True)\n",
      "      (conv3): Conv2d(256, 1024, kernel_size=(1, 1), stride=(1, 1), bias=False)\n",
      "      (bn3): BatchNorm2d(1024, eps=1e-05, momentum=0.1, affine=True, track_running_stats=True)\n",
      "      (relu): ReLU(inplace=True)\n",
      "      (downsample): Sequential(\n",
      "        (0): Conv2d(512, 1024, kernel_size=(1, 1), stride=(2, 2), bias=False)\n",
      "        (1): BatchNorm2d(1024, eps=1e-05, momentum=0.1, affine=True, track_running_stats=True)\n",
      "      )\n",
      "    )\n",
      "    (1): Bottleneck(\n",
      "      (conv1): Conv2d(1024, 256, kernel_size=(1, 1), stride=(1, 1), bias=False)\n",
      "      (bn1): BatchNorm2d(256, eps=1e-05, momentum=0.1, affine=True, track_running_stats=True)\n",
      "      (conv2): Conv2d(256, 256, kernel_size=(3, 3), stride=(1, 1), padding=(1, 1), bias=False)\n",
      "      (bn2): BatchNorm2d(256, eps=1e-05, momentum=0.1, affine=True, track_running_stats=True)\n",
      "      (conv3): Conv2d(256, 1024, kernel_size=(1, 1), stride=(1, 1), bias=False)\n",
      "      (bn3): BatchNorm2d(1024, eps=1e-05, momentum=0.1, affine=True, track_running_stats=True)\n",
      "      (relu): ReLU(inplace=True)\n",
      "    )\n",
      "    (2): Bottleneck(\n",
      "      (conv1): Conv2d(1024, 256, kernel_size=(1, 1), stride=(1, 1), bias=False)\n",
      "      (bn1): BatchNorm2d(256, eps=1e-05, momentum=0.1, affine=True, track_running_stats=True)\n",
      "      (conv2): Conv2d(256, 256, kernel_size=(3, 3), stride=(1, 1), padding=(1, 1), bias=False)\n",
      "      (bn2): BatchNorm2d(256, eps=1e-05, momentum=0.1, affine=True, track_running_stats=True)\n",
      "      (conv3): Conv2d(256, 1024, kernel_size=(1, 1), stride=(1, 1), bias=False)\n",
      "      (bn3): BatchNorm2d(1024, eps=1e-05, momentum=0.1, affine=True, track_running_stats=True)\n",
      "      (relu): ReLU(inplace=True)\n",
      "    )\n",
      "    (3): Bottleneck(\n",
      "      (conv1): Conv2d(1024, 256, kernel_size=(1, 1), stride=(1, 1), bias=False)\n",
      "      (bn1): BatchNorm2d(256, eps=1e-05, momentum=0.1, affine=True, track_running_stats=True)\n",
      "      (conv2): Conv2d(256, 256, kernel_size=(3, 3), stride=(1, 1), padding=(1, 1), bias=False)\n",
      "      (bn2): BatchNorm2d(256, eps=1e-05, momentum=0.1, affine=True, track_running_stats=True)\n",
      "      (conv3): Conv2d(256, 1024, kernel_size=(1, 1), stride=(1, 1), bias=False)\n",
      "      (bn3): BatchNorm2d(1024, eps=1e-05, momentum=0.1, affine=True, track_running_stats=True)\n",
      "      (relu): ReLU(inplace=True)\n",
      "    )\n",
      "    (4): Bottleneck(\n",
      "      (conv1): Conv2d(1024, 256, kernel_size=(1, 1), stride=(1, 1), bias=False)\n",
      "      (bn1): BatchNorm2d(256, eps=1e-05, momentum=0.1, affine=True, track_running_stats=True)\n",
      "      (conv2): Conv2d(256, 256, kernel_size=(3, 3), stride=(1, 1), padding=(1, 1), bias=False)\n",
      "      (bn2): BatchNorm2d(256, eps=1e-05, momentum=0.1, affine=True, track_running_stats=True)\n",
      "      (conv3): Conv2d(256, 1024, kernel_size=(1, 1), stride=(1, 1), bias=False)\n",
      "      (bn3): BatchNorm2d(1024, eps=1e-05, momentum=0.1, affine=True, track_running_stats=True)\n",
      "      (relu): ReLU(inplace=True)\n",
      "    )\n",
      "    (5): Bottleneck(\n",
      "      (conv1): Conv2d(1024, 256, kernel_size=(1, 1), stride=(1, 1), bias=False)\n",
      "      (bn1): BatchNorm2d(256, eps=1e-05, momentum=0.1, affine=True, track_running_stats=True)\n",
      "      (conv2): Conv2d(256, 256, kernel_size=(3, 3), stride=(1, 1), padding=(1, 1), bias=False)\n",
      "      (bn2): BatchNorm2d(256, eps=1e-05, momentum=0.1, affine=True, track_running_stats=True)\n",
      "      (conv3): Conv2d(256, 1024, kernel_size=(1, 1), stride=(1, 1), bias=False)\n",
      "      (bn3): BatchNorm2d(1024, eps=1e-05, momentum=0.1, affine=True, track_running_stats=True)\n",
      "      (relu): ReLU(inplace=True)\n",
      "    )\n",
      "  )\n",
      "  (layer4): Sequential(\n",
      "    (0): Bottleneck(\n",
      "      (conv1): Conv2d(1024, 512, kernel_size=(1, 1), stride=(1, 1), bias=False)\n",
      "      (bn1): BatchNorm2d(512, eps=1e-05, momentum=0.1, affine=True, track_running_stats=True)\n",
      "      (conv2): Conv2d(512, 512, kernel_size=(3, 3), stride=(2, 2), padding=(1, 1), bias=False)\n",
      "      (bn2): BatchNorm2d(512, eps=1e-05, momentum=0.1, affine=True, track_running_stats=True)\n",
      "      (conv3): Conv2d(512, 2048, kernel_size=(1, 1), stride=(1, 1), bias=False)\n",
      "      (bn3): BatchNorm2d(2048, eps=1e-05, momentum=0.1, affine=True, track_running_stats=True)\n",
      "      (relu): ReLU(inplace=True)\n",
      "      (downsample): Sequential(\n",
      "        (0): Conv2d(1024, 2048, kernel_size=(1, 1), stride=(2, 2), bias=False)\n",
      "        (1): BatchNorm2d(2048, eps=1e-05, momentum=0.1, affine=True, track_running_stats=True)\n",
      "      )\n",
      "    )\n",
      "    (1): Bottleneck(\n",
      "      (conv1): Conv2d(2048, 512, kernel_size=(1, 1), stride=(1, 1), bias=False)\n",
      "      (bn1): BatchNorm2d(512, eps=1e-05, momentum=0.1, affine=True, track_running_stats=True)\n",
      "      (conv2): Conv2d(512, 512, kernel_size=(3, 3), stride=(1, 1), padding=(1, 1), bias=False)\n",
      "      (bn2): BatchNorm2d(512, eps=1e-05, momentum=0.1, affine=True, track_running_stats=True)\n",
      "      (conv3): Conv2d(512, 2048, kernel_size=(1, 1), stride=(1, 1), bias=False)\n",
      "      (bn3): BatchNorm2d(2048, eps=1e-05, momentum=0.1, affine=True, track_running_stats=True)\n",
      "      (relu): ReLU(inplace=True)\n",
      "    )\n",
      "    (2): Bottleneck(\n",
      "      (conv1): Conv2d(2048, 512, kernel_size=(1, 1), stride=(1, 1), bias=False)\n",
      "      (bn1): BatchNorm2d(512, eps=1e-05, momentum=0.1, affine=True, track_running_stats=True)\n",
      "      (conv2): Conv2d(512, 512, kernel_size=(3, 3), stride=(1, 1), padding=(1, 1), bias=False)\n",
      "      (bn2): BatchNorm2d(512, eps=1e-05, momentum=0.1, affine=True, track_running_stats=True)\n",
      "      (conv3): Conv2d(512, 2048, kernel_size=(1, 1), stride=(1, 1), bias=False)\n",
      "      (bn3): BatchNorm2d(2048, eps=1e-05, momentum=0.1, affine=True, track_running_stats=True)\n",
      "      (relu): ReLU(inplace=True)\n",
      "    )\n",
      "  )\n",
      "  (avgpool): AdaptiveAvgPool2d(output_size=(1, 1))\n",
      "  (fc): Linear(in_features=2048, out_features=2, bias=True)\n",
      ")\n"
     ]
    }
   ],
   "source": [
    "import torch\n",
    "import torch.nn as nn\n",
    "from torchvision import models\n",
    "\n",
    "def create_vgg_model(model_name, num_classes=10):\n",
    "    model = None\n",
    "    if model_name == 'vgg16_bn':\n",
    "        model = models.vgg16_bn(weights=models.VGG16_BN_Weights.IMAGENET1K_V1)\n",
    "    elif model_name == 'vgg19_bn':\n",
    "        model = models.vgg19_bn(weights=models.VGG19_BN_Weights.IMAGENET1K_V1)\n",
    "    \n",
    "    num_in_features = model.classifier[6].in_features\n",
    "    model.classifier[6] = nn.Linear(in_features=num_in_features, out_features=num_classes)\n",
    "\n",
    "    return model\n",
    "\n",
    "def create_resnet_model(model_name, num_classes=10):\n",
    "    model = None\n",
    "    if model_name == 'resnet50':\n",
    "        model = models.resnet50(weights=models.ResNet50_Weights.IMAGENET1K_V2)\n",
    "    elif model_name == 'resnet101':\n",
    "        model = models.resnet101(weights=models.ResNet101_Weights.IMAGENET1K_V2)\n",
    "    \n",
    "    num_in_features = model.fc.in_features\n",
    "    model.fc = nn.Linear(in_features=num_in_features, out_features=num_classes)\n",
    "\n",
    "    return model\n",
    "    \n",
    "resnet_model = create_resnet_model('resnet50', num_classes=2) #resnet50, resnet101\n",
    "print(resnet_model)\n",
    "\n",
    "# summary(model=resnet_model, input_size=(1, 3, 224, 224), #(1, 3, 64, 64)\n",
    "#         col_names=['input_size', 'output_size', 'num_params'], \n",
    "#         row_settings=['var_names'])"
   ]
  },
  {
   "cell_type": "markdown",
   "id": "555605b8",
   "metadata": {
    "papermill": {
     "duration": 0.009612,
     "end_time": "2025-08-31T18:14:42.961918",
     "exception": false,
     "start_time": "2025-08-31T18:14:42.952306",
     "status": "completed"
    },
    "tags": []
   },
   "source": [
    "### Create cat and dog dataset dataloader"
   ]
  },
  {
   "cell_type": "code",
   "execution_count": 18,
   "id": "c63d682c",
   "metadata": {
    "execution": {
     "iopub.execute_input": "2025-08-31T18:14:42.982186Z",
     "iopub.status.busy": "2025-08-31T18:14:42.981942Z",
     "iopub.status.idle": "2025-08-31T18:14:54.682163Z",
     "shell.execute_reply": "2025-08-31T18:14:54.681214Z"
    },
    "papermill": {
     "duration": 11.711829,
     "end_time": "2025-08-31T18:14:54.683358",
     "exception": false,
     "start_time": "2025-08-31T18:14:42.971529",
     "status": "completed"
    },
    "tags": []
   },
   "outputs": [
    {
     "name": "stdout",
     "output_type": "stream",
     "text": [
      "(10028, 4) (8005, 4) (6804, 4) (1201, 4)\n"
     ]
    }
   ],
   "source": [
    "import numpy as np # linear algebra\n",
    "import pandas as pd # data processing, CSV file I/O (e.g. pd.read_csv)\n",
    "import os\n",
    "from sklearn.model_selection import train_test_split\n",
    "\n",
    "paths = [] # List of image file paths\n",
    "dataset_gubuns = [] # List for train/test splits\n",
    "label_gubuns = [] # List for dog/cat labels\n",
    "\n",
    "# Use os.walk() to traverse all subdirectories under a specific directory.\n",
    "# All files with a .jpg extension under the cat-and-dog directory are image files.\n",
    "# Under cat-and-dog, there are /train/ and /test/ subdirectories (containing training and testing images).\n",
    "for dirname, _, filenames in os.walk('/kaggle/input'):\n",
    "    for filename in filenames:\n",
    "        # Some files in this directory are not image files.\n",
    "        if '.jpg' in filename:\n",
    "            # Assign the absolute file path to the variable file_path.\n",
    "            file_path = dirname+'/'+ filename\n",
    "            paths.append(file_path)\n",
    "            # If the absolute path contains training_set or test_set, classify the dataset as 'train' or 'test'.\n",
    "            if '/training_set/' in file_path:\n",
    "                dataset_gubuns.append('train')  \n",
    "            elif '/test_set/' in file_path:\n",
    "                dataset_gubuns.append('test')\n",
    "            else: dataset_gubuns.append('N/A')\n",
    "            \n",
    "            # If 'dogs' is in the file path, it’s a dog image; if 'cats' is in the path, it’s a cat image.\n",
    "            if 'dogs' in file_path:\n",
    "                label_gubuns.append('DOG')\n",
    "            elif 'cats' in file_path:\n",
    "                label_gubuns.append('CAT')\n",
    "            else: label_gubuns.append('N/A')\n",
    "\n",
    "# Create DataFrame metadata.\n",
    "data_df = pd.DataFrame({'path':paths, \n",
    "                        'dataset':dataset_gubuns, \n",
    "                        'label':label_gubuns})\n",
    "\n",
    "# Convert target values to 0, 1\n",
    "label_mapping = {'DOG': 0, 'CAT': 1}\n",
    "data_df['target'] = data_df['label'].map(label_mapping)\n",
    "\n",
    "# Create train and test metadata DataFrames from the entire dataset.\n",
    "train_df = data_df[data_df['dataset']=='train']\n",
    "test_df = data_df[data_df['dataset']=='test']\n",
    "\n",
    "# Split the original training DataFrame into training and validation sets. 85% train, 15% validation.\n",
    "tr_df, val_df = train_test_split(train_df, test_size=0.15, stratify=train_df['target'], random_state=2025)\n",
    "\n",
    "print(data_df.shape, train_df.shape, tr_df.shape, val_df.shape)\n"
   ]
  },
  {
   "cell_type": "code",
   "execution_count": 19,
   "id": "6154cf56",
   "metadata": {
    "execution": {
     "iopub.execute_input": "2025-08-31T18:14:54.704711Z",
     "iopub.status.busy": "2025-08-31T18:14:54.704330Z",
     "iopub.status.idle": "2025-08-31T18:14:54.709709Z",
     "shell.execute_reply": "2025-08-31T18:14:54.709078Z"
    },
    "papermill": {
     "duration": 0.016959,
     "end_time": "2025-08-31T18:14:54.710845",
     "exception": false,
     "start_time": "2025-08-31T18:14:54.693886",
     "status": "completed"
    },
    "tags": []
   },
   "outputs": [],
   "source": [
    "import torch\n",
    "from torch.utils.data import Dataset, DataLoader\n",
    "from torchvision import transforms as T\n",
    "from PIL import Image\n",
    "\n",
    "class CnD_Dataset(Dataset):\n",
    "    # Takes in image file list, target list, transforms, and other arguments needed for processing images and targets\n",
    "    def __init__(self, image_paths, targets=None, transform=None):\n",
    "        self.image_paths = image_paths\n",
    "        self.targets = targets\n",
    "        self.transform = transform\n",
    "    \n",
    "    # Returns the total number of items\n",
    "    def __len__(self):\n",
    "        return len(self.image_paths)\n",
    "        \n",
    "    # Returns a single image and label as tensors based on the specified index\n",
    "    def __getitem__(self, idx):    \n",
    "        # Load the image using PIL and return a PIL Image object\n",
    "        pil_image = Image.open(self.image_paths[idx])\n",
    "        # Typically transform is not None (at least Tensor conversion is applied)\n",
    "        image = self.transform(pil_image)\n",
    "\n",
    "        if self.targets is not None:\n",
    "            # Convert the individual target value to a tensor\n",
    "            target = torch.tensor(self.targets[idx])\n",
    "            return image, target\n",
    "        # For test data, targets may not be provided, so handle this case\n",
    "        else:\n",
    "            return image\n"
   ]
  },
  {
   "cell_type": "code",
   "execution_count": 20,
   "id": "2ca3a6a1",
   "metadata": {
    "execution": {
     "iopub.execute_input": "2025-08-31T18:14:54.731058Z",
     "iopub.status.busy": "2025-08-31T18:14:54.730812Z",
     "iopub.status.idle": "2025-08-31T18:14:54.737601Z",
     "shell.execute_reply": "2025-08-31T18:14:54.737052Z"
    },
    "papermill": {
     "duration": 0.018148,
     "end_time": "2025-08-31T18:14:54.738659",
     "exception": false,
     "start_time": "2025-08-31T18:14:54.720511",
     "status": "completed"
    },
    "tags": []
   },
   "outputs": [],
   "source": [
    "from torch.utils.data import DataLoader\n",
    "from torchvision import transforms as T\n",
    "\n",
    "BATCH_SIZE = 16\n",
    "IMG_SIZE = 224\n",
    "IMG_MEANS = [0.485, 0.456, 0.406] \n",
    "IMG_STD = [0.229, 0.224, 0.225] \n",
    "\n",
    "def create_tr_val_loader(tr_df, val_df, transform):\n",
    "    tr_dataset = CnD_Dataset(image_paths=tr_df['path'].to_list(), \n",
    "                            targets=tr_df['target'].to_list(), transform=transform)\n",
    "    val_dataset = CnD_Dataset(image_paths=val_df['path'].to_list(), \n",
    "                            targets=val_df['target'].to_list(), transform=transform)\n",
    "    tr_loader = DataLoader(tr_dataset, batch_size = BATCH_SIZE, shuffle=True, num_workers=4, pin_memory=True)\n",
    "    val_loader = DataLoader(val_dataset, batch_size=2*BATCH_SIZE, shuffle=False, num_workers=4, pin_memory=True)\n",
    "\n",
    "    return tr_loader, val_loader\n",
    "\n",
    "transform_01 = T.Compose([\n",
    "            T.Resize(size=(IMG_SIZE, IMG_SIZE)),\n",
    "            T.ToTensor(), T.Normalize(mean=IMG_MEANS, std=IMG_STD)\n",
    "])\n",
    "\n",
    "tr_loader, val_loader = create_tr_val_loader(tr_df=tr_df, val_df=val_df, transform=transform_01)"
   ]
  },
  {
   "cell_type": "markdown",
   "id": "9c4f4df0",
   "metadata": {
    "papermill": {
     "duration": 0.009545,
     "end_time": "2025-08-31T18:14:54.758122",
     "exception": false,
     "start_time": "2025-08-31T18:14:54.748577",
     "status": "completed"
    },
    "tags": []
   },
   "source": [
    "#### Trainer Class"
   ]
  },
  {
   "cell_type": "code",
   "execution_count": 21,
   "id": "a1bcf939",
   "metadata": {
    "execution": {
     "iopub.execute_input": "2025-08-31T18:14:54.778633Z",
     "iopub.status.busy": "2025-08-31T18:14:54.778361Z",
     "iopub.status.idle": "2025-08-31T18:14:54.790618Z",
     "shell.execute_reply": "2025-08-31T18:14:54.790076Z"
    },
    "papermill": {
     "duration": 0.023819,
     "end_time": "2025-08-31T18:14:54.791707",
     "exception": false,
     "start_time": "2025-08-31T18:14:54.767888",
     "status": "completed"
    },
    "tags": []
   },
   "outputs": [],
   "source": [
    "from tqdm import tqdm\n",
    "import torch.nn.functional as F\n",
    "\n",
    "class Trainer:\n",
    "    def __init__(self, model, loss_fn, optimizer, train_loader, val_loader, scheduler=None, device=None):\n",
    "        self.model = model.to(device)\n",
    "        self.loss_fn = loss_fn\n",
    "        self.optimizer = optimizer\n",
    "        self.train_loader = train_loader\n",
    "        self.val_loader = val_loader\n",
    "        self.scheduler = scheduler\n",
    "        self.device = device\n",
    "        self.current_lr = self.optimizer.param_groups[0]['lr']\n",
    "\n",
    "    def train_epoch(self, epoch):\n",
    "        self.model.train()\n",
    "\n",
    "        accu_loss = 0.0\n",
    "        running_avg_loss = 0.0\n",
    "        num_total = 0.0\n",
    "        accu_num_correct = 0.0\n",
    "        accuracy = 0.0\n",
    "        with tqdm(total=len(self.train_loader), desc=f\"Epoch {epoch+1} [Training..]\", leave=True) as progress_bar:\n",
    "            for batch_idx, (inputs, targets) in enumerate(self.train_loader):\n",
    "                inputs = inputs.to(self.device)\n",
    "                targets = targets.to(self.device)\n",
    "\n",
    "                outputs = self.model(inputs)\n",
    "                loss = self.loss_fn(outputs, targets)\n",
    "\n",
    "                self.optimizer.zero_grad()\n",
    "                loss.backward()\n",
    "                self.optimizer.step()\n",
    "\n",
    "                accu_loss += loss.item()\n",
    "                running_avg_loss = accu_loss /(batch_idx + 1)\n",
    "\n",
    "                num_correct = (outputs.argmax(-1) == targets).sum().item()\n",
    "                num_total += inputs.shape[0]\n",
    "                accu_num_correct += num_correct\n",
    "                accuracy = accu_num_correct / num_total\n",
    "\n",
    "                progress_bar.update(1)\n",
    "                if batch_idx % 20 == 0 or (batch_idx + 1) == progress_bar.total:  \n",
    "                    progress_bar.set_postfix({\"Loss\": running_avg_loss,\n",
    "                                              \"Accuracy\": accuracy})\n",
    "\n",
    "        if not isinstance(self.scheduler, torch.optim.lr_scheduler.ReduceLROnPlateau):\n",
    "            self.scheduler.step()\n",
    "            self.current_lr = self.scheduler.get_last_lr()[0]\n",
    "\n",
    "        return running_avg_loss, accuracy\n",
    "\n",
    "    def validate_epoch(self, epoch):\n",
    "        if not self.val_loader:\n",
    "            return None\n",
    "\n",
    "        self.model.eval()\n",
    "\n",
    "        accu_loss = 0\n",
    "        running_avg_loss = 0\n",
    "        num_total = 0.0\n",
    "        accu_num_correct = 0.0\n",
    "        accuracy = 0.0\n",
    "        \n",
    "        with tqdm(total=len(self.val_loader), desc=f\"Epoch {epoch+1} [Validating]\", leave=True) as progress_bar:\n",
    "            with torch.no_grad():\n",
    "                for batch_idx, (inputs, targets) in enumerate(self.val_loader):\n",
    "                    inputs = inputs.to(self.device)\n",
    "                    targets = targets.to(self.device)\n",
    "\n",
    "                    outputs = self.model(inputs)\n",
    "\n",
    "                    loss = self.loss_fn(outputs, targets)\n",
    "                    accu_loss += loss.item()\n",
    "                    running_avg_loss = accu_loss /(batch_idx + 1)\n",
    "\n",
    "                    num_correct = (outputs.argmax(-1) == targets).sum().item()\n",
    "                    num_total += inputs.shape[0]\n",
    "                    accu_num_correct += num_correct\n",
    "                    accuracy = accu_num_correct / num_total\n",
    "\n",
    "                    progress_bar.update(1)\n",
    "                    if batch_idx % 20 == 0 or (batch_idx + 1) == progress_bar.total:  \n",
    "                        progress_bar.set_postfix({\"Loss\": running_avg_loss,\n",
    "                                                  \"Accuracy\":accuracy})\n",
    "        if isinstance(self.scheduler, torch.optim.lr_scheduler.ReduceLROnPlateau):\n",
    "            self.scheduler.step(running_avg_loss)\n",
    "            self.current_lr = self.scheduler.get_last_lr()[0]\n",
    "\n",
    "        return running_avg_loss, accuracy\n",
    "\n",
    "    def fit(self, epochs):\n",
    "        history = {'train_loss': [], 'train_acc': [], 'val_loss': [], 'val_acc': [], 'lr': []}\n",
    "        for epoch in range(epochs):\n",
    "            train_loss, train_acc = self.train_epoch(epoch)\n",
    "            val_loss, val_acc = self.validate_epoch(epoch)\n",
    "            print(f\"Epoch {epoch+1}/{epochs}, Train Loss: {train_loss:.4f} Train Accuracy: {train_acc:.4f}\",\n",
    "                  f\", Val Loss: {val_loss:.4f} Val Accuracy: {val_acc:.4f}\" if val_loss is not None else \"\",\n",
    "                  f\", Current lr:{self.current_lr:.6f}\")\n",
    "            history['train_loss'].append(train_loss); history['train_acc'].append(train_acc)\n",
    "            history['val_loss'].append(val_loss); history['val_acc'].append(val_acc)\n",
    "            history['lr'].append(self.current_lr)\n",
    "\n",
    "        return history\n",
    "\n",
    "    def get_trained_model(self):\n",
    "        return self.model"
   ]
  },
  {
   "cell_type": "code",
   "execution_count": 22,
   "id": "a0ce6585",
   "metadata": {
    "execution": {
     "iopub.execute_input": "2025-08-31T18:14:54.812177Z",
     "iopub.status.busy": "2025-08-31T18:14:54.811961Z",
     "iopub.status.idle": "2025-08-31T18:36:12.195232Z",
     "shell.execute_reply": "2025-08-31T18:36:12.194082Z"
    },
    "papermill": {
     "duration": 1277.395028,
     "end_time": "2025-08-31T18:36:12.196434",
     "exception": false,
     "start_time": "2025-08-31T18:14:54.801406",
     "status": "completed"
    },
    "tags": []
   },
   "outputs": [
    {
     "name": "stderr",
     "output_type": "stream",
     "text": [
      "Epoch 1 [Training..]: 100%|██████████| 426/426 [00:40<00:00, 10.47it/s, Loss=0.254, Accuracy=0.902]\n",
      "Epoch 1 [Validating]: 100%|██████████| 38/38 [00:03<00:00, 11.13it/s, Loss=0.167, Accuracy=0.941]\n"
     ]
    },
    {
     "name": "stdout",
     "output_type": "stream",
     "text": [
      "Epoch 1/30, Train Loss: 0.2539 Train Accuracy: 0.9021 , Val Loss: 0.1671 Val Accuracy: 0.9409 , Current lr:0.001000\n"
     ]
    },
    {
     "name": "stderr",
     "output_type": "stream",
     "text": [
      "Epoch 2 [Training..]: 100%|██████████| 426/426 [00:39<00:00, 10.71it/s, Loss=0.177, Accuracy=0.928]\n",
      "Epoch 2 [Validating]: 100%|██████████| 38/38 [00:02<00:00, 13.95it/s, Loss=0.157, Accuracy=0.938]\n"
     ]
    },
    {
     "name": "stdout",
     "output_type": "stream",
     "text": [
      "Epoch 2/30, Train Loss: 0.1772 Train Accuracy: 0.9283 , Val Loss: 0.1566 Val Accuracy: 0.9384 , Current lr:0.001000\n"
     ]
    },
    {
     "name": "stderr",
     "output_type": "stream",
     "text": [
      "Epoch 3 [Training..]: 100%|██████████| 426/426 [00:39<00:00, 10.68it/s, Loss=0.136, Accuracy=0.945]\n",
      "Epoch 3 [Validating]: 100%|██████████| 38/38 [00:02<00:00, 14.01it/s, Loss=0.113, Accuracy=0.961]\n"
     ]
    },
    {
     "name": "stdout",
     "output_type": "stream",
     "text": [
      "Epoch 3/30, Train Loss: 0.1362 Train Accuracy: 0.9455 , Val Loss: 0.1130 Val Accuracy: 0.9609 , Current lr:0.001000\n"
     ]
    },
    {
     "name": "stderr",
     "output_type": "stream",
     "text": [
      "Epoch 4 [Training..]: 100%|██████████| 426/426 [00:39<00:00, 10.70it/s, Loss=0.136, Accuracy=0.946]\n",
      "Epoch 4 [Validating]: 100%|██████████| 38/38 [00:02<00:00, 13.96it/s, Loss=0.173, Accuracy=0.921]\n"
     ]
    },
    {
     "name": "stdout",
     "output_type": "stream",
     "text": [
      "Epoch 4/30, Train Loss: 0.1360 Train Accuracy: 0.9459 , Val Loss: 0.1732 Val Accuracy: 0.9209 , Current lr:0.001000\n"
     ]
    },
    {
     "name": "stderr",
     "output_type": "stream",
     "text": [
      "Epoch 5 [Training..]: 100%|██████████| 426/426 [00:39<00:00, 10.69it/s, Loss=0.104, Accuracy=0.958]\n",
      "Epoch 5 [Validating]: 100%|██████████| 38/38 [00:02<00:00, 13.94it/s, Loss=0.167, Accuracy=0.938]\n"
     ]
    },
    {
     "name": "stdout",
     "output_type": "stream",
     "text": [
      "Epoch 5/30, Train Loss: 0.1035 Train Accuracy: 0.9581 , Val Loss: 0.1667 Val Accuracy: 0.9384 , Current lr:0.001000\n"
     ]
    },
    {
     "name": "stderr",
     "output_type": "stream",
     "text": [
      "Epoch 6 [Training..]: 100%|██████████| 426/426 [00:39<00:00, 10.70it/s, Loss=0.0912, Accuracy=0.962]\n",
      "Epoch 6 [Validating]: 100%|██████████| 38/38 [00:02<00:00, 13.53it/s, Loss=0.125, Accuracy=0.962]\n"
     ]
    },
    {
     "name": "stdout",
     "output_type": "stream",
     "text": [
      "Epoch 6/30, Train Loss: 0.0912 Train Accuracy: 0.9616 , Val Loss: 0.1247 Val Accuracy: 0.9617 , Current lr:0.001000\n"
     ]
    },
    {
     "name": "stderr",
     "output_type": "stream",
     "text": [
      "Epoch 7 [Training..]: 100%|██████████| 426/426 [00:39<00:00, 10.70it/s, Loss=0.1, Accuracy=0.96]\n",
      "Epoch 7 [Validating]: 100%|██████████| 38/38 [00:02<00:00, 13.85it/s, Loss=0.121, Accuracy=0.953]\n"
     ]
    },
    {
     "name": "stdout",
     "output_type": "stream",
     "text": [
      "Epoch 7/30, Train Loss: 0.1002 Train Accuracy: 0.9599 , Val Loss: 0.1206 Val Accuracy: 0.9525 , Current lr:0.000500\n"
     ]
    },
    {
     "name": "stderr",
     "output_type": "stream",
     "text": [
      "Epoch 8 [Training..]: 100%|██████████| 426/426 [00:39<00:00, 10.70it/s, Loss=0.0376, Accuracy=0.987]\n",
      "Epoch 8 [Validating]: 100%|██████████| 38/38 [00:02<00:00, 13.82it/s, Loss=0.089, Accuracy=0.97]\n"
     ]
    },
    {
     "name": "stdout",
     "output_type": "stream",
     "text": [
      "Epoch 8/30, Train Loss: 0.0376 Train Accuracy: 0.9872 , Val Loss: 0.0890 Val Accuracy: 0.9700 , Current lr:0.000500\n"
     ]
    },
    {
     "name": "stderr",
     "output_type": "stream",
     "text": [
      "Epoch 9 [Training..]: 100%|██████████| 426/426 [00:39<00:00, 10.70it/s, Loss=0.0118, Accuracy=0.997]\n",
      "Epoch 9 [Validating]: 100%|██████████| 38/38 [00:02<00:00, 13.86it/s, Loss=0.112, Accuracy=0.967]\n"
     ]
    },
    {
     "name": "stdout",
     "output_type": "stream",
     "text": [
      "Epoch 9/30, Train Loss: 0.0118 Train Accuracy: 0.9968 , Val Loss: 0.1115 Val Accuracy: 0.9667 , Current lr:0.000500\n"
     ]
    },
    {
     "name": "stderr",
     "output_type": "stream",
     "text": [
      "Epoch 10 [Training..]: 100%|██████████| 426/426 [00:39<00:00, 10.70it/s, Loss=0.032, Accuracy=0.99]\n",
      "Epoch 10 [Validating]: 100%|██████████| 38/38 [00:02<00:00, 13.54it/s, Loss=0.144, Accuracy=0.962]\n"
     ]
    },
    {
     "name": "stdout",
     "output_type": "stream",
     "text": [
      "Epoch 10/30, Train Loss: 0.0320 Train Accuracy: 0.9903 , Val Loss: 0.1444 Val Accuracy: 0.9617 , Current lr:0.000500\n"
     ]
    },
    {
     "name": "stderr",
     "output_type": "stream",
     "text": [
      "Epoch 11 [Training..]: 100%|██████████| 426/426 [00:39<00:00, 10.72it/s, Loss=0.0213, Accuracy=0.993]\n",
      "Epoch 11 [Validating]: 100%|██████████| 38/38 [00:02<00:00, 14.01it/s, Loss=0.106, Accuracy=0.966]\n"
     ]
    },
    {
     "name": "stdout",
     "output_type": "stream",
     "text": [
      "Epoch 11/30, Train Loss: 0.0213 Train Accuracy: 0.9929 , Val Loss: 0.1062 Val Accuracy: 0.9659 , Current lr:0.000500\n"
     ]
    },
    {
     "name": "stderr",
     "output_type": "stream",
     "text": [
      "Epoch 12 [Training..]: 100%|██████████| 426/426 [00:39<00:00, 10.71it/s, Loss=0.0363, Accuracy=0.987]\n",
      "Epoch 12 [Validating]: 100%|██████████| 38/38 [00:02<00:00, 14.13it/s, Loss=0.133, Accuracy=0.96]\n"
     ]
    },
    {
     "name": "stdout",
     "output_type": "stream",
     "text": [
      "Epoch 12/30, Train Loss: 0.0363 Train Accuracy: 0.9871 , Val Loss: 0.1328 Val Accuracy: 0.9600 , Current lr:0.000250\n"
     ]
    },
    {
     "name": "stderr",
     "output_type": "stream",
     "text": [
      "Epoch 13 [Training..]: 100%|██████████| 426/426 [00:39<00:00, 10.72it/s, Loss=0.00625, Accuracy=0.998]\n",
      "Epoch 13 [Validating]: 100%|██████████| 38/38 [00:02<00:00, 14.03it/s, Loss=0.0956, Accuracy=0.971]\n"
     ]
    },
    {
     "name": "stdout",
     "output_type": "stream",
     "text": [
      "Epoch 13/30, Train Loss: 0.0062 Train Accuracy: 0.9976 , Val Loss: 0.0956 Val Accuracy: 0.9709 , Current lr:0.000250\n"
     ]
    },
    {
     "name": "stderr",
     "output_type": "stream",
     "text": [
      "Epoch 14 [Training..]: 100%|██████████| 426/426 [00:39<00:00, 10.72it/s, Loss=0.0011, Accuracy=1]\n",
      "Epoch 14 [Validating]: 100%|██████████| 38/38 [00:02<00:00, 13.64it/s, Loss=0.0977, Accuracy=0.97]\n"
     ]
    },
    {
     "name": "stdout",
     "output_type": "stream",
     "text": [
      "Epoch 14/30, Train Loss: 0.0011 Train Accuracy: 0.9999 , Val Loss: 0.0977 Val Accuracy: 0.9700 , Current lr:0.000250\n"
     ]
    },
    {
     "name": "stderr",
     "output_type": "stream",
     "text": [
      "Epoch 15 [Training..]: 100%|██████████| 426/426 [00:39<00:00, 10.72it/s, Loss=0.000499, Accuracy=1]\n",
      "Epoch 15 [Validating]: 100%|██████████| 38/38 [00:02<00:00, 13.97it/s, Loss=0.115, Accuracy=0.969]\n"
     ]
    },
    {
     "name": "stdout",
     "output_type": "stream",
     "text": [
      "Epoch 15/30, Train Loss: 0.0005 Train Accuracy: 1.0000 , Val Loss: 0.1155 Val Accuracy: 0.9692 , Current lr:0.000250\n"
     ]
    },
    {
     "name": "stderr",
     "output_type": "stream",
     "text": [
      "Epoch 16 [Training..]: 100%|██████████| 426/426 [00:39<00:00, 10.72it/s, Loss=0.000196, Accuracy=1]\n",
      "Epoch 16 [Validating]: 100%|██████████| 38/38 [00:02<00:00, 14.08it/s, Loss=0.123, Accuracy=0.968]\n"
     ]
    },
    {
     "name": "stdout",
     "output_type": "stream",
     "text": [
      "Epoch 16/30, Train Loss: 0.0002 Train Accuracy: 1.0000 , Val Loss: 0.1227 Val Accuracy: 0.9684 , Current lr:0.000125\n"
     ]
    },
    {
     "name": "stderr",
     "output_type": "stream",
     "text": [
      "Epoch 17 [Training..]: 100%|██████████| 426/426 [00:39<00:00, 10.72it/s, Loss=9.55e-5, Accuracy=1]\n",
      "Epoch 17 [Validating]: 100%|██████████| 38/38 [00:02<00:00, 13.93it/s, Loss=0.109, Accuracy=0.968]\n"
     ]
    },
    {
     "name": "stdout",
     "output_type": "stream",
     "text": [
      "Epoch 17/30, Train Loss: 0.0001 Train Accuracy: 1.0000 , Val Loss: 0.1094 Val Accuracy: 0.9675 , Current lr:0.000125\n"
     ]
    },
    {
     "name": "stderr",
     "output_type": "stream",
     "text": [
      "Epoch 18 [Training..]: 100%|██████████| 426/426 [00:39<00:00, 10.72it/s, Loss=0.000135, Accuracy=1]\n",
      "Epoch 18 [Validating]: 100%|██████████| 38/38 [00:02<00:00, 13.44it/s, Loss=0.111, Accuracy=0.97]\n"
     ]
    },
    {
     "name": "stdout",
     "output_type": "stream",
     "text": [
      "Epoch 18/30, Train Loss: 0.0001 Train Accuracy: 1.0000 , Val Loss: 0.1108 Val Accuracy: 0.9700 , Current lr:0.000125\n"
     ]
    },
    {
     "name": "stderr",
     "output_type": "stream",
     "text": [
      "Epoch 19 [Training..]: 100%|██████████| 426/426 [00:39<00:00, 10.72it/s, Loss=0.00015, Accuracy=1]\n",
      "Epoch 19 [Validating]: 100%|██████████| 38/38 [00:02<00:00, 13.94it/s, Loss=0.116, Accuracy=0.967]\n"
     ]
    },
    {
     "name": "stdout",
     "output_type": "stream",
     "text": [
      "Epoch 19/30, Train Loss: 0.0001 Train Accuracy: 1.0000 , Val Loss: 0.1161 Val Accuracy: 0.9667 , Current lr:0.000125\n"
     ]
    },
    {
     "name": "stderr",
     "output_type": "stream",
     "text": [
      "Epoch 20 [Training..]: 100%|██████████| 426/426 [00:39<00:00, 10.72it/s, Loss=0.00013, Accuracy=1]\n",
      "Epoch 20 [Validating]: 100%|██████████| 38/38 [00:02<00:00, 13.81it/s, Loss=0.152, Accuracy=0.964]\n"
     ]
    },
    {
     "name": "stdout",
     "output_type": "stream",
     "text": [
      "Epoch 20/30, Train Loss: 0.0001 Train Accuracy: 1.0000 , Val Loss: 0.1522 Val Accuracy: 0.9642 , Current lr:0.000063\n"
     ]
    },
    {
     "name": "stderr",
     "output_type": "stream",
     "text": [
      "Epoch 21 [Training..]: 100%|██████████| 426/426 [00:39<00:00, 10.72it/s, Loss=5.56e-5, Accuracy=1]\n",
      "Epoch 21 [Validating]: 100%|██████████| 38/38 [00:02<00:00, 13.53it/s, Loss=0.145, Accuracy=0.964]\n"
     ]
    },
    {
     "name": "stdout",
     "output_type": "stream",
     "text": [
      "Epoch 21/30, Train Loss: 0.0001 Train Accuracy: 1.0000 , Val Loss: 0.1446 Val Accuracy: 0.9642 , Current lr:0.000063\n"
     ]
    },
    {
     "name": "stderr",
     "output_type": "stream",
     "text": [
      "Epoch 22 [Training..]: 100%|██████████| 426/426 [00:39<00:00, 10.72it/s, Loss=5.62e-5, Accuracy=1]\n",
      "Epoch 22 [Validating]: 100%|██████████| 38/38 [00:02<00:00, 13.85it/s, Loss=0.156, Accuracy=0.967]\n"
     ]
    },
    {
     "name": "stdout",
     "output_type": "stream",
     "text": [
      "Epoch 22/30, Train Loss: 0.0001 Train Accuracy: 1.0000 , Val Loss: 0.1562 Val Accuracy: 0.9667 , Current lr:0.000063\n"
     ]
    },
    {
     "name": "stderr",
     "output_type": "stream",
     "text": [
      "Epoch 23 [Training..]: 100%|██████████| 426/426 [00:39<00:00, 10.72it/s, Loss=8.36e-5, Accuracy=1]\n",
      "Epoch 23 [Validating]: 100%|██████████| 38/38 [00:02<00:00, 13.84it/s, Loss=0.147, Accuracy=0.967]\n"
     ]
    },
    {
     "name": "stdout",
     "output_type": "stream",
     "text": [
      "Epoch 23/30, Train Loss: 0.0001 Train Accuracy: 1.0000 , Val Loss: 0.1472 Val Accuracy: 0.9667 , Current lr:0.000063\n"
     ]
    },
    {
     "name": "stderr",
     "output_type": "stream",
     "text": [
      "Epoch 24 [Training..]: 100%|██████████| 426/426 [00:39<00:00, 10.72it/s, Loss=4.54e-5, Accuracy=1]\n",
      "Epoch 24 [Validating]: 100%|██████████| 38/38 [00:02<00:00, 14.16it/s, Loss=0.146, Accuracy=0.967]\n"
     ]
    },
    {
     "name": "stdout",
     "output_type": "stream",
     "text": [
      "Epoch 24/30, Train Loss: 0.0000 Train Accuracy: 1.0000 , Val Loss: 0.1460 Val Accuracy: 0.9667 , Current lr:0.000031\n"
     ]
    },
    {
     "name": "stderr",
     "output_type": "stream",
     "text": [
      "Epoch 25 [Training..]: 100%|██████████| 426/426 [00:39<00:00, 10.72it/s, Loss=2.68e-5, Accuracy=1]\n",
      "Epoch 25 [Validating]: 100%|██████████| 38/38 [00:02<00:00, 14.05it/s, Loss=0.143, Accuracy=0.967]\n"
     ]
    },
    {
     "name": "stdout",
     "output_type": "stream",
     "text": [
      "Epoch 25/30, Train Loss: 0.0000 Train Accuracy: 1.0000 , Val Loss: 0.1433 Val Accuracy: 0.9667 , Current lr:0.000031\n"
     ]
    },
    {
     "name": "stderr",
     "output_type": "stream",
     "text": [
      "Epoch 26 [Training..]: 100%|██████████| 426/426 [00:39<00:00, 10.73it/s, Loss=3.8e-5, Accuracy=1]\n",
      "Epoch 26 [Validating]: 100%|██████████| 38/38 [00:02<00:00, 13.91it/s, Loss=0.142, Accuracy=0.968]\n"
     ]
    },
    {
     "name": "stdout",
     "output_type": "stream",
     "text": [
      "Epoch 26/30, Train Loss: 0.0000 Train Accuracy: 1.0000 , Val Loss: 0.1421 Val Accuracy: 0.9675 , Current lr:0.000031\n"
     ]
    },
    {
     "name": "stderr",
     "output_type": "stream",
     "text": [
      "Epoch 27 [Training..]: 100%|██████████| 426/426 [00:39<00:00, 10.72it/s, Loss=2.8e-5, Accuracy=1]\n",
      "Epoch 27 [Validating]: 100%|██████████| 38/38 [00:02<00:00, 14.13it/s, Loss=0.146, Accuracy=0.967]\n"
     ]
    },
    {
     "name": "stdout",
     "output_type": "stream",
     "text": [
      "Epoch 27/30, Train Loss: 0.0000 Train Accuracy: 1.0000 , Val Loss: 0.1456 Val Accuracy: 0.9667 , Current lr:0.000031\n"
     ]
    },
    {
     "name": "stderr",
     "output_type": "stream",
     "text": [
      "Epoch 28 [Training..]: 100%|██████████| 426/426 [00:39<00:00, 10.72it/s, Loss=0.00019, Accuracy=1]\n",
      "Epoch 28 [Validating]: 100%|██████████| 38/38 [00:02<00:00, 14.00it/s, Loss=0.136, Accuracy=0.969]\n"
     ]
    },
    {
     "name": "stdout",
     "output_type": "stream",
     "text": [
      "Epoch 28/30, Train Loss: 0.0002 Train Accuracy: 0.9999 , Val Loss: 0.1355 Val Accuracy: 0.9692 , Current lr:0.000016\n"
     ]
    },
    {
     "name": "stderr",
     "output_type": "stream",
     "text": [
      "Epoch 29 [Training..]: 100%|██████████| 426/426 [00:39<00:00, 10.73it/s, Loss=1.92e-5, Accuracy=1]\n",
      "Epoch 29 [Validating]: 100%|██████████| 38/38 [00:02<00:00, 13.73it/s, Loss=0.152, Accuracy=0.971]\n"
     ]
    },
    {
     "name": "stdout",
     "output_type": "stream",
     "text": [
      "Epoch 29/30, Train Loss: 0.0000 Train Accuracy: 1.0000 , Val Loss: 0.1516 Val Accuracy: 0.9709 , Current lr:0.000016\n"
     ]
    },
    {
     "name": "stderr",
     "output_type": "stream",
     "text": [
      "Epoch 30 [Training..]: 100%|██████████| 426/426 [00:39<00:00, 10.72it/s, Loss=3.41e-5, Accuracy=1]\n",
      "Epoch 30 [Validating]: 100%|██████████| 38/38 [00:02<00:00, 13.62it/s, Loss=0.268, Accuracy=0.964]"
     ]
    },
    {
     "name": "stdout",
     "output_type": "stream",
     "text": [
      "Epoch 30/30, Train Loss: 0.0000 Train Accuracy: 1.0000 , Val Loss: 0.2678 Val Accuracy: 0.9642 , Current lr:0.000016\n"
     ]
    },
    {
     "name": "stderr",
     "output_type": "stream",
     "text": [
      "\n"
     ]
    }
   ],
   "source": [
    "import torch\n",
    "import torch.nn as nn\n",
    "from torch.optim import SGD, Adam\n",
    "from torch.optim.lr_scheduler import ReduceLROnPlateau\n",
    "\n",
    "NUM_INPUT_CHANNELS = 3\n",
    "NUM_CLASSES = 2\n",
    "\n",
    "model = create_resnet_model('resnet50', num_classes=NUM_CLASSES) #resnet50, resnet101\n",
    "device = torch.device('cuda' if torch.cuda.is_available() else 'cpu')\n",
    "optimizer = Adam(model.parameters(), lr=0.001)\n",
    "loss_fn = nn.CrossEntropyLoss()\n",
    "scheduler = ReduceLROnPlateau(\n",
    "            optimizer=optimizer, mode='min', factor=0.5, patience=3, threshold=0.01, min_lr=0.00001)\n",
    "\n",
    "trainer = Trainer(model=model, loss_fn=loss_fn, optimizer=optimizer,\n",
    "       train_loader=tr_loader, val_loader=val_loader, scheduler=scheduler, device=device)\n",
    "history = trainer.fit(30)"
   ]
  },
  {
   "cell_type": "markdown",
   "id": "b8624da5",
   "metadata": {
    "papermill": {
     "duration": 0.318294,
     "end_time": "2025-08-31T18:36:12.887997",
     "exception": false,
     "start_time": "2025-08-31T18:36:12.569703",
     "status": "completed"
    },
    "tags": []
   },
   "source": [
    "#### Predictor class and evaluation"
   ]
  },
  {
   "cell_type": "code",
   "execution_count": 23,
   "id": "400b01a6",
   "metadata": {
    "execution": {
     "iopub.execute_input": "2025-08-31T18:36:13.576738Z",
     "iopub.status.busy": "2025-08-31T18:36:13.576436Z",
     "iopub.status.idle": "2025-08-31T18:36:13.584495Z",
     "shell.execute_reply": "2025-08-31T18:36:13.583750Z"
    },
    "papermill": {
     "duration": 0.376544,
     "end_time": "2025-08-31T18:36:13.585709",
     "exception": false,
     "start_time": "2025-08-31T18:36:13.209165",
     "status": "completed"
    },
    "tags": []
   },
   "outputs": [],
   "source": [
    "class Predictor:\n",
    "    def __init__(self, model, device):\n",
    "        self.model = model.to(device)\n",
    "        self.device = device\n",
    "\n",
    "    def evaluate(self, loader):\n",
    "        self.model.eval()\n",
    "        eval_metric = 0.0\n",
    "        \n",
    "        num_total = 0.0\n",
    "        accu_num_correct = 0.0\n",
    "\n",
    "        with tqdm(total=len(loader), desc=f\"[Evaluating]\", leave=True) as progress_bar:\n",
    "            with torch.no_grad():\n",
    "                for batch_idx, (inputs, targets) in enumerate(loader):\n",
    "                    inputs = inputs.to(self.device)\n",
    "                    targets = targets.to(self.device)\n",
    "                    pred = self.model(inputs)\n",
    "\n",
    "                    num_correct = (pred.argmax(-1) == targets).sum().item()\n",
    "                    num_total += inputs.shape[0]\n",
    "                    accu_num_correct += num_correct\n",
    "                    eval_metric = accu_num_correct / num_total\n",
    "\n",
    "                    progress_bar.update(1)\n",
    "                    if batch_idx % 20 == 0 or (batch_idx + 1) == progress_bar.total:\n",
    "                        progress_bar.set_postfix({\"Accuracy\": eval_metric})\n",
    "        \n",
    "        return eval_metric\n",
    "\n",
    "    def predict_proba(self, inputs):\n",
    "        self.model.eval()\n",
    "        with torch.no_grad():\n",
    "            inputs = inputs.to(self.device)\n",
    "            outputs = self.model(inputs)\n",
    "            pred_proba = F.softmax(outputs, dim=-1) \n",
    "\n",
    "        return pred_proba\n",
    "\n",
    "    def predict(self, inputs):\n",
    "        pred_proba = self.predict_proba(inputs)\n",
    "        pred_class = torch.argmax(pred_proba, dim=-1)\n",
    "\n",
    "        return pred_class"
   ]
  },
  {
   "cell_type": "code",
   "execution_count": 24,
   "id": "78a1037d",
   "metadata": {
    "execution": {
     "iopub.execute_input": "2025-08-31T18:36:14.228157Z",
     "iopub.status.busy": "2025-08-31T18:36:14.227678Z",
     "iopub.status.idle": "2025-08-31T18:36:19.620889Z",
     "shell.execute_reply": "2025-08-31T18:36:19.619793Z"
    },
    "papermill": {
     "duration": 5.719366,
     "end_time": "2025-08-31T18:36:19.622060",
     "exception": false,
     "start_time": "2025-08-31T18:36:13.902694",
     "status": "completed"
    },
    "tags": []
   },
   "outputs": [
    {
     "name": "stderr",
     "output_type": "stream",
     "text": [
      "[Evaluating]: 100%|██████████| 64/64 [00:05<00:00, 11.91it/s, Accuracy=0.967]"
     ]
    },
    {
     "name": "stdout",
     "output_type": "stream",
     "text": [
      "test dataset evaluation:0.9669\n"
     ]
    },
    {
     "name": "stderr",
     "output_type": "stream",
     "text": [
      "\n"
     ]
    }
   ],
   "source": [
    "test_df = data_df[data_df['dataset']=='test']\n",
    "test_image_paths = test_df['path'].to_list()\n",
    "test_targets = test_df['target'].to_list()\n",
    "\n",
    "IMG_SIZE=224\n",
    "transform_02 = T.Compose([\n",
    "                        T.Resize(size=(IMG_SIZE, IMG_SIZE)),\n",
    "                        T.ToTensor(), \n",
    "                        T.Normalize(mean=[0.485, 0.456, 0.406], \n",
    "                                    std=[0.229, 0.224, 0.225])\n",
    "])\n",
    "\n",
    "test_dataset = CnD_Dataset(image_paths=test_image_paths, \n",
    "                            targets=test_targets, transform=transform_02)\n",
    "test_loader = DataLoader(test_dataset, batch_size=32, shuffle=False, num_workers=4, pin_memory=True)\n",
    "\n",
    "trained_model = trainer.get_trained_model()\n",
    "\n",
    "predictor = Predictor(model=trained_model, device=device)\n",
    "eval_metric = predictor.evaluate(test_loader)\n",
    "print(f'test dataset evaluation:{eval_metric:.4f}')"
   ]
  },
  {
   "cell_type": "code",
   "execution_count": 25,
   "id": "b690b58f",
   "metadata": {
    "execution": {
     "iopub.execute_input": "2025-08-31T18:36:20.321911Z",
     "iopub.status.busy": "2025-08-31T18:36:20.321604Z",
     "iopub.status.idle": "2025-08-31T18:36:20.549311Z",
     "shell.execute_reply": "2025-08-31T18:36:20.548607Z"
    },
    "papermill": {
     "duration": 0.554175,
     "end_time": "2025-08-31T18:36:20.553281",
     "exception": false,
     "start_time": "2025-08-31T18:36:19.999106",
     "status": "completed"
    },
    "tags": []
   },
   "outputs": [
    {
     "name": "stdout",
     "output_type": "stream",
     "text": [
      "/kaggle/input/cat-and-dog/test_set/test_set/dogs/dog.4329.jpg 0 DOG\n"
     ]
    },
    {
     "data": {
      "text/plain": [
       "<matplotlib.image.AxesImage at 0x7e056874efd0>"
      ]
     },
     "execution_count": 25,
     "metadata": {},
     "output_type": "execute_result"
    },
    {
     "data": {
      "image/png": "[encoded data removed]",
      "text/plain": [
       "<Figure size 640x480 with 1 Axes>"
      ]
     },
     "metadata": {},
     "output_type": "display_data"
    }
   ],
   "source": [
    "import matplotlib.pyplot as plt\n",
    "\n",
    "print(test_df['path'][0], test_df['target'][0], test_df['label'][0])\n",
    "pil_image = Image.open(test_df['path'][0])\n",
    "\n",
    "plt.imshow(pil_image)"
   ]
  },
  {
   "cell_type": "code",
   "execution_count": 26,
   "id": "31f5feaf",
   "metadata": {
    "execution": {
     "iopub.execute_input": "2025-08-31T18:36:21.207170Z",
     "iopub.status.busy": "2025-08-31T18:36:21.206880Z",
     "iopub.status.idle": "2025-08-31T18:36:21.249782Z",
     "shell.execute_reply": "2025-08-31T18:36:21.248947Z"
    },
    "papermill": {
     "duration": 0.371068,
     "end_time": "2025-08-31T18:36:21.250910",
     "exception": false,
     "start_time": "2025-08-31T18:36:20.879842",
     "status": "completed"
    },
    "tags": []
   },
   "outputs": [
    {
     "name": "stdout",
     "output_type": "stream",
     "text": [
      "/kaggle/input/cat-and-dog/test_set/test_set/dogs/dog.4329.jpg 0 DOG\n",
      "predicted class: 0\n"
     ]
    }
   ],
   "source": [
    "from PIL import Image\n",
    "\n",
    "print(test_df['path'][0], test_df['target'][0], test_df['label'][0])\n",
    "pil_image = Image.open(test_df['path'][0])\n",
    "\n",
    "pil_tensor = transform_02(pil_image)\n",
    "pil_tensor = pil_tensor.unsqueeze(0)\n",
    "\n",
    "pred_class = predictor.predict(pil_tensor).item()\n",
    "print('predicted class:', pred_class)"
   ]
  },
  {
   "cell_type": "code",
   "execution_count": 27,
   "id": "f70d9b85",
   "metadata": {
    "execution": {
     "iopub.execute_input": "2025-08-31T18:36:21.984679Z",
     "iopub.status.busy": "2025-08-31T18:36:21.984396Z",
     "iopub.status.idle": "2025-08-31T18:36:22.102436Z",
     "shell.execute_reply": "2025-08-31T18:36:22.101578Z"
    },
    "papermill": {
     "duration": 0.453753,
     "end_time": "2025-08-31T18:36:22.103745",
     "exception": false,
     "start_time": "2025-08-31T18:36:21.649992",
     "status": "completed"
    },
    "tags": []
   },
   "outputs": [
    {
     "name": "stdout",
     "output_type": "stream",
     "text": [
      "actual class: 0 predicted class: 0\n",
      "actual class: 0 predicted class: 0\n",
      "actual class: 0 predicted class: 0\n",
      "actual class: 0 predicted class: 0\n",
      "actual class: 0 predicted class: 0\n",
      "actual class: 0 predicted class: 0\n",
      "actual class: 0 predicted class: 0\n",
      "actual class: 0 predicted class: 0\n",
      "actual class: 0 predicted class: 0\n",
      "actual class: 0 predicted class: 0\n"
     ]
    }
   ],
   "source": [
    "\n",
    "for i in range(10):\n",
    "    pil_image = Image.open(test_df['path'][i])\n",
    "    pil_tensor = transform_02(pil_image).unsqueeze(0)\n",
    "    pred_class = predictor.predict(pil_tensor).item()\n",
    "    print('actual class:', test_df['target'][i],'predicted class:', pred_class)"
   ]
  }
 ],
 "metadata": {
  "kaggle": {
   "accelerator": "gpu",
   "dataSources": [
    {
     "datasetId": 23777,
     "sourceId": 30378,
     "sourceType": "datasetVersion"
    }
   ],
   "dockerImageVersionId": 31089,
   "isGpuEnabled": true,
   "isInternetEnabled": true,
   "language": "python",
   "sourceType": "notebook"
  },
  "kernelspec": {
   "display_name": "Python 3",
   "language": "python",
   "name": "python3"
  },
  "language_info": {
   "codemirror_mode": {
    "name": "ipython",
    "version": 3
   },
   "file_extension": ".py",
   "mimetype": "text/x-python",
   "name": "python",
   "nbconvert_exporter": "python",
   "pygments_lexer": "ipython3",
   "version": "3.11.13"
  },
  "papermill": {
   "default_parameters": {},
   "duration": 1329.005912,
   "end_time": "2025-08-31T18:36:25.134684",
   "environment_variables": {},
   "exception": null,
   "input_path": "__notebook__.ipynb",
   "output_path": "__notebook__.ipynb",
   "parameters": {},
   "start_time": "2025-08-31T18:14:16.128772",
   "version": "2.6.0"
  }
 },
 "nbformat": 4,
 "nbformat_minor": 5
}
