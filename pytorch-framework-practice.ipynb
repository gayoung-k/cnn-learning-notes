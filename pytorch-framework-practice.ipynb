{
 "cells": [
  {
   "cell_type": "markdown",
   "id": "1f263639",
   "metadata": {
    "papermill": {
     "duration": 0.006796,
     "end_time": "2025-08-29T20:18:34.601929",
     "exception": false,
     "start_time": "2025-08-29T20:18:34.595133",
     "status": "completed"
    },
    "tags": []
   },
   "source": [
    "### Creating a Custom Model by Inheriting from `nn.Module`\n",
    "\n",
    "* Build a model based on a Linear layer with 784 input features and 100 output features, followed by a ReLU activation layer, and a final Linear layer with 10 output features.\n",
    "* Declare these layers in the `__init__(self, ..)` method.\n",
    "* In the `forward(self, x)` method, define the forward pass of the input tensor, connecting these layers accordingly.\n",
    "* The model input must be a tensor, and the output will also be a tensor.\n"
   ]
  },
  {
   "cell_type": "code",
   "execution_count": 1,
   "id": "0ab814f0",
   "metadata": {
    "execution": {
     "iopub.execute_input": "2025-08-29T20:18:34.616897Z",
     "iopub.status.busy": "2025-08-29T20:18:34.616502Z",
     "iopub.status.idle": "2025-08-29T20:18:39.515132Z",
     "shell.execute_reply": "2025-08-29T20:18:39.514168Z"
    },
    "papermill": {
     "duration": 4.908431,
     "end_time": "2025-08-29T20:18:39.516907",
     "exception": false,
     "start_time": "2025-08-29T20:18:34.608476",
     "status": "completed"
    },
    "tags": []
   },
   "outputs": [],
   "source": [
    "import torch\n",
    "import torch.nn as nn\n",
    "#from torch import nn\n",
    "\n",
    "# Create Custom Model \n",
    "class LinearModel(nn.Module):\n",
    "    def __init__(self, num_classes=10):\n",
    "        # require to call super() \n",
    "        super().__init__()\n",
    "        #Linear Layer와 ReLU Layer 생성. \n",
    "        self.linear_01 = nn.Linear(in_features=784, out_features=100)\n",
    "        self.relu_01 = nn.ReLU()\n",
    "        self.linear_02 = nn.Linear(in_features=100, out_features=num_classes)\n",
    "        \n",
    "    # forward propagation\n",
    "    def forward(self, x):\n",
    "        x = self.linear_01(x)\n",
    "        x = self.relu_01(x)\n",
    "        output = self.linear_02(x)\n",
    "        return output"
   ]
  },
  {
   "cell_type": "code",
   "execution_count": 2,
   "id": "31d6b377",
   "metadata": {
    "execution": {
     "iopub.execute_input": "2025-08-29T20:18:39.527464Z",
     "iopub.status.busy": "2025-08-29T20:18:39.527068Z",
     "iopub.status.idle": "2025-08-29T20:18:39.607780Z",
     "shell.execute_reply": "2025-08-29T20:18:39.606755Z"
    },
    "papermill": {
     "duration": 0.087638,
     "end_time": "2025-08-29T20:18:39.609361",
     "exception": false,
     "start_time": "2025-08-29T20:18:39.521723",
     "status": "completed"
    },
    "tags": []
   },
   "outputs": [
    {
     "name": "stdout",
     "output_type": "stream",
     "text": [
      "torch.Size([64, 784])\n",
      "torch.Size([64, 10])\n"
     ]
    }
   ],
   "source": [
    "# Create a random input tensor\n",
    "input_tensor = torch.randn(size=(64, 784))\n",
    "print(input_tensor.size())\n",
    "\n",
    "# Create a LinearModel object. Initialize it by passing the arguments declared in __init__(self, num_classes)\n",
    "linear_model = LinearModel(num_classes=10)\n",
    "\n",
    "# The LinearModel object is callable, so passing the input tensor like a function call invokes the forward() method\n",
    "output_tensor = linear_model(input_tensor)\n",
    "print(output_tensor.size())\n"
   ]
  },
  {
   "cell_type": "markdown",
   "id": "ecce966d",
   "metadata": {
    "papermill": {
     "duration": 0.004318,
     "end_time": "2025-08-29T20:18:39.618200",
     "exception": false,
     "start_time": "2025-08-29T20:18:39.613882",
     "status": "completed"
    },
    "tags": []
   },
   "source": [
    "### Exploring Layers (e.g., `nn.Linear`, `nn.Conv2d`, `nn.ReLU`, `nn.MaxPool2d`)\n",
    "\n",
    "* Layers in PyTorch are intuitive building blocks designed to easily construct neural networks.\n",
    "* Layers are also created by inheriting from `nn.Module`, supporting automatic differentiation and GPU acceleration.\n",
    "* Layers define the structure and transformations applied to input data, performing tasks such as linear transformations, convolutions, activation functions, pooling, and normalization.\n",
    "* Some layers have learnable parameters (e.g., `nn.Linear`, `nn.Conv2d`), while others primarily perform transformations without learnable parameters (e.g., `nn.ReLU`, `nn.MaxPool2d`).\n",
    "* Similar to how callable objects work, a Layer object is created by passing its initialization arguments, and the input tensor to be transformed is then passed to the Layer object for processing.\n"
   ]
  },
  {
   "cell_type": "code",
   "execution_count": 3,
   "id": "0046eef5",
   "metadata": {
    "execution": {
     "iopub.execute_input": "2025-08-29T20:18:39.628064Z",
     "iopub.status.busy": "2025-08-29T20:18:39.627746Z",
     "iopub.status.idle": "2025-08-29T20:18:39.688871Z",
     "shell.execute_reply": "2025-08-29T20:18:39.687774Z"
    },
    "papermill": {
     "duration": 0.068031,
     "end_time": "2025-08-29T20:18:39.690542",
     "exception": false,
     "start_time": "2025-08-29T20:18:39.622511",
     "status": "completed"
    },
    "tags": []
   },
   "outputs": [
    {
     "name": "stdout",
     "output_type": "stream",
     "text": [
      "Parameter containing:\n",
      "tensor([[ 0.0230, -0.0069,  0.0003,  ..., -0.0336,  0.0287,  0.0182],\n",
      "        [ 0.0054,  0.0207,  0.0081,  ..., -0.0138, -0.0024,  0.0080],\n",
      "        [ 0.0187, -0.0319,  0.0180,  ..., -0.0018, -0.0234, -0.0066],\n",
      "        ...,\n",
      "        [-0.0132, -0.0209,  0.0346,  ...,  0.0260,  0.0187, -0.0124],\n",
      "        [-0.0312,  0.0121,  0.0293,  ...,  0.0136, -0.0056,  0.0311],\n",
      "        [ 0.0198,  0.0099,  0.0174,  ..., -0.0133,  0.0263, -0.0051]],\n",
      "       requires_grad=True)\n",
      "Parameter containing:\n",
      "tensor([-3.0316e-02, -1.5920e-02, -1.1828e-02,  1.3264e-02,  5.5066e-05,\n",
      "         1.9530e-02, -2.9638e-03,  3.5274e-02, -3.2051e-02,  7.7152e-03,\n",
      "         1.0679e-02, -5.7659e-03,  2.6313e-02, -8.0426e-03, -2.8829e-02,\n",
      "        -3.2332e-02,  4.2979e-03,  5.5229e-03, -9.2702e-03,  8.7338e-03,\n",
      "         1.7945e-02, -6.8632e-03, -3.4427e-02,  1.2617e-02,  5.7750e-03,\n",
      "         2.1583e-02,  6.9227e-04, -1.1774e-02, -3.2414e-02, -2.9523e-02,\n",
      "        -1.2394e-02,  3.3678e-02,  1.9604e-02,  4.2619e-03,  2.2796e-02,\n",
      "         7.7047e-03,  1.4410e-02,  1.4175e-03,  2.2537e-02, -2.3644e-02,\n",
      "         6.4556e-03,  2.7947e-02, -2.6332e-02, -1.3495e-02,  1.8207e-02,\n",
      "        -8.2999e-03,  1.4651e-02, -2.1982e-03, -1.8407e-02, -1.4903e-02,\n",
      "         4.8731e-04,  1.4326e-02, -1.9830e-02, -1.6840e-02, -2.7532e-02,\n",
      "        -3.2589e-02,  2.7878e-02,  3.8310e-03,  3.0950e-02, -4.6933e-03,\n",
      "        -1.7788e-02,  1.4797e-02,  2.6551e-02,  3.5489e-02,  7.4258e-03,\n",
      "         2.2967e-02,  1.6953e-02,  1.8023e-02,  5.8776e-03, -2.2556e-02,\n",
      "        -2.3409e-02,  8.0550e-03,  3.5476e-02,  1.5740e-02, -1.5484e-02,\n",
      "         4.0547e-03,  3.1891e-02, -2.7551e-02,  2.1649e-02, -2.6681e-02,\n",
      "        -1.6753e-02,  2.6871e-02,  2.8882e-02,  3.4151e-02,  4.9507e-03,\n",
      "        -2.3848e-02,  3.0841e-02, -3.4783e-02, -1.1127e-02,  9.1410e-03,\n",
      "         1.3672e-02, -2.0739e-02,  2.2906e-02,  1.0060e-02, -1.9727e-02,\n",
      "         1.0631e-02, -1.8519e-02, -3.3909e-02, -2.8766e-02,  2.6866e-03],\n",
      "       requires_grad=True)\n",
      "<class 'torch.nn.parameter.Parameter'>\n"
     ]
    }
   ],
   "source": [
    "import torch.nn as nn\n",
    "\n",
    "linear_01 = nn.Linear(in_features=784, out_features=100)\n",
    "# Has learnable parameters\n",
    "print(linear_01.weight)\n",
    "print(linear_01.bias)\n",
    "\n",
    "# Learnable parameters are of type nn.parameter.Parameter, which is a special kind of tensor that supports training (automatic differentiation)\n",
    "print(type(linear_01.weight))\n"
   ]
  },
  {
   "cell_type": "code",
   "execution_count": 4,
   "id": "00be58b9",
   "metadata": {
    "execution": {
     "iopub.execute_input": "2025-08-29T20:18:39.701386Z",
     "iopub.status.busy": "2025-08-29T20:18:39.700553Z",
     "iopub.status.idle": "2025-08-29T20:18:39.705840Z",
     "shell.execute_reply": "2025-08-29T20:18:39.704922Z"
    },
    "papermill": {
     "duration": 0.012134,
     "end_time": "2025-08-29T20:18:39.707267",
     "exception": false,
     "start_time": "2025-08-29T20:18:39.695133",
     "status": "completed"
    },
    "tags": []
   },
   "outputs": [
    {
     "name": "stdout",
     "output_type": "stream",
     "text": [
      "torch.Size([100, 784]) torch.Size([100])\n"
     ]
    }
   ],
   "source": [
    "# linear_01 = nn.Linear(in_features=784, out_features=100)\n",
    "# The weight shape is transposed to (out_features, in_features) to align with matmul() for the forward pass.\n",
    "print(linear_01.weight.shape, linear_01.bias.shape)\n"
   ]
  },
  {
   "cell_type": "markdown",
   "id": "8ef8c1c7",
   "metadata": {
    "papermill": {
     "duration": 0.004118,
     "end_time": "2025-08-29T20:18:39.715971",
     "exception": false,
     "start_time": "2025-08-29T20:18:39.711853",
     "status": "completed"
    },
    "tags": []
   },
   "source": [
    "#### `nn.Parameter` is a special type of tensor that supports training (automatic differentiation)\n",
    "\n",
    "* Any object inheriting from `nn.Module` can register its `Parameter` tensors with an optimizer.\n",
    "* Regular tensors can also have `requires_grad=True` to enable automatic differentiation, but they cannot be registered with an optimizer, so their gradients are not updated during optimization.\n",
    "* This allows automatic tracking during backpropagation, enabling gradients to be computed and updated automatically.\n"
   ]
  },
  {
   "cell_type": "code",
   "execution_count": 5,
   "id": "1cf82ae3",
   "metadata": {
    "execution": {
     "iopub.execute_input": "2025-08-29T20:18:39.727108Z",
     "iopub.status.busy": "2025-08-29T20:18:39.726766Z",
     "iopub.status.idle": "2025-08-29T20:18:39.735101Z",
     "shell.execute_reply": "2025-08-29T20:18:39.734073Z"
    },
    "papermill": {
     "duration": 0.01617,
     "end_time": "2025-08-29T20:18:39.736621",
     "exception": false,
     "start_time": "2025-08-29T20:18:39.720451",
     "status": "completed"
    },
    "tags": []
   },
   "outputs": [
    {
     "name": "stdout",
     "output_type": "stream",
     "text": [
      "Parameter containing:\n",
      "tensor([[ 0.0230, -0.0069,  0.0003,  ..., -0.0336,  0.0287,  0.0182],\n",
      "        [ 0.0054,  0.0207,  0.0081,  ..., -0.0138, -0.0024,  0.0080],\n",
      "        [ 0.0187, -0.0319,  0.0180,  ..., -0.0018, -0.0234, -0.0066],\n",
      "        ...,\n",
      "        [-0.0132, -0.0209,  0.0346,  ...,  0.0260,  0.0187, -0.0124],\n",
      "        [-0.0312,  0.0121,  0.0293,  ...,  0.0136, -0.0056,  0.0311],\n",
      "        [ 0.0198,  0.0099,  0.0174,  ..., -0.0133,  0.0263, -0.0051]],\n",
      "       requires_grad=True)\n",
      "Parameter containing:\n",
      "tensor([-3.0316e-02, -1.5920e-02, -1.1828e-02,  1.3264e-02,  5.5066e-05,\n",
      "         1.9530e-02, -2.9638e-03,  3.5274e-02, -3.2051e-02,  7.7152e-03,\n",
      "         1.0679e-02, -5.7659e-03,  2.6313e-02, -8.0426e-03, -2.8829e-02,\n",
      "        -3.2332e-02,  4.2979e-03,  5.5229e-03, -9.2702e-03,  8.7338e-03,\n",
      "         1.7945e-02, -6.8632e-03, -3.4427e-02,  1.2617e-02,  5.7750e-03,\n",
      "         2.1583e-02,  6.9227e-04, -1.1774e-02, -3.2414e-02, -2.9523e-02,\n",
      "        -1.2394e-02,  3.3678e-02,  1.9604e-02,  4.2619e-03,  2.2796e-02,\n",
      "         7.7047e-03,  1.4410e-02,  1.4175e-03,  2.2537e-02, -2.3644e-02,\n",
      "         6.4556e-03,  2.7947e-02, -2.6332e-02, -1.3495e-02,  1.8207e-02,\n",
      "        -8.2999e-03,  1.4651e-02, -2.1982e-03, -1.8407e-02, -1.4903e-02,\n",
      "         4.8731e-04,  1.4326e-02, -1.9830e-02, -1.6840e-02, -2.7532e-02,\n",
      "        -3.2589e-02,  2.7878e-02,  3.8310e-03,  3.0950e-02, -4.6933e-03,\n",
      "        -1.7788e-02,  1.4797e-02,  2.6551e-02,  3.5489e-02,  7.4258e-03,\n",
      "         2.2967e-02,  1.6953e-02,  1.8023e-02,  5.8776e-03, -2.2556e-02,\n",
      "        -2.3409e-02,  8.0550e-03,  3.5476e-02,  1.5740e-02, -1.5484e-02,\n",
      "         4.0547e-03,  3.1891e-02, -2.7551e-02,  2.1649e-02, -2.6681e-02,\n",
      "        -1.6753e-02,  2.6871e-02,  2.8882e-02,  3.4151e-02,  4.9507e-03,\n",
      "        -2.3848e-02,  3.0841e-02, -3.4783e-02, -1.1127e-02,  9.1410e-03,\n",
      "         1.3672e-02, -2.0739e-02,  2.2906e-02,  1.0060e-02, -1.9727e-02,\n",
      "         1.0631e-02, -1.8519e-02, -3.3909e-02, -2.8766e-02,  2.6866e-03],\n",
      "       requires_grad=True)\n"
     ]
    }
   ],
   "source": [
    "# The parameters() method of a layer returns an iterator over all the parameters the layer contains.\n",
    "for parameter in linear_01.parameters():\n",
    "    print(parameter)\n"
   ]
  },
  {
   "cell_type": "code",
   "execution_count": 6,
   "id": "19c0c6cb",
   "metadata": {
    "execution": {
     "iopub.execute_input": "2025-08-29T20:18:39.747027Z",
     "iopub.status.busy": "2025-08-29T20:18:39.746663Z",
     "iopub.status.idle": "2025-08-29T20:18:39.752761Z",
     "shell.execute_reply": "2025-08-29T20:18:39.751920Z"
    },
    "papermill": {
     "duration": 0.012837,
     "end_time": "2025-08-29T20:18:39.754173",
     "exception": false,
     "start_time": "2025-08-29T20:18:39.741336",
     "status": "completed"
    },
    "tags": []
   },
   "outputs": [
    {
     "name": "stdout",
     "output_type": "stream",
     "text": [
      "False\n",
      "torch.Size([100, 784]) True\n"
     ]
    }
   ],
   "source": [
    "import torch\n",
    "\n",
    "tensor_01 = torch.rand(size=(100, 784))\n",
    "print(tensor_01.requires_grad)\n",
    "\n",
    "param_01 = nn.Parameter(data=tensor_01)\n",
    "print(param_01.shape, param_01.requires_grad)"
   ]
  },
  {
   "cell_type": "markdown",
   "id": "5a7cc5fb",
   "metadata": {
    "papermill": {
     "duration": 0.004369,
     "end_time": "2025-08-29T20:18:39.763271",
     "exception": false,
     "start_time": "2025-08-29T20:18:39.758902",
     "status": "completed"
    },
    "tags": []
   },
   "source": [
    "### Exploring Model Components (Layers and Submodules)\n",
    "\n",
    "* A submodule is a component created by inheriting from `nn.Module` (layers are also submodules). Generally, it refers to a class or block composed of multiple layers, used to modularize complex model structures into smaller, manageable blocks.\n",
    "* Submodules inherit various features from `nn.Module`, such as registering child modules, automatically registering parameters, and supporting automatic differentiation.\n",
    "* When creating a submodule, you must implement both the constructor (`__init__`) and the `forward()` method.\n",
    "* Terminology for the lecture will be defined as follows:\n",
    "\n",
    "  * **Model**: The final neural network model.\n",
    "  * **Submodule (or Block)**: A block module composed of multiple connected layers.\n",
    "  * **Submodule (Module)**: Any object inheriting from `nn.Module`, including layers and submodules.\n",
    "  * **Layer**: A single layer, e.g., `nn.Linear`.\n",
    "  * **nn.Module**: The base class `nn.Module`.\n"
   ]
  },
  {
   "cell_type": "code",
   "execution_count": 7,
   "id": "e0949c3b",
   "metadata": {
    "execution": {
     "iopub.execute_input": "2025-08-29T20:18:39.774004Z",
     "iopub.status.busy": "2025-08-29T20:18:39.773095Z",
     "iopub.status.idle": "2025-08-29T20:18:39.780612Z",
     "shell.execute_reply": "2025-08-29T20:18:39.779812Z"
    },
    "papermill": {
     "duration": 0.0144,
     "end_time": "2025-08-29T20:18:39.782114",
     "exception": false,
     "start_time": "2025-08-29T20:18:39.767714",
     "status": "completed"
    },
    "tags": []
   },
   "outputs": [],
   "source": [
    "import torch\n",
    "import torch.nn as nn\n",
    "\n",
    "# Create Submodule\n",
    "class SimpleBlock(nn.Module):\n",
    "    def __init__(self, in_features, out_features):\n",
    "        super().__init__()\n",
    "        self.linear_01 = nn.Linear(in_features=in_features,\n",
    "                                   out_features=out_features)\n",
    "        self.relu_01 = nn.ReLU()\n",
    "\n",
    "    def forward(self, x):\n",
    "        x = self.linear_01(x)\n",
    "        x = self.relu_01(x)\n",
    "        return x\n",
    "\n",
    "class LinearModel(nn.Module):\n",
    "    def __init__(self, num_classes=10):\n",
    "        super().__init__()\n",
    "        self.simple_01 = SimpleBlock(in_features=784,\n",
    "                                     out_features=100)\n",
    "        self.linear_02 = nn.Linear(in_features=100, out_features=num_classes)\n",
    "        \n",
    "    def forward(self, x):\n",
    "        x = self.simple_01(x)\n",
    "        output = self.linear_02(x)\n",
    "        return output"
   ]
  },
  {
   "cell_type": "code",
   "execution_count": 8,
   "id": "89090589",
   "metadata": {
    "execution": {
     "iopub.execute_input": "2025-08-29T20:18:39.792542Z",
     "iopub.status.busy": "2025-08-29T20:18:39.792261Z",
     "iopub.status.idle": "2025-08-29T20:18:39.803902Z",
     "shell.execute_reply": "2025-08-29T20:18:39.802928Z"
    },
    "papermill": {
     "duration": 0.018675,
     "end_time": "2025-08-29T20:18:39.805495",
     "exception": false,
     "start_time": "2025-08-29T20:18:39.786820",
     "status": "completed"
    },
    "tags": []
   },
   "outputs": [
    {
     "name": "stdout",
     "output_type": "stream",
     "text": [
      "torch.Size([64, 784])\n",
      "torch.Size([64, 10])\n"
     ]
    }
   ],
   "source": [
    "input_tensor = torch.randn(size=(64, 784))\n",
    "print(input_tensor.size())\n",
    "\n",
    "# Create a LinearModel object by passing the initialization arguments declared in __init__(self, num_classes)\n",
    "linear_model = LinearModel(num_classes=10)\n",
    "\n",
    "# The LinearModel object is callable, so passing the input tensor like a function call invokes the forward() method\n",
    "output_tensor = linear_model(input_tensor)\n",
    "print(output_tensor.size())\n"
   ]
  },
  {
   "cell_type": "markdown",
   "id": "76f36445",
   "metadata": {
    "papermill": {
     "duration": 0.00444,
     "end_time": "2025-08-29T20:18:39.814782",
     "exception": false,
     "start_time": "2025-08-29T20:18:39.810342",
     "status": "completed"
    },
    "tags": []
   },
   "source": [
    "#### Inspecting All Modules (Layers and Submodules) in a Model\n",
    "\n",
    "* The `modules()` method returns all nested submodules (including layers), including the module itself, that inherit from `nn.Module`.\n",
    "* The `named_modules()` method returns all nested submodules along with their names and class types, including the module itself.\n",
    "* Internal member variables of a model (variables assigned with `self`) can be accessed directly using `object_name.variable_name`.\n"
   ]
  },
  {
   "cell_type": "code",
   "execution_count": 9,
   "id": "12adaaf4",
   "metadata": {
    "execution": {
     "iopub.execute_input": "2025-08-29T20:18:39.825282Z",
     "iopub.status.busy": "2025-08-29T20:18:39.824954Z",
     "iopub.status.idle": "2025-08-29T20:18:39.829726Z",
     "shell.execute_reply": "2025-08-29T20:18:39.828812Z"
    },
    "papermill": {
     "duration": 0.011889,
     "end_time": "2025-08-29T20:18:39.831228",
     "exception": false,
     "start_time": "2025-08-29T20:18:39.819339",
     "status": "completed"
    },
    "tags": []
   },
   "outputs": [
    {
     "name": "stdout",
     "output_type": "stream",
     "text": [
      "LinearModel(\n",
      "  (simple_01): SimpleBlock(\n",
      "    (linear_01): Linear(in_features=784, out_features=100, bias=True)\n",
      "    (relu_01): ReLU()\n",
      "  )\n",
      "  (linear_02): Linear(in_features=100, out_features=10, bias=True)\n",
      ")\n"
     ]
    }
   ],
   "source": [
    "print(linear_model)"
   ]
  },
  {
   "cell_type": "code",
   "execution_count": 10,
   "id": "7bde0d65",
   "metadata": {
    "execution": {
     "iopub.execute_input": "2025-08-29T20:18:39.841952Z",
     "iopub.status.busy": "2025-08-29T20:18:39.841491Z",
     "iopub.status.idle": "2025-08-29T20:18:39.846591Z",
     "shell.execute_reply": "2025-08-29T20:18:39.845585Z"
    },
    "papermill": {
     "duration": 0.011994,
     "end_time": "2025-08-29T20:18:39.848014",
     "exception": false,
     "start_time": "2025-08-29T20:18:39.836020",
     "status": "completed"
    },
    "tags": []
   },
   "outputs": [
    {
     "name": "stdout",
     "output_type": "stream",
     "text": [
      "LinearModel(\n",
      "  (simple_01): SimpleBlock(\n",
      "    (linear_01): Linear(in_features=784, out_features=100, bias=True)\n",
      "    (relu_01): ReLU()\n",
      "  )\n",
      "  (linear_02): Linear(in_features=100, out_features=10, bias=True)\n",
      ")\n",
      "SimpleBlock(\n",
      "  (linear_01): Linear(in_features=784, out_features=100, bias=True)\n",
      "  (relu_01): ReLU()\n",
      ")\n",
      "Linear(in_features=784, out_features=100, bias=True)\n",
      "ReLU()\n",
      "Linear(in_features=100, out_features=10, bias=True)\n"
     ]
    }
   ],
   "source": [
    "# Print all nested submodules, including the module itself\n",
    "for module in linear_model.modules():\n",
    "    print(module)\n"
   ]
  },
  {
   "cell_type": "code",
   "execution_count": 11,
   "id": "5e1a1db2",
   "metadata": {
    "execution": {
     "iopub.execute_input": "2025-08-29T20:18:39.859193Z",
     "iopub.status.busy": "2025-08-29T20:18:39.858911Z",
     "iopub.status.idle": "2025-08-29T20:18:39.863731Z",
     "shell.execute_reply": "2025-08-29T20:18:39.862844Z"
    },
    "papermill": {
     "duration": 0.012198,
     "end_time": "2025-08-29T20:18:39.865296",
     "exception": false,
     "start_time": "2025-08-29T20:18:39.853098",
     "status": "completed"
    },
    "tags": []
   },
   "outputs": [
    {
     "name": "stdout",
     "output_type": "stream",
     "text": [
      "SimpleBlock(\n",
      "  (linear_01): Linear(in_features=784, out_features=100, bias=True)\n",
      "  (relu_01): ReLU()\n",
      ")\n",
      "Linear(in_features=100, out_features=10, bias=True)\n"
     ]
    }
   ],
   "source": [
    "for module in linear_model.children():\n",
    "    print(module)"
   ]
  },
  {
   "cell_type": "code",
   "execution_count": 12,
   "id": "cb56a651",
   "metadata": {
    "execution": {
     "iopub.execute_input": "2025-08-29T20:18:39.875999Z",
     "iopub.status.busy": "2025-08-29T20:18:39.875634Z",
     "iopub.status.idle": "2025-08-29T20:18:39.880627Z",
     "shell.execute_reply": "2025-08-29T20:18:39.879764Z"
    },
    "papermill": {
     "duration": 0.011814,
     "end_time": "2025-08-29T20:18:39.881992",
     "exception": false,
     "start_time": "2025-08-29T20:18:39.870178",
     "status": "completed"
    },
    "tags": []
   },
   "outputs": [
    {
     "name": "stdout",
     "output_type": "stream",
     "text": [
      "Module Name: , Module: LinearModel(\n",
      "  (simple_01): SimpleBlock(\n",
      "    (linear_01): Linear(in_features=784, out_features=100, bias=True)\n",
      "    (relu_01): ReLU()\n",
      "  )\n",
      "  (linear_02): Linear(in_features=100, out_features=10, bias=True)\n",
      ")\n",
      "Module Name: simple_01, Module: SimpleBlock(\n",
      "  (linear_01): Linear(in_features=784, out_features=100, bias=True)\n",
      "  (relu_01): ReLU()\n",
      ")\n",
      "Module Name: simple_01.linear_01, Module: Linear(in_features=784, out_features=100, bias=True)\n",
      "Module Name: simple_01.relu_01, Module: ReLU()\n",
      "Module Name: linear_02, Module: Linear(in_features=100, out_features=10, bias=True)\n"
     ]
    }
   ],
   "source": [
    "# The named_modules() method prints the names and classes of all nested submodules, including the module itself\n",
    "for name, module in linear_model.named_modules():\n",
    "    print(f\"Module Name: {name}, Module: {module}\")\n"
   ]
  },
  {
   "cell_type": "code",
   "execution_count": 13,
   "id": "9aba7f86",
   "metadata": {
    "execution": {
     "iopub.execute_input": "2025-08-29T20:18:39.892988Z",
     "iopub.status.busy": "2025-08-29T20:18:39.892663Z",
     "iopub.status.idle": "2025-08-29T20:18:39.897359Z",
     "shell.execute_reply": "2025-08-29T20:18:39.896362Z"
    },
    "papermill": {
     "duration": 0.01182,
     "end_time": "2025-08-29T20:18:39.898808",
     "exception": false,
     "start_time": "2025-08-29T20:18:39.886988",
     "status": "completed"
    },
    "tags": []
   },
   "outputs": [
    {
     "name": "stdout",
     "output_type": "stream",
     "text": [
      "Submodule Name: simple_01, Submodule: SimpleBlock(\n",
      "  (linear_01): Linear(in_features=784, out_features=100, bias=True)\n",
      "  (relu_01): ReLU()\n",
      ")\n",
      "Submodule Name: linear_02, Submodule: Linear(in_features=100, out_features=10, bias=True)\n"
     ]
    }
   ],
   "source": [
    "# The named_children() method prints only the immediate child submodules with their names and classes\n",
    "for name, module in linear_model.named_children():\n",
    "    print(f\"Submodule Name: {name}, Submodule: {module}\")\n"
   ]
  },
  {
   "cell_type": "code",
   "execution_count": 14,
   "id": "32684da1",
   "metadata": {
    "execution": {
     "iopub.execute_input": "2025-08-29T20:18:39.910219Z",
     "iopub.status.busy": "2025-08-29T20:18:39.909893Z",
     "iopub.status.idle": "2025-08-29T20:18:39.914905Z",
     "shell.execute_reply": "2025-08-29T20:18:39.914004Z"
    },
    "papermill": {
     "duration": 0.012454,
     "end_time": "2025-08-29T20:18:39.916350",
     "exception": false,
     "start_time": "2025-08-29T20:18:39.903896",
     "status": "completed"
    },
    "tags": []
   },
   "outputs": [
    {
     "name": "stdout",
     "output_type": "stream",
     "text": [
      "simple_01: SimpleBlock(\n",
      "  (linear_01): Linear(in_features=784, out_features=100, bias=True)\n",
      "  (relu_01): ReLU()\n",
      ")\n",
      "linear_02: Linear(in_features=100, out_features=10, bias=True)\n",
      "linear_01 in simple_01: Linear(in_features=784, out_features=100, bias=True)\n"
     ]
    }
   ],
   "source": [
    "# Internal member variables of a model (assigned with self) can be accessed directly using object_name.variable_name\n",
    "print('simple_01:', linear_model.simple_01)\n",
    "print('linear_02:', linear_model.linear_02)\n",
    "print('linear_01 in simple_01:', linear_model.simple_01.linear_01)\n"
   ]
  },
  {
   "cell_type": "markdown",
   "id": "5428c374",
   "metadata": {
    "papermill": {
     "duration": 0.004858,
     "end_time": "2025-08-29T20:18:39.926289",
     "exception": false,
     "start_time": "2025-08-29T20:18:39.921431",
     "status": "completed"
    },
    "tags": []
   },
   "source": [
    "#### Accessing All Parameters of a Model\n",
    "\n",
    "* Any class inheriting from `nn.Module` can retrieve its registered parameter tensors using the `parameters()` method.\n",
    "* You can use `parameters()` to retrieve all parameters from a model, including those in its submodules.\n",
    "* The `named_parameters()` method returns both the names (e.g., weight/bias) of the parameters and the corresponding parameter tensors from layers or submodules.\n"
   ]
  },
  {
   "cell_type": "code",
   "execution_count": 15,
   "id": "3a4acb88",
   "metadata": {
    "collapsed": true,
    "execution": {
     "iopub.execute_input": "2025-08-29T20:18:39.937242Z",
     "iopub.status.busy": "2025-08-29T20:18:39.936966Z",
     "iopub.status.idle": "2025-08-29T20:18:39.952178Z",
     "shell.execute_reply": "2025-08-29T20:18:39.951231Z"
    },
    "jupyter": {
     "outputs_hidden": true
    },
    "papermill": {
     "duration": 0.023419,
     "end_time": "2025-08-29T20:18:39.954564",
     "exception": false,
     "start_time": "2025-08-29T20:18:39.931145",
     "status": "completed"
    },
    "tags": []
   },
   "outputs": [
    {
     "name": "stdout",
     "output_type": "stream",
     "text": [
      "simple_01.linear_01.weight Parameter containing:\n",
      "tensor([[ 0.0276,  0.0173, -0.0304,  ...,  0.0026, -0.0104,  0.0243],\n",
      "        [ 0.0346, -0.0011, -0.0245,  ..., -0.0029,  0.0158,  0.0126],\n",
      "        [-0.0193,  0.0229,  0.0281,  ..., -0.0354,  0.0326,  0.0218],\n",
      "        ...,\n",
      "        [-0.0233,  0.0152, -0.0297,  ...,  0.0322, -0.0297,  0.0162],\n",
      "        [-0.0293, -0.0042,  0.0328,  ...,  0.0023, -0.0301,  0.0292],\n",
      "        [ 0.0339, -0.0093, -0.0306,  ..., -0.0298,  0.0012, -0.0067]],\n",
      "       requires_grad=True)\n",
      "simple_01.linear_01.bias Parameter containing:\n",
      "tensor([-3.3666e-02, -1.6048e-02, -2.0537e-02,  3.2391e-02,  4.7197e-03,\n",
      "        -3.7419e-03,  3.1773e-02, -1.2888e-02, -1.6494e-02,  7.3672e-03,\n",
      "         1.7864e-02,  1.2012e-02, -1.4381e-02, -2.9633e-02,  3.3953e-02,\n",
      "         2.1953e-02,  1.3528e-04, -1.5345e-02,  1.7952e-02,  1.6095e-02,\n",
      "        -1.3286e-02, -1.5059e-02, -7.5549e-03,  1.9864e-02, -1.4455e-02,\n",
      "         1.0902e-02,  1.5050e-02, -2.3534e-02, -6.8009e-03,  1.3137e-02,\n",
      "        -3.0871e-02, -2.2028e-02, -2.2127e-02, -2.3819e-02,  3.5346e-02,\n",
      "        -6.0306e-03, -9.6549e-03, -9.8623e-03, -8.4443e-03, -2.6010e-02,\n",
      "        -2.3268e-02,  3.6786e-03, -2.3769e-02, -1.4010e-02, -2.6404e-02,\n",
      "        -3.9791e-03,  7.4328e-03,  3.6893e-03, -2.8118e-02,  2.3229e-02,\n",
      "        -2.3677e-02, -2.0877e-02, -1.7544e-02,  5.4977e-03, -3.5838e-03,\n",
      "         3.4331e-02, -2.5984e-03, -2.6283e-03,  2.0208e-02,  1.1170e-02,\n",
      "        -3.5131e-02,  1.1086e-02,  3.0021e-02,  3.5518e-02, -7.5501e-03,\n",
      "         9.5043e-03,  3.3872e-02,  5.0271e-04, -2.5382e-03, -8.0275e-03,\n",
      "         3.0922e-02,  1.6439e-02, -2.6694e-02, -3.4400e-02,  1.2896e-02,\n",
      "        -3.1941e-02,  1.4489e-02,  2.6558e-02, -6.3744e-03, -3.3856e-02,\n",
      "        -3.3361e-02, -2.8262e-02, -2.2460e-02, -2.7609e-02,  2.3570e-02,\n",
      "        -4.3253e-03, -1.5370e-02,  7.6616e-03, -6.0415e-03, -4.7995e-04,\n",
      "        -1.8469e-03,  1.6637e-02,  2.5053e-02,  2.3423e-02, -3.1054e-03,\n",
      "        -5.9830e-05,  1.7713e-02, -1.4218e-02, -1.2918e-02,  2.4413e-02],\n",
      "       requires_grad=True)\n",
      "linear_02.weight Parameter containing:\n",
      "tensor([[-5.3361e-03,  7.6690e-02,  6.6269e-02,  3.3192e-02, -4.6239e-02,\n",
      "          5.9673e-02, -1.2745e-02,  3.0924e-02, -3.8866e-02,  3.7220e-02,\n",
      "         -2.9480e-02,  8.7230e-03,  6.6019e-02, -8.1648e-02, -8.5021e-02,\n",
      "          2.9557e-02, -6.6958e-02,  1.7755e-02,  3.9550e-02, -8.3667e-02,\n",
      "         -2.4712e-02, -2.3029e-02,  9.4600e-02, -3.2814e-02, -2.0012e-02,\n",
      "          2.6430e-03,  5.7312e-02,  9.8412e-02,  3.7184e-02,  8.1977e-02,\n",
      "          5.9591e-02,  2.1380e-03, -5.0799e-02,  1.8262e-02,  7.2185e-03,\n",
      "         -6.5676e-02,  3.4949e-02,  7.3318e-02, -5.8338e-02,  2.9616e-02,\n",
      "         -5.5590e-02,  3.1244e-02,  7.2221e-02, -6.9947e-02, -3.1771e-02,\n",
      "          9.3959e-03, -2.0469e-02,  3.7724e-02,  5.7018e-02,  8.1833e-02,\n",
      "         -7.7713e-04,  9.0185e-03, -2.6200e-02,  9.9228e-02, -8.4787e-03,\n",
      "          5.9465e-02, -2.4551e-02,  7.3462e-02, -8.0123e-03,  6.3046e-02,\n",
      "         -6.6524e-02,  7.0985e-02, -5.5404e-02,  7.3312e-02,  2.8620e-02,\n",
      "         -4.6776e-02, -4.5550e-02, -4.9787e-03,  4.4485e-02, -1.7202e-02,\n",
      "         -6.9051e-02,  1.9429e-02, -7.7927e-02,  5.8213e-02,  3.5547e-03,\n",
      "         -8.7510e-02, -9.9711e-02, -7.2893e-02,  7.4205e-02,  4.8652e-02,\n",
      "         -4.5819e-02, -3.5147e-02,  2.5241e-02, -6.3507e-02,  5.3752e-02,\n",
      "         -7.2272e-02, -6.0952e-02,  3.8631e-02,  2.3509e-02, -7.2153e-03,\n",
      "         -8.6543e-02, -2.4507e-03, -2.5188e-02,  3.8684e-02, -4.8968e-02,\n",
      "         -3.1462e-02, -2.7443e-02, -8.5606e-02,  3.3959e-02,  4.2087e-03],\n",
      "        [ 2.9591e-02,  3.3948e-02, -2.3456e-02,  6.4343e-02, -4.0229e-02,\n",
      "          2.8357e-02, -2.4891e-02, -9.7716e-02,  4.1572e-02,  8.2813e-02,\n",
      "          5.4338e-02, -4.9996e-02,  7.2706e-02, -8.2151e-02, -8.2566e-02,\n",
      "          4.5430e-02, -4.5727e-02, -5.4525e-02,  3.2506e-02, -1.1991e-02,\n",
      "         -5.4317e-03, -9.6757e-03, -5.5472e-02,  2.9801e-02,  7.9122e-02,\n",
      "          7.9364e-02,  3.3484e-02, -9.4014e-02, -1.6399e-02, -4.6963e-02,\n",
      "         -3.0193e-02,  3.1763e-02,  4.3887e-02, -1.0710e-02,  4.8886e-02,\n",
      "         -1.4434e-03, -6.9065e-02,  4.4285e-02, -8.1052e-02, -3.6430e-02,\n",
      "         -6.2356e-02,  9.7535e-02,  2.7797e-02,  4.9929e-02,  4.9499e-02,\n",
      "         -6.5174e-02,  7.0114e-02, -9.4692e-02,  7.8638e-02,  1.4762e-02,\n",
      "          2.4461e-02, -6.5720e-02, -5.1854e-02,  7.3599e-02,  3.2140e-02,\n",
      "         -8.7701e-02, -7.6944e-02,  8.5624e-02,  6.3341e-02, -8.3481e-02,\n",
      "          6.8970e-02,  4.4262e-02,  8.0098e-02,  1.0714e-03, -9.7541e-02,\n",
      "         -7.3021e-02, -3.4111e-02, -7.8573e-02,  2.1573e-02,  3.8610e-02,\n",
      "         -5.5544e-02,  8.3603e-02,  1.6089e-02, -9.3911e-02, -6.4177e-02,\n",
      "          4.9914e-02,  4.4718e-02, -3.2335e-02, -1.7856e-02, -8.8098e-02,\n",
      "         -6.3404e-02, -8.9867e-02, -2.0174e-03,  4.7892e-03,  6.4644e-02,\n",
      "         -4.0724e-02,  7.8544e-02,  3.7964e-02, -7.4591e-02, -7.2474e-02,\n",
      "          1.1483e-03, -9.8929e-02,  7.2152e-02,  4.2321e-02, -5.2348e-02,\n",
      "         -1.5583e-02, -5.8835e-02, -3.1162e-02,  3.7648e-02,  3.8639e-02],\n",
      "        [-5.4351e-02,  3.2404e-02, -2.6800e-02, -3.0780e-02, -9.1864e-02,\n",
      "          6.2439e-02,  1.7005e-02,  4.6162e-02,  8.0050e-03, -9.0972e-02,\n",
      "         -5.6625e-02, -6.2888e-02,  3.6208e-02, -5.4902e-02, -4.7436e-03,\n",
      "          1.6169e-03,  6.8456e-02, -7.1197e-02,  3.1783e-02, -8.2582e-02,\n",
      "         -2.1305e-02, -9.3589e-02,  1.6557e-02,  7.4672e-03,  7.2251e-02,\n",
      "          4.2354e-02, -3.5251e-02,  5.2435e-02, -6.3203e-02, -8.3916e-02,\n",
      "         -8.0257e-03, -1.7665e-02,  2.1902e-02, -2.2546e-02,  1.9343e-02,\n",
      "          3.1660e-02, -8.1305e-02,  9.8264e-02, -4.5448e-02,  9.9370e-03,\n",
      "         -5.7778e-02,  8.4123e-02,  4.8549e-02, -6.9773e-02,  4.0412e-02,\n",
      "          8.2478e-02, -5.3689e-02,  7.6028e-03,  8.7322e-02, -9.8933e-02,\n",
      "          1.7104e-02,  7.7785e-02, -2.8919e-02, -9.5083e-02, -3.7702e-02,\n",
      "          5.6052e-02,  5.4687e-02,  9.6412e-02,  3.6812e-02, -8.2047e-02,\n",
      "          4.2695e-02, -9.4563e-02, -7.9083e-02, -7.2748e-02,  4.5095e-02,\n",
      "          2.1899e-02,  5.7843e-02,  2.2137e-02,  9.9216e-02, -3.6866e-02,\n",
      "          5.7036e-02,  5.3284e-02, -2.5056e-02,  4.7299e-02, -3.4663e-02,\n",
      "          6.8045e-02,  4.1011e-02, -5.6154e-02,  7.9097e-02, -3.4314e-02,\n",
      "          6.2180e-02,  4.9182e-02, -1.1273e-02, -9.4898e-02,  2.4005e-02,\n",
      "         -3.7703e-02,  9.0163e-02, -5.3964e-02,  3.9577e-02, -7.4686e-02,\n",
      "         -5.2220e-02,  8.9520e-02, -5.2642e-02, -9.5502e-02,  5.3895e-02,\n",
      "         -7.8478e-02, -5.7259e-02,  6.7817e-02, -9.7538e-02,  2.7100e-02],\n",
      "        [-4.9436e-03, -4.2226e-02,  3.2185e-02,  2.9623e-02, -6.8771e-02,\n",
      "          1.1848e-02,  2.4553e-02, -8.8211e-02, -7.0264e-02,  3.4262e-02,\n",
      "          4.5098e-02, -2.0114e-02,  9.4001e-02,  5.7647e-02,  3.3656e-02,\n",
      "          8.7527e-02, -5.1780e-02,  6.1098e-02, -3.6984e-02, -5.8038e-02,\n",
      "         -1.1192e-02, -7.0335e-02, -5.0741e-02,  9.0232e-02, -9.5980e-03,\n",
      "          9.3659e-02,  1.0772e-02, -1.4214e-02, -5.3739e-03, -8.4311e-02,\n",
      "          1.9939e-03,  2.3782e-02,  7.5187e-03,  8.5532e-02,  8.4472e-02,\n",
      "          2.3111e-02,  5.3596e-02, -3.3812e-02, -8.9687e-03,  2.6146e-02,\n",
      "          1.3149e-04, -4.4464e-02,  6.6218e-03,  4.6167e-02,  2.9254e-05,\n",
      "          6.4136e-03,  8.8441e-02,  8.9244e-02,  1.8712e-02,  2.3996e-03,\n",
      "          7.6192e-02,  5.5710e-02,  3.0182e-02, -9.3701e-02, -3.7487e-02,\n",
      "          5.0082e-02, -5.2092e-02, -2.4869e-02, -9.7659e-02,  4.7023e-02,\n",
      "         -5.0174e-02,  9.5004e-02,  6.0365e-02, -3.7973e-02, -2.6862e-02,\n",
      "          8.4605e-02,  9.8588e-02, -2.5073e-02, -6.1310e-02, -1.0188e-02,\n",
      "         -9.5309e-02,  7.7158e-02, -3.1124e-02, -6.0404e-02,  2.6704e-02,\n",
      "         -8.9615e-02, -5.4358e-02,  1.6161e-02, -5.0545e-02, -4.0167e-03,\n",
      "         -4.3201e-02,  3.5236e-02, -2.7276e-02, -4.5754e-02, -8.1346e-02,\n",
      "          6.8595e-02, -2.7187e-02, -5.7592e-02,  2.9448e-02, -1.2522e-02,\n",
      "         -3.9877e-02, -4.3935e-02, -9.0536e-02, -9.2320e-02,  3.5930e-02,\n",
      "         -9.7920e-02,  7.4314e-02,  5.4404e-02,  9.9421e-02, -7.4700e-02],\n",
      "        [-1.5097e-02,  3.1715e-02, -3.4650e-02, -3.9804e-02, -8.3164e-02,\n",
      "         -6.0048e-03, -6.0366e-03,  5.1037e-02, -9.1433e-02, -4.0809e-02,\n",
      "         -7.0483e-02,  8.8378e-02,  2.0640e-02, -4.2181e-02,  2.0888e-02,\n",
      "         -4.8195e-02,  6.2615e-02, -3.8229e-02, -2.1806e-02, -2.2531e-06,\n",
      "          9.6469e-02, -4.1451e-02,  1.8221e-02, -3.2510e-02,  8.1712e-02,\n",
      "         -9.9571e-02,  1.1738e-02,  4.6553e-03, -5.6809e-02, -6.0895e-02,\n",
      "          8.9024e-02, -2.9287e-02, -7.4922e-02, -2.2433e-02, -8.6064e-02,\n",
      "          8.6929e-02,  5.3747e-02, -2.6483e-02, -9.2046e-02,  4.3673e-02,\n",
      "          9.4749e-02,  4.0330e-02,  1.7145e-02, -7.5755e-02,  8.6329e-03,\n",
      "          3.8038e-02, -9.3400e-03,  6.5653e-02, -8.5188e-02,  1.1891e-02,\n",
      "          5.4548e-02,  4.9592e-02,  5.5502e-02, -4.0015e-02, -6.3726e-02,\n",
      "          1.4188e-02, -5.6444e-03,  4.1926e-02,  9.7462e-02,  8.6941e-02,\n",
      "          8.0545e-02, -7.7220e-02,  3.8643e-02, -5.8335e-02, -7.3345e-02,\n",
      "         -5.8075e-02,  2.3339e-02, -8.8973e-02, -1.1016e-03, -4.3713e-02,\n",
      "         -9.1777e-02,  8.5615e-02,  4.8327e-02,  1.9629e-02, -1.2400e-02,\n",
      "         -8.0864e-02, -6.1409e-02,  4.5056e-02,  5.2874e-02,  8.3517e-02,\n",
      "         -6.2227e-02,  7.9793e-02,  5.7452e-02, -3.7860e-02,  4.8818e-02,\n",
      "         -4.0527e-02,  8.2827e-02, -3.7999e-02,  1.9358e-02, -1.7941e-02,\n",
      "         -5.4010e-02, -1.4364e-02,  1.8584e-02, -4.3166e-02, -7.2486e-02,\n",
      "         -5.8833e-02,  9.2499e-03,  4.6446e-02, -3.8139e-02,  4.3143e-02],\n",
      "        [-9.6639e-02, -2.3373e-02, -9.9417e-02,  6.1808e-02,  2.6831e-02,\n",
      "         -6.3207e-02,  1.3514e-02,  8.0295e-02, -7.2236e-02, -4.2962e-03,\n",
      "         -4.8241e-02, -2.7489e-02,  5.0200e-02, -2.4675e-02, -9.1632e-02,\n",
      "          5.2158e-03,  5.0053e-02, -7.1727e-02,  8.6471e-02, -3.7167e-02,\n",
      "         -6.6388e-02, -5.5192e-02,  9.2920e-02, -5.3638e-02, -8.3770e-02,\n",
      "         -1.9758e-02, -5.7285e-02, -1.6315e-02, -1.0341e-02,  8.5544e-02,\n",
      "          5.2858e-02, -9.1197e-02, -8.3894e-02, -4.6333e-02, -5.3494e-02,\n",
      "         -8.7507e-02,  7.1963e-02,  5.5828e-02,  7.2047e-02, -4.6009e-02,\n",
      "         -6.1746e-03,  4.3997e-02, -8.8839e-02, -6.0572e-02, -3.1712e-02,\n",
      "         -4.7814e-02, -5.1095e-02,  4.2082e-02,  9.7066e-03, -7.2216e-02,\n",
      "          3.7389e-02, -3.0958e-02,  1.9998e-02,  9.7044e-02,  5.3572e-02,\n",
      "         -5.5035e-02,  7.2373e-02,  1.3420e-02,  7.6562e-02, -9.6129e-02,\n",
      "          5.3261e-02,  8.3811e-02,  8.4024e-02,  5.4867e-02, -4.5085e-03,\n",
      "         -9.6918e-02,  8.5350e-02,  7.6196e-02, -8.3674e-02, -1.1807e-02,\n",
      "         -5.5636e-02,  4.0419e-02, -5.9597e-02,  9.9866e-02, -7.3328e-02,\n",
      "          2.2265e-02,  4.8216e-02,  5.0367e-02,  7.1259e-02,  5.8981e-02,\n",
      "          4.3676e-02, -8.8925e-02,  2.6444e-02,  6.8250e-03,  5.4478e-02,\n",
      "         -9.6232e-02, -4.9648e-02,  8.7572e-02,  4.3430e-02, -3.9832e-02,\n",
      "         -6.3011e-02, -2.0736e-02, -3.0143e-02,  8.0374e-02, -7.3657e-02,\n",
      "         -2.1936e-02,  5.4495e-03, -9.5120e-02,  2.3340e-02,  4.7483e-02],\n",
      "        [-9.6876e-02,  1.4341e-02, -9.8181e-02, -9.2434e-02, -9.8906e-02,\n",
      "         -2.9152e-02, -4.8398e-02,  6.1045e-03, -4.2531e-02,  9.4007e-02,\n",
      "          7.9021e-02,  6.4040e-02,  1.9841e-02, -7.8980e-02, -7.6188e-02,\n",
      "         -6.1147e-02, -7.7085e-02,  9.0872e-02,  6.7910e-02,  1.4186e-02,\n",
      "         -8.8332e-02, -5.3138e-02, -6.7711e-02,  9.0693e-02,  9.1567e-02,\n",
      "         -4.5196e-02,  5.5919e-02,  1.7224e-02, -7.1575e-02, -6.6880e-02,\n",
      "          3.6281e-02, -9.5789e-03,  2.9278e-02, -6.7424e-02, -3.4486e-02,\n",
      "          2.3805e-02, -3.7326e-02, -4.1575e-02, -7.7210e-02, -8.5770e-02,\n",
      "          2.4258e-02,  7.0319e-02, -3.3410e-02,  1.1621e-02,  5.5853e-03,\n",
      "          7.0831e-02, -8.1336e-02, -4.5948e-02,  2.0595e-02,  3.0630e-02,\n",
      "         -1.3902e-02, -1.5925e-02, -9.1508e-02,  7.0350e-03, -2.7428e-03,\n",
      "          6.5764e-02, -7.8258e-02,  8.5724e-02, -7.1890e-02,  3.3866e-03,\n",
      "         -4.3093e-02,  7.9129e-02, -9.2328e-02,  5.5611e-02, -6.3495e-02,\n",
      "         -6.5358e-02,  8.4075e-02,  8.3953e-02,  8.5419e-03, -9.5192e-02,\n",
      "         -6.0106e-02, -9.2645e-04,  7.8260e-02, -8.2897e-03, -9.6767e-02,\n",
      "          6.6309e-02, -5.2651e-03, -6.9147e-02,  4.8464e-02,  6.6427e-02,\n",
      "         -9.0727e-03, -1.8298e-02,  1.0738e-02, -7.6646e-02, -6.9010e-02,\n",
      "          3.3790e-03, -5.2799e-02,  3.2842e-02, -2.5025e-02,  7.2560e-02,\n",
      "         -1.6790e-02,  7.5300e-03, -2.8827e-02, -3.4498e-02, -5.5898e-03,\n",
      "          5.5729e-02, -9.4356e-02,  8.8304e-02,  6.2298e-02, -9.2149e-02],\n",
      "        [-4.7748e-03,  5.8521e-02,  9.5135e-02,  5.0540e-02,  4.8198e-02,\n",
      "          5.0318e-02,  1.7078e-02, -4.9891e-02, -6.6753e-02, -9.0623e-02,\n",
      "         -3.0160e-06, -3.1226e-03,  8.5443e-02,  5.5422e-02,  7.8603e-02,\n",
      "          5.1124e-02, -6.5748e-02, -8.2942e-02,  1.8497e-04, -5.0455e-02,\n",
      "          9.5335e-02,  7.3215e-02,  4.9906e-02,  8.2297e-04, -2.3621e-02,\n",
      "         -6.4534e-03,  5.6261e-02,  3.4839e-03, -8.7887e-02, -9.5020e-02,\n",
      "         -4.7949e-02, -1.3434e-02, -5.0042e-02, -1.5351e-02, -5.9375e-02,\n",
      "         -7.2541e-02,  9.6742e-02,  9.2947e-02,  7.0783e-02, -1.6458e-02,\n",
      "         -9.6132e-02,  8.3301e-02,  4.3166e-02,  3.6810e-02, -9.2151e-02,\n",
      "          1.4947e-02,  2.8715e-02, -6.5765e-02,  7.6938e-02, -2.3353e-02,\n",
      "         -5.4937e-02, -6.3603e-03, -3.4169e-02, -4.7768e-03,  3.4661e-02,\n",
      "          1.0448e-02,  5.1657e-02, -1.1771e-03, -2.8561e-02,  5.5534e-02,\n",
      "          2.2747e-03, -6.4535e-02, -3.5282e-02, -9.9084e-02,  3.6069e-02,\n",
      "          1.8795e-02, -8.8419e-02,  8.5555e-02,  1.5455e-02, -4.1970e-02,\n",
      "          4.6368e-02,  5.4634e-02,  3.8544e-02, -3.2823e-02,  7.4392e-03,\n",
      "         -8.4617e-02, -2.2128e-02, -6.5920e-02,  5.0736e-02,  5.9569e-02,\n",
      "          2.5000e-02, -1.2254e-02,  7.3124e-02,  3.0237e-02, -4.6089e-02,\n",
      "          9.3151e-02, -2.1226e-02,  4.9707e-02,  1.0068e-03,  1.8577e-03,\n",
      "         -3.4011e-03, -2.5154e-02,  7.1653e-02,  9.3042e-02,  7.6055e-02,\n",
      "          6.6761e-02,  1.7774e-02, -6.7961e-02,  7.7393e-02,  8.5948e-02],\n",
      "        [-6.6194e-02,  6.9270e-02, -1.2280e-02,  8.9494e-02, -5.2493e-02,\n",
      "          8.8628e-02, -2.9900e-02,  8.6368e-02,  8.0187e-02,  4.4515e-02,\n",
      "         -1.5537e-02, -5.4467e-02,  3.3711e-02, -5.0594e-02, -8.9026e-02,\n",
      "          6.4889e-02, -4.4890e-02, -2.7510e-02,  5.6818e-02,  9.2931e-02,\n",
      "         -9.4334e-02, -2.1765e-02, -2.0159e-02, -6.2637e-02, -2.9697e-02,\n",
      "         -5.9543e-02,  3.2516e-02,  1.1949e-02, -4.8865e-03,  5.3339e-03,\n",
      "         -8.7150e-02, -8.3014e-02,  5.9681e-02, -6.8471e-02, -5.7052e-02,\n",
      "         -8.3114e-02, -7.5799e-02, -6.3653e-02, -8.9745e-03, -8.2826e-02,\n",
      "          5.4087e-02,  2.5667e-02,  6.6047e-02,  8.5357e-02, -3.8928e-02,\n",
      "         -5.5298e-02, -6.9454e-02, -1.9423e-02, -3.0416e-02,  5.3262e-02,\n",
      "         -8.4324e-02, -3.9798e-02, -6.0756e-02,  8.9243e-02, -4.3803e-02,\n",
      "         -1.7372e-02, -7.1852e-02, -4.4004e-02,  8.4010e-03,  1.9127e-02,\n",
      "          7.5975e-02, -1.2145e-02,  3.3931e-02, -9.1923e-02, -4.4429e-02,\n",
      "         -4.1153e-02, -8.0795e-02,  1.6940e-02,  5.1626e-02, -2.7394e-02,\n",
      "          6.9667e-02, -3.8446e-02, -4.3223e-02, -8.2564e-02,  1.5600e-03,\n",
      "          1.8102e-02,  4.4633e-02,  5.3400e-02,  3.3074e-02, -1.7824e-02,\n",
      "         -8.3021e-02, -7.6799e-02,  2.2713e-02, -3.7209e-02, -6.6380e-02,\n",
      "         -3.8125e-02, -1.6520e-02, -1.6999e-02,  3.5017e-02, -4.1649e-02,\n",
      "          3.6186e-02, -3.3846e-02,  7.5218e-02, -1.6612e-02, -4.7433e-02,\n",
      "         -6.9137e-02,  6.1212e-02,  4.4256e-02,  3.3348e-02, -7.4279e-02],\n",
      "        [-7.2799e-02, -4.2663e-02,  7.8105e-02, -5.4615e-02, -4.0505e-02,\n",
      "         -6.3078e-02,  5.9460e-02, -5.8147e-02, -9.3570e-02,  4.6813e-02,\n",
      "         -6.1231e-02,  3.0486e-02, -1.6722e-02, -3.6812e-02,  9.7246e-02,\n",
      "          4.0920e-02,  8.5603e-02, -2.6156e-02, -6.0152e-02,  6.2272e-02,\n",
      "         -4.4614e-02,  9.9083e-02, -4.6817e-02,  2.2766e-03, -2.1646e-02,\n",
      "         -5.4912e-02,  1.1136e-02, -3.0617e-02,  4.2461e-02,  6.5487e-02,\n",
      "          4.0348e-02, -7.5660e-02, -5.3348e-02, -3.1712e-02,  8.7268e-02,\n",
      "          2.7646e-02,  6.8654e-02,  6.5859e-02, -3.8179e-02,  5.7503e-02,\n",
      "          1.1618e-02,  7.8986e-02,  6.9055e-02, -7.4235e-02, -2.9399e-02,\n",
      "         -6.3718e-02,  3.9337e-02,  4.3789e-02, -2.3676e-02, -2.4636e-02,\n",
      "         -7.3343e-02,  5.2887e-02, -2.9834e-02, -4.1001e-02, -1.6517e-02,\n",
      "         -2.8494e-02,  7.2566e-02,  1.8535e-03,  1.1710e-02,  1.8479e-02,\n",
      "         -3.3633e-02, -1.7818e-02,  5.0937e-02, -1.6025e-02,  5.5236e-02,\n",
      "          5.2949e-02,  8.4385e-02, -9.2204e-02,  9.2431e-02, -2.0029e-02,\n",
      "         -4.2055e-02,  2.4410e-02, -3.4614e-02, -5.9812e-02, -2.8648e-02,\n",
      "         -9.1940e-02, -7.5782e-02,  9.0378e-02, -8.9683e-02,  7.6726e-02,\n",
      "         -3.8414e-02,  2.0747e-02, -2.9755e-02, -5.1040e-02, -9.5332e-03,\n",
      "          6.0189e-02,  1.0969e-02, -5.7095e-02,  7.2399e-02, -8.0783e-02,\n",
      "          8.7289e-02, -2.7063e-02,  4.2025e-02, -8.2241e-02,  4.2143e-02,\n",
      "         -5.4836e-02,  9.8122e-02, -4.7479e-02, -2.2764e-02,  9.2703e-02]],\n",
      "       requires_grad=True)\n",
      "linear_02.bias Parameter containing:\n",
      "tensor([ 0.0808, -0.0162, -0.0809,  0.0007, -0.0003, -0.0756, -0.0325,  0.0363,\n",
      "        -0.0122, -0.0072], requires_grad=True)\n"
     ]
    }
   ],
   "source": [
    "# for parameter in linear_model.parameters():\n",
    "#     print(parameter)\n",
    "for name, parameter in linear_model.named_parameters():\n",
    "    print(name, parameter)"
   ]
  },
  {
   "cell_type": "markdown",
   "id": "5658da90",
   "metadata": {
    "papermill": {
     "duration": 0.005025,
     "end_time": "2025-08-29T20:18:39.965246",
     "exception": false,
     "start_time": "2025-08-29T20:18:39.960221",
     "status": "completed"
    },
    "tags": []
   },
   "source": [
    "### `torchinfo` `summary()`\n",
    "\n",
    "* The `summary()` function from the `torchinfo` package provides a detailed overview of a model’s structure.\n",
    "\n",
    "  * **model**: The model object.\n",
    "  * **input\\_size**: Size of the input tensor, usually including the batch dimension.\n",
    "  * **col\\_names**: List of column names to display in the summary output.\n",
    "\n",
    "    * `input_size`: Size of the input tensor.\n",
    "    * `output_size`: Size of the output tensor.\n",
    "    * `num_params`: Number of learnable parameters.\n",
    "    * `trainable`: Whether the parameters are trainable (`requires_grad`).\n",
    "  * **row\\_settings**: Controls what is shown in each row.\n",
    "\n",
    "    * `var_names`: Names of module variables.\n",
    "    * `depth`: Depth of submodules to display.\n"
   ]
  },
  {
   "cell_type": "code",
   "execution_count": 16,
   "id": "0fd7fda6",
   "metadata": {
    "execution": {
     "iopub.execute_input": "2025-08-29T20:18:39.977366Z",
     "iopub.status.busy": "2025-08-29T20:18:39.976543Z",
     "iopub.status.idle": "2025-08-29T20:18:40.002106Z",
     "shell.execute_reply": "2025-08-29T20:18:40.001221Z"
    },
    "papermill": {
     "duration": 0.033041,
     "end_time": "2025-08-29T20:18:40.003573",
     "exception": false,
     "start_time": "2025-08-29T20:18:39.970532",
     "status": "completed"
    },
    "tags": []
   },
   "outputs": [],
   "source": [
    "from torchinfo import summary\n"
   ]
  },
  {
   "cell_type": "code",
   "execution_count": 17,
   "id": "3acc0042",
   "metadata": {
    "execution": {
     "iopub.execute_input": "2025-08-29T20:18:40.016013Z",
     "iopub.status.busy": "2025-08-29T20:18:40.015196Z",
     "iopub.status.idle": "2025-08-29T20:18:40.023827Z",
     "shell.execute_reply": "2025-08-29T20:18:40.023055Z"
    },
    "papermill": {
     "duration": 0.016109,
     "end_time": "2025-08-29T20:18:40.025120",
     "exception": false,
     "start_time": "2025-08-29T20:18:40.009011",
     "status": "completed"
    },
    "tags": []
   },
   "outputs": [
    {
     "name": "stdout",
     "output_type": "stream",
     "text": [
      "torch.Size([64, 784])\n",
      "torch.Size([64, 10])\n"
     ]
    }
   ],
   "source": [
    "input_tensor = torch.randn(size=(64, 784))\n",
    "print(input_tensor.size())\n",
    "\n",
    "\n",
    "linear_model = LinearModel(num_classes=10)\n",
    "\n",
    "output_tensor = linear_model(input_tensor)\n",
    "print(output_tensor.size())"
   ]
  },
  {
   "cell_type": "code",
   "execution_count": 18,
   "id": "2e90b3a5",
   "metadata": {
    "execution": {
     "iopub.execute_input": "2025-08-29T20:18:40.037206Z",
     "iopub.status.busy": "2025-08-29T20:18:40.036898Z",
     "iopub.status.idle": "2025-08-29T20:18:40.050835Z",
     "shell.execute_reply": "2025-08-29T20:18:40.049939Z"
    },
    "papermill": {
     "duration": 0.021786,
     "end_time": "2025-08-29T20:18:40.052306",
     "exception": false,
     "start_time": "2025-08-29T20:18:40.030520",
     "status": "completed"
    },
    "tags": []
   },
   "outputs": [
    {
     "data": {
      "text/plain": [
       "===================================================================================================================\n",
       "Layer (type (var_name):depth-idx)        Input Shape               Output Shape              Param #\n",
       "===================================================================================================================\n",
       "LinearModel (LinearModel)                [64, 784]                 [64, 10]                  --\n",
       "├─SimpleBlock (simple_01): 1-1           [64, 784]                 [64, 100]                 --\n",
       "│    └─Linear (linear_01): 2-1           [64, 784]                 [64, 100]                 78,500\n",
       "│    └─ReLU (relu_01): 2-2               [64, 100]                 [64, 100]                 --\n",
       "├─Linear (linear_02): 1-2                [64, 100]                 [64, 10]                  1,010\n",
       "===================================================================================================================\n",
       "Total params: 79,510\n",
       "Trainable params: 79,510\n",
       "Non-trainable params: 0\n",
       "Total mult-adds (Units.MEGABYTES): 5.09\n",
       "===================================================================================================================\n",
       "Input size (MB): 0.20\n",
       "Forward/backward pass size (MB): 0.06\n",
       "Params size (MB): 0.32\n",
       "Estimated Total Size (MB): 0.58\n",
       "==================================================================================================================="
      ]
     },
     "execution_count": 18,
     "metadata": {},
     "output_type": "execute_result"
    }
   ],
   "source": [
    "from torchinfo import summary\n",
    "\n",
    "summary(model=linear_model, input_size=(64, 784),\n",
    "        col_names=['input_size', 'output_size', 'num_params'], #'trainable'\n",
    "        row_settings=['var_names', 'depth'],\n",
    "        depth=3\n",
    "       )"
   ]
  }
 ],
 "metadata": {
  "kaggle": {
   "accelerator": "none",
   "dataSources": [],
   "dockerImageVersionId": 31089,
   "isGpuEnabled": false,
   "isInternetEnabled": true,
   "language": "python",
   "sourceType": "notebook"
  },
  "kernelspec": {
   "display_name": "Python 3",
   "language": "python",
   "name": "python3"
  },
  "language_info": {
   "codemirror_mode": {
    "name": "ipython",
    "version": 3
   },
   "file_extension": ".py",
   "mimetype": "text/x-python",
   "name": "python",
   "nbconvert_exporter": "python",
   "pygments_lexer": "ipython3",
   "version": "3.11.13"
  },
  "papermill": {
   "default_parameters": {},
   "duration": 12.017311,
   "end_time": "2025-08-29T20:18:41.380502",
   "environment_variables": {},
   "exception": null,
   "input_path": "__notebook__.ipynb",
   "output_path": "__notebook__.ipynb",
   "parameters": {},
   "start_time": "2025-08-29T20:18:29.363191",
   "version": "2.6.0"
  }
 },
 "nbformat": 4,
 "nbformat_minor": 5
}
